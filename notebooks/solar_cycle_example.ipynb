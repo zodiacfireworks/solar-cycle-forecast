{
 "cells": [
  {
   "cell_type": "code",
   "execution_count": null,
   "metadata": {
    "collapsed": false
   },
   "outputs": [],
   "source": [
    "%matplotlib inline"
   ]
  },
  {
   "cell_type": "markdown",
   "metadata": {},
   "source": [
    "\n",
    "# The Solar Cycle\n",
    "\n",
    "\n",
    "This example shows the current and possible next solar cycle.\n",
    "\n"
   ]
  },
  {
   "cell_type": "code",
   "execution_count": null,
   "metadata": {
    "collapsed": false
   },
   "outputs": [],
   "source": [
    "from __future__ import print_function, division\n",
    "\n",
    "import datetime\n",
    "import matplotlib.pyplot as plt\n",
    "\n",
    "import sunpy.timeseries as ts\n",
    "from sunpy.data.sample import NOAAINDICES_TIMESERIES, NOAAPREDICT_TIMESERIES"
   ]
  },
  {
   "cell_type": "markdown",
   "metadata": {},
   "source": [
    "For this example we will use the SunPy sample data. This code snippet grabs\n",
    "the most current NOAA solar cycle data as a ``TimeSeries``\n",
    "(see `timeseries_code_ref`).\n",
    "\n"
   ]
  },
  {
   "cell_type": "code",
   "execution_count": null,
   "metadata": {
    "collapsed": false
   },
   "outputs": [],
   "source": [
    "noaa = ts.TimeSeries(NOAAINDICES_TIMESERIES, source='noaaindices')\n",
    "noaa_predict = ts.TimeSeries(NOAAPREDICT_TIMESERIES, source='noaapredictindices')"
   ]
  },
  {
   "cell_type": "markdown",
   "metadata": {},
   "source": [
    "Next, we grab a new copy of the data and shift it forward 12 years to\n",
    "simulate the next solar cycle. We will also truncate the data to ensure\n",
    "that we only plot what is necessary.\n",
    "\n"
   ]
  },
  {
   "cell_type": "code",
   "execution_count": null,
   "metadata": {
    "collapsed": false
   },
   "outputs": [],
   "source": [
    "noaa2 = ts.TimeSeries(NOAAINDICES_TIMESERIES, source='noaaindices')\n",
    "noaa2.data = noaa2.data.shift(2, freq=datetime.timedelta(days=365*12))\n",
    "noaa2 = noaa2.truncate('2000/04/01', '2070/01/01')"
   ]
  },
  {
   "cell_type": "markdown",
   "metadata": {},
   "source": [
    "Finally, we plot both ``noaa`` and ``noaa2`` together, with an arbitrary\n",
    "range for the strength of the next solar cycle.\n",
    "\n"
   ]
  },
  {
   "cell_type": "code",
   "execution_count": null,
   "metadata": {
    "collapsed": false
   },
   "outputs": [],
   "source": [
    "plt.plot(noaa.data.index, noaa.data['sunspot RI'], label='Sunspot Number')\n",
    "plt.plot(noaa_predict.data.index, noaa_predict.data['sunspot'],\n",
    "         color='grey', label='Near-term Prediction')\n",
    "plt.fill_between(noaa_predict.data.index, noaa_predict.data['sunspot low'],\n",
    "                 noaa_predict.data['sunspot high'], alpha=0.3, color='grey')\n",
    "\n",
    "plt.fill_between(noaa2.data.index, noaa2.data['sunspot RI smooth']*0.4,\n",
    "                 noaa2.data['sunspot RI smooth']*1.3, alpha=0.3, color='grey',\n",
    "                 label='Next Cycle Predict')\n",
    "plt.ylim(0)\n",
    "plt.text('2011-01-01', 120, 'Cycle 24', fontsize=16)\n",
    "plt.text('2024-01-01', 120, 'Cycle 25', fontsize=16)\n",
    "plt.ylabel('Sunspot Number')\n",
    "plt.xlabel('Year')\n",
    "plt.legend(loc=2, framealpha=0.5)\n",
    "plt.show()"
   ]
  },
  {
   "cell_type": "code",
   "execution_count": 10,
   "metadata": {},
   "outputs": [
    {
     "name": "stdout",
     "output_type": "stream",
     "text": [
      "[name: \"/device:CPU:0\"\n",
      "device_type: \"CPU\"\n",
      "memory_limit: 268435456\n",
      "locality {\n",
      "}\n",
      "incarnation: 17555788599491922600\n",
      ", name: \"/device:GPU:0\"\n",
      "device_type: \"GPU\"\n",
      "memory_limit: 131268608\n",
      "locality {\n",
      "  bus_id: 1\n",
      "  links {\n",
      "  }\n",
      "}\n",
      "incarnation: 11168175442569145176\n",
      "physical_device_desc: \"device: 0, name: GeForce 940MX, pci bus id: 0000:01:00.0, compute capability: 5.0\"\n",
      "]\n"
     ]
    }
   ],
   "source": [
    "import os\n",
    "os.environ[\"CUDA_DEVICE_ORDER\"] = \"PCI_BUS_ID\"   # see issue #152\n",
    "os.environ[\"CUDA_VISIBLE_DEVICES\"] = \"\"\n",
    "\n",
    "from tensorflow.python.client import device_lib\n",
    "print(device_lib.list_local_devices())"
   ]
  },
  {
   "cell_type": "code",
   "execution_count": 2,
   "metadata": {},
   "outputs": [
    {
     "name": "stdout",
     "output_type": "stream",
     "text": [
      "Function\n",
      "StrictVersion\n",
      "_GRAPH_LEARNING_PHASES\n",
      "_GRAPH_UID_DICTS\n",
      "_LOCAL_DEVICES\n",
      "_MANUAL_VAR_INIT\n",
      "_SESSION\n",
      "_TfDeviceCaptureOp\n",
      "__builtins__\n",
      "__cached__\n",
      "__doc__\n",
      "__file__\n",
      "__loader__\n",
      "__name__\n",
      "__package__\n",
      "__spec__\n",
      "_broadcast_normalize_batch_in_training\n",
      "_fused_normalize_batch_in_training\n",
      "_get_available_gpus\n",
      "_get_current_tf_device\n",
      "_has_nchw_support\n",
      "_is_current_explicit_device\n",
      "_preprocess_conv1d_input\n",
      "_preprocess_conv2d_input\n",
      "_preprocess_conv3d_input\n",
      "_preprocess_padding\n",
      "_regular_normalize_batch_in_training\n",
      "_to_tensor\n",
      "abs\n",
      "absolute_import\n",
      "all\n",
      "any\n",
      "arange\n",
      "argmax\n",
      "argmin\n",
      "batch_dot\n",
      "batch_flatten\n",
      "batch_get_value\n",
      "batch_normalization\n",
      "batch_set_value\n",
      "bias_add\n",
      "binary_crossentropy\n",
      "cast\n",
      "categorical_crossentropy\n",
      "clear_session\n",
      "clip\n",
      "concatenate\n",
      "config_pb2\n",
      "constant\n",
      "control_flow_ops\n",
      "conv1d\n",
      "conv2d\n",
      "conv2d_transpose\n",
      "conv3d\n",
      "conv3d_transpose\n",
      "cos\n",
      "count_params\n",
      "ctc\n",
      "ctc_batch_cost\n",
      "ctc_decode\n",
      "ctc_label_dense_to_sparse\n",
      "cumprod\n",
      "cumsum\n",
      "defaultdict\n",
      "depthwise_conv2d\n",
      "device_lib\n",
      "division\n",
      "dot\n",
      "dropout\n",
      "dtype\n",
      "elu\n",
      "epsilon\n",
      "equal\n",
      "eval\n",
      "exp\n",
      "expand_dims\n",
      "eye\n",
      "flatten\n",
      "floatx\n",
      "foldl\n",
      "foldr\n",
      "function\n",
      "functional_ops\n",
      "gather\n",
      "get_session\n",
      "get_uid\n",
      "get_value\n",
      "get_variable_shape\n",
      "gradients\n",
      "greater\n",
      "greater_equal\n",
      "hard_sigmoid\n",
      "has_arg\n",
      "identity\n",
      "image_dim_ordering\n",
      "in_test_phase\n",
      "in_top_k\n",
      "in_train_phase\n",
      "int_shape\n",
      "is_keras_tensor\n",
      "is_placeholder\n",
      "is_sparse\n",
      "is_tensor\n",
      "l2_normalize\n",
      "learning_phase\n",
      "less\n",
      "less_equal\n",
      "local_conv1d\n",
      "local_conv2d\n",
      "log\n",
      "logsumexp\n",
      "manual_variable_initialization\n",
      "map_fn\n",
      "max\n",
      "maximum\n",
      "mean\n",
      "min\n",
      "minimum\n",
      "moving_average_update\n",
      "moving_averages\n",
      "name_scope\n",
      "ndim\n",
      "normalize_batch_in_training\n",
      "normalize_data_format\n",
      "not_equal\n",
      "np\n",
      "one_hot\n",
      "ones\n",
      "ones_like\n",
      "os\n",
      "permute_dimensions\n",
      "placeholder\n",
      "pool2d\n",
      "pool3d\n",
      "pow\n",
      "print_function\n",
      "print_tensor\n",
      "prod\n",
      "py_all\n",
      "py_any\n",
      "py_slice\n",
      "py_sum\n",
      "random_binomial\n",
      "random_normal\n",
      "random_normal_variable\n",
      "random_uniform\n",
      "random_uniform_variable\n",
      "relu\n",
      "repeat\n",
      "repeat_elements\n",
      "reset_uids\n",
      "reshape\n",
      "resize_images\n",
      "resize_volumes\n",
      "reverse\n",
      "rnn\n",
      "round\n",
      "separable_conv1d\n",
      "separable_conv2d\n",
      "set_image_dim_ordering\n",
      "set_learning_phase\n",
      "set_session\n",
      "set_value\n",
      "shape\n",
      "sigmoid\n",
      "sign\n",
      "sin\n",
      "slice\n",
      "softmax\n",
      "softplus\n",
      "softsign\n",
      "sparse_categorical_crossentropy\n",
      "spatial_2d_padding\n",
      "spatial_3d_padding\n",
      "sqrt\n",
      "square\n",
      "squeeze\n",
      "stack\n",
      "std\n",
      "stop_gradient\n",
      "sum\n",
      "switch\n",
      "tanh\n",
      "temporal_padding\n",
      "tensor_array_ops\n",
      "tf\n",
      "tf_ops\n",
      "tile\n",
      "to_dense\n",
      "transpose\n",
      "transpose_shape\n",
      "truncated_normal\n",
      "update\n",
      "update_add\n",
      "update_sub\n",
      "var\n",
      "variable\n",
      "zeros\n",
      "zeros_like\n"
     ]
    }
   ],
   "source": [
    "from keras import backend as K\n",
    "for i in dir(K.tensorflow_backend):\n",
    "    print(i)"
   ]
  },
  {
   "cell_type": "code",
   "execution_count": null,
   "metadata": {},
   "outputs": [],
   "source": []
  }
 ],
 "metadata": {
  "kernelspec": {
   "display_name": "Python 3",
   "language": "python",
   "name": "python3"
  },
  "language_info": {
   "codemirror_mode": {
    "name": "ipython",
    "version": 3
   },
   "file_extension": ".py",
   "mimetype": "text/x-python",
   "name": "python",
   "nbconvert_exporter": "python",
   "pygments_lexer": "ipython3",
   "version": "3.6.7"
  }
 },
 "nbformat": 4,
 "nbformat_minor": 2
}
