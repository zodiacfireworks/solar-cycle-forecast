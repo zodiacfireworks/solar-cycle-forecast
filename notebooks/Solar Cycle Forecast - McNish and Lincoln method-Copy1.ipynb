{
 "cells": [
  {
   "cell_type": "markdown",
   "metadata": {},
   "source": [
    "<div class=\"clearfix\">\n",
    "<img src=\"resources/softbutterfly.png\" class=\"pull-left\">\n",
    "<img src=\"resources/jupyter.png\" class=\"pull-right\">\n",
    "</div>"
   ]
  },
  {
   "cell_type": "markdown",
   "metadata": {},
   "source": [
    "<h1 style=\"text-align:center;\">Predicción del Ciclo Solar<br/><small>El algoritmo McNish - Lincoln</small></h1>"
   ]
  },
  {
   "cell_type": "markdown",
   "metadata": {},
   "source": [
    "<div style=\"text-align:center\">\n",
    "<b>Martín Josemaría Vuelta Rojas</b><br>\n",
    "<code>martin.vuelta@softbutterfly.io</code><br/><br/>\n",
    "<i>Universidad Nacional Mayor de San Marcos</i><br>\n",
    "Facultad de Ciencias Físicas<br><br>\n",
    "<i>SoftButterfly</i><br>\n",
    "Cofundador y Líder del Área de Desarrollo\n",
    "</div>"
   ]
  },
  {
   "cell_type": "markdown",
   "metadata": {},
   "source": [
    "## 1 Ajustes gráficos"
   ]
  },
  {
   "cell_type": "code",
   "execution_count": 1,
   "metadata": {
    "collapsed": true
   },
   "outputs": [],
   "source": [
    "%matplotlib widget"
   ]
  },
  {
   "cell_type": "code",
   "execution_count": 2,
   "metadata": {
    "collapsed": true
   },
   "outputs": [],
   "source": [
    "# Ajustes generales para los gráficos\n",
    "from distutils.spawn import find_executable\n",
    "\n",
    "from matplotlib.font_manager import *\n",
    "from matplotlib.collections import *\n",
    "from matplotlib.patches import *\n",
    "from matplotlib.pylab import *\n",
    "from matplotlib import colors\n",
    "\n",
    "import seaborn\n",
    "import gc\n",
    "\n",
    "ioff()\n",
    "\n",
    "rc('lines', linewidth=1)\n",
    "rc('font', family='serif')\n",
    "\n",
    "if find_executable('latex'):\n",
    "    rc('text', usetex=True)\n",
    "\n",
    "# Minor Third Type Scale\n",
    "scale_factor = 1.2\n",
    "base_font_size = 12\n",
    "\n",
    "font_title = FontProperties(size=base_font_size*(scale_factor**2))\n",
    "font_label = FontProperties(size=base_font_size*(scale_factor**1))\n",
    "font_legend = FontProperties(size=base_font_size*(scale_factor**0))\n",
    "font_ticks = FontProperties(size=base_font_size*(scale_factor**-1))\n",
    "\n",
    "seaborn.set(context='notebook', style='darkgrid')"
   ]
  },
  {
   "cell_type": "markdown",
   "metadata": {},
   "source": [
    "## 2 Procesamiento de datos"
   ]
  },
  {
   "cell_type": "markdown",
   "metadata": {},
   "source": [
    "### 2.1 Registros _crudos_"
   ]
  },
  {
   "cell_type": "markdown",
   "metadata": {},
   "source": [
    "Los datos de machas solares pueden obtenerse desde la página web de [SILSO](http://www.sidc.be/silso)"
   ]
  },
  {
   "cell_type": "code",
   "execution_count": 3,
   "metadata": {
    "cell_style": "center",
    "collapsed": true
   },
   "outputs": [],
   "source": [
    "import re\n",
    "from urllib import request\n",
    "\n",
    "pattern = re.compile(r' +')\n",
    "\n",
    "\"\"\"\n",
    "try:\n",
    "    url = \"http://www.sidc.be/silso/DATA/SN_d_tot_V2.0.txt\"\n",
    "\n",
    "    req = request.urlopen(url)\n",
    "    \n",
    "    raw_data = req.read().decode('utf-8').strip('\\n')\n",
    "except:\n",
    "\"\"\"\n",
    "\n",
    "req = open('./data/data.txt')\n",
    "raw_data = req.read().strip('\\n')\n",
    "    \n",
    "raw_data = pattern.sub(' ', raw_data)\n",
    "raw_data = raw_data.split('\\n')[:-1]\n",
    "raw_data = map(lambda l: l.split(' '), raw_data)\n",
    "raw_data = list(raw_data)"
   ]
  },
  {
   "cell_type": "markdown",
   "metadata": {},
   "source": [
    "### 2.2 Registros diarios"
   ]
  },
  {
   "cell_type": "code",
   "execution_count": 4,
   "metadata": {
    "collapsed": true
   },
   "outputs": [],
   "source": [
    "from pandas import Timestamp\n",
    "\n",
    "\n",
    "def flag(t):\n",
    "    return t == '*'\n",
    "\n",
    "\n",
    "def pairing(x):\n",
    "    fns = [Timestamp, float, float, flag]\n",
    "    return list(zip(fns, ['-'.join(x[0:3])] + x[4:6] + [x[-1]]))\n",
    "\n",
    "\n",
    "def parse(x):\n",
    "    return list(map(lambda y: y[0](y[1]), pairing(x)))"
   ]
  },
  {
   "cell_type": "code",
   "execution_count": 5,
   "metadata": {
    "collapsed": true
   },
   "outputs": [],
   "source": [
    "daily = list(zip(*map(parse, raw_data)))"
   ]
  },
  {
   "cell_type": "code",
   "execution_count": 6,
   "metadata": {
    "collapsed": true
   },
   "outputs": [],
   "source": [
    "from collections import OrderedDict\n",
    "from pandas import DataFrame\n",
    "from numpy import nan\n",
    "\n",
    "headers = ['Date', 'SN value', 'SN error', 'Flag']\n",
    "daily = DataFrame(OrderedDict(zip(headers, daily))).replace(-1.0, nan)"
   ]
  },
  {
   "cell_type": "code",
   "execution_count": 7,
   "metadata": {
    "collapsed": true
   },
   "outputs": [],
   "source": [
    "daily = daily.set_index([\"Date\"], drop=True)"
   ]
  },
  {
   "cell_type": "markdown",
   "metadata": {},
   "source": [
    "#### 2.2.1 Gráfico de registros diarios"
   ]
  },
  {
   "cell_type": "markdown",
   "metadata": {},
   "source": [
    "Los gráficos diarios se realizan en periodos de 50 años empezando desde 1818, el primer año de los registros obtenidos desde [SILSO](http://www.sidc.be/silso)"
   ]
  },
  {
   "cell_type": "code",
   "execution_count": 8,
   "metadata": {
    "scrolled": false
   },
   "outputs": [
    {
     "data": {
      "application/vnd.jupyter.widget-view+json": {
       "model_id": "a634bd0752c24c7faf2845b33a2fd2f4",
       "version_major": 2,
       "version_minor": 0
      },
      "text/plain": [
       "FigureCanvasNbAgg()"
      ]
     },
     "metadata": {},
     "output_type": "display_data"
    }
   ],
   "source": [
    "from pandas import Timedelta\n",
    "\n",
    "yearDelta = 60\n",
    "periods = (daily.index[-1].year - daily.index[0].year) / yearDelta\n",
    "periods = ceil(periods)\n",
    "periods = int(periods)\n",
    "\n",
    "fig = figure(1, figsize=(8.5, periods * 3), frameon=False)\n",
    "\n",
    "title = r\"$\\mathrm{Registro\\ diario\\ del\\ N\\acute{u}mero\\ Manchas\\ Solares}$\"\n",
    "\n",
    "y_liml = 0\n",
    "y_limu = ceil(nanmax(daily['SN value']) / 100.0) * 100\n",
    "\n",
    "d_yticks = 100\n",
    "n_yticks = int((y_limu - y_liml) / d_yticks)\n",
    "t_yticks = [y_liml + i * d_yticks for i in range(n_yticks + 1)]\n",
    "l_yticks = [r\"${0:>3}$\".format(y) for y in t_yticks]\n",
    "\n",
    "y_label = r\"$\\mathrm{ISN}$\"\n",
    "\n",
    "for i in range(periods):\n",
    "    axs = fig.add_subplot('{0:.0f}1{1:.0f}'.format(periods, i + 1))\n",
    "\n",
    "    x_liml = Timestamp(daily.index[0].year + i * yearDelta, 1, 1)\n",
    "    x_limu = Timestamp(daily.index[0].year + (i + 1) * yearDelta - 1, 12, 31)\n",
    "\n",
    "    plotData = daily[x_liml:x_limu]\n",
    "\n",
    "    if i == 0:\n",
    "        nanStop = 0\n",
    "        nanStop = where(isnan(plotData['SN value']))[0][-1] + 1\n",
    "        nanStop = plotData.index[nanStop].year\n",
    "        nanStop = Timestamp(nanStop, 12, 31)\n",
    "\n",
    "        graph, = plot(\n",
    "            plotData[:nanStop]['SN value'],\n",
    "            color='red',\n",
    "            linewidth=0.5,\n",
    "            antialiased=True,\n",
    "            label=(r\"$\\mathrm{A\\tilde{n}os\\ con\\ }$\" +\n",
    "                   r\"$\\mathrm{registros\\ incompletos\\ }$\" +\n",
    "                   r\"$({0:}-{1:})$\".format(plotData.index[0].year,\n",
    "                                           plotData[:nanStop].index[-1].year)))\n",
    "        graph, = plot(\n",
    "            plotData[nanStop:]['SN value'],\n",
    "            color='blue',\n",
    "            linewidth=0.5,\n",
    "            antialiased=True,\n",
    "            label=(\n",
    "                r\"$\\mathrm{A\\tilde{n}os\\ con\\ }$\" +\n",
    "                r\"$\\mathrm{registros\\ completos\\ }$\" + r\"$({0:}-{1:})$\".format(\n",
    "                    plotData[nanStop:].index[0].year + 1,\n",
    "                    daily.index[-1].year)))\n",
    "\n",
    "        axs.set_title(title, fontproperties=font_title)\n",
    "        axs.title.set_position([.5, 1.20])\n",
    "\n",
    "        axs.legend(\n",
    "            loc='upper center',\n",
    "            bbox_to_anchor=(0.5, 1.15),\n",
    "            ncol=3,\n",
    "            borderaxespad=0.0,\n",
    "            prop=font_legend)\n",
    "\n",
    "    else:\n",
    "        plot(\n",
    "            plotData['SN value'],\n",
    "            color='blue',\n",
    "            linewidth=0.5,\n",
    "            antialiased=True)\n",
    "\n",
    "    axs.set_ylim([y_liml, y_limu])\n",
    "    axs.set_yticks(t_yticks)\n",
    "    axs.set_yticklabels(l_yticks, fontproperties=font_ticks)\n",
    "    axs.set_ylabel(y_label, fontproperties=font_label)\n",
    "\n",
    "    n_xticks = int(yearDelta / 10)\n",
    "    d_xticks = ceil(\n",
    "        (x_limu.year - (x_liml + Timedelta(1, 'd')).year) / n_xticks)\n",
    "    t_xticks = [\n",
    "        Timestamp(int(x_liml.year + i * d_xticks), 1, 1)\n",
    "        for i in range(n_xticks + 1)\n",
    "    ]\n",
    "    l_xticks = [\n",
    "        r\"${1:>4}$-${0:0>2}$\".format(x.month, x.year) for x in t_xticks\n",
    "    ]\n",
    "\n",
    "    axs.set_xlim([x_liml, x_limu + Timedelta(1, 'd')])\n",
    "    axs.set_xticks(t_xticks)\n",
    "    axs.set_xticklabels(l_xticks, fontproperties=font_ticks)\n",
    "\n",
    "    axs.grid(color='#ffffff', linestyle='-')\n",
    "\n",
    "x_label = r\"$\\mathrm{Fecha}$\"\n",
    "axs.set_xlabel(x_label, fontproperties=font_label)\n",
    "fig.tight_layout()\n",
    "show()"
   ]
  },
  {
   "cell_type": "markdown",
   "metadata": {},
   "source": [
    "### 2.3 Promedios mensuales"
   ]
  },
  {
   "cell_type": "code",
   "execution_count": 9,
   "metadata": {
    "collapsed": true
   },
   "outputs": [],
   "source": [
    "from numpy import nanmean\n",
    "from numpy import nanstd\n",
    "from numpy import isfinite\n",
    "from numpy import isnan\n",
    "from numpy import mean\n",
    "from numpy import sqrt\n",
    "\n",
    "\n",
    "def agg_mean(x):\n",
    "    if all(isnan(x)):\n",
    "        return nan\n",
    "\n",
    "    return nanmean(x)\n",
    "\n",
    "\n",
    "def agg_std(x):\n",
    "    if all(isnan(x)):\n",
    "        return nan\n",
    "\n",
    "    return nanstd(x)\n",
    "\n",
    "\n",
    "def agg_quadsum(x):\n",
    "    if all(isnan(x)):\n",
    "        return nan\n",
    "\n",
    "    return sqrt(sum(x[isfinite(x)]**2))\n",
    "\n",
    "\n",
    "def agg_all(x):\n",
    "    return all(x)"
   ]
  },
  {
   "cell_type": "code",
   "execution_count": 10,
   "metadata": {
    "collapsed": true
   },
   "outputs": [],
   "source": [
    "monthly = daily.groupby([lambda x: x.year, lambda x: x.month])\n",
    "monthly = monthly.agg({\n",
    "    'SN value': [agg_mean, agg_std],\n",
    "    'SN error': agg_quadsum,\n",
    "    'Flag': [agg_all]\n",
    "})\n",
    "\n",
    "# Flattening labels\n",
    "monthly.columns = [\n",
    "    'Monthly SN mean', 'Monthly SN std', 'Monthly SN erros', 'Flag'\n",
    "]\n",
    "\n",
    "# Flattening indexes\n",
    "monthly.index = [Timestamp(y, m, 1) for y, m in monthly.index.values]"
   ]
  },
  {
   "cell_type": "markdown",
   "metadata": {},
   "source": [
    "#### 2.3.1 Gráfico de promedios mensuales"
   ]
  },
  {
   "cell_type": "markdown",
   "metadata": {},
   "source": [
    "##### Promedios mensuales"
   ]
  },
  {
   "cell_type": "code",
   "execution_count": 11,
   "metadata": {},
   "outputs": [
    {
     "data": {
      "application/vnd.jupyter.widget-view+json": {
       "model_id": "80dac701a01045d68ad179c59a43256b",
       "version_major": 2,
       "version_minor": 0
      },
      "text/plain": [
       "FigureCanvasNbAgg()"
      ]
     },
     "metadata": {},
     "output_type": "display_data"
    }
   ],
   "source": [
    "from pandas import Timedelta\n",
    "\n",
    "yearDelta = 60\n",
    "periods = (monthly.index[-1].year - monthly.index[0].year) / yearDelta\n",
    "periods = ceil(periods)\n",
    "periods = int(periods)\n",
    "\n",
    "fig = figure(2, figsize=(8.5, periods * 3), frameon=False)\n",
    "\n",
    "title = r\"$\\mathrm{Promedio\\ mensual\\ del\\ N\\acute{u}mero\\ Manchas\\ Solares}$\"\n",
    "\n",
    "y_liml = 0\n",
    "y_limu = ceil(nanmax(monthly['Monthly SN mean']) / 100.0) * 100\n",
    "\n",
    "d_yticks = 100\n",
    "n_yticks = int((y_limu - y_liml) / d_yticks)\n",
    "t_yticks = [y_liml + i * d_yticks for i in range(n_yticks + 1)]\n",
    "l_yticks = [r\"${0:>3}$\".format(y) for y in t_yticks]\n",
    "\n",
    "y_label = r\"$\\mathrm{ISN}$\"\n",
    "\n",
    "for i in range(periods):\n",
    "    axs = fig.add_subplot('{0:.0f}1{1:.0f}'.format(periods, i + 1))\n",
    "\n",
    "    x_liml = Timestamp(monthly.index[0].year + i * yearDelta, 1, 1)\n",
    "    x_limu = Timestamp(monthly.index[0].year + (i + 1) * yearDelta - 1, 12, 31)\n",
    "\n",
    "    plotData = monthly[x_liml:x_limu]\n",
    "\n",
    "    if i == 0:\n",
    "        nanStop = 0\n",
    "        nanStop = where(isnan(daily['SN value']))[0][-1] + 1\n",
    "        nanStop = daily.index[nanStop]\n",
    "        nanStop = plotData[:nanStop].index[-1]\n",
    "        \n",
    "        graph, = plot(\n",
    "            plotData['Monthly SN mean'][:nanStop],\n",
    "            color='red',\n",
    "            linewidth=0.5,\n",
    "            antialiased=True,\n",
    "            label=(r\"$\\mathrm{A\\tilde{n}os\\ con\\ }$\" +\n",
    "                   r\"$\\mathrm{registros\\ incompletos\\ }$\" +\n",
    "                   r\"$({0:}-{1:})$\".format(plotData.index[0].year,\n",
    "                                           plotData[:nanStop].index[-1].year)))\n",
    "        \n",
    "        graph, = plot(\n",
    "            plotData['Monthly SN mean'][nanStop:],\n",
    "            color='blue',\n",
    "            linewidth=0.5,\n",
    "            antialiased=True,\n",
    "            label=(\n",
    "                r\"$\\mathrm{A\\tilde{n}os\\ con\\ }$\" +\n",
    "                r\"$\\mathrm{registros\\ completos\\ }$\" + r\"$({0:}-{1:})$\".format(\n",
    "                    plotData[nanStop:].index[0].year + 1,\n",
    "                    daily.index[-1].year)))\n",
    "\n",
    "        axs.set_title(title, fontproperties=font_title)\n",
    "        axs.title.set_position([.5, 1.20])\n",
    "        \n",
    "        axs.legend(\n",
    "            loc='upper center',\n",
    "            bbox_to_anchor=(0.5, 1.15),\n",
    "            ncol=3,\n",
    "            borderaxespad=0.0,\n",
    "            prop=font_legend)\n",
    "    else:\n",
    "        plot(\n",
    "            plotData['Monthly SN mean'],\n",
    "            color='blue',\n",
    "            linewidth=0.5,\n",
    "            antialiased=True)\n",
    "\n",
    "    axs.set_ylim([y_liml, y_limu])\n",
    "    axs.set_yticks(t_yticks)\n",
    "    axs.set_yticklabels(l_yticks, fontproperties=font_ticks)\n",
    "    axs.set_ylabel(y_label, fontproperties=font_label)\n",
    "\n",
    "    n_xticks = int(yearDelta / 10)\n",
    "    d_xticks = ceil(\n",
    "        (x_limu.year - (x_liml + Timedelta(1, 'd')).year) / n_xticks)\n",
    "    t_xticks = [\n",
    "        Timestamp(int(x_liml.year + i * d_xticks), 1, 1)\n",
    "        for i in range(n_xticks + 1)\n",
    "    ]\n",
    "    l_xticks = [\n",
    "        r\"${1:>4}$-${0:0>2}$\".format(x.month, x.year) for x in t_xticks\n",
    "    ]\n",
    "\n",
    "    axs.set_xlim([x_liml, x_limu + Timedelta(1, 'd')])\n",
    "    axs.set_xticks(t_xticks)\n",
    "    axs.set_xticklabels(l_xticks, fontproperties=font_ticks)\n",
    "\n",
    "    axs.grid(color='#ffffff', linestyle='-')\n",
    "\n",
    "x_label = r\"$\\mathrm{Fecha}$\"\n",
    "axs.set_xlabel(x_label, fontproperties=font_label)\n",
    "fig.tight_layout()\n",
    "show()"
   ]
  },
  {
   "cell_type": "markdown",
   "metadata": {},
   "source": [
    "##### Superposición del promedio mensual sobre el registro diario"
   ]
  },
  {
   "cell_type": "code",
   "execution_count": 12,
   "metadata": {},
   "outputs": [
    {
     "data": {
      "application/vnd.jupyter.widget-view+json": {
       "model_id": "9c4dfd011fce466587bc9d191607c14c",
       "version_major": 2,
       "version_minor": 0
      },
      "text/plain": [
       "FigureCanvasNbAgg()"
      ]
     },
     "metadata": {},
     "output_type": "display_data"
    }
   ],
   "source": [
    "from pandas import Timedelta\n",
    "\n",
    "yearDelta = 60\n",
    "periods = (monthly.index[-1].year - monthly.index[0].year) / yearDelta\n",
    "periods = ceil(periods)\n",
    "periods = int(periods)\n",
    "\n",
    "fig = figure(figsize=(8.5, periods * 3), frameon=False)\n",
    "\n",
    "title = r\"$\\mathrm{N\\acute{u}mero\\ Manchas\\ Solares}$\"\n",
    "\n",
    "y_liml = 0\n",
    "y_limu = ceil(nanmax(daily['SN value']) / 100.0) * 100\n",
    "\n",
    "d_yticks = 100\n",
    "n_yticks = int((y_limu - y_liml) / d_yticks)\n",
    "t_yticks = [y_liml + i * d_yticks for i in range(n_yticks + 1)]\n",
    "l_yticks = [r\"${0:>3}$\".format(y) for y in t_yticks]\n",
    "\n",
    "y_label = r\"$\\mathrm{ISN}$\"\n",
    "\n",
    "for i in range(periods):\n",
    "    axs = fig.add_subplot('{0:.0f}1{1:.0f}'.format(periods, i + 1))\n",
    "\n",
    "    x_liml = Timestamp(daily.index[0].year + i * yearDelta, 1, 1)\n",
    "    x_limu = Timestamp(daily.index[0].year + (i + 1) * yearDelta - 1, 12, 31)\n",
    "\n",
    "    plotData = daily[x_liml:x_limu]\n",
    "\n",
    "    graph, = plot(\n",
    "        plotData['SN value'],\n",
    "        color='#03a9f4',\n",
    "        linewidth=0.5,\n",
    "        antialiased=True,\n",
    "        label=(r\"$\\mathrm{Registro\\ diario}$\"))\n",
    "\n",
    "    plotData = monthly[x_liml:x_limu]\n",
    "\n",
    "    graph, = plot(\n",
    "        plotData['Monthly SN mean'],\n",
    "        color='black',\n",
    "        linewidth=1.0,\n",
    "        antialiased=True,\n",
    "        label=(r\"$\\mathrm{Promedio\\ mensual}$\"))\n",
    "\n",
    "    if i == 0:\n",
    "        axs.set_title(title, fontproperties=font_title)\n",
    "        axs.title.set_position([.5, 1.20])\n",
    "        \n",
    "        axs.legend(\n",
    "            loc='upper center',\n",
    "            bbox_to_anchor=(0.5, 1.15),\n",
    "            ncol=3,\n",
    "            borderaxespad=0.0,\n",
    "            prop=font_legend)\n",
    "\n",
    "    axs.set_ylim([y_liml, y_limu])\n",
    "    axs.set_yticks(t_yticks)\n",
    "    axs.set_yticklabels(l_yticks, fontproperties=font_ticks)\n",
    "    axs.set_ylabel(y_label, fontproperties=font_label)\n",
    "\n",
    "    n_xticks = int(yearDelta / 10)\n",
    "    d_xticks = ceil((x_limu.year - (x_liml + Timedelta(1, 'd')).year) / n_xticks)\n",
    "    t_xticks = [Timestamp(int(x_liml.year + i * d_xticks), 1, 1)  for i in range(n_xticks + 1)]\n",
    "    l_xticks = [\n",
    "        r\"${1:>4}$-${0:0>2}$\".format(x.month, x.year) for x in t_xticks\n",
    "    ]\n",
    "\n",
    "    axs.set_xlim([x_liml, x_limu + Timedelta(1, 'd')])\n",
    "    axs.set_xticks(t_xticks)\n",
    "    axs.set_xticklabels(l_xticks, fontproperties=font_ticks)\n",
    "\n",
    "    axs.grid(color='#ffffff', linestyle='-')\n",
    "\n",
    "x_label = r\"$\\mathrm{Fecha}$\"\n",
    "axs.set_xlabel(x_label, fontproperties=font_label)\n",
    "fig.tight_layout()\n",
    "show()"
   ]
  },
  {
   "cell_type": "markdown",
   "metadata": {},
   "source": [
    "### 2.3 Promedios Suavizados cada 13 meses"
   ]
  },
  {
   "cell_type": "code",
   "execution_count": 13,
   "metadata": {
    "collapsed": true,
    "scrolled": true
   },
   "outputs": [],
   "source": [
    "# from pandas import rolling_window\n",
    "\n",
    "def weighted_average(w):\n",
    "    def average(x):\n",
    "        return nansum(w * x)\n",
    "\n",
    "    return average\n",
    "\n",
    "w = array([1, 2, 2, 2, 2, 2, 2, 2, 2, 2, 2, 2, 1])\n",
    "w = w/sum(w)\n",
    "\n",
    "smooth = monthly.rolling(window=13, center=True)\n",
    "smooth = smooth.apply(weighted_average(w), raw=False)\n",
    "\n",
    "# Deleting unnused colums\n",
    "smooth.drop('Monthly SN std', 1, inplace=True)\n",
    "smooth.drop('Monthly SN erros', 1, inplace=True)\n",
    "smooth.drop('Flag', 1, inplace=True)\n",
    "\n",
    "# Renaming columns\n",
    "smooth.columns = ['Smooth SN mean']"
   ]
  },
  {
   "cell_type": "markdown",
   "metadata": {},
   "source": [
    "#### 2.3.1 Gráfico de promedios sauvizados"
   ]
  },
  {
   "cell_type": "markdown",
   "metadata": {},
   "source": [
    "##### Promedio suavizados"
   ]
  },
  {
   "cell_type": "code",
   "execution_count": 14,
   "metadata": {},
   "outputs": [
    {
     "data": {
      "application/vnd.jupyter.widget-view+json": {
       "model_id": "686b49e4f498470882fde4068cac442a",
       "version_major": 2,
       "version_minor": 0
      },
      "text/plain": [
       "FigureCanvasNbAgg()"
      ]
     },
     "metadata": {},
     "output_type": "display_data"
    }
   ],
   "source": [
    "from pandas import Timedelta\n",
    "\n",
    "yearDelta = 60\n",
    "periods = (smooth.index[-1].year - smooth.index[0].year) / yearDelta\n",
    "periods = ceil(periods)\n",
    "periods = int(periods)\n",
    "\n",
    "fig = figure(4, figsize=(8.5, periods * 3), frameon=False)\n",
    "\n",
    "title = r\"$\\mathrm{Promedio\\ suavizado\\ del\\ N\\acute{u}mero\\ Manchas\\ Solares}$\"\n",
    "\n",
    "y_liml = 0\n",
    "y_limu = ceil(nanmax(smooth['Smooth SN mean']) / 100.0) * 100\n",
    "\n",
    "d_yticks = 100\n",
    "n_yticks = int((y_limu - y_liml) / d_yticks)\n",
    "t_yticks = [y_liml + i * d_yticks for i in range(n_yticks + 1)]\n",
    "l_yticks = [r\"${0:>3}$\".format(y) for y in t_yticks]\n",
    "\n",
    "y_label = r\"$\\mathrm{ISN}$\"\n",
    "\n",
    "for i in range(periods):\n",
    "    axs = fig.add_subplot('{0:.0f}1{1:.0f}'.format(periods, i + 1))\n",
    "\n",
    "    x_liml = Timestamp(smooth.index[0].year + i * yearDelta, 1, 1)\n",
    "    x_limu = Timestamp(smooth.index[0].year + (i + 1) * yearDelta - 1, 12, 31)\n",
    "\n",
    "    plotData = smooth[x_liml:x_limu]\n",
    "\n",
    "    if i == 0:\n",
    "        nanStop = 0\n",
    "        nanStop = where(isnan(daily['SN value']))[0][-1] + 1\n",
    "        nanStop = daily.index[nanStop]\n",
    "        nanStop = plotData[:nanStop].index[-1]\n",
    "\n",
    "        graph, = plot(\n",
    "            plotData['Smooth SN mean'][:nanStop],\n",
    "            color='red',\n",
    "            linewidth=0.5,\n",
    "            antialiased=True,\n",
    "            label=(r\"$\\mathrm{A\\tilde{n}os\\ con\\ }$\" +\n",
    "                   r\"$\\mathrm{registros\\ incompletos\\ }$\" +\n",
    "                   r\"$({0:}-{1:})$\".format(plotData.index[0].year,\n",
    "                                           plotData[:nanStop].index[-1].year)))\n",
    "\n",
    "        graph, = plot(\n",
    "            plotData['Smooth SN mean'][nanStop:],\n",
    "            color='blue',\n",
    "            linewidth=0.5,\n",
    "            antialiased=True,\n",
    "            label=(\n",
    "                r\"$\\mathrm{A\\tilde{n}os\\ con\\ }$\" +\n",
    "                r\"$\\mathrm{registros\\ completos\\ }$\" + r\"$({0:}-{1:})$\".format(\n",
    "                    plotData[nanStop:].index[0].year + 1,\n",
    "                    daily.index[-1].year)))\n",
    "\n",
    "        axs.set_title(title, fontproperties=font_title)\n",
    "        axs.title.set_position([.5, 1.20])\n",
    "\n",
    "        axs.legend(\n",
    "            loc='upper center',\n",
    "            bbox_to_anchor=(0.5, 1.15),\n",
    "            ncol=3,\n",
    "            borderaxespad=0.0,\n",
    "            prop=font_legend)\n",
    "    else:\n",
    "        plot(\n",
    "            plotData['Smooth SN mean'],\n",
    "            color='blue',\n",
    "            linewidth=0.5,\n",
    "            antialiased=True)\n",
    "\n",
    "    axs.set_ylim([y_liml, y_limu])\n",
    "    axs.set_yticks(t_yticks)\n",
    "    axs.set_yticklabels(l_yticks, fontproperties=font_ticks)\n",
    "    axs.set_ylabel(y_label, fontproperties=font_label)\n",
    "\n",
    "    n_xticks = int(yearDelta / 10)\n",
    "    d_xticks = ceil(\n",
    "        (x_limu.year - (x_liml + Timedelta(1, 'd')).year) / n_xticks)\n",
    "    t_xticks = [\n",
    "        Timestamp(int(x_liml.year + i * d_xticks), 1, 1)\n",
    "        for i in range(n_xticks + 1)\n",
    "    ]\n",
    "    l_xticks = [\n",
    "        r\"${1:>4}$-${0:0>2}$\".format(x.month, x.year) for x in t_xticks\n",
    "    ]\n",
    "\n",
    "    axs.set_xlim([x_liml, x_limu + Timedelta(1, 'd')])\n",
    "    axs.set_xticks(t_xticks)\n",
    "    axs.set_xticklabels(l_xticks, fontproperties=font_ticks)\n",
    "\n",
    "    axs.grid(color='#ffffff', linestyle='-')\n",
    "\n",
    "x_label = r\"$\\mathrm{Fecha}$\"\n",
    "axs.set_xlabel(x_label, fontproperties=font_label)\n",
    "fig.tight_layout()\n",
    "show()"
   ]
  },
  {
   "cell_type": "markdown",
   "metadata": {},
   "source": [
    "##### Superposición de promedios sauvizados sobre los mensuales"
   ]
  },
  {
   "cell_type": "code",
   "execution_count": 15,
   "metadata": {},
   "outputs": [
    {
     "data": {
      "application/vnd.jupyter.widget-view+json": {
       "model_id": "cbb69805a7f64babb9b2f5716df41d11",
       "version_major": 2,
       "version_minor": 0
      },
      "text/plain": [
       "FigureCanvasNbAgg()"
      ]
     },
     "metadata": {},
     "output_type": "display_data"
    }
   ],
   "source": [
    "from pandas import Timedelta\n",
    "\n",
    "yearDelta = 60\n",
    "periods = (monthly.index[-1].year - monthly.index[0].year) / yearDelta\n",
    "periods = ceil(periods)\n",
    "periods = int(periods)\n",
    "\n",
    "fig = figure(5, figsize=(8.5, periods * 3), frameon=False)\n",
    "\n",
    "title = r\"$\\mathrm{N\\acute{u}mero\\ Manchas\\ Solares}$\"\n",
    "\n",
    "y_liml = 0\n",
    "y_limu = ceil(nanmax(daily['SN value']) / 100.0) * 100\n",
    "\n",
    "d_yticks = 100\n",
    "n_yticks = int((y_limu - y_liml) / d_yticks)\n",
    "t_yticks = [y_liml + i * d_yticks for i in range(n_yticks + 1)]\n",
    "l_yticks = [r\"${0:>3}$\".format(y) for y in t_yticks]\n",
    "\n",
    "y_label = r\"$\\mathrm{ISN}$\"\n",
    "\n",
    "for i in range(periods):\n",
    "    axs = fig.add_subplot('{0:.0f}1{1:.0f}'.format(periods, i + 1))\n",
    "\n",
    "    x_liml = Timestamp(daily.index[0].year + i * yearDelta, 1, 1)\n",
    "    x_limu = Timestamp(daily.index[0].year + (i + 1) * yearDelta - 1, 12, 31)\n",
    "\n",
    "    plotData = monthly[x_liml:x_limu]\n",
    "\n",
    "    graph, = plot(\n",
    "        plotData['Monthly SN mean'],\n",
    "        color='#03a9f4',\n",
    "        linewidth=0.5,\n",
    "        antialiased=True,\n",
    "        label=(r\"$\\mathrm{Promedio\\ mensual}$\"))\n",
    "\n",
    "    plotData = smooth[x_liml:x_limu]\n",
    "\n",
    "    graph, = plot(\n",
    "        plotData['Smooth SN mean'],\n",
    "        color='black',\n",
    "        linewidth=1.0,\n",
    "        antialiased=True,\n",
    "        label=(r\"$\\mathrm{Promedio\\ suavizado}$\"))\n",
    "\n",
    "    if i == 0:\n",
    "        axs.set_title(title, fontproperties=font_title)\n",
    "        axs.title.set_position([.5, 1.20])\n",
    "\n",
    "        axs.legend(\n",
    "            loc='upper center',\n",
    "            bbox_to_anchor=(0.5, 1.15),\n",
    "            ncol=3,\n",
    "            borderaxespad=0.0,\n",
    "            prop=font_legend)\n",
    "\n",
    "    axs.set_ylim([y_liml, y_limu])\n",
    "    axs.set_yticks(t_yticks)\n",
    "    axs.set_yticklabels(l_yticks, fontproperties=font_ticks)\n",
    "    axs.set_ylabel(y_label, fontproperties=font_label)\n",
    "\n",
    "    n_xticks = int(yearDelta / 10)\n",
    "    d_xticks = ceil(\n",
    "        (x_limu.year - (x_liml + Timedelta(1, 'd')).year) / n_xticks)\n",
    "    t_xticks = [\n",
    "        Timestamp(int(x_liml.year + i * d_xticks), 1, 1)\n",
    "        for i in range(n_xticks + 1)\n",
    "    ]\n",
    "    l_xticks = [\n",
    "        r\"${1:>4}$-${0:0>2}$\".format(x.month, x.year) for x in t_xticks\n",
    "    ]\n",
    "\n",
    "    axs.set_xlim([x_liml, x_limu + Timedelta(1, 'd')])\n",
    "    axs.set_xticks(t_xticks)\n",
    "    axs.set_xticklabels(l_xticks, fontproperties=font_ticks)\n",
    "\n",
    "    axs.grid(color='#ffffff', linestyle='-')\n",
    "\n",
    "x_label = r\"$\\mathrm{Fecha}$\"\n",
    "axs.set_xlabel(x_label, fontproperties=font_label)\n",
    "fig.tight_layout()\n",
    "show()"
   ]
  },
  {
   "cell_type": "markdown",
   "metadata": {},
   "source": [
    "## 3 Separación de ciclos"
   ]
  },
  {
   "cell_type": "markdown",
   "metadata": {},
   "source": [
    "### 3.1 Detección de picos"
   ]
  },
  {
   "cell_type": "markdown",
   "metadata": {},
   "source": [
    "#### 3.1.1 Algoritmo de detección"
   ]
  },
  {
   "cell_type": "code",
   "execution_count": 16,
   "metadata": {
    "collapsed": true
   },
   "outputs": [],
   "source": [
    "def _datacheck_peakdetect(x_axis, y_axis):\n",
    "    if x_axis is None:\n",
    "        x_axis = range(len(y_axis))\n",
    "    \n",
    "    if len(y_axis) != len(x_axis):\n",
    "        raise ValueError( \n",
    "                \"Input vectors y_axis and x_axis must have same length\")\n",
    "    \n",
    "    #needs to be a numpy array\n",
    "    y_axis = np.array(y_axis)\n",
    "    x_axis = np.array(x_axis)\n",
    "    \n",
    "    return x_axis, y_axis"
   ]
  },
  {
   "cell_type": "code",
   "execution_count": 17,
   "metadata": {
    "collapsed": true
   },
   "outputs": [],
   "source": [
    "def peakdetect(y_axis, x_axis = None, lookahead = 200, delta=0):\n",
    "    \"\"\"\n",
    "    Converted from/based on a MATLAB script at: \n",
    "    http://billauer.co.il/peakdet.html\n",
    "    \n",
    "    function for detecting local maxima and minima in a signal.\n",
    "    Discovers peaks by searching for values which are surrounded by lower\n",
    "    or larger values for maxima and minima respectively\n",
    "    \n",
    "    keyword arguments:\n",
    "    y_axis -- A list containing the signal over which to find peaks\n",
    "    \n",
    "    x_axis -- A x-axis whose values correspond to the y_axis list and is used\n",
    "        in the return to specify the position of the peaks. If omitted an\n",
    "        index of the y_axis is used.\n",
    "        (default: None)\n",
    "    \n",
    "    lookahead -- distance to look ahead from a peak candidate to determine if\n",
    "        it is the actual peak\n",
    "        (default: 200) \n",
    "        '(samples / period) / f' where '4 >= f >= 1.25' might be a good value\n",
    "    \n",
    "    delta -- this specifies a minimum difference between a peak and\n",
    "        the following points, before a peak may be considered a peak. Useful\n",
    "        to hinder the function from picking up false peaks towards to end of\n",
    "        the signal. To work well delta should be set to delta >= RMSnoise * 5.\n",
    "        (default: 0)\n",
    "            When omitted delta function causes a 20% decrease in speed.\n",
    "            When used Correctly it can double the speed of the function\n",
    "    \n",
    "    \n",
    "    return: two lists [max_peaks, min_peaks] containing the positive and\n",
    "        negative peaks respectively. Each cell of the lists contains a tuple\n",
    "        of: (position, peak_value) \n",
    "        to get the average peak value do: np.mean(max_peaks, 0)[1] on the\n",
    "        results to unpack one of the lists into x, y coordinates do: \n",
    "        x, y = zip(*max_peaks)\n",
    "    \"\"\"\n",
    "    max_peaks = []\n",
    "    min_peaks = []\n",
    "    dump = []   #Used to pop the first hit which almost always is false\n",
    "       \n",
    "    # check input data\n",
    "    x_axis, y_axis = _datacheck_peakdetect(x_axis, y_axis)\n",
    "    # store data length for later use\n",
    "    length = len(y_axis)\n",
    "    \n",
    "    \n",
    "    #perform some checks\n",
    "    if lookahead < 1:\n",
    "        raise ValueError(\"Lookahead must be '1' or above in value\")\n",
    "    if not (np.isscalar(delta) and delta >= 0):\n",
    "        raise ValueError(\"delta must be a positive number\")\n",
    "    \n",
    "    #maxima and minima candidates are temporarily stored in\n",
    "    #mx and mn respectively\n",
    "    mn, mx = np.Inf, -np.Inf\n",
    "    \n",
    "    #Only detect peak if there is 'lookahead' amount of points after it\n",
    "    for index, (x, y) in enumerate(zip(x_axis[:-lookahead], \n",
    "                                        y_axis[:-lookahead])):\n",
    "        if y > mx:\n",
    "            mx = y\n",
    "            mxpos = x\n",
    "        if y < mn:\n",
    "            mn = y\n",
    "            mnpos = x\n",
    "        \n",
    "        ####look for max####\n",
    "        if y < mx-delta and mx != np.Inf:\n",
    "            #Maxima peak candidate found\n",
    "            #look ahead in signal to ensure that this is a peak and not jitter\n",
    "            if y_axis[index:index+lookahead].max() < mx:\n",
    "                max_peaks.append([mxpos, mx])\n",
    "                dump.append(True)\n",
    "                #set algorithm to only find minima now\n",
    "                mx = np.Inf\n",
    "                mn = np.Inf\n",
    "                if index+lookahead >= length:\n",
    "                    #end is within lookahead no more peaks can be found\n",
    "                    break\n",
    "                continue\n",
    "            #else:  #slows shit down this does\n",
    "            #    mx = ahead\n",
    "            #    mxpos = x_axis[np.where(y_axis[index:index+lookahead]==mx)]\n",
    "        \n",
    "        ####look for min####\n",
    "        if y > mn+delta and mn != -np.Inf:\n",
    "            #Minima peak candidate found \n",
    "            #look ahead in signal to ensure that this is a peak and not jitter\n",
    "            if y_axis[index:index+lookahead].min() > mn:\n",
    "                min_peaks.append([mnpos, mn])\n",
    "                dump.append(False)\n",
    "                #set algorithm to only find maxima now\n",
    "                mn = -np.Inf\n",
    "                mx = -np.Inf\n",
    "                if index+lookahead >= length:\n",
    "                    #end is within lookahead no more peaks can be found\n",
    "                    break\n",
    "            #else:  #slows shit down this does\n",
    "            #    mn = ahead\n",
    "            #    mnpos = x_axis[np.where(y_axis[index:index+lookahead]==mn)]\n",
    "    \n",
    "    \n",
    "    #Remove the false hit on the first value of the y_axis\n",
    "    try:\n",
    "        if dump[0]:\n",
    "            max_peaks.pop(0)\n",
    "        else:\n",
    "            min_peaks.pop(0)\n",
    "        del dump\n",
    "    except IndexError:\n",
    "        #no peaks were found, should the function return empty lists?\n",
    "        pass\n",
    "        \n",
    "    return [max_peaks, min_peaks]"
   ]
  },
  {
   "cell_type": "markdown",
   "metadata": {},
   "source": [
    "#### 3.1.1 Gráfico interactivo para la eliminación de falsos positivos"
   ]
  },
  {
   "cell_type": "code",
   "execution_count": 18,
   "metadata": {
    "scrolled": false
   },
   "outputs": [
    {
     "data": {
      "application/vnd.jupyter.widget-view+json": {
       "model_id": "16ab368fdc4b4d869ef6071de6b4de34",
       "version_major": 2,
       "version_minor": 0
      },
      "text/plain": [
       "VBox(children=(HBox(children=(VBox(children=(Label(value='Lookahead'), IntSlider(value=20, min=1))), VBox(chil…"
      ]
     },
     "metadata": {},
     "output_type": "display_data"
    },
    {
     "name": "stderr",
     "output_type": "stream",
     "text": [
      "/opt/conda/envs/scilab/lib/python3.6/site-packages/numpy/core/_methods.py:32: RuntimeWarning: invalid value encountered in reduce\n",
      "  return umr_minimum(a, axis, None, out, keepdims, initial)\n"
     ]
    },
    {
     "data": {
      "application/vnd.jupyter.widget-view+json": {
       "model_id": "29012f9ab0df41a7ac61695a7bf9ebff",
       "version_major": 2,
       "version_minor": 0
      },
      "text/plain": [
       "FigureCanvasNbAgg()"
      ]
     },
     "metadata": {},
     "output_type": "display_data"
    }
   ],
   "source": [
    "from IPython.display import display\n",
    "from ipywidgets import *\n",
    "\n",
    "w_lookahead = IntSlider(min=1, max=100, step=1, value=20)\n",
    "wc_lookahead = VBox([Label(value='Lookahead'), w_lookahead])\n",
    "\n",
    "w_delta = IntSlider(min=1, max=100, step=1, value=1)\n",
    "wc_delta = VBox([Label(value='Delta'), w_delta])\n",
    "\n",
    "wc_controllers = HBox([wc_lookahead, wc_delta])\n",
    "\n",
    "w_maxima_label = Label(value=\"Máximos\")\n",
    "w_maxima_label.layout.width = '90%'\n",
    "\n",
    "w_maxima_selector = SelectMultiple(options=[])\n",
    "\n",
    "w_maxima_clean = Button(description='Limpiar seleción de máximos')\n",
    "w_maxima_clean.layout.margin = '5px 2px 0'\n",
    "w_maxima_clean.layout.width = '300px'\n",
    "\n",
    "wc_maxima = VBox([w_maxima_label, w_maxima_selector, w_maxima_clean])\n",
    "\n",
    "w_minima_label = Label(value=\"Mínimos\")\n",
    "w_minima_label.layout.width = '90%'\n",
    "\n",
    "w_minima_selector = SelectMultiple(options=[])\n",
    "\n",
    "w_minima_clean = Button(description='Limpiar seleción de mínimos')\n",
    "w_minima_clean.layout.margin = '5px 2px 0'\n",
    "w_minima_clean.layout.width = '300px'\n",
    "\n",
    "wc_minima = VBox([w_minima_label, w_minima_selector, w_minima_clean])\n",
    "\n",
    "wc_peaks = HBox([wc_maxima, wc_minima])\n",
    "\n",
    "w_message = Label(value=\"Selecione los máximos y mínimos que desea eliminar.\")\n",
    "w_message.layout.margin = '5px 0'\n",
    "w_message.layout.width = '600px'\n",
    "w_message.layout.maxWidth = ''\n",
    "\n",
    "wc_message = VBox([w_message])\n",
    "\n",
    "w_output = Output()\n",
    "\n",
    "wc_container = VBox([wc_controllers, wc_message, wc_peaks, w_output])\n",
    "\n",
    "\n",
    "def update_peaks(*args):\n",
    "    maxima, minima = peakdetect(\n",
    "        smooth['Smooth SN mean'].values,\n",
    "        smooth.index.values,\n",
    "        lookahead=w_lookahead.value,\n",
    "        delta=w_delta.value)\n",
    "\n",
    "    wc_maxima.children[0].value = \"Máximos ({0:})\".format(len(maxima))\n",
    "    wc_minima.children[0].value = \"Mínimos ({0:})\".format(len(minima))\n",
    "\n",
    "    minima = [\n",
    "        '{0:0>2d}: '.format(n + 1) + Timestamp(d).strftime(\"%Y-%m\") +\n",
    "        ' ({0:.3f})'.format(v) for n, (d, v) in enumerate(minima)\n",
    "    ]\n",
    "    maxima = [\n",
    "        '{0:0>2d}: '.format(n + 1) + Timestamp(d).strftime(\"%Y-%m\") +\n",
    "        ' ({0:.3f})'.format(v) for n, (d, v) in enumerate(maxima)\n",
    "    ]\n",
    "\n",
    "    w_minima_selector.options = minima\n",
    "    w_maxima_selector.options = maxima\n",
    "\n",
    "\n",
    "def clean_peaks(*args):\n",
    "    if args[0] == w_maxima_clean:\n",
    "        w_maxima_selector.value = []\n",
    "\n",
    "    elif args[0] == w_minima_clean:\n",
    "        w_minima_selector.value = []\n",
    "\n",
    "    else:\n",
    "        pass\n",
    "\n",
    "\n",
    "def plotter(*args):\n",
    "    maxima = list(\n",
    "        zip(*map(lambda x: (x, smooth['Smooth SN mean'][x]),\n",
    "                 map(lambda x: Timestamp(*x),\n",
    "                     map(lambda x: list(map(int, x)) + [1],\n",
    "                         map(lambda x: x[1].split('-'),\n",
    "                             map(lambda x: x.split(' '),\n",
    "                                 filter(lambda x: x not in w_maxima_selector.value,\n",
    "                                        w_maxima_selector.options))))))))\n",
    "\n",
    "    minima = list(\n",
    "        zip(*map(lambda x: (x, smooth['Smooth SN mean'][x]),\n",
    "                 map(lambda x: Timestamp(*x),\n",
    "                     map(lambda x: list(map(int, x)) + [1],\n",
    "                         map(lambda x: x[1].split('-'),\n",
    "                             map(lambda x: x.split(' '),\n",
    "                                 filter(lambda x: x not in w_minima_selector.value,\n",
    "                                        w_minima_selector.options))))))))\n",
    "\n",
    "    fig = figure(6, figsize=(8.5, 3), frameon=False)\n",
    "    fig.clf()\n",
    "    axs = fig.add_subplot('111')\n",
    "\n",
    "    gsmooth, = axs.plot(\n",
    "        smooth,\n",
    "        linewidth=1\n",
    "    )\n",
    "\n",
    "    gmaxima, = axs.plot(\n",
    "        maxima[0],\n",
    "        maxima[1],\n",
    "        linewidth=0.0,\n",
    "        marker='^', )\n",
    "\n",
    "    gminima, = axs.plot(\n",
    "        minima[0],\n",
    "        minima[1],\n",
    "        linewidth=0.0,\n",
    "        marker='v', )\n",
    "\n",
    "    axs.set_xlim([daily.index[0], daily.index[-1]])\n",
    "    axs.set_xlabel(r'$\\mathrm{Fecha}$', fontproperties=font_ticks)\n",
    "    axs.set_ylim([0, ceil(nanmax(smooth['Smooth SN mean'].values)/100.0)*100])\n",
    "    axs.set_ylabel(r'$\\mathrm{SN\\ (Promedio\\ Suaviado)}$', fontproperties=font_ticks)\n",
    "    fig.tight_layout()\n",
    "    show()\n",
    "\n",
    "w_lookahead.observe(update_peaks, 'value')\n",
    "w_lookahead.observe(plotter, 'value')\n",
    "\n",
    "w_delta.observe(update_peaks, 'value')\n",
    "w_delta.observe(plotter, 'value')\n",
    "\n",
    "w_maxima_selector.observe(plotter, 'value')\n",
    "w_maxima_clean.on_click(clean_peaks)\n",
    "\n",
    "w_minima_selector.observe(plotter, 'value')\n",
    "w_minima_clean.on_click(clean_peaks)\n",
    "\n",
    "wc_container.on_displayed(update_peaks)\n",
    "wc_container.on_displayed(plotter)\n",
    "\n",
    "display(wc_container)"
   ]
  },
  {
   "cell_type": "markdown",
   "metadata": {},
   "source": [
    "### 3.2 Seleción de ciclos"
   ]
  },
  {
   "cell_type": "markdown",
   "metadata": {},
   "source": [
    "#### 3.3.1 División de ciclos entre mínimos"
   ]
  },
  {
   "cell_type": "code",
   "execution_count": 21,
   "metadata": {
    "collapsed": true
   },
   "outputs": [
    {
     "data": {
      "text/html": [
       "<div>\n",
       "<style scoped>\n",
       "    .dataframe tbody tr th:only-of-type {\n",
       "        vertical-align: middle;\n",
       "    }\n",
       "\n",
       "    .dataframe tbody tr th {\n",
       "        vertical-align: top;\n",
       "    }\n",
       "\n",
       "    .dataframe thead th {\n",
       "        text-align: right;\n",
       "    }\n",
       "</style>\n",
       "<table border=\"1\" class=\"dataframe\">\n",
       "  <thead>\n",
       "    <tr style=\"text-align: right;\">\n",
       "      <th></th>\n",
       "      <th>Cycle  6</th>\n",
       "      <th>Cycle  7</th>\n",
       "      <th>Cycle  8</th>\n",
       "      <th>Cycle  9</th>\n",
       "      <th>Cycle 10</th>\n",
       "      <th>Cycle 11</th>\n",
       "      <th>Cycle 12</th>\n",
       "      <th>Cycle 13</th>\n",
       "      <th>Cycle 14</th>\n",
       "      <th>Cycle 15</th>\n",
       "      <th>Cycle 16</th>\n",
       "      <th>Cycle 17</th>\n",
       "      <th>Cycle 18</th>\n",
       "      <th>Cycle 19</th>\n",
       "      <th>Cycle 20</th>\n",
       "      <th>Cycle 21</th>\n",
       "      <th>Cycle 22</th>\n",
       "      <th>Cycle 23</th>\n",
       "      <th>Cycle 24</th>\n",
       "    </tr>\n",
       "  </thead>\n",
       "  <tbody>\n",
       "    <tr>\n",
       "      <th>0</th>\n",
       "      <td>NaN</td>\n",
       "      <td>0.142960</td>\n",
       "      <td>12.181730</td>\n",
       "      <td>17.614669</td>\n",
       "      <td>5.996830</td>\n",
       "      <td>9.872369</td>\n",
       "      <td>3.750320</td>\n",
       "      <td>8.278578</td>\n",
       "      <td>4.473746</td>\n",
       "      <td>2.442358</td>\n",
       "      <td>9.361826</td>\n",
       "      <td>5.788582</td>\n",
       "      <td>12.883302</td>\n",
       "      <td>5.095942</td>\n",
       "      <td>14.236578</td>\n",
       "      <td>17.792240</td>\n",
       "      <td>13.520373</td>\n",
       "      <td>11.171047</td>\n",
       "      <td>2.248125</td>\n",
       "    </tr>\n",
       "    <tr>\n",
       "      <th>1</th>\n",
       "      <td>NaN</td>\n",
       "      <td>1.559626</td>\n",
       "      <td>12.377861</td>\n",
       "      <td>18.123620</td>\n",
       "      <td>6.327206</td>\n",
       "      <td>10.017217</td>\n",
       "      <td>4.151216</td>\n",
       "      <td>9.651920</td>\n",
       "      <td>4.574552</td>\n",
       "      <td>2.466455</td>\n",
       "      <td>9.507613</td>\n",
       "      <td>5.965867</td>\n",
       "      <td>12.990829</td>\n",
       "      <td>5.473496</td>\n",
       "      <td>14.968164</td>\n",
       "      <td>18.450349</td>\n",
       "      <td>14.651555</td>\n",
       "      <td>11.590357</td>\n",
       "      <td>2.499648</td>\n",
       "    </tr>\n",
       "    <tr>\n",
       "      <th>2</th>\n",
       "      <td>NaN</td>\n",
       "      <td>4.476293</td>\n",
       "      <td>12.970413</td>\n",
       "      <td>19.263206</td>\n",
       "      <td>6.890378</td>\n",
       "      <td>10.003731</td>\n",
       "      <td>5.411969</td>\n",
       "      <td>10.936374</td>\n",
       "      <td>5.148073</td>\n",
       "      <td>2.638402</td>\n",
       "      <td>9.766619</td>\n",
       "      <td>7.696915</td>\n",
       "      <td>13.911528</td>\n",
       "      <td>6.232770</td>\n",
       "      <td>16.217806</td>\n",
       "      <td>18.289014</td>\n",
       "      <td>16.593222</td>\n",
       "      <td>11.306754</td>\n",
       "      <td>2.690508</td>\n",
       "    </tr>\n",
       "    <tr>\n",
       "      <th>3</th>\n",
       "      <td>NaN</td>\n",
       "      <td>NaN</td>\n",
       "      <td>12.967796</td>\n",
       "      <td>20.406593</td>\n",
       "      <td>7.466229</td>\n",
       "      <td>11.917665</td>\n",
       "      <td>6.210714</td>\n",
       "      <td>11.665719</td>\n",
       "      <td>6.507885</td>\n",
       "      <td>3.964119</td>\n",
       "      <td>11.349549</td>\n",
       "      <td>8.952963</td>\n",
       "      <td>14.578060</td>\n",
       "      <td>7.915566</td>\n",
       "      <td>17.146211</td>\n",
       "      <td>17.901872</td>\n",
       "      <td>18.309889</td>\n",
       "      <td>11.198718</td>\n",
       "      <td>2.924290</td>\n",
       "    </tr>\n",
       "    <tr>\n",
       "      <th>4</th>\n",
       "      <td>NaN</td>\n",
       "      <td>NaN</td>\n",
       "      <td>12.842741</td>\n",
       "      <td>20.526852</td>\n",
       "      <td>7.410360</td>\n",
       "      <td>14.870622</td>\n",
       "      <td>7.034997</td>\n",
       "      <td>12.314913</td>\n",
       "      <td>7.828808</td>\n",
       "      <td>5.467256</td>\n",
       "      <td>13.599146</td>\n",
       "      <td>9.499334</td>\n",
       "      <td>15.282227</td>\n",
       "      <td>10.506052</td>\n",
       "      <td>17.648899</td>\n",
       "      <td>18.846765</td>\n",
       "      <td>19.904243</td>\n",
       "      <td>11.315143</td>\n",
       "      <td>3.318017</td>\n",
       "    </tr>\n",
       "    <tr>\n",
       "      <th>5</th>\n",
       "      <td>NaN</td>\n",
       "      <td>NaN</td>\n",
       "      <td>14.036291</td>\n",
       "      <td>19.389870</td>\n",
       "      <td>7.286436</td>\n",
       "      <td>16.991077</td>\n",
       "      <td>8.434281</td>\n",
       "      <td>14.380197</td>\n",
       "      <td>8.352688</td>\n",
       "      <td>6.625947</td>\n",
       "      <td>16.336646</td>\n",
       "      <td>10.504711</td>\n",
       "      <td>16.977120</td>\n",
       "      <td>11.364010</td>\n",
       "      <td>18.356516</td>\n",
       "      <td>20.460815</td>\n",
       "      <td>22.324942</td>\n",
       "      <td>11.970027</td>\n",
       "      <td>3.474245</td>\n",
       "    </tr>\n",
       "    <tr>\n",
       "      <th>6</th>\n",
       "      <td>49.982684</td>\n",
       "      <td>NaN</td>\n",
       "      <td>16.950899</td>\n",
       "      <td>19.720773</td>\n",
       "      <td>7.900414</td>\n",
       "      <td>19.141101</td>\n",
       "      <td>9.531144</td>\n",
       "      <td>16.237148</td>\n",
       "      <td>8.618817</td>\n",
       "      <td>7.677112</td>\n",
       "      <td>19.350087</td>\n",
       "      <td>10.992883</td>\n",
       "      <td>18.854791</td>\n",
       "      <td>11.582783</td>\n",
       "      <td>19.916283</td>\n",
       "      <td>20.808737</td>\n",
       "      <td>25.456842</td>\n",
       "      <td>13.387007</td>\n",
       "      <td>4.121064</td>\n",
       "    </tr>\n",
       "    <tr>\n",
       "      <th>7</th>\n",
       "      <td>49.720730</td>\n",
       "      <td>NaN</td>\n",
       "      <td>20.370526</td>\n",
       "      <td>21.363850</td>\n",
       "      <td>9.275414</td>\n",
       "      <td>22.393028</td>\n",
       "      <td>11.603725</td>\n",
       "      <td>17.915329</td>\n",
       "      <td>9.994201</td>\n",
       "      <td>8.455338</td>\n",
       "      <td>21.478805</td>\n",
       "      <td>11.107399</td>\n",
       "      <td>20.438108</td>\n",
       "      <td>13.827093</td>\n",
       "      <td>21.237161</td>\n",
       "      <td>19.691308</td>\n",
       "      <td>27.973150</td>\n",
       "      <td>14.305376</td>\n",
       "      <td>5.513537</td>\n",
       "    </tr>\n",
       "    <tr>\n",
       "      <th>8</th>\n",
       "      <td>48.098861</td>\n",
       "      <td>NaN</td>\n",
       "      <td>22.248423</td>\n",
       "      <td>22.395399</td>\n",
       "      <td>10.524100</td>\n",
       "      <td>26.159739</td>\n",
       "      <td>15.059334</td>\n",
       "      <td>21.753456</td>\n",
       "      <td>11.253994</td>\n",
       "      <td>9.779621</td>\n",
       "      <td>23.266126</td>\n",
       "      <td>11.858026</td>\n",
       "      <td>23.377535</td>\n",
       "      <td>17.364459</td>\n",
       "      <td>21.834921</td>\n",
       "      <td>19.708289</td>\n",
       "      <td>30.336681</td>\n",
       "      <td>14.527509</td>\n",
       "      <td>7.407306</td>\n",
       "    </tr>\n",
       "    <tr>\n",
       "      <th>9</th>\n",
       "      <td>45.603822</td>\n",
       "      <td>NaN</td>\n",
       "      <td>22.865721</td>\n",
       "      <td>23.714912</td>\n",
       "      <td>11.112839</td>\n",
       "      <td>29.825062</td>\n",
       "      <td>18.248813</td>\n",
       "      <td>27.536028</td>\n",
       "      <td>13.143152</td>\n",
       "      <td>10.935893</td>\n",
       "      <td>25.095113</td>\n",
       "      <td>13.471557</td>\n",
       "      <td>27.537391</td>\n",
       "      <td>20.520104</td>\n",
       "      <td>22.566103</td>\n",
       "      <td>21.614158</td>\n",
       "      <td>32.702899</td>\n",
       "      <td>15.239875</td>\n",
       "      <td>9.517473</td>\n",
       "    </tr>\n",
       "    <tr>\n",
       "      <th>10</th>\n",
       "      <td>42.284998</td>\n",
       "      <td>NaN</td>\n",
       "      <td>24.399055</td>\n",
       "      <td>24.262549</td>\n",
       "      <td>11.859748</td>\n",
       "      <td>33.486352</td>\n",
       "      <td>20.504235</td>\n",
       "      <td>34.073976</td>\n",
       "      <td>15.775589</td>\n",
       "      <td>12.378277</td>\n",
       "      <td>26.912004</td>\n",
       "      <td>15.583116</td>\n",
       "      <td>31.658359</td>\n",
       "      <td>23.701555</td>\n",
       "      <td>23.792582</td>\n",
       "      <td>24.307661</td>\n",
       "      <td>36.202899</td>\n",
       "      <td>18.270385</td>\n",
       "      <td>10.869803</td>\n",
       "    </tr>\n",
       "    <tr>\n",
       "      <th>11</th>\n",
       "      <td>39.851405</td>\n",
       "      <td>NaN</td>\n",
       "      <td>29.654213</td>\n",
       "      <td>24.301997</td>\n",
       "      <td>14.481656</td>\n",
       "      <td>37.115384</td>\n",
       "      <td>22.883312</td>\n",
       "      <td>39.056503</td>\n",
       "      <td>17.627471</td>\n",
       "      <td>14.756144</td>\n",
       "      <td>28.209047</td>\n",
       "      <td>17.526184</td>\n",
       "      <td>36.431208</td>\n",
       "      <td>28.031528</td>\n",
       "      <td>25.184383</td>\n",
       "      <td>26.248522</td>\n",
       "      <td>40.483434</td>\n",
       "      <td>21.971595</td>\n",
       "      <td>11.707348</td>\n",
       "    </tr>\n",
       "    <tr>\n",
       "      <th>12</th>\n",
       "      <td>39.983306</td>\n",
       "      <td>NaN</td>\n",
       "      <td>36.228438</td>\n",
       "      <td>26.046533</td>\n",
       "      <td>17.602176</td>\n",
       "      <td>41.623404</td>\n",
       "      <td>26.383222</td>\n",
       "      <td>43.306637</td>\n",
       "      <td>20.529083</td>\n",
       "      <td>17.452381</td>\n",
       "      <td>29.809660</td>\n",
       "      <td>19.713876</td>\n",
       "      <td>39.670456</td>\n",
       "      <td>33.491878</td>\n",
       "      <td>28.423406</td>\n",
       "      <td>28.802823</td>\n",
       "      <td>45.311012</td>\n",
       "      <td>24.372805</td>\n",
       "      <td>12.685170</td>\n",
       "    </tr>\n",
       "    <tr>\n",
       "      <th>13</th>\n",
       "      <td>39.842185</td>\n",
       "      <td>NaN</td>\n",
       "      <td>40.392158</td>\n",
       "      <td>29.185469</td>\n",
       "      <td>19.853072</td>\n",
       "      <td>47.342445</td>\n",
       "      <td>29.420767</td>\n",
       "      <td>48.660266</td>\n",
       "      <td>24.240105</td>\n",
       "      <td>21.606663</td>\n",
       "      <td>32.188498</td>\n",
       "      <td>21.082917</td>\n",
       "      <td>41.736854</td>\n",
       "      <td>41.217505</td>\n",
       "      <td>32.111354</td>\n",
       "      <td>31.916263</td>\n",
       "      <td>51.001559</td>\n",
       "      <td>27.165143</td>\n",
       "      <td>14.027240</td>\n",
       "    </tr>\n",
       "    <tr>\n",
       "      <th>14</th>\n",
       "      <td>38.689446</td>\n",
       "      <td>NaN</td>\n",
       "      <td>45.696797</td>\n",
       "      <td>33.262351</td>\n",
       "      <td>22.104416</td>\n",
       "      <td>53.918431</td>\n",
       "      <td>33.017541</td>\n",
       "      <td>53.713895</td>\n",
       "      <td>26.327291</td>\n",
       "      <td>26.833525</td>\n",
       "      <td>34.730210</td>\n",
       "      <td>21.668356</td>\n",
       "      <td>46.773682</td>\n",
       "      <td>49.986143</td>\n",
       "      <td>35.197913</td>\n",
       "      <td>34.667204</td>\n",
       "      <td>55.076514</td>\n",
       "      <td>30.440681</td>\n",
       "      <td>16.083692</td>\n",
       "    </tr>\n",
       "    <tr>\n",
       "      <th>15</th>\n",
       "      <td>37.629541</td>\n",
       "      <td>NaN</td>\n",
       "      <td>53.075364</td>\n",
       "      <td>37.845683</td>\n",
       "      <td>25.971531</td>\n",
       "      <td>59.978288</td>\n",
       "      <td>39.782326</td>\n",
       "      <td>57.676126</td>\n",
       "      <td>28.137596</td>\n",
       "      <td>30.978642</td>\n",
       "      <td>37.679179</td>\n",
       "      <td>24.896851</td>\n",
       "      <td>52.821621</td>\n",
       "      <td>56.998240</td>\n",
       "      <td>39.668881</td>\n",
       "      <td>37.699059</td>\n",
       "      <td>60.932025</td>\n",
       "      <td>33.620308</td>\n",
       "      <td>18.538351</td>\n",
       "    </tr>\n",
       "    <tr>\n",
       "      <th>16</th>\n",
       "      <td>38.320896</td>\n",
       "      <td>14.155881</td>\n",
       "      <td>63.104065</td>\n",
       "      <td>42.881496</td>\n",
       "      <td>31.831925</td>\n",
       "      <td>65.837159</td>\n",
       "      <td>46.084745</td>\n",
       "      <td>63.254083</td>\n",
       "      <td>32.081234</td>\n",
       "      <td>34.575371</td>\n",
       "      <td>40.839260</td>\n",
       "      <td>29.320238</td>\n",
       "      <td>55.197517</td>\n",
       "      <td>66.016469</td>\n",
       "      <td>44.762967</td>\n",
       "      <td>41.404704</td>\n",
       "      <td>69.212267</td>\n",
       "      <td>38.166871</td>\n",
       "      <td>20.839785</td>\n",
       "    </tr>\n",
       "    <tr>\n",
       "      <th>17</th>\n",
       "      <td>39.627402</td>\n",
       "      <td>14.630773</td>\n",
       "      <td>74.195087</td>\n",
       "      <td>47.302090</td>\n",
       "      <td>36.554820</td>\n",
       "      <td>72.056230</td>\n",
       "      <td>49.439943</td>\n",
       "      <td>70.829826</td>\n",
       "      <td>37.557130</td>\n",
       "      <td>40.492934</td>\n",
       "      <td>43.187513</td>\n",
       "      <td>32.548733</td>\n",
       "      <td>57.151818</td>\n",
       "      <td>78.771258</td>\n",
       "      <td>49.179141</td>\n",
       "      <td>47.621054</td>\n",
       "      <td>76.908503</td>\n",
       "      <td>43.061450</td>\n",
       "      <td>23.067608</td>\n",
       "    </tr>\n",
       "    <tr>\n",
       "      <th>18</th>\n",
       "      <td>39.012124</td>\n",
       "      <td>14.427373</td>\n",
       "      <td>83.907934</td>\n",
       "      <td>49.864688</td>\n",
       "      <td>40.795187</td>\n",
       "      <td>76.951376</td>\n",
       "      <td>52.209118</td>\n",
       "      <td>77.296697</td>\n",
       "      <td>42.269496</td>\n",
       "      <td>49.077163</td>\n",
       "      <td>45.203642</td>\n",
       "      <td>36.703840</td>\n",
       "      <td>64.281810</td>\n",
       "      <td>91.299887</td>\n",
       "      <td>53.290207</td>\n",
       "      <td>55.732565</td>\n",
       "      <td>84.909220</td>\n",
       "      <td>47.068932</td>\n",
       "      <td>24.556183</td>\n",
       "    </tr>\n",
       "    <tr>\n",
       "      <th>19</th>\n",
       "      <td>38.474227</td>\n",
       "      <td>16.376177</td>\n",
       "      <td>91.721129</td>\n",
       "      <td>51.116567</td>\n",
       "      <td>45.175563</td>\n",
       "      <td>79.087577</td>\n",
       "      <td>54.612344</td>\n",
       "      <td>83.457718</td>\n",
       "      <td>44.398932</td>\n",
       "      <td>57.972325</td>\n",
       "      <td>48.934018</td>\n",
       "      <td>42.645238</td>\n",
       "      <td>73.216910</td>\n",
       "      <td>103.483086</td>\n",
       "      <td>57.880440</td>\n",
       "      <td>64.800128</td>\n",
       "      <td>92.975797</td>\n",
       "      <td>52.001414</td>\n",
       "      <td>25.226882</td>\n",
       "    </tr>\n",
       "    <tr>\n",
       "      <th>20</th>\n",
       "      <td>38.931499</td>\n",
       "      <td>19.590462</td>\n",
       "      <td>100.348910</td>\n",
       "      <td>53.281728</td>\n",
       "      <td>49.351783</td>\n",
       "      <td>84.762756</td>\n",
       "      <td>57.266998</td>\n",
       "      <td>89.542127</td>\n",
       "      <td>46.557938</td>\n",
       "      <td>64.819368</td>\n",
       "      <td>54.396921</td>\n",
       "      <td>49.800525</td>\n",
       "      <td>80.076811</td>\n",
       "      <td>114.816285</td>\n",
       "      <td>63.431695</td>\n",
       "      <td>73.647261</td>\n",
       "      <td>101.350708</td>\n",
       "      <td>58.400294</td>\n",
       "      <td>26.379243</td>\n",
       "    </tr>\n",
       "    <tr>\n",
       "      <th>21</th>\n",
       "      <td>38.920725</td>\n",
       "      <td>23.421018</td>\n",
       "      <td>111.761711</td>\n",
       "      <td>56.184355</td>\n",
       "      <td>55.653002</td>\n",
       "      <td>95.503213</td>\n",
       "      <td>61.304717</td>\n",
       "      <td>94.170980</td>\n",
       "      <td>49.372588</td>\n",
       "      <td>70.513185</td>\n",
       "      <td>59.930658</td>\n",
       "      <td>56.855005</td>\n",
       "      <td>86.884293</td>\n",
       "      <td>125.834968</td>\n",
       "      <td>71.423630</td>\n",
       "      <td>80.722171</td>\n",
       "      <td>114.268629</td>\n",
       "      <td>65.448682</td>\n",
       "      <td>29.481874</td>\n",
       "    </tr>\n",
       "    <tr>\n",
       "      <th>22</th>\n",
       "      <td>39.537855</td>\n",
       "      <td>24.767852</td>\n",
       "      <td>122.996037</td>\n",
       "      <td>59.506443</td>\n",
       "      <td>61.941622</td>\n",
       "      <td>102.977541</td>\n",
       "      <td>65.775998</td>\n",
       "      <td>97.356285</td>\n",
       "      <td>52.269228</td>\n",
       "      <td>75.475058</td>\n",
       "      <td>68.139126</td>\n",
       "      <td>63.119790</td>\n",
       "      <td>93.257053</td>\n",
       "      <td>139.447871</td>\n",
       "      <td>80.341593</td>\n",
       "      <td>86.922081</td>\n",
       "      <td>128.506532</td>\n",
       "      <td>72.017633</td>\n",
       "      <td>34.498989</td>\n",
       "    </tr>\n",
       "    <tr>\n",
       "      <th>23</th>\n",
       "      <td>38.535615</td>\n",
       "      <td>23.763298</td>\n",
       "      <td>134.106156</td>\n",
       "      <td>64.143201</td>\n",
       "      <td>65.114651</td>\n",
       "      <td>108.224853</td>\n",
       "      <td>69.404538</td>\n",
       "      <td>103.336123</td>\n",
       "      <td>55.770035</td>\n",
       "      <td>78.135855</td>\n",
       "      <td>78.452298</td>\n",
       "      <td>69.925388</td>\n",
       "      <td>100.965835</td>\n",
       "      <td>154.730980</td>\n",
       "      <td>89.478642</td>\n",
       "      <td>91.442243</td>\n",
       "      <td>141.124999</td>\n",
       "      <td>76.933359</td>\n",
       "      <td>39.083308</td>\n",
       "    </tr>\n",
       "    <tr>\n",
       "      <th>24</th>\n",
       "      <td>36.091253</td>\n",
       "      <td>23.911446</td>\n",
       "      <td>144.470639</td>\n",
       "      <td>67.696359</td>\n",
       "      <td>68.383513</td>\n",
       "      <td>113.693670</td>\n",
       "      <td>72.627522</td>\n",
       "      <td>108.705658</td>\n",
       "      <td>59.124336</td>\n",
       "      <td>80.521608</td>\n",
       "      <td>86.303728</td>\n",
       "      <td>77.412437</td>\n",
       "      <td>111.726587</td>\n",
       "      <td>168.129681</td>\n",
       "      <td>95.787020</td>\n",
       "      <td>98.638882</td>\n",
       "      <td>151.224648</td>\n",
       "      <td>80.790751</td>\n",
       "      <td>42.481516</td>\n",
       "    </tr>\n",
       "    <tr>\n",
       "      <th>25</th>\n",
       "      <td>35.313566</td>\n",
       "      <td>26.198724</td>\n",
       "      <td>155.548206</td>\n",
       "      <td>69.106686</td>\n",
       "      <td>73.367428</td>\n",
       "      <td>115.862756</td>\n",
       "      <td>78.273893</td>\n",
       "      <td>110.639708</td>\n",
       "      <td>62.749336</td>\n",
       "      <td>82.982209</td>\n",
       "      <td>92.639030</td>\n",
       "      <td>85.511137</td>\n",
       "      <td>121.511892</td>\n",
       "      <td>180.450604</td>\n",
       "      <td>99.442172</td>\n",
       "      <td>108.987404</td>\n",
       "      <td>156.918868</td>\n",
       "      <td>85.398144</td>\n",
       "      <td>45.671390</td>\n",
       "    </tr>\n",
       "    <tr>\n",
       "      <th>26</th>\n",
       "      <td>34.625420</td>\n",
       "      <td>28.546804</td>\n",
       "      <td>165.870768</td>\n",
       "      <td>71.041799</td>\n",
       "      <td>79.138934</td>\n",
       "      <td>117.022120</td>\n",
       "      <td>82.800774</td>\n",
       "      <td>113.579313</td>\n",
       "      <td>66.114479</td>\n",
       "      <td>85.854100</td>\n",
       "      <td>96.198438</td>\n",
       "      <td>91.760376</td>\n",
       "      <td>127.981336</td>\n",
       "      <td>193.864269</td>\n",
       "      <td>103.026491</td>\n",
       "      <td>117.822037</td>\n",
       "      <td>164.367121</td>\n",
       "      <td>89.779864</td>\n",
       "      <td>48.816551</td>\n",
       "    </tr>\n",
       "    <tr>\n",
       "      <th>27</th>\n",
       "      <td>32.658783</td>\n",
       "      <td>29.604295</td>\n",
       "      <td>173.208668</td>\n",
       "      <td>73.326914</td>\n",
       "      <td>85.162634</td>\n",
       "      <td>120.893849</td>\n",
       "      <td>82.614619</td>\n",
       "      <td>118.406016</td>\n",
       "      <td>68.499784</td>\n",
       "      <td>89.929235</td>\n",
       "      <td>98.150320</td>\n",
       "      <td>95.347114</td>\n",
       "      <td>135.717448</td>\n",
       "      <td>206.060505</td>\n",
       "      <td>106.233122</td>\n",
       "      <td>126.549142</td>\n",
       "      <td>176.097318</td>\n",
       "      <td>93.499430</td>\n",
       "      <td>53.814894</td>\n",
       "    </tr>\n",
       "    <tr>\n",
       "      <th>28</th>\n",
       "      <td>30.176150</td>\n",
       "      <td>30.782587</td>\n",
       "      <td>176.193043</td>\n",
       "      <td>75.021572</td>\n",
       "      <td>92.154077</td>\n",
       "      <td>124.590086</td>\n",
       "      <td>83.201312</td>\n",
       "      <td>122.012199</td>\n",
       "      <td>69.112866</td>\n",
       "      <td>94.919692</td>\n",
       "      <td>101.439702</td>\n",
       "      <td>98.314229</td>\n",
       "      <td>147.668612</td>\n",
       "      <td>211.826838</td>\n",
       "      <td>111.581240</td>\n",
       "      <td>137.994035</td>\n",
       "      <td>184.822139</td>\n",
       "      <td>96.388351</td>\n",
       "      <td>61.139849</td>\n",
       "    </tr>\n",
       "    <tr>\n",
       "      <th>29</th>\n",
       "      <td>27.492975</td>\n",
       "      <td>33.184128</td>\n",
       "      <td>178.725714</td>\n",
       "      <td>78.222683</td>\n",
       "      <td>97.787186</td>\n",
       "      <td>129.554275</td>\n",
       "      <td>86.364395</td>\n",
       "      <td>122.235036</td>\n",
       "      <td>69.282400</td>\n",
       "      <td>97.712926</td>\n",
       "      <td>104.203546</td>\n",
       "      <td>103.540035</td>\n",
       "      <td>157.733129</td>\n",
       "      <td>214.492364</td>\n",
       "      <td>116.444950</td>\n",
       "      <td>147.341385</td>\n",
       "      <td>190.725365</td>\n",
       "      <td>98.244534</td>\n",
       "      <td>69.337026</td>\n",
       "    </tr>\n",
       "    <tr>\n",
       "      <th>...</th>\n",
       "      <td>...</td>\n",
       "      <td>...</td>\n",
       "      <td>...</td>\n",
       "      <td>...</td>\n",
       "      <td>...</td>\n",
       "      <td>...</td>\n",
       "      <td>...</td>\n",
       "      <td>...</td>\n",
       "      <td>...</td>\n",
       "      <td>...</td>\n",
       "      <td>...</td>\n",
       "      <td>...</td>\n",
       "      <td>...</td>\n",
       "      <td>...</td>\n",
       "      <td>...</td>\n",
       "      <td>...</td>\n",
       "      <td>...</td>\n",
       "      <td>...</td>\n",
       "      <td>...</td>\n",
       "    </tr>\n",
       "    <tr>\n",
       "      <th>121</th>\n",
       "      <td>NaN</td>\n",
       "      <td>15.400888</td>\n",
       "      <td>NaN</td>\n",
       "      <td>68.268862</td>\n",
       "      <td>43.304800</td>\n",
       "      <td>21.443638</td>\n",
       "      <td>9.224648</td>\n",
       "      <td>17.690227</td>\n",
       "      <td>5.072939</td>\n",
       "      <td>NaN</td>\n",
       "      <td>NaN</td>\n",
       "      <td>17.990964</td>\n",
       "      <td>6.241999</td>\n",
       "      <td>15.948481</td>\n",
       "      <td>39.296333</td>\n",
       "      <td>15.118491</td>\n",
       "      <td>NaN</td>\n",
       "      <td>26.158090</td>\n",
       "      <td>NaN</td>\n",
       "    </tr>\n",
       "    <tr>\n",
       "      <th>122</th>\n",
       "      <td>NaN</td>\n",
       "      <td>13.742970</td>\n",
       "      <td>NaN</td>\n",
       "      <td>65.117940</td>\n",
       "      <td>39.939209</td>\n",
       "      <td>21.208513</td>\n",
       "      <td>10.907444</td>\n",
       "      <td>17.457028</td>\n",
       "      <td>5.198297</td>\n",
       "      <td>NaN</td>\n",
       "      <td>NaN</td>\n",
       "      <td>15.383302</td>\n",
       "      <td>NaN</td>\n",
       "      <td>15.025677</td>\n",
       "      <td>36.048035</td>\n",
       "      <td>15.771045</td>\n",
       "      <td>NaN</td>\n",
       "      <td>24.967230</td>\n",
       "      <td>NaN</td>\n",
       "    </tr>\n",
       "    <tr>\n",
       "      <th>123</th>\n",
       "      <td>NaN</td>\n",
       "      <td>13.520044</td>\n",
       "      <td>NaN</td>\n",
       "      <td>62.105709</td>\n",
       "      <td>36.826171</td>\n",
       "      <td>21.082258</td>\n",
       "      <td>11.988492</td>\n",
       "      <td>16.515495</td>\n",
       "      <td>5.717473</td>\n",
       "      <td>NaN</td>\n",
       "      <td>NaN</td>\n",
       "      <td>14.383974</td>\n",
       "      <td>NaN</td>\n",
       "      <td>15.158741</td>\n",
       "      <td>32.986566</td>\n",
       "      <td>15.247523</td>\n",
       "      <td>NaN</td>\n",
       "      <td>25.845110</td>\n",
       "      <td>NaN</td>\n",
       "    </tr>\n",
       "    <tr>\n",
       "      <th>124</th>\n",
       "      <td>NaN</td>\n",
       "      <td>13.191556</td>\n",
       "      <td>NaN</td>\n",
       "      <td>59.590790</td>\n",
       "      <td>35.456413</td>\n",
       "      <td>19.199194</td>\n",
       "      <td>11.834325</td>\n",
       "      <td>15.166033</td>\n",
       "      <td>5.639427</td>\n",
       "      <td>NaN</td>\n",
       "      <td>NaN</td>\n",
       "      <td>13.631958</td>\n",
       "      <td>NaN</td>\n",
       "      <td>15.087243</td>\n",
       "      <td>31.740598</td>\n",
       "      <td>15.121179</td>\n",
       "      <td>NaN</td>\n",
       "      <td>25.954173</td>\n",
       "      <td>NaN</td>\n",
       "    </tr>\n",
       "    <tr>\n",
       "      <th>125</th>\n",
       "      <td>NaN</td>\n",
       "      <td>12.553699</td>\n",
       "      <td>NaN</td>\n",
       "      <td>57.250870</td>\n",
       "      <td>33.986655</td>\n",
       "      <td>17.592483</td>\n",
       "      <td>11.102381</td>\n",
       "      <td>13.746198</td>\n",
       "      <td>5.717294</td>\n",
       "      <td>NaN</td>\n",
       "      <td>NaN</td>\n",
       "      <td>NaN</td>\n",
       "      <td>NaN</td>\n",
       "      <td>14.624616</td>\n",
       "      <td>30.574155</td>\n",
       "      <td>14.393356</td>\n",
       "      <td>NaN</td>\n",
       "      <td>23.665419</td>\n",
       "      <td>NaN</td>\n",
       "    </tr>\n",
       "    <tr>\n",
       "      <th>126</th>\n",
       "      <td>NaN</td>\n",
       "      <td>NaN</td>\n",
       "      <td>NaN</td>\n",
       "      <td>53.599123</td>\n",
       "      <td>31.866359</td>\n",
       "      <td>17.164535</td>\n",
       "      <td>10.374469</td>\n",
       "      <td>12.673137</td>\n",
       "      <td>6.146057</td>\n",
       "      <td>NaN</td>\n",
       "      <td>NaN</td>\n",
       "      <td>NaN</td>\n",
       "      <td>NaN</td>\n",
       "      <td>NaN</td>\n",
       "      <td>26.806906</td>\n",
       "      <td>NaN</td>\n",
       "      <td>NaN</td>\n",
       "      <td>21.060804</td>\n",
       "      <td>NaN</td>\n",
       "    </tr>\n",
       "    <tr>\n",
       "      <th>127</th>\n",
       "      <td>NaN</td>\n",
       "      <td>NaN</td>\n",
       "      <td>NaN</td>\n",
       "      <td>48.702618</td>\n",
       "      <td>28.475230</td>\n",
       "      <td>15.793433</td>\n",
       "      <td>10.691673</td>\n",
       "      <td>11.267537</td>\n",
       "      <td>6.485247</td>\n",
       "      <td>NaN</td>\n",
       "      <td>NaN</td>\n",
       "      <td>NaN</td>\n",
       "      <td>NaN</td>\n",
       "      <td>NaN</td>\n",
       "      <td>24.241046</td>\n",
       "      <td>NaN</td>\n",
       "      <td>NaN</td>\n",
       "      <td>20.192300</td>\n",
       "      <td>NaN</td>\n",
       "    </tr>\n",
       "    <tr>\n",
       "      <th>128</th>\n",
       "      <td>NaN</td>\n",
       "      <td>NaN</td>\n",
       "      <td>NaN</td>\n",
       "      <td>45.084249</td>\n",
       "      <td>22.993088</td>\n",
       "      <td>13.614535</td>\n",
       "      <td>10.458714</td>\n",
       "      <td>9.805485</td>\n",
       "      <td>6.374168</td>\n",
       "      <td>NaN</td>\n",
       "      <td>NaN</td>\n",
       "      <td>NaN</td>\n",
       "      <td>NaN</td>\n",
       "      <td>NaN</td>\n",
       "      <td>23.156368</td>\n",
       "      <td>NaN</td>\n",
       "      <td>NaN</td>\n",
       "      <td>19.766001</td>\n",
       "      <td>NaN</td>\n",
       "    </tr>\n",
       "    <tr>\n",
       "      <th>129</th>\n",
       "      <td>NaN</td>\n",
       "      <td>NaN</td>\n",
       "      <td>NaN</td>\n",
       "      <td>41.857008</td>\n",
       "      <td>18.795891</td>\n",
       "      <td>11.987026</td>\n",
       "      <td>9.802368</td>\n",
       "      <td>9.022600</td>\n",
       "      <td>5.813684</td>\n",
       "      <td>NaN</td>\n",
       "      <td>NaN</td>\n",
       "      <td>NaN</td>\n",
       "      <td>NaN</td>\n",
       "      <td>NaN</td>\n",
       "      <td>21.761207</td>\n",
       "      <td>NaN</td>\n",
       "      <td>NaN</td>\n",
       "      <td>19.013313</td>\n",
       "      <td>NaN</td>\n",
       "    </tr>\n",
       "    <tr>\n",
       "      <th>130</th>\n",
       "      <td>NaN</td>\n",
       "      <td>NaN</td>\n",
       "      <td>NaN</td>\n",
       "      <td>39.456157</td>\n",
       "      <td>16.586393</td>\n",
       "      <td>11.042313</td>\n",
       "      <td>9.497709</td>\n",
       "      <td>8.054231</td>\n",
       "      <td>5.254544</td>\n",
       "      <td>NaN</td>\n",
       "      <td>NaN</td>\n",
       "      <td>NaN</td>\n",
       "      <td>NaN</td>\n",
       "      <td>NaN</td>\n",
       "      <td>20.691128</td>\n",
       "      <td>NaN</td>\n",
       "      <td>NaN</td>\n",
       "      <td>17.735535</td>\n",
       "      <td>NaN</td>\n",
       "    </tr>\n",
       "    <tr>\n",
       "      <th>131</th>\n",
       "      <td>NaN</td>\n",
       "      <td>NaN</td>\n",
       "      <td>NaN</td>\n",
       "      <td>39.262295</td>\n",
       "      <td>14.796249</td>\n",
       "      <td>10.195539</td>\n",
       "      <td>9.468587</td>\n",
       "      <td>7.296166</td>\n",
       "      <td>4.656516</td>\n",
       "      <td>NaN</td>\n",
       "      <td>NaN</td>\n",
       "      <td>NaN</td>\n",
       "      <td>NaN</td>\n",
       "      <td>NaN</td>\n",
       "      <td>20.872392</td>\n",
       "      <td>NaN</td>\n",
       "      <td>NaN</td>\n",
       "      <td>16.359639</td>\n",
       "      <td>NaN</td>\n",
       "    </tr>\n",
       "    <tr>\n",
       "      <th>132</th>\n",
       "      <td>NaN</td>\n",
       "      <td>NaN</td>\n",
       "      <td>NaN</td>\n",
       "      <td>38.875198</td>\n",
       "      <td>12.810273</td>\n",
       "      <td>8.951811</td>\n",
       "      <td>9.276965</td>\n",
       "      <td>6.531471</td>\n",
       "      <td>4.284293</td>\n",
       "      <td>NaN</td>\n",
       "      <td>NaN</td>\n",
       "      <td>NaN</td>\n",
       "      <td>NaN</td>\n",
       "      <td>NaN</td>\n",
       "      <td>22.299363</td>\n",
       "      <td>NaN</td>\n",
       "      <td>NaN</td>\n",
       "      <td>14.433743</td>\n",
       "      <td>NaN</td>\n",
       "    </tr>\n",
       "    <tr>\n",
       "      <th>133</th>\n",
       "      <td>NaN</td>\n",
       "      <td>NaN</td>\n",
       "      <td>NaN</td>\n",
       "      <td>37.946051</td>\n",
       "      <td>11.278597</td>\n",
       "      <td>7.760503</td>\n",
       "      <td>9.067870</td>\n",
       "      <td>5.352797</td>\n",
       "      <td>4.196928</td>\n",
       "      <td>NaN</td>\n",
       "      <td>NaN</td>\n",
       "      <td>NaN</td>\n",
       "      <td>NaN</td>\n",
       "      <td>NaN</td>\n",
       "      <td>23.333862</td>\n",
       "      <td>NaN</td>\n",
       "      <td>NaN</td>\n",
       "      <td>12.854621</td>\n",
       "      <td>NaN</td>\n",
       "    </tr>\n",
       "    <tr>\n",
       "      <th>134</th>\n",
       "      <td>NaN</td>\n",
       "      <td>NaN</td>\n",
       "      <td>NaN</td>\n",
       "      <td>36.996742</td>\n",
       "      <td>10.305479</td>\n",
       "      <td>6.673361</td>\n",
       "      <td>8.377010</td>\n",
       "      <td>4.665790</td>\n",
       "      <td>3.610951</td>\n",
       "      <td>NaN</td>\n",
       "      <td>NaN</td>\n",
       "      <td>NaN</td>\n",
       "      <td>NaN</td>\n",
       "      <td>NaN</td>\n",
       "      <td>23.598915</td>\n",
       "      <td>NaN</td>\n",
       "      <td>NaN</td>\n",
       "      <td>11.597901</td>\n",
       "      <td>NaN</td>\n",
       "    </tr>\n",
       "    <tr>\n",
       "      <th>135</th>\n",
       "      <td>NaN</td>\n",
       "      <td>NaN</td>\n",
       "      <td>NaN</td>\n",
       "      <td>34.984735</td>\n",
       "      <td>NaN</td>\n",
       "      <td>5.863102</td>\n",
       "      <td>NaN</td>\n",
       "      <td>4.598406</td>\n",
       "      <td>2.926856</td>\n",
       "      <td>NaN</td>\n",
       "      <td>NaN</td>\n",
       "      <td>NaN</td>\n",
       "      <td>NaN</td>\n",
       "      <td>NaN</td>\n",
       "      <td>22.088432</td>\n",
       "      <td>NaN</td>\n",
       "      <td>NaN</td>\n",
       "      <td>9.902253</td>\n",
       "      <td>NaN</td>\n",
       "    </tr>\n",
       "    <tr>\n",
       "      <th>136</th>\n",
       "      <td>NaN</td>\n",
       "      <td>NaN</td>\n",
       "      <td>NaN</td>\n",
       "      <td>32.057405</td>\n",
       "      <td>NaN</td>\n",
       "      <td>5.591596</td>\n",
       "      <td>NaN</td>\n",
       "      <td>4.949213</td>\n",
       "      <td>2.794150</td>\n",
       "      <td>NaN</td>\n",
       "      <td>NaN</td>\n",
       "      <td>NaN</td>\n",
       "      <td>NaN</td>\n",
       "      <td>NaN</td>\n",
       "      <td>19.167733</td>\n",
       "      <td>NaN</td>\n",
       "      <td>NaN</td>\n",
       "      <td>9.601767</td>\n",
       "      <td>NaN</td>\n",
       "    </tr>\n",
       "    <tr>\n",
       "      <th>137</th>\n",
       "      <td>NaN</td>\n",
       "      <td>NaN</td>\n",
       "      <td>NaN</td>\n",
       "      <td>29.624520</td>\n",
       "      <td>NaN</td>\n",
       "      <td>5.007831</td>\n",
       "      <td>NaN</td>\n",
       "      <td>5.152026</td>\n",
       "      <td>2.583487</td>\n",
       "      <td>NaN</td>\n",
       "      <td>NaN</td>\n",
       "      <td>NaN</td>\n",
       "      <td>NaN</td>\n",
       "      <td>NaN</td>\n",
       "      <td>NaN</td>\n",
       "      <td>NaN</td>\n",
       "      <td>NaN</td>\n",
       "      <td>9.873497</td>\n",
       "      <td>NaN</td>\n",
       "    </tr>\n",
       "    <tr>\n",
       "      <th>138</th>\n",
       "      <td>NaN</td>\n",
       "      <td>NaN</td>\n",
       "      <td>NaN</td>\n",
       "      <td>26.922817</td>\n",
       "      <td>NaN</td>\n",
       "      <td>4.042345</td>\n",
       "      <td>NaN</td>\n",
       "      <td>5.537634</td>\n",
       "      <td>NaN</td>\n",
       "      <td>NaN</td>\n",
       "      <td>NaN</td>\n",
       "      <td>NaN</td>\n",
       "      <td>NaN</td>\n",
       "      <td>NaN</td>\n",
       "      <td>NaN</td>\n",
       "      <td>NaN</td>\n",
       "      <td>NaN</td>\n",
       "      <td>9.173452</td>\n",
       "      <td>NaN</td>\n",
       "    </tr>\n",
       "    <tr>\n",
       "      <th>139</th>\n",
       "      <td>NaN</td>\n",
       "      <td>NaN</td>\n",
       "      <td>NaN</td>\n",
       "      <td>24.468516</td>\n",
       "      <td>NaN</td>\n",
       "      <td>3.924379</td>\n",
       "      <td>NaN</td>\n",
       "      <td>6.091398</td>\n",
       "      <td>NaN</td>\n",
       "      <td>NaN</td>\n",
       "      <td>NaN</td>\n",
       "      <td>NaN</td>\n",
       "      <td>NaN</td>\n",
       "      <td>NaN</td>\n",
       "      <td>NaN</td>\n",
       "      <td>NaN</td>\n",
       "      <td>NaN</td>\n",
       "      <td>7.876185</td>\n",
       "      <td>NaN</td>\n",
       "    </tr>\n",
       "    <tr>\n",
       "      <th>140</th>\n",
       "      <td>NaN</td>\n",
       "      <td>NaN</td>\n",
       "      <td>NaN</td>\n",
       "      <td>21.688140</td>\n",
       "      <td>NaN</td>\n",
       "      <td>4.107488</td>\n",
       "      <td>NaN</td>\n",
       "      <td>5.577957</td>\n",
       "      <td>NaN</td>\n",
       "      <td>NaN</td>\n",
       "      <td>NaN</td>\n",
       "      <td>NaN</td>\n",
       "      <td>NaN</td>\n",
       "      <td>NaN</td>\n",
       "      <td>NaN</td>\n",
       "      <td>NaN</td>\n",
       "      <td>NaN</td>\n",
       "      <td>6.599079</td>\n",
       "      <td>NaN</td>\n",
       "    </tr>\n",
       "    <tr>\n",
       "      <th>141</th>\n",
       "      <td>NaN</td>\n",
       "      <td>NaN</td>\n",
       "      <td>NaN</td>\n",
       "      <td>19.673893</td>\n",
       "      <td>NaN</td>\n",
       "      <td>NaN</td>\n",
       "      <td>NaN</td>\n",
       "      <td>4.761738</td>\n",
       "      <td>NaN</td>\n",
       "      <td>NaN</td>\n",
       "      <td>NaN</td>\n",
       "      <td>NaN</td>\n",
       "      <td>NaN</td>\n",
       "      <td>NaN</td>\n",
       "      <td>NaN</td>\n",
       "      <td>NaN</td>\n",
       "      <td>NaN</td>\n",
       "      <td>5.601767</td>\n",
       "      <td>NaN</td>\n",
       "    </tr>\n",
       "    <tr>\n",
       "      <th>142</th>\n",
       "      <td>NaN</td>\n",
       "      <td>NaN</td>\n",
       "      <td>NaN</td>\n",
       "      <td>17.536034</td>\n",
       "      <td>NaN</td>\n",
       "      <td>NaN</td>\n",
       "      <td>NaN</td>\n",
       "      <td>NaN</td>\n",
       "      <td>NaN</td>\n",
       "      <td>NaN</td>\n",
       "      <td>NaN</td>\n",
       "      <td>NaN</td>\n",
       "      <td>NaN</td>\n",
       "      <td>NaN</td>\n",
       "      <td>NaN</td>\n",
       "      <td>NaN</td>\n",
       "      <td>NaN</td>\n",
       "      <td>5.088506</td>\n",
       "      <td>NaN</td>\n",
       "    </tr>\n",
       "    <tr>\n",
       "      <th>143</th>\n",
       "      <td>NaN</td>\n",
       "      <td>NaN</td>\n",
       "      <td>NaN</td>\n",
       "      <td>14.166993</td>\n",
       "      <td>NaN</td>\n",
       "      <td>NaN</td>\n",
       "      <td>NaN</td>\n",
       "      <td>NaN</td>\n",
       "      <td>NaN</td>\n",
       "      <td>NaN</td>\n",
       "      <td>NaN</td>\n",
       "      <td>NaN</td>\n",
       "      <td>NaN</td>\n",
       "      <td>NaN</td>\n",
       "      <td>NaN</td>\n",
       "      <td>NaN</td>\n",
       "      <td>NaN</td>\n",
       "      <td>5.079276</td>\n",
       "      <td>NaN</td>\n",
       "    </tr>\n",
       "    <tr>\n",
       "      <th>144</th>\n",
       "      <td>NaN</td>\n",
       "      <td>NaN</td>\n",
       "      <td>NaN</td>\n",
       "      <td>11.762423</td>\n",
       "      <td>NaN</td>\n",
       "      <td>NaN</td>\n",
       "      <td>NaN</td>\n",
       "      <td>NaN</td>\n",
       "      <td>NaN</td>\n",
       "      <td>NaN</td>\n",
       "      <td>NaN</td>\n",
       "      <td>NaN</td>\n",
       "      <td>NaN</td>\n",
       "      <td>NaN</td>\n",
       "      <td>NaN</td>\n",
       "      <td>NaN</td>\n",
       "      <td>NaN</td>\n",
       "      <td>5.347825</td>\n",
       "      <td>NaN</td>\n",
       "    </tr>\n",
       "    <tr>\n",
       "      <th>145</th>\n",
       "      <td>NaN</td>\n",
       "      <td>NaN</td>\n",
       "      <td>NaN</td>\n",
       "      <td>10.315917</td>\n",
       "      <td>NaN</td>\n",
       "      <td>NaN</td>\n",
       "      <td>NaN</td>\n",
       "      <td>NaN</td>\n",
       "      <td>NaN</td>\n",
       "      <td>NaN</td>\n",
       "      <td>NaN</td>\n",
       "      <td>NaN</td>\n",
       "      <td>NaN</td>\n",
       "      <td>NaN</td>\n",
       "      <td>NaN</td>\n",
       "      <td>NaN</td>\n",
       "      <td>NaN</td>\n",
       "      <td>4.828739</td>\n",
       "      <td>NaN</td>\n",
       "    </tr>\n",
       "    <tr>\n",
       "      <th>146</th>\n",
       "      <td>NaN</td>\n",
       "      <td>NaN</td>\n",
       "      <td>NaN</td>\n",
       "      <td>8.458120</td>\n",
       "      <td>NaN</td>\n",
       "      <td>NaN</td>\n",
       "      <td>NaN</td>\n",
       "      <td>NaN</td>\n",
       "      <td>NaN</td>\n",
       "      <td>NaN</td>\n",
       "      <td>NaN</td>\n",
       "      <td>NaN</td>\n",
       "      <td>NaN</td>\n",
       "      <td>NaN</td>\n",
       "      <td>NaN</td>\n",
       "      <td>NaN</td>\n",
       "      <td>NaN</td>\n",
       "      <td>4.034384</td>\n",
       "      <td>NaN</td>\n",
       "    </tr>\n",
       "    <tr>\n",
       "      <th>147</th>\n",
       "      <td>NaN</td>\n",
       "      <td>NaN</td>\n",
       "      <td>NaN</td>\n",
       "      <td>7.279357</td>\n",
       "      <td>NaN</td>\n",
       "      <td>NaN</td>\n",
       "      <td>NaN</td>\n",
       "      <td>NaN</td>\n",
       "      <td>NaN</td>\n",
       "      <td>NaN</td>\n",
       "      <td>NaN</td>\n",
       "      <td>NaN</td>\n",
       "      <td>NaN</td>\n",
       "      <td>NaN</td>\n",
       "      <td>NaN</td>\n",
       "      <td>NaN</td>\n",
       "      <td>NaN</td>\n",
       "      <td>3.847303</td>\n",
       "      <td>NaN</td>\n",
       "    </tr>\n",
       "    <tr>\n",
       "      <th>148</th>\n",
       "      <td>NaN</td>\n",
       "      <td>NaN</td>\n",
       "      <td>NaN</td>\n",
       "      <td>6.725593</td>\n",
       "      <td>NaN</td>\n",
       "      <td>NaN</td>\n",
       "      <td>NaN</td>\n",
       "      <td>NaN</td>\n",
       "      <td>NaN</td>\n",
       "      <td>NaN</td>\n",
       "      <td>NaN</td>\n",
       "      <td>NaN</td>\n",
       "      <td>NaN</td>\n",
       "      <td>NaN</td>\n",
       "      <td>NaN</td>\n",
       "      <td>NaN</td>\n",
       "      <td>NaN</td>\n",
       "      <td>3.156189</td>\n",
       "      <td>NaN</td>\n",
       "    </tr>\n",
       "    <tr>\n",
       "      <th>149</th>\n",
       "      <td>NaN</td>\n",
       "      <td>NaN</td>\n",
       "      <td>NaN</td>\n",
       "      <td>NaN</td>\n",
       "      <td>NaN</td>\n",
       "      <td>NaN</td>\n",
       "      <td>NaN</td>\n",
       "      <td>NaN</td>\n",
       "      <td>NaN</td>\n",
       "      <td>NaN</td>\n",
       "      <td>NaN</td>\n",
       "      <td>NaN</td>\n",
       "      <td>NaN</td>\n",
       "      <td>NaN</td>\n",
       "      <td>NaN</td>\n",
       "      <td>NaN</td>\n",
       "      <td>NaN</td>\n",
       "      <td>2.436610</td>\n",
       "      <td>NaN</td>\n",
       "    </tr>\n",
       "    <tr>\n",
       "      <th>150</th>\n",
       "      <td>NaN</td>\n",
       "      <td>NaN</td>\n",
       "      <td>NaN</td>\n",
       "      <td>NaN</td>\n",
       "      <td>NaN</td>\n",
       "      <td>NaN</td>\n",
       "      <td>NaN</td>\n",
       "      <td>NaN</td>\n",
       "      <td>NaN</td>\n",
       "      <td>NaN</td>\n",
       "      <td>NaN</td>\n",
       "      <td>NaN</td>\n",
       "      <td>NaN</td>\n",
       "      <td>NaN</td>\n",
       "      <td>NaN</td>\n",
       "      <td>NaN</td>\n",
       "      <td>NaN</td>\n",
       "      <td>2.269451</td>\n",
       "      <td>NaN</td>\n",
       "    </tr>\n",
       "  </tbody>\n",
       "</table>\n",
       "<p>151 rows × 19 columns</p>\n",
       "</div>"
      ],
      "text/plain": [
       "      Cycle  6   Cycle  7    Cycle  8   Cycle  9   Cycle 10    Cycle 11  \\\n",
       "0          NaN   0.142960   12.181730  17.614669   5.996830    9.872369   \n",
       "1          NaN   1.559626   12.377861  18.123620   6.327206   10.017217   \n",
       "2          NaN   4.476293   12.970413  19.263206   6.890378   10.003731   \n",
       "3          NaN        NaN   12.967796  20.406593   7.466229   11.917665   \n",
       "4          NaN        NaN   12.842741  20.526852   7.410360   14.870622   \n",
       "5          NaN        NaN   14.036291  19.389870   7.286436   16.991077   \n",
       "6    49.982684        NaN   16.950899  19.720773   7.900414   19.141101   \n",
       "7    49.720730        NaN   20.370526  21.363850   9.275414   22.393028   \n",
       "8    48.098861        NaN   22.248423  22.395399  10.524100   26.159739   \n",
       "9    45.603822        NaN   22.865721  23.714912  11.112839   29.825062   \n",
       "10   42.284998        NaN   24.399055  24.262549  11.859748   33.486352   \n",
       "11   39.851405        NaN   29.654213  24.301997  14.481656   37.115384   \n",
       "12   39.983306        NaN   36.228438  26.046533  17.602176   41.623404   \n",
       "13   39.842185        NaN   40.392158  29.185469  19.853072   47.342445   \n",
       "14   38.689446        NaN   45.696797  33.262351  22.104416   53.918431   \n",
       "15   37.629541        NaN   53.075364  37.845683  25.971531   59.978288   \n",
       "16   38.320896  14.155881   63.104065  42.881496  31.831925   65.837159   \n",
       "17   39.627402  14.630773   74.195087  47.302090  36.554820   72.056230   \n",
       "18   39.012124  14.427373   83.907934  49.864688  40.795187   76.951376   \n",
       "19   38.474227  16.376177   91.721129  51.116567  45.175563   79.087577   \n",
       "20   38.931499  19.590462  100.348910  53.281728  49.351783   84.762756   \n",
       "21   38.920725  23.421018  111.761711  56.184355  55.653002   95.503213   \n",
       "22   39.537855  24.767852  122.996037  59.506443  61.941622  102.977541   \n",
       "23   38.535615  23.763298  134.106156  64.143201  65.114651  108.224853   \n",
       "24   36.091253  23.911446  144.470639  67.696359  68.383513  113.693670   \n",
       "25   35.313566  26.198724  155.548206  69.106686  73.367428  115.862756   \n",
       "26   34.625420  28.546804  165.870768  71.041799  79.138934  117.022120   \n",
       "27   32.658783  29.604295  173.208668  73.326914  85.162634  120.893849   \n",
       "28   30.176150  30.782587  176.193043  75.021572  92.154077  124.590086   \n",
       "29   27.492975  33.184128  178.725714  78.222683  97.787186  129.554275   \n",
       "..         ...        ...         ...        ...        ...         ...   \n",
       "121        NaN  15.400888         NaN  68.268862  43.304800   21.443638   \n",
       "122        NaN  13.742970         NaN  65.117940  39.939209   21.208513   \n",
       "123        NaN  13.520044         NaN  62.105709  36.826171   21.082258   \n",
       "124        NaN  13.191556         NaN  59.590790  35.456413   19.199194   \n",
       "125        NaN  12.553699         NaN  57.250870  33.986655   17.592483   \n",
       "126        NaN        NaN         NaN  53.599123  31.866359   17.164535   \n",
       "127        NaN        NaN         NaN  48.702618  28.475230   15.793433   \n",
       "128        NaN        NaN         NaN  45.084249  22.993088   13.614535   \n",
       "129        NaN        NaN         NaN  41.857008  18.795891   11.987026   \n",
       "130        NaN        NaN         NaN  39.456157  16.586393   11.042313   \n",
       "131        NaN        NaN         NaN  39.262295  14.796249   10.195539   \n",
       "132        NaN        NaN         NaN  38.875198  12.810273    8.951811   \n",
       "133        NaN        NaN         NaN  37.946051  11.278597    7.760503   \n",
       "134        NaN        NaN         NaN  36.996742  10.305479    6.673361   \n",
       "135        NaN        NaN         NaN  34.984735        NaN    5.863102   \n",
       "136        NaN        NaN         NaN  32.057405        NaN    5.591596   \n",
       "137        NaN        NaN         NaN  29.624520        NaN    5.007831   \n",
       "138        NaN        NaN         NaN  26.922817        NaN    4.042345   \n",
       "139        NaN        NaN         NaN  24.468516        NaN    3.924379   \n",
       "140        NaN        NaN         NaN  21.688140        NaN    4.107488   \n",
       "141        NaN        NaN         NaN  19.673893        NaN         NaN   \n",
       "142        NaN        NaN         NaN  17.536034        NaN         NaN   \n",
       "143        NaN        NaN         NaN  14.166993        NaN         NaN   \n",
       "144        NaN        NaN         NaN  11.762423        NaN         NaN   \n",
       "145        NaN        NaN         NaN  10.315917        NaN         NaN   \n",
       "146        NaN        NaN         NaN   8.458120        NaN         NaN   \n",
       "147        NaN        NaN         NaN   7.279357        NaN         NaN   \n",
       "148        NaN        NaN         NaN   6.725593        NaN         NaN   \n",
       "149        NaN        NaN         NaN        NaN        NaN         NaN   \n",
       "150        NaN        NaN         NaN        NaN        NaN         NaN   \n",
       "\n",
       "      Cycle 12    Cycle 13   Cycle 14   Cycle 15    Cycle 16    Cycle 17  \\\n",
       "0     3.750320    8.278578   4.473746   2.442358    9.361826    5.788582   \n",
       "1     4.151216    9.651920   4.574552   2.466455    9.507613    5.965867   \n",
       "2     5.411969   10.936374   5.148073   2.638402    9.766619    7.696915   \n",
       "3     6.210714   11.665719   6.507885   3.964119   11.349549    8.952963   \n",
       "4     7.034997   12.314913   7.828808   5.467256   13.599146    9.499334   \n",
       "5     8.434281   14.380197   8.352688   6.625947   16.336646   10.504711   \n",
       "6     9.531144   16.237148   8.618817   7.677112   19.350087   10.992883   \n",
       "7    11.603725   17.915329   9.994201   8.455338   21.478805   11.107399   \n",
       "8    15.059334   21.753456  11.253994   9.779621   23.266126   11.858026   \n",
       "9    18.248813   27.536028  13.143152  10.935893   25.095113   13.471557   \n",
       "10   20.504235   34.073976  15.775589  12.378277   26.912004   15.583116   \n",
       "11   22.883312   39.056503  17.627471  14.756144   28.209047   17.526184   \n",
       "12   26.383222   43.306637  20.529083  17.452381   29.809660   19.713876   \n",
       "13   29.420767   48.660266  24.240105  21.606663   32.188498   21.082917   \n",
       "14   33.017541   53.713895  26.327291  26.833525   34.730210   21.668356   \n",
       "15   39.782326   57.676126  28.137596  30.978642   37.679179   24.896851   \n",
       "16   46.084745   63.254083  32.081234  34.575371   40.839260   29.320238   \n",
       "17   49.439943   70.829826  37.557130  40.492934   43.187513   32.548733   \n",
       "18   52.209118   77.296697  42.269496  49.077163   45.203642   36.703840   \n",
       "19   54.612344   83.457718  44.398932  57.972325   48.934018   42.645238   \n",
       "20   57.266998   89.542127  46.557938  64.819368   54.396921   49.800525   \n",
       "21   61.304717   94.170980  49.372588  70.513185   59.930658   56.855005   \n",
       "22   65.775998   97.356285  52.269228  75.475058   68.139126   63.119790   \n",
       "23   69.404538  103.336123  55.770035  78.135855   78.452298   69.925388   \n",
       "24   72.627522  108.705658  59.124336  80.521608   86.303728   77.412437   \n",
       "25   78.273893  110.639708  62.749336  82.982209   92.639030   85.511137   \n",
       "26   82.800774  113.579313  66.114479  85.854100   96.198438   91.760376   \n",
       "27   82.614619  118.406016  68.499784  89.929235   98.150320   95.347114   \n",
       "28   83.201312  122.012199  69.112866  94.919692  101.439702   98.314229   \n",
       "29   86.364395  122.235036  69.282400  97.712926  104.203546  103.540035   \n",
       "..         ...         ...        ...        ...         ...         ...   \n",
       "121   9.224648   17.690227   5.072939        NaN         NaN   17.990964   \n",
       "122  10.907444   17.457028   5.198297        NaN         NaN   15.383302   \n",
       "123  11.988492   16.515495   5.717473        NaN         NaN   14.383974   \n",
       "124  11.834325   15.166033   5.639427        NaN         NaN   13.631958   \n",
       "125  11.102381   13.746198   5.717294        NaN         NaN         NaN   \n",
       "126  10.374469   12.673137   6.146057        NaN         NaN         NaN   \n",
       "127  10.691673   11.267537   6.485247        NaN         NaN         NaN   \n",
       "128  10.458714    9.805485   6.374168        NaN         NaN         NaN   \n",
       "129   9.802368    9.022600   5.813684        NaN         NaN         NaN   \n",
       "130   9.497709    8.054231   5.254544        NaN         NaN         NaN   \n",
       "131   9.468587    7.296166   4.656516        NaN         NaN         NaN   \n",
       "132   9.276965    6.531471   4.284293        NaN         NaN         NaN   \n",
       "133   9.067870    5.352797   4.196928        NaN         NaN         NaN   \n",
       "134   8.377010    4.665790   3.610951        NaN         NaN         NaN   \n",
       "135        NaN    4.598406   2.926856        NaN         NaN         NaN   \n",
       "136        NaN    4.949213   2.794150        NaN         NaN         NaN   \n",
       "137        NaN    5.152026   2.583487        NaN         NaN         NaN   \n",
       "138        NaN    5.537634        NaN        NaN         NaN         NaN   \n",
       "139        NaN    6.091398        NaN        NaN         NaN         NaN   \n",
       "140        NaN    5.577957        NaN        NaN         NaN         NaN   \n",
       "141        NaN    4.761738        NaN        NaN         NaN         NaN   \n",
       "142        NaN         NaN        NaN        NaN         NaN         NaN   \n",
       "143        NaN         NaN        NaN        NaN         NaN         NaN   \n",
       "144        NaN         NaN        NaN        NaN         NaN         NaN   \n",
       "145        NaN         NaN        NaN        NaN         NaN         NaN   \n",
       "146        NaN         NaN        NaN        NaN         NaN         NaN   \n",
       "147        NaN         NaN        NaN        NaN         NaN         NaN   \n",
       "148        NaN         NaN        NaN        NaN         NaN         NaN   \n",
       "149        NaN         NaN        NaN        NaN         NaN         NaN   \n",
       "150        NaN         NaN        NaN        NaN         NaN         NaN   \n",
       "\n",
       "       Cycle 18    Cycle 19    Cycle 20    Cycle 21    Cycle 22   Cycle 23  \\\n",
       "0     12.883302    5.095942   14.236578   17.792240   13.520373  11.171047   \n",
       "1     12.990829    5.473496   14.968164   18.450349   14.651555  11.590357   \n",
       "2     13.911528    6.232770   16.217806   18.289014   16.593222  11.306754   \n",
       "3     14.578060    7.915566   17.146211   17.901872   18.309889  11.198718   \n",
       "4     15.282227   10.506052   17.648899   18.846765   19.904243  11.315143   \n",
       "5     16.977120   11.364010   18.356516   20.460815   22.324942  11.970027   \n",
       "6     18.854791   11.582783   19.916283   20.808737   25.456842  13.387007   \n",
       "7     20.438108   13.827093   21.237161   19.691308   27.973150  14.305376   \n",
       "8     23.377535   17.364459   21.834921   19.708289   30.336681  14.527509   \n",
       "9     27.537391   20.520104   22.566103   21.614158   32.702899  15.239875   \n",
       "10    31.658359   23.701555   23.792582   24.307661   36.202899  18.270385   \n",
       "11    36.431208   28.031528   25.184383   26.248522   40.483434  21.971595   \n",
       "12    39.670456   33.491878   28.423406   28.802823   45.311012  24.372805   \n",
       "13    41.736854   41.217505   32.111354   31.916263   51.001559  27.165143   \n",
       "14    46.773682   49.986143   35.197913   34.667204   55.076514  30.440681   \n",
       "15    52.821621   56.998240   39.668881   37.699059   60.932025  33.620308   \n",
       "16    55.197517   66.016469   44.762967   41.404704   69.212267  38.166871   \n",
       "17    57.151818   78.771258   49.179141   47.621054   76.908503  43.061450   \n",
       "18    64.281810   91.299887   53.290207   55.732565   84.909220  47.068932   \n",
       "19    73.216910  103.483086   57.880440   64.800128   92.975797  52.001414   \n",
       "20    80.076811  114.816285   63.431695   73.647261  101.350708  58.400294   \n",
       "21    86.884293  125.834968   71.423630   80.722171  114.268629  65.448682   \n",
       "22    93.257053  139.447871   80.341593   86.922081  128.506532  72.017633   \n",
       "23   100.965835  154.730980   89.478642   91.442243  141.124999  76.933359   \n",
       "24   111.726587  168.129681   95.787020   98.638882  151.224648  80.790751   \n",
       "25   121.511892  180.450604   99.442172  108.987404  156.918868  85.398144   \n",
       "26   127.981336  193.864269  103.026491  117.822037  164.367121  89.779864   \n",
       "27   135.717448  206.060505  106.233122  126.549142  176.097318  93.499430   \n",
       "28   147.668612  211.826838  111.581240  137.994035  184.822139  96.388351   \n",
       "29   157.733129  214.492364  116.444950  147.341385  190.725365  98.244534   \n",
       "..          ...         ...         ...         ...         ...        ...   \n",
       "121    6.241999   15.948481   39.296333   15.118491         NaN  26.158090   \n",
       "122         NaN   15.025677   36.048035   15.771045         NaN  24.967230   \n",
       "123         NaN   15.158741   32.986566   15.247523         NaN  25.845110   \n",
       "124         NaN   15.087243   31.740598   15.121179         NaN  25.954173   \n",
       "125         NaN   14.624616   30.574155   14.393356         NaN  23.665419   \n",
       "126         NaN         NaN   26.806906         NaN         NaN  21.060804   \n",
       "127         NaN         NaN   24.241046         NaN         NaN  20.192300   \n",
       "128         NaN         NaN   23.156368         NaN         NaN  19.766001   \n",
       "129         NaN         NaN   21.761207         NaN         NaN  19.013313   \n",
       "130         NaN         NaN   20.691128         NaN         NaN  17.735535   \n",
       "131         NaN         NaN   20.872392         NaN         NaN  16.359639   \n",
       "132         NaN         NaN   22.299363         NaN         NaN  14.433743   \n",
       "133         NaN         NaN   23.333862         NaN         NaN  12.854621   \n",
       "134         NaN         NaN   23.598915         NaN         NaN  11.597901   \n",
       "135         NaN         NaN   22.088432         NaN         NaN   9.902253   \n",
       "136         NaN         NaN   19.167733         NaN         NaN   9.601767   \n",
       "137         NaN         NaN         NaN         NaN         NaN   9.873497   \n",
       "138         NaN         NaN         NaN         NaN         NaN   9.173452   \n",
       "139         NaN         NaN         NaN         NaN         NaN   7.876185   \n",
       "140         NaN         NaN         NaN         NaN         NaN   6.599079   \n",
       "141         NaN         NaN         NaN         NaN         NaN   5.601767   \n",
       "142         NaN         NaN         NaN         NaN         NaN   5.088506   \n",
       "143         NaN         NaN         NaN         NaN         NaN   5.079276   \n",
       "144         NaN         NaN         NaN         NaN         NaN   5.347825   \n",
       "145         NaN         NaN         NaN         NaN         NaN   4.828739   \n",
       "146         NaN         NaN         NaN         NaN         NaN   4.034384   \n",
       "147         NaN         NaN         NaN         NaN         NaN   3.847303   \n",
       "148         NaN         NaN         NaN         NaN         NaN   3.156189   \n",
       "149         NaN         NaN         NaN         NaN         NaN   2.436610   \n",
       "150         NaN         NaN         NaN         NaN         NaN   2.269451   \n",
       "\n",
       "      Cycle 24  \n",
       "0     2.248125  \n",
       "1     2.499648  \n",
       "2     2.690508  \n",
       "3     2.924290  \n",
       "4     3.318017  \n",
       "5     3.474245  \n",
       "6     4.121064  \n",
       "7     5.513537  \n",
       "8     7.407306  \n",
       "9     9.517473  \n",
       "10   10.869803  \n",
       "11   11.707348  \n",
       "12   12.685170  \n",
       "13   14.027240  \n",
       "14   16.083692  \n",
       "15   18.538351  \n",
       "16   20.839785  \n",
       "17   23.067608  \n",
       "18   24.556183  \n",
       "19   25.226882  \n",
       "20   26.379243  \n",
       "21   29.481874  \n",
       "22   34.498989  \n",
       "23   39.083308  \n",
       "24   42.481516  \n",
       "25   45.671390  \n",
       "26   48.816551  \n",
       "27   53.814894  \n",
       "28   61.139849  \n",
       "29   69.337026  \n",
       "..         ...  \n",
       "121        NaN  \n",
       "122        NaN  \n",
       "123        NaN  \n",
       "124        NaN  \n",
       "125        NaN  \n",
       "126        NaN  \n",
       "127        NaN  \n",
       "128        NaN  \n",
       "129        NaN  \n",
       "130        NaN  \n",
       "131        NaN  \n",
       "132        NaN  \n",
       "133        NaN  \n",
       "134        NaN  \n",
       "135        NaN  \n",
       "136        NaN  \n",
       "137        NaN  \n",
       "138        NaN  \n",
       "139        NaN  \n",
       "140        NaN  \n",
       "141        NaN  \n",
       "142        NaN  \n",
       "143        NaN  \n",
       "144        NaN  \n",
       "145        NaN  \n",
       "146        NaN  \n",
       "147        NaN  \n",
       "148        NaN  \n",
       "149        NaN  \n",
       "150        NaN  \n",
       "\n",
       "[151 rows x 19 columns]"
      ]
     },
     "execution_count": 21,
     "metadata": {},
     "output_type": "execute_result"
    }
   ],
   "source": [
    "minima = list(\n",
    "        zip(*map(lambda x: (x, smooth['Smooth SN mean'][x]),\n",
    "                 map(lambda x: Timestamp(*x),\n",
    "                     map(lambda x: list(map(int, x)) + [1],\n",
    "                         map(lambda x: x[1].split('-'),\n",
    "                             map(lambda x: x.split(' '),\n",
    "                                 filter(lambda x: x not in w_minima_selector.value,\n",
    "                                        w_minima_selector.options))))))))\n",
    "\n",
    "stops = [smooth.index[0]] + list(minima[0])\n",
    "lengths = diff(array(list(map(smooth.index.get_loc, stops))))\n",
    "maxlength = max(lengths)\n",
    "\n",
    "headers = []\n",
    "lcycles = []\n",
    "dfcycles = ones((len(stops), maxlength))*nan\n",
    "\n",
    "for i in range(len(stops)):\n",
    "    h = \"Cycle {0:>2d}\".format(i+6)\n",
    "    \n",
    "    if i == len(stops) - 1:\n",
    "        c = smooth[stops[i]:]\n",
    "    else:\n",
    "        c = smooth[stops[i]:stops[i+1]-Timedelta(1, 'd')]\n",
    "    \n",
    "    c.columns = [h]\n",
    "    v = c[h].values\n",
    "    l = len(v)\n",
    "    \n",
    "    lcycles.append(c)\n",
    "    headers.append(h)\n",
    "    dfcycles[i][:l] = v\n",
    "\n",
    "dfcycles = DataFrame(OrderedDict(zip(headers, dfcycles)))\n",
    "dfcycles"
   ]
  },
  {
   "cell_type": "markdown",
   "metadata": {},
   "source": [
    "#### 3.3.2 Gráfico interactivo para la seleción de ciclos"
   ]
  },
  {
   "cell_type": "code",
   "execution_count": 20,
   "metadata": {},
   "outputs": [
    {
     "data": {
      "application/vnd.jupyter.widget-view+json": {
       "model_id": "ce075df295c54ab59ea4be7f25cd84bd",
       "version_major": 2,
       "version_minor": 0
      },
      "text/plain": [
       "VBox(children=(Label(value='Selecione los ciclos que desea eliminar.'), Label(value='Ciclos solares'), SelectM…"
      ]
     },
     "metadata": {},
     "output_type": "display_data"
    },
    {
     "data": {
      "application/vnd.jupyter.widget-view+json": {
       "model_id": "37ac8bcdd2c24addb305d7b66f449d6f",
       "version_major": 2,
       "version_minor": 0
      },
      "text/plain": [
       "FigureCanvasNbAgg()"
      ]
     },
     "metadata": {},
     "output_type": "display_data"
    }
   ],
   "source": [
    "deleted_cycles = []\n",
    "\n",
    "w_cycles_label = Label(value=\"Ciclos solares\")\n",
    "# w_cycles_label.layout.width = '100%'\n",
    "\n",
    "w_cycles_selector = SelectMultiple(\n",
    "    options=headers,\n",
    "    value=headers[0:3]\n",
    "    \n",
    ")\n",
    "\n",
    "w_cycles_clean = Button(description='Limpiar seleción de ciclos')\n",
    "w_cycles_clean.layout.margin = '5px 2px 0'\n",
    "w_cycles_clean.layout.width = '300px'\n",
    "\n",
    "w_cycles_delete = Button(description='Eliminar ciclos selecionados', button_style='warning')\n",
    "w_cycles_delete.layout.margin = '5px 2px 0'\n",
    "w_cycles_delete.layout.width = '300px'\n",
    "\n",
    "w_message = Label(value=\"Selecione los ciclos que desea eliminar.\")\n",
    "w_message.layout.maxWidth = ''\n",
    "\n",
    "wc_cycles = VBox([w_message, w_cycles_label, w_cycles_selector, w_cycles_clean,  w_cycles_delete])\n",
    "\n",
    "def select_cycles(*args):\n",
    "    w_cycles_delete.button_style = 'warning'\n",
    "    deleted_cycles = list(w_cycles_selector.value)\n",
    "    \n",
    "    if headers[-1] not in deleted_cycles:\n",
    "        w_cycles_selector.value = deleted_cycles + [headers[-1]]\n",
    "    \n",
    "def plot_cycles(*args):\n",
    "    deleted_cycles = w_cycles_selector.value\n",
    "    \n",
    "    fig = figure(7, figsize=(8.5, 3), frameon=False)\n",
    "    fig.clf()\n",
    "    axs = fig.add_subplot('111')\n",
    "\n",
    "    for cycle in lcycles:\n",
    "        if cycle.columns[0] in deleted_cycles or cycle.columns[0] == headers[-1]:\n",
    "            color = '#9e9e9e' \n",
    "        else:\n",
    "            color='#2196f3'\n",
    "            \n",
    "        gsmooth, = axs.plot(\n",
    "            cycle,\n",
    "            color=color,\n",
    "            linewidth=1\n",
    "        )\n",
    "        \n",
    "    util_cyles = Line2D([], [], color='#2196f3', label=r'$\\mathrm{Ciclos\\ \\acute{u}tiles}$')\n",
    "    no_util_cyles = Line2D([], [], color='#9e9e9e', label=r'$\\mathrm{Ciclos\\ descartados}$')\n",
    "\n",
    "    axs.legend(\n",
    "        handles=[util_cyles, no_util_cyles],\n",
    "        loc='upper left',\n",
    "        ncol=2,\n",
    "        borderaxespad=0.0,\n",
    "        prop=font_legend)\n",
    "            \n",
    "    axs.set_xlim([smooth.index[0], smooth.index[-1]])\n",
    "    axs.set_xlabel(r'$\\mathrm{Fecha}$', fontproperties=font_ticks)\n",
    "    axs.set_ylim([0, ceil(nanmax(smooth['Smooth SN mean'].values)/100.0)*100])\n",
    "    axs.set_ylabel(r'$\\mathrm{SN\\ (Promedio\\ Suaviado)}$', fontproperties=font_ticks)\n",
    "    fig.tight_layout()\n",
    "    show()\n",
    "\n",
    "\n",
    "def reset_cycles(*args):\n",
    "    global dfcycles\n",
    "    \n",
    "    if list(dfcycles.columns.values) != headers:\n",
    "        dfcycles = ones((len(stops), maxlength))*nan\n",
    "\n",
    "        for i in range(len(stops)):\n",
    "            h = \"Cycle {0:>2d}\".format(i+6)\n",
    "\n",
    "            if i == len(stops) - 1:\n",
    "                c = smooth[stops[i]:]\n",
    "            else:\n",
    "                c = smooth[stops[i]:stops[i+1]-Timedelta(1, 'd')]\n",
    "            \n",
    "            c.columns = [h]\n",
    "            v = c[h].values\n",
    "            l = len(v)\n",
    "\n",
    "            dfcycles[i][:l] = v\n",
    "\n",
    "        dfcycles = DataFrame(OrderedDict(zip(headers, dfcycles)))\n",
    "\n",
    "def clean_cycles(*args):\n",
    "    w_cycles_selector.value = [headers[-1]]\n",
    "\n",
    "def delete_cycles(*args):\n",
    "    global dfcycles\n",
    "    \n",
    "    deleted_cycles = w_cycles_selector.value\n",
    "    \n",
    "    for header in deleted_cycles:\n",
    "        if header in dfcycles.columns:\n",
    "            dfcycles.drop(header, axis=1, inplace=True)\n",
    "    \n",
    "    w_cycles_delete.button_style = 'success'\n",
    "    \n",
    "w_cycles_selector.observe(select_cycles, 'value')\n",
    "w_cycles_selector.observe(plot_cycles, 'value')\n",
    "\n",
    "w_cycles_clean.on_click(clean_cycles)\n",
    "w_cycles_delete.on_click(delete_cycles)\n",
    "\n",
    "\n",
    "wc_cycles.on_displayed(reset_cycles)\n",
    "wc_cycles.on_displayed(select_cycles)\n",
    "wc_cycles.on_displayed(plot_cycles)\n",
    "\n",
    "display(wc_cycles)"
   ]
  },
  {
   "cell_type": "markdown",
   "metadata": {},
   "source": [
    "#### 3.3.2 Construcción del ciclo pormedio"
   ]
  },
  {
   "cell_type": "code",
   "execution_count": null,
   "metadata": {},
   "outputs": [],
   "source": [
    "dfcycles"
   ]
  },
  {
   "cell_type": "code",
   "execution_count": null,
   "metadata": {
    "collapsed": true
   },
   "outputs": [],
   "source": [
    "average_cycle = dfcycles.mean(axis=1, skipna=True)\n",
    "average_cycle"
   ]
  },
  {
   "cell_type": "code",
   "execution_count": null,
   "metadata": {},
   "outputs": [],
   "source": [
    "std_cycle = dfcycles.std(axis=1, skipna=True)\n",
    "std_cycle"
   ]
  },
  {
   "cell_type": "code",
   "execution_count": null,
   "metadata": {},
   "outputs": [],
   "source": [
    "numerator = dfcycles.subtract(average_cycle, axis='index')\n",
    "\n",
    "# numerator = numerator.values # .transpose()\n",
    "# numerator = numerator*concatenate((numerator[:, 1:], zeros((len(numerator), 1))), axis=1)\n",
    "# numerator = DataFrame(data=dfcycles, columns=dfcycles.columns)\n",
    "# numerator = sum(numerator, 1)\n",
    "numerator"
   ]
  },
  {
   "cell_type": "code",
   "execution_count": null,
   "metadata": {},
   "outputs": [],
   "source": [
    "denominator = dfcycles.subtract(average_cycle, axis='index').pow(2)  # (dfcycles - average_cycle)**2\n",
    "denominator = sum(denominator, 1)\n",
    "denominator"
   ]
  },
  {
   "cell_type": "code",
   "execution_count": null,
   "metadata": {},
   "outputs": [],
   "source": [
    "regression_coef = numerator/denominator\n",
    "regression_coef"
   ]
  },
  {
   "cell_type": "code",
   "execution_count": null,
   "metadata": {},
   "outputs": [],
   "source": [
    "std_cycle = std(dfcycles, 0)\n",
    "Numerator = (CyclesData - SSNAverageCycleData)\n",
    "Numerator = Numerator*concatenate((Numerator[:, 1:], zeros((len(Numerator), 1))), axis=1)\n",
    "Numerator = sum(Numerator, 0)\n",
    "Denominator = (CyclesData - SSNAverageCycleData)**2\n",
    "Denominator = sum(Denominator, 0)\n",
    "\n",
    "SSNAverageCycleRgCf = Numerator/Denominator\n",
    "\n",
    "FileName = PrefixID + \"mean_cycle.dat\"\n",
    "DataFile = open(FileName, \"w\")\n",
    "DataFile.write(\"#     Time    mean SSN     std SSN    Regresion\\n\")\n",
    "DataFile.write(\"# (months)       cycle       cycle   Coeficient\\n\")\n",
    "\n",
    "DataStr = \"       {0:>3d}    {1:>8.2f}    {2:>8.2f}     {3:>8.2f}\\n\"\n",
    "\n",
    "for (Indx, (Data, StDv, RgCf)) in enumerate(zip(SSNAverageCycleData,\n",
    "                                                SSNAverageCycleStDv,\n",
    "                                                SSNAverageCycleRgCf)):\n",
    "    DataFile.write(DataStr.format(Indx,\n",
    "                                  Data,\n",
    "                                  StDv,\n",
    "                                  RgCf))\n",
    "\n",
    "DataFile.close()"
   ]
  },
  {
   "cell_type": "code",
   "execution_count": null,
   "metadata": {},
   "outputs": [],
   "source": []
  },
  {
   "cell_type": "code",
   "execution_count": null,
   "metadata": {},
   "outputs": [],
   "source": []
  }
 ],
 "metadata": {
  "kernelspec": {
   "display_name": "Python 3",
   "language": "python",
   "name": "python3"
  },
  "language_info": {
   "codemirror_mode": {
    "name": "ipython",
    "version": 3
   },
   "file_extension": ".py",
   "mimetype": "text/x-python",
   "name": "python",
   "nbconvert_exporter": "python",
   "pygments_lexer": "ipython3",
   "version": "3.6.7"
  },
  "notify_time": "30",
  "toc": {
   "nav_menu": {
    "height": "226px",
    "width": "762px"
   },
   "number_sections": true,
   "sideBar": true,
   "skip_h1_title": false,
   "toc_cell": false,
   "toc_position": {},
   "toc_section_display": "block",
   "toc_window_display": false
  },
  "toc-autonumbering": false,
  "toc-showcode": false,
  "toc-showmarkdowntxt": false,
  "varInspector": {
   "cols": {
    "lenName": 16,
    "lenType": 16,
    "lenVar": 40
   },
   "kernels_config": {
    "python": {
     "delete_cmd_postfix": "",
     "delete_cmd_prefix": "del ",
     "library": "var_list.py",
     "varRefreshCmd": "print(var_dic_list())"
    },
    "r": {
     "delete_cmd_postfix": ") ",
     "delete_cmd_prefix": "rm(",
     "library": "var_list.r",
     "varRefreshCmd": "cat(var_dic_list()) "
    }
   },
   "position": {
    "height": "263px",
    "left": "386px",
    "right": "311px",
    "top": "177px",
    "width": "669px"
   },
   "types_to_exclude": [
    "module",
    "function",
    "builtin_function_or_method",
    "instance",
    "_Feature"
   ],
   "window_display": false
  },
  "widgets": {
   "application/vnd.jupyter.widget-state+json": {
    "state": {
     "000cd2fdb0f14a3ab6413cf4fe3cefad": {
      "model_module": "jupyter-js-widgets",
      "model_module_version": "~2.1.4",
      "model_name": "VBoxModel",
      "state": {
       "_model_module_version": "~2.1.4",
       "_view_module_version": "~2.1.4",
       "children": [
        "IPY_MODEL_db64a43b87244400b405df9e7bcb6996",
        "IPY_MODEL_4b45677ab5bf4c8194b6c1066b055e07",
        "IPY_MODEL_fc7833ba9f644e639974d6f703e16abd"
       ],
       "layout": "IPY_MODEL_9a4c2f5ee18e43cfa809e7030d6ef116"
      }
     },
     "00265e4202c647b9857c8e341823cf11": {
      "model_module": "jupyter-js-widgets",
      "model_module_version": "~2.1.4",
      "model_name": "LayoutModel",
      "state": {
       "_model_module_version": "~2.1.4",
       "_view_module_version": "~2.1.4"
      }
     },
     "003fe4f9ac2148f1a4ead695d5fab78e": {
      "model_module": "jupyter-js-widgets",
      "model_module_version": "~2.1.4",
      "model_name": "SelectMultipleModel",
      "state": {
       "_model_module_version": "~2.1.4",
       "_options_labels": [
        "Cycle  6",
        "Cycle  7",
        "Cycle  8",
        "Cycle  9",
        "Cycle 10",
        "Cycle 11",
        "Cycle 12",
        "Cycle 13",
        "Cycle 14",
        "Cycle 15",
        "Cycle 16",
        "Cycle 17",
        "Cycle 18",
        "Cycle 19",
        "Cycle 20",
        "Cycle 21",
        "Cycle 22",
        "Cycle 23",
        "Cycle 24"
       ],
       "_view_module_version": "~2.1.4",
       "layout": "IPY_MODEL_8814c632ed244f8cab70d3ed596ed1b0",
       "value": [
        "Cycle  6"
       ]
      }
     },
     "004e7ae514924d5996e3479fb06cbc50": {
      "model_module": "jupyter-js-widgets",
      "model_module_version": "~2.1.4",
      "model_name": "LabelModel",
      "state": {
       "_model_module_version": "~2.1.4",
       "_view_module_version": "~2.1.4",
       "layout": "IPY_MODEL_ce4e48c7aeb841c88796d996e1371a4e",
       "value": "Máximos"
      }
     },
     "00814777ae40455fa66ca332a762dad4": {
      "model_module": "jupyter-js-widgets",
      "model_module_version": "~2.1.4",
      "model_name": "LayoutModel",
      "state": {
       "_model_module_version": "~2.1.4",
       "_view_module_version": "~2.1.4"
      }
     },
     "0082726daa25407faf98785ad679eff1": {
      "model_module": "jupyter-js-widgets",
      "model_module_version": "~2.1.4",
      "model_name": "LayoutModel",
      "state": {
       "_model_module_version": "~2.1.4",
       "_view_module_version": "~2.1.4",
       "margin": "5px 2px 0",
       "width": "300px"
      }
     },
     "0084fe9ee3ba41c3a57fff1b327948e2": {
      "model_module": "jupyter-js-widgets",
      "model_module_version": "~2.1.4",
      "model_name": "SelectMultipleModel",
      "state": {
       "_model_module_version": "~2.1.4",
       "_options_labels": [
        "01: 1829-11 (119.247)",
        "02: 1837-03 (244.868)",
        "03: 1848-02 (219.938)",
        "04: 1860-02 (186.154)",
        "05: 1870-08 (234.021)",
        "06: 1883-12 (124.408)",
        "07: 1894-01 (146.535)",
        "08: 1906-02 (107.068)",
        "09: 1917-08 (175.675)",
        "10: 1928-04 (130.228)",
        "11: 1937-04 (198.636)",
        "12: 1947-05 (218.737)",
        "13: 1958-03 (284.998)",
        "14: 1968-11 (156.632)",
        "15: 1979-12 (232.912)",
        "16: 1989-11 (212.480)",
        "17: 2001-11 (180.273)",
        "18: 2014-04 (116.407)"
       ],
       "_view_module_version": "~2.1.4",
       "layout": "IPY_MODEL_c7e5398a4acb464fa36da8fcb7ea0d7d",
       "value": []
      }
     },
     "010c85ff88c84e5d8806ddf1b5adf21f": {
      "model_module": "jupyter-js-widgets",
      "model_module_version": "~2.1.4",
      "model_name": "LayoutModel",
      "state": {
       "_model_module_version": "~2.1.4",
       "_view_module_version": "~2.1.4"
      }
     },
     "0131197bfb7f4ecfa586ed44ded8b0aa": {
      "model_module": "jupyter-js-widgets",
      "model_module_version": "~2.1.4",
      "model_name": "LayoutModel",
      "state": {
       "_model_module_version": "~2.1.4",
       "_view_module_version": "~2.1.4",
       "margin": "5px 2px 0",
       "width": "300px"
      }
     },
     "01330656fb17483cb09fef6e074c354f": {
      "model_module": "jupyter-js-widgets",
      "model_module_version": "~2.1.4",
      "model_name": "HBoxModel",
      "state": {
       "_model_module_version": "~2.1.4",
       "_view_module_version": "~2.1.4",
       "children": [
        "IPY_MODEL_fd501b05dce942529270b5a3ec45a125",
        "IPY_MODEL_6818624906754ce2b7779c85f52dc82c"
       ],
       "layout": "IPY_MODEL_518d3d11d6c94f2da0376714213f22f5"
      }
     },
     "0143fde605c344eeb9e0cac34d37b93f": {
      "model_module": "jupyter-js-widgets",
      "model_module_version": "~2.1.4",
      "model_name": "LayoutModel",
      "state": {
       "_model_module_version": "~2.1.4",
       "_view_module_version": "~2.1.4"
      }
     },
     "0191aab326164589b62c97d9a5b761a7": {
      "model_module": "jupyter-js-widgets",
      "model_module_version": "~2.1.4",
      "model_name": "ButtonModel",
      "state": {
       "_model_module_version": "~2.1.4",
       "_view_module_version": "~2.1.4",
       "description": "Limpiar seleción de ciclos",
       "layout": "IPY_MODEL_387216e4a5d84341a6d3a07eb2188515",
       "style": "IPY_MODEL_bbecaa3da6de4228b58a0c2e7149bf92"
      }
     },
     "01c3b1aa657448cd9f897e8b4a9d38a1": {
      "model_module": "jupyter-js-widgets",
      "model_module_version": "~2.1.4",
      "model_name": "VBoxModel",
      "state": {
       "_model_module_version": "~2.1.4",
       "_view_module_version": "~2.1.4",
       "children": [
        "IPY_MODEL_f5903f15198f4ca4b0d77c8fc29b7cdf",
        "IPY_MODEL_fff45f6f73384de699a9fd42e179468c",
        "IPY_MODEL_1832dd64a8914606986e26395cce285a",
        "IPY_MODEL_9ff7eaba6e424ac59dd75c5a2715bb8c",
        "IPY_MODEL_c36e7b10b6e4432e888142c07ee25626"
       ],
       "layout": "IPY_MODEL_4eb890009ed7483381dd250c87f06001"
      }
     },
     "01c911b4c85a43c09ad29b945ab518a7": {
      "model_module": "jupyter-js-widgets",
      "model_module_version": "~2.1.4",
      "model_name": "OutputModel",
      "state": {
       "_dom_classes": [],
       "_model_module": "jupyter-js-widgets",
       "_model_module_version": "~2.1.4",
       "_view_module": "jupyter-js-widgets",
       "_view_module_version": "~2.1.4",
       "layout": "IPY_MODEL_6fc9fd694d5f4813945a599b08d98eb6",
       "msg_throttle": 1
      }
     },
     "01ee080a11b041819b327ef6b6a18103": {
      "model_module": "jupyter-js-widgets",
      "model_module_version": "~2.1.4",
      "model_name": "ButtonModel",
      "state": {
       "_model_module_version": "~2.1.4",
       "_view_module_version": "~2.1.4",
       "description": "Eliminar ciclos selecionados",
       "layout": "IPY_MODEL_53c79be8f1754609afce60e32655dfe1",
       "style": "IPY_MODEL_72bd601994a0483793f09994880ddbfa"
      }
     },
     "01f700b176a744ebb72143736fb81a1d": {
      "model_module": "jupyter-js-widgets",
      "model_module_version": "~2.1.4",
      "model_name": "VBoxModel",
      "state": {
       "_model_module_version": "~2.1.4",
       "_view_module_version": "~2.1.4",
       "children": [
        "IPY_MODEL_4ef5c9911e08469fbefeb97d628a31b1",
        "IPY_MODEL_fbc59bbdfd0048a3923c250195a11e00",
        "IPY_MODEL_aaef41f8586848029261ff10e2306408"
       ],
       "layout": "IPY_MODEL_07f45e4563974671b719f455e643e733"
      }
     },
     "02041d8d2a4442be9448eae68c0b8617": {
      "model_module": "jupyter-js-widgets",
      "model_module_version": "~2.1.4",
      "model_name": "LayoutModel",
      "state": {
       "_model_module_version": "~2.1.4",
       "_view_module_version": "~2.1.4",
       "margin": "5px 2px 0",
       "width": "300px"
      }
     },
     "02048ac03e834811a7921356e0937922": {
      "model_module": "jupyter-js-widgets",
      "model_module_version": "~2.1.4",
      "model_name": "LayoutModel",
      "state": {
       "_model_module_version": "~2.1.4",
       "_view_module_version": "~2.1.4",
       "width": "100%"
      }
     },
     "022bc77633a34c4eb38c7c1d84fae510": {
      "model_module": "jupyter-js-widgets",
      "model_module_version": "~2.1.4",
      "model_name": "LabelModel",
      "state": {
       "_model_module_version": "~2.1.4",
       "_view_module_version": "~2.1.4",
       "layout": "IPY_MODEL_866bea700001412d828c6bc1a97bdf9f",
       "value": "Máximos"
      }
     },
     "023f151360954f349ac6855607485edf": {
      "model_module": "jupyter-js-widgets",
      "model_module_version": "~2.1.4",
      "model_name": "LayoutModel",
      "state": {
       "_model_module_version": "~2.1.4",
       "_view_module_version": "~2.1.4",
       "margin": "5px 2px 0",
       "width": "300px"
      }
     },
     "0248c9551e594b669432c1833697e5ff": {
      "model_module": "jupyter-js-widgets",
      "model_module_version": "~2.1.4",
      "model_name": "SelectMultipleModel",
      "state": {
       "_model_module_version": "~2.1.4",
       "_options_labels": [
        "Cycle  6",
        "Cycle  7",
        "Cycle  8",
        "Cycle  9",
        "Cycle 10",
        "Cycle 11",
        "Cycle 12",
        "Cycle 13",
        "Cycle 14",
        "Cycle 15",
        "Cycle 16",
        "Cycle 17",
        "Cycle 18",
        "Cycle 19",
        "Cycle 20",
        "Cycle 21",
        "Cycle 22",
        "Cycle 23",
        "Cycle 24"
       ],
       "_view_module_version": "~2.1.4",
       "layout": "IPY_MODEL_ef29e547cb9c482185c643c3979abcd8",
       "value": [
        "Cycle  6",
        "Cycle  7",
        "Cycle  8",
        "Cycle 24"
       ]
      }
     },
     "0323dc11664940a1a631070ede40aa42": {
      "model_module": "jupyter-js-widgets",
      "model_module_version": "~2.1.4",
      "model_name": "SelectMultipleModel",
      "state": {
       "_model_module_version": "~2.1.4",
       "_options_labels": [
        "Cycle  6",
        "Cycle  7",
        "Cycle  8",
        "Cycle  9",
        "Cycle 10",
        "Cycle 11",
        "Cycle 12",
        "Cycle 13",
        "Cycle 14",
        "Cycle 15",
        "Cycle 16",
        "Cycle 17",
        "Cycle 18",
        "Cycle 19",
        "Cycle 20",
        "Cycle 21",
        "Cycle 22",
        "Cycle 23",
        "Cycle 24"
       ],
       "_view_module_version": "~2.1.4",
       "layout": "IPY_MODEL_2cb51e1e2ef74932bf304d24e7b7b54b",
       "value": [
        "Cycle  6",
        "Cycle  7",
        "Cycle  8"
       ]
      }
     },
     "033d950fe7b04e7e980f0cc5f74aefac": {
      "model_module": "jupyter-js-widgets",
      "model_module_version": "~2.1.4",
      "model_name": "VBoxModel",
      "state": {
       "_model_module_version": "~2.1.4",
       "_view_module_version": "~2.1.4",
       "children": [
        "IPY_MODEL_7fe1946d80774e5db56c38244a9e26d4",
        "IPY_MODEL_ebce9a0688824a00b14422465aab7da5",
        "IPY_MODEL_829add32ceca4b1fb0b5fcd043e96f12",
        "IPY_MODEL_c5502bf9673942b1b2cc55ef15056b1b",
        "IPY_MODEL_3be2b1c631c24921b65310889a11c7e1"
       ],
       "layout": "IPY_MODEL_fa6c497bd3bc4e2f95bd6bc730da9689"
      }
     },
     "0357d395b26d411289ae86ae63b2b192": {
      "model_module": "jupyter-js-widgets",
      "model_module_version": "~2.1.4",
      "model_name": "ButtonStyleModel",
      "state": {
       "_model_module_version": "~2.1.4",
       "_view_module_version": "~2.1.4"
      }
     },
     "03735ad8c7404b9194ae343c4e79b922": {
      "model_module": "jupyter-js-widgets",
      "model_module_version": "~2.1.4",
      "model_name": "VBoxModel",
      "state": {
       "_model_module_version": "~2.1.4",
       "_view_module_version": "~2.1.4",
       "children": [
        "IPY_MODEL_65427c4446fe4d6ba787bb4bef5c9189",
        "IPY_MODEL_b7495ee647594582a24735f4ee6387c1",
        "IPY_MODEL_141ebb4edf194d99a55420616f16d87e"
       ],
       "layout": "IPY_MODEL_db3f7b9877bd4cda97108e0588a5fdaf"
      }
     },
     "038e9a39dd43453c990e8714dafa53aa": {
      "model_module": "jupyter-js-widgets",
      "model_module_version": "~2.1.4",
      "model_name": "LayoutModel",
      "state": {
       "_model_module_version": "~2.1.4",
       "_view_module_version": "~2.1.4",
       "margin": "5px 2px 0",
       "width": "146px"
      }
     },
     "03c62eaa76c04ba2926523b27db17616": {
      "model_module": "jupyter-js-widgets",
      "model_module_version": "~2.1.4",
      "model_name": "SelectMultipleModel",
      "state": {
       "_model_module_version": "~2.1.4",
       "_options_labels": [
        "Cycle  6",
        "Cycle  7",
        "Cycle  8",
        "Cycle  9",
        "Cycle 10",
        "Cycle 11",
        "Cycle 12",
        "Cycle 13",
        "Cycle 14",
        "Cycle 15",
        "Cycle 16",
        "Cycle 17",
        "Cycle 18",
        "Cycle 19",
        "Cycle 20",
        "Cycle 21",
        "Cycle 22",
        "Cycle 23",
        "Cycle 24"
       ],
       "_view_module_version": "~2.1.4",
       "layout": "IPY_MODEL_19f6ff158fdf4356a01861ab15117561",
       "value": [
        "Cycle  6",
        "Cycle  7",
        "Cycle  8",
        "Cycle 24"
       ]
      }
     },
     "03f93c2d0b004c739bb7f07133017df6": {
      "model_module": "jupyter-js-widgets",
      "model_module_version": "~2.1.4",
      "model_name": "SelectMultipleModel",
      "state": {
       "_model_module_version": "~2.1.4",
       "_options_labels": [
        "01: 1823-05 (0.143)",
        "02: 1833-11 (12.182)",
        "03: 1843-07 (17.615)",
        "04: 1855-12 (5.997)",
        "05: 1867-03 (9.872)",
        "06: 1878-12 (3.750)",
        "07: 1890-03 (8.279)",
        "08: 1902-01 (4.474)",
        "09: 1913-07 (2.442)",
        "10: 1923-08 (9.362)",
        "11: 1933-09 (5.789)",
        "12: 1944-02 (12.883)",
        "13: 1954-04 (5.096)",
        "14: 1964-10 (14.237)",
        "15: 1976-03 (17.792)",
        "16: 1986-09 (13.520)",
        "17: 1996-05 (11.171)",
        "18: 2008-12 (2.248)"
       ],
       "_view_module_version": "~2.1.4",
       "layout": "IPY_MODEL_a4f869c3096f4e51ada555145598b90d",
       "value": []
      }
     },
     "04b46add1f7140cd8781b06a6a98dea7": {
      "model_module": "jupyter-js-widgets",
      "model_module_version": "~2.1.4",
      "model_name": "LabelModel",
      "state": {
       "_model_module_version": "~2.1.4",
       "_view_module_version": "~2.1.4",
       "layout": "IPY_MODEL_826b830ba7994d3dbd460cc11e4f8b81",
       "value": "Delta"
      }
     },
     "04cf3c3ac92f4f539e4bff2f1ec8c932": {
      "model_module": "jupyter-js-widgets",
      "model_module_version": "~2.1.4",
      "model_name": "LayoutModel",
      "state": {
       "_model_module_version": "~2.1.4",
       "_view_module_version": "~2.1.4",
       "margin": "5px 2px 0",
       "width": "300px"
      }
     },
     "051aefdd9415425084e579dd0dd7dcc6": {
      "model_module": "jupyter-js-widgets",
      "model_module_version": "~2.1.4",
      "model_name": "LayoutModel",
      "state": {
       "_model_module_version": "~2.1.4",
       "_view_module_version": "~2.1.4",
       "margin": "5px 2px 0",
       "width": "300px"
      }
     },
     "05318e63e08b42cd8bd67654d93caea6": {
      "model_module": "jupyter-js-widgets",
      "model_module_version": "~2.1.4",
      "model_name": "ButtonStyleModel",
      "state": {
       "_model_module_version": "~2.1.4",
       "_view_module_version": "~2.1.4"
      }
     },
     "054c57e3b7274509ba5a9a6b1a509112": {
      "model_module": "jupyter-js-widgets",
      "model_module_version": "~2.1.4",
      "model_name": "VBoxModel",
      "state": {
       "_model_module_version": "~2.1.4",
       "_view_module_version": "~2.1.4",
       "children": [
        "IPY_MODEL_8e513d95e6474188b593bf838b5608a0",
        "IPY_MODEL_5cd71bd49bb94d368adc868dccbce95b",
        "IPY_MODEL_55dde1fbc60044668a26f80e58e1aba0",
        "IPY_MODEL_50252016b7584a43bb00f1373a2d3d91",
        "IPY_MODEL_6d0f00a232c441f2b8f8cd85590118c2"
       ],
       "layout": "IPY_MODEL_1d17ccca9c7c42599d93701f749cdc57"
      }
     },
     "0577b41ae7554181a5c81e2f5bc94c76": {
      "model_module": "jupyter-js-widgets",
      "model_module_version": "~2.1.4",
      "model_name": "OutputModel",
      "state": {
       "_dom_classes": [],
       "_model_module": "jupyter-js-widgets",
       "_model_module_version": "~2.1.4",
       "_view_module": "jupyter-js-widgets",
       "_view_module_version": "~2.1.4",
       "layout": "IPY_MODEL_265e39f46c0849199b8d5ce69d1d38b2",
       "msg_throttle": 1
      }
     },
     "05f30eada99f482cbe764278c473f893": {
      "model_module": "jupyter-js-widgets",
      "model_module_version": "~2.1.4",
      "model_name": "LayoutModel",
      "state": {
       "_model_module_version": "~2.1.4",
       "_view_module_version": "~2.1.4",
       "margin": "5px 2px 0",
       "width": "300px"
      }
     },
     "06460a2b57104b9095fdc318562c7733": {
      "model_module": "jupyter-js-widgets",
      "model_module_version": "~2.1.4",
      "model_name": "ButtonModel",
      "state": {
       "_model_module_version": "~2.1.4",
       "_view_module_version": "~2.1.4",
       "description": "Limpiar seleción de máximos",
       "layout": "IPY_MODEL_12c37a95b1d0491a9075cb271bc44955",
       "style": "IPY_MODEL_c19951b5d3fe4812be5a763401cba568"
      }
     },
     "0672b9f60aac48fb8f094dd0b193f7ca": {
      "model_module": "jupyter-js-widgets",
      "model_module_version": "~2.1.4",
      "model_name": "ButtonStyleModel",
      "state": {
       "_model_module_version": "~2.1.4",
       "_view_module_version": "~2.1.4"
      }
     },
     "0685267067364ff6b8baec0b619f14e3": {
      "model_module": "jupyter-js-widgets",
      "model_module_version": "~2.1.4",
      "model_name": "ButtonStyleModel",
      "state": {
       "_model_module_version": "~2.1.4",
       "_view_module_version": "~2.1.4"
      }
     },
     "0698804a82194ef98c558df8e0a79456": {
      "model_module": "jupyter-js-widgets",
      "model_module_version": "~2.1.4",
      "model_name": "LayoutModel",
      "state": {
       "_model_module_version": "~2.1.4",
       "_view_module_version": "~2.1.4"
      }
     },
     "06edc62f98604d1e8cb924311ab80881": {
      "model_module": "jupyter-js-widgets",
      "model_module_version": "~2.1.4",
      "model_name": "LayoutModel",
      "state": {
       "_model_module_version": "~2.1.4",
       "_view_module_version": "~2.1.4"
      }
     },
     "072f7b2911824e7f9bcf27683a155cdf": {
      "model_module": "jupyter-js-widgets",
      "model_module_version": "~2.1.4",
      "model_name": "LayoutModel",
      "state": {
       "_model_module_version": "~2.1.4",
       "_view_module_version": "~2.1.4"
      }
     },
     "074d50c03fb145e0b2ac122483c5b54f": {
      "model_module": "jupyter-js-widgets",
      "model_module_version": "~2.1.4",
      "model_name": "ButtonStyleModel",
      "state": {
       "_model_module_version": "~2.1.4",
       "_view_module_version": "~2.1.4"
      }
     },
     "078dcd3653fe4bc687e3e1ef1c87daa6": {
      "model_module": "jupyter-js-widgets",
      "model_module_version": "~2.1.4",
      "model_name": "LayoutModel",
      "state": {
       "_model_module_version": "~2.1.4",
       "_view_module_version": "~2.1.4"
      }
     },
     "07f45e4563974671b719f455e643e733": {
      "model_module": "jupyter-js-widgets",
      "model_module_version": "~2.1.4",
      "model_name": "LayoutModel",
      "state": {
       "_model_module_version": "~2.1.4",
       "_view_module_version": "~2.1.4"
      }
     },
     "0811351d4b22420fb8c31d6f14d8aa00": {
      "model_module": "jupyter-js-widgets",
      "model_module_version": "~2.1.4",
      "model_name": "LayoutModel",
      "state": {
       "_model_module_version": "~2.1.4",
       "_view_module_version": "~2.1.4"
      }
     },
     "084449621e5947788c6abfad84aff8c8": {
      "model_module": "jupyter-js-widgets",
      "model_module_version": "~2.1.4",
      "model_name": "LayoutModel",
      "state": {
       "_model_module_version": "~2.1.4",
       "_view_module_version": "~2.1.4"
      }
     },
     "08480b0ac36347c48111b52595493c74": {
      "model_module": "jupyter-js-widgets",
      "model_module_version": "~2.1.4",
      "model_name": "LayoutModel",
      "state": {
       "_model_module_version": "~2.1.4",
       "_view_module_version": "~2.1.4"
      }
     },
     "087fec557f884b028b87a765f4418fcc": {
      "model_module": "jupyter-js-widgets",
      "model_module_version": "~2.1.4",
      "model_name": "VBoxModel",
      "state": {
       "_model_module_version": "~2.1.4",
       "_view_module_version": "~2.1.4",
       "children": [
        "IPY_MODEL_d825d38846654ac1ab3670676d0a91eb",
        "IPY_MODEL_03c62eaa76c04ba2926523b27db17616",
        "IPY_MODEL_68a0bdf67eb54d3cba0eb1bd4c0dc60b",
        "IPY_MODEL_d5a9eff1a684490e8d680e48785562c0",
        "IPY_MODEL_0577b41ae7554181a5c81e2f5bc94c76"
       ],
       "layout": "IPY_MODEL_3f45abf1fa9248409a0e27b66a51ab1f"
      }
     },
     "08885c6a34e6448991d0ad914c81255d": {
      "model_module": "jupyter-js-widgets",
      "model_module_version": "~2.1.4",
      "model_name": "OutputModel",
      "state": {
       "_dom_classes": [],
       "_model_module": "jupyter-js-widgets",
       "_model_module_version": "~2.1.4",
       "_view_module": "jupyter-js-widgets",
       "_view_module_version": "~2.1.4",
       "layout": "IPY_MODEL_c43934d4699f44a6b51b7a69f0e855e6",
       "msg_throttle": 1
      }
     },
     "08e71be6b2f140a9ab73836de98ccc84": {
      "model_module": "jupyter-js-widgets",
      "model_module_version": "~2.1.4",
      "model_name": "ButtonStyleModel",
      "state": {
       "_model_module_version": "~2.1.4",
       "_view_module_version": "~2.1.4"
      }
     },
     "092a4c0dedab470c92dae91ef4182539": {
      "model_module": "jupyter-js-widgets",
      "model_module_version": "~2.1.4",
      "model_name": "ButtonStyleModel",
      "state": {
       "_model_module_version": "~2.1.4",
       "_view_module_version": "~2.1.4"
      }
     },
     "09809bc5e1be46cab975d27c187321a9": {
      "model_module": "jupyter-js-widgets",
      "model_module_version": "~2.1.4",
      "model_name": "SelectMultipleModel",
      "state": {
       "_model_module_version": "~2.1.4",
       "_options_labels": [
        "Cycle  6",
        "Cycle  7",
        "Cycle  8",
        "Cycle  9",
        "Cycle 10",
        "Cycle 11",
        "Cycle 12",
        "Cycle 13",
        "Cycle 14",
        "Cycle 15",
        "Cycle 16",
        "Cycle 17",
        "Cycle 18",
        "Cycle 19",
        "Cycle 20",
        "Cycle 21",
        "Cycle 22",
        "Cycle 23",
        "Cycle 24"
       ],
       "_view_module_version": "~2.1.4",
       "layout": "IPY_MODEL_7b0851ba2305420f9695cb85b6f9d69b",
       "value": []
      }
     },
     "09841a72c1384a16b1d2c54c10446271": {
      "model_module": "jupyter-js-widgets",
      "model_module_version": "~2.1.4",
      "model_name": "LayoutModel",
      "state": {
       "_model_module_version": "~2.1.4",
       "_view_module_version": "~2.1.4"
      }
     },
     "09c5a21e3a184c47923a86c5c0f7a680": {
      "model_module": "jupyter-js-widgets",
      "model_module_version": "~2.1.4",
      "model_name": "LayoutModel",
      "state": {
       "_model_module_version": "~2.1.4",
       "_view_module_version": "~2.1.4",
       "width": "100%"
      }
     },
     "09dbc872d0f74c01a99a1c47c03f10c6": {
      "model_module": "jupyter-js-widgets",
      "model_module_version": "~2.1.4",
      "model_name": "IntSliderModel",
      "state": {
       "_model_module_version": "~2.1.4",
       "_view_module_version": "~2.1.4",
       "layout": "IPY_MODEL_ab54c09e49c1495981f992fccc2e0489",
       "min": 1,
       "style": "IPY_MODEL_9f654a97320a481b8ebc814439686f8b",
       "value": 20
      }
     },
     "09dc9b77c8434ba69587a47d8fedbe07": {
      "model_module": "jupyter-js-widgets",
      "model_module_version": "~2.1.4",
      "model_name": "ButtonStyleModel",
      "state": {
       "_model_module_version": "~2.1.4",
       "_view_module_version": "~2.1.4"
      }
     },
     "09e4e15500034b07a5a02cb247741baa": {
      "model_module": "jupyter-js-widgets",
      "model_module_version": "~2.1.4",
      "model_name": "LayoutModel",
      "state": {
       "_model_module_version": "~2.1.4",
       "_view_module_version": "~2.1.4",
       "width": "100%"
      }
     },
     "09fa2a09dc5e4485ae2f6933b1967d45": {
      "model_module": "jupyter-js-widgets",
      "model_module_version": "~2.1.4",
      "model_name": "LayoutModel",
      "state": {
       "_model_module_version": "~2.1.4",
       "_view_module_version": "~2.1.4",
       "margin": "5px 2px 0",
       "width": "300px"
      }
     },
     "09fbe14fb09e41ec9d088064c7ae1a35": {
      "model_module": "jupyter-js-widgets",
      "model_module_version": "~2.1.4",
      "model_name": "LayoutModel",
      "state": {
       "_model_module_version": "~2.1.4",
       "_view_module_version": "~2.1.4"
      }
     },
     "0a07de625a4843ffa196d8a2f1f8f679": {
      "model_module": "jupyter-js-widgets",
      "model_module_version": "~2.1.4",
      "model_name": "ButtonModel",
      "state": {
       "_model_module_version": "~2.1.4",
       "_view_module_version": "~2.1.4",
       "description": "Eliminar ciclos selecionados",
       "layout": "IPY_MODEL_9b81388e18e54c7c8623ade99e1e4051",
       "style": "IPY_MODEL_9b8dbabf48094bf48a19af04ac79285d"
      }
     },
     "0a1a6be9258c4ff2a3fa528af4dfac57": {
      "model_module": "jupyter-js-widgets",
      "model_module_version": "~2.1.4",
      "model_name": "LayoutModel",
      "state": {
       "_model_module_version": "~2.1.4",
       "_view_module_version": "~2.1.4"
      }
     },
     "0a404f4c5f4549b0a06cc4ae93df10f0": {
      "model_module": "jupyter-js-widgets",
      "model_module_version": "~2.1.4",
      "model_name": "SliderStyleModel",
      "state": {
       "_model_module_version": "~2.1.4",
       "_view_module_version": "~2.1.4"
      }
     },
     "0a82220e80f3489ca57dbab04b071322": {
      "model_module": "jupyter-js-widgets",
      "model_module_version": "~2.1.4",
      "model_name": "SelectMultipleModel",
      "state": {
       "_model_module_version": "~2.1.4",
       "_options_labels": [
        "Cycle  6",
        "Cycle  7",
        "Cycle  8",
        "Cycle  9",
        "Cycle 10",
        "Cycle 11",
        "Cycle 12",
        "Cycle 13",
        "Cycle 14",
        "Cycle 15",
        "Cycle 16",
        "Cycle 17",
        "Cycle 18",
        "Cycle 19",
        "Cycle 20",
        "Cycle 21",
        "Cycle 22",
        "Cycle 23",
        "Cycle 24"
       ],
       "_view_module_version": "~2.1.4",
       "layout": "IPY_MODEL_df36daa0afbd46e0b1a2b4e74965cb0f",
       "value": [
        "Cycle  6"
       ]
      }
     },
     "0a9dc8268566434aaf18387b3c1933b4": {
      "model_module": "jupyter-js-widgets",
      "model_module_version": "~2.1.4",
      "model_name": "LayoutModel",
      "state": {
       "_model_module_version": "~2.1.4",
       "_view_module_version": "~2.1.4",
       "margin": "5px 2px 0",
       "width": "300px"
      }
     },
     "0acc96caf0da440c9afb22a6645684e7": {
      "model_module": "jupyter-js-widgets",
      "model_module_version": "~2.1.4",
      "model_name": "LayoutModel",
      "state": {
       "_model_module_version": "~2.1.4",
       "_view_module_version": "~2.1.4"
      }
     },
     "0b76df552454480f9555224304807ede": {
      "model_module": "jupyter-js-widgets",
      "model_module_version": "~2.1.4",
      "model_name": "HBoxModel",
      "state": {
       "_model_module_version": "~2.1.4",
       "_view_module_version": "~2.1.4",
       "children": [
        "IPY_MODEL_e3e69e8f0e3248bd97f9a999300c3a71",
        "IPY_MODEL_6da41ab766b54082a7bfc73b0199b47a"
       ],
       "layout": "IPY_MODEL_d23ce3b7d3ef4543a4fbd37df251b3fa"
      }
     },
     "0bab47119050442cb386abb147071549": {
      "model_module": "jupyter-js-widgets",
      "model_module_version": "~2.1.4",
      "model_name": "IntSliderModel",
      "state": {
       "_model_module_version": "~2.1.4",
       "_view_module_version": "~2.1.4",
       "layout": "IPY_MODEL_e394f60db3e44f8087efe2c1adac4377",
       "min": 1,
       "style": "IPY_MODEL_62a0b0a8edcd4561a1643274582a7de1",
       "value": 20
      }
     },
     "0bad68c4617f42bc8a7699fc094d7aac": {
      "model_module": "jupyter-js-widgets",
      "model_module_version": "~2.1.4",
      "model_name": "LayoutModel",
      "state": {
       "_model_module_version": "~2.1.4",
       "_view_module_version": "~2.1.4"
      }
     },
     "0bffd7f8d8834c1084747f5d300ea7bd": {
      "model_module": "jupyter-js-widgets",
      "model_module_version": "~2.1.4",
      "model_name": "LayoutModel",
      "state": {
       "_model_module_version": "~2.1.4",
       "_view_module_version": "~2.1.4",
       "margin": "5px 2px 0",
       "width": "146px"
      }
     },
     "0c1d0e0a40924d2a87bd853bf6474957": {
      "model_module": "jupyter-js-widgets",
      "model_module_version": "~2.1.4",
      "model_name": "ButtonModel",
      "state": {
       "_model_module_version": "~2.1.4",
       "_view_module_version": "~2.1.4",
       "description": "Limpiar seleción de ciclos",
       "layout": "IPY_MODEL_f63d91ca82304bcd82891a8059240d80",
       "style": "IPY_MODEL_aef1a192c9ce4325bc262b0a8c3e64d0"
      }
     },
     "0c3c8fa9361c42b09f4d0235d70fbf8d": {
      "model_module": "jupyter-js-widgets",
      "model_module_version": "~2.1.4",
      "model_name": "ButtonModel",
      "state": {
       "_model_module_version": "~2.1.4",
       "_view_module_version": "~2.1.4",
       "description": "Eliminar ciclos selecionados",
       "layout": "IPY_MODEL_c95c3800651b4a628f3113d3a0085041",
       "style": "IPY_MODEL_87e59f56a74348cc91d3e93ccb59b7d1"
      }
     },
     "0c83a291007b49e5926875debdb7879f": {
      "model_module": "jupyter-js-widgets",
      "model_module_version": "~2.1.4",
      "model_name": "ButtonModel",
      "state": {
       "_model_module_version": "~2.1.4",
       "_view_module_version": "~2.1.4",
       "description": "Limpiar seleción de ciclos",
       "layout": "IPY_MODEL_c1cd38e6b75b461dbde97882e4f6702f",
       "style": "IPY_MODEL_ececc818bdf34d48b108baa4cdf350ac"
      }
     },
     "0cc71fe297db4f66b8138a15b9beb418": {
      "model_module": "jupyter-js-widgets",
      "model_module_version": "~2.1.4",
      "model_name": "ButtonStyleModel",
      "state": {
       "_model_module_version": "~2.1.4",
       "_view_module_version": "~2.1.4"
      }
     },
     "0d022ed77c3446bba436a0966bd0d5d3": {
      "model_module": "jupyter-js-widgets",
      "model_module_version": "~2.1.4",
      "model_name": "ButtonModel",
      "state": {
       "_model_module_version": "~2.1.4",
       "_view_module_version": "~2.1.4",
       "description": "Limpiar seleción de ciclos",
       "layout": "IPY_MODEL_cd47a296f9864b4dab4b1811b0e328dc",
       "style": "IPY_MODEL_bf8ff7843ba34ddb8bd7149c029d0f14"
      }
     },
     "0d7690f50d5540f7a41bb546c56893b2": {
      "model_module": "jupyter-js-widgets",
      "model_module_version": "~2.1.4",
      "model_name": "CheckboxModel",
      "state": {
       "_model_module_version": "~2.1.4",
       "_view_module_version": "~2.1.4",
       "description": "Cycle 15",
       "disabled": false,
       "layout": "IPY_MODEL_ef2a8e652a9745a9a6a316f0d6f93e73",
       "value": true
      }
     },
     "0d796f8cc41448868989e086e4f70b23": {
      "model_module": "jupyter-js-widgets",
      "model_module_version": "~2.1.4",
      "model_name": "LayoutModel",
      "state": {
       "_model_module_version": "~2.1.4",
       "_view_module_version": "~2.1.4",
       "margin": "5px 2px 0",
       "width": "300px"
      }
     },
     "0dbaf0d2909447aba3898e68369abf70": {
      "model_module": "jupyter-js-widgets",
      "model_module_version": "~2.1.4",
      "model_name": "LayoutModel",
      "state": {
       "_model_module_version": "~2.1.4",
       "_view_module_version": "~2.1.4"
      }
     },
     "0dcd6163b8f24df5a6e8458e25f7a114": {
      "model_module": "jupyter-js-widgets",
      "model_module_version": "~2.1.4",
      "model_name": "LayoutModel",
      "state": {
       "_model_module_version": "~2.1.4",
       "_view_module_version": "~2.1.4"
      }
     },
     "0e1dd57358b5478cb132163a409c62af": {
      "model_module": "jupyter-js-widgets",
      "model_module_version": "~2.1.4",
      "model_name": "CheckboxModel",
      "state": {
       "_model_module_version": "~2.1.4",
       "_view_module_version": "~2.1.4",
       "description": "Cycle 18",
       "disabled": false,
       "layout": "IPY_MODEL_4453e709cc0d40919a9ef8507bebce0f",
       "value": true
      }
     },
     "0e8c739d4e4742eca410128435189b5c": {
      "model_module": "jupyter-js-widgets",
      "model_module_version": "~2.1.4",
      "model_name": "LayoutModel",
      "state": {
       "_model_module_version": "~2.1.4",
       "_view_module_version": "~2.1.4"
      }
     },
     "0ee17c1f08c64a5d841cecd9db0fb91a": {
      "model_module": "jupyter-js-widgets",
      "model_module_version": "~2.1.4",
      "model_name": "ButtonStyleModel",
      "state": {
       "_model_module_version": "~2.1.4",
       "_view_module_version": "~2.1.4"
      }
     },
     "0f0e720e60a64c8a9020d0c5968467e2": {
      "model_module": "jupyter-js-widgets",
      "model_module_version": "~2.1.4",
      "model_name": "ButtonStyleModel",
      "state": {
       "_model_module_version": "~2.1.4",
       "_view_module_version": "~2.1.4"
      }
     },
     "0f7bafe0a73c425ba6ab1e9e771ad1bf": {
      "model_module": "jupyter-js-widgets",
      "model_module_version": "~2.1.4",
      "model_name": "LabelModel",
      "state": {
       "_model_module_version": "~2.1.4",
       "_view_module_version": "~2.1.4",
       "layout": "IPY_MODEL_9f8562498cd041418d6726dacf839dbb",
       "value": "Mínimos (18)"
      }
     },
     "0fa50966f10d4f339c1ee6cfbe2f831f": {
      "model_module": "jupyter-js-widgets",
      "model_module_version": "~2.1.4",
      "model_name": "ButtonStyleModel",
      "state": {
       "_model_module_version": "~2.1.4",
       "_view_module_version": "~2.1.4"
      }
     },
     "0fb5d9c2193c4b969e26f7abc6fcadd6": {
      "model_module": "jupyter-js-widgets",
      "model_module_version": "~2.1.4",
      "model_name": "SliderStyleModel",
      "state": {
       "_model_module_version": "~2.1.4",
       "_view_module_version": "~2.1.4"
      }
     },
     "0fec40bde3774adf9e500be00d8805bc": {
      "model_module": "jupyter-js-widgets",
      "model_module_version": "~2.1.4",
      "model_name": "ButtonStyleModel",
      "state": {
       "_model_module_version": "~2.1.4",
       "_view_module_version": "~2.1.4"
      }
     },
     "1057280b8bf3492f872b4b4f70046b97": {
      "model_module": "jupyter-js-widgets",
      "model_module_version": "~2.1.4",
      "model_name": "LayoutModel",
      "state": {
       "_model_module_version": "~2.1.4",
       "_view_module_version": "~2.1.4",
       "width": "100%"
      }
     },
     "109e01d2422a4077b666d34be46fa542": {
      "model_module": "jupyter-js-widgets",
      "model_module_version": "~2.1.4",
      "model_name": "SelectMultipleModel",
      "state": {
       "_model_module_version": "~2.1.4",
       "_options_labels": [
        "Cycle  6",
        "Cycle  7",
        "Cycle  8",
        "Cycle  9",
        "Cycle 10",
        "Cycle 11",
        "Cycle 12",
        "Cycle 13",
        "Cycle 14",
        "Cycle 15",
        "Cycle 16",
        "Cycle 17",
        "Cycle 18",
        "Cycle 19",
        "Cycle 20",
        "Cycle 21",
        "Cycle 22",
        "Cycle 23",
        "Cycle 24"
       ],
       "_view_module_version": "~2.1.4",
       "layout": "IPY_MODEL_789a4b38d94f46cda0f998ac8a2348b4",
       "value": [
        "Cycle  6",
        "Cycle  7",
        "Cycle  8",
        "Cycle 24"
       ]
      }
     },
     "10bacd6171c04285bf386cd14b009f5b": {
      "model_module": "jupyter-js-widgets",
      "model_module_version": "~2.1.4",
      "model_name": "ButtonStyleModel",
      "state": {
       "_model_module_version": "~2.1.4",
       "_view_module_version": "~2.1.4"
      }
     },
     "11babec50a8d4c388067514e2b4c8424": {
      "model_module": "jupyter-js-widgets",
      "model_module_version": "~2.1.4",
      "model_name": "LayoutModel",
      "state": {
       "_model_module_version": "~2.1.4",
       "_view_module_version": "~2.1.4",
       "width": "100%"
      }
     },
     "11dd92286f8f4772bef631709a713d6f": {
      "model_module": "jupyter-js-widgets",
      "model_module_version": "~2.1.4",
      "model_name": "ButtonModel",
      "state": {
       "_model_module_version": "~2.1.4",
       "_view_module_version": "~2.1.4",
       "description": "Limpiar seleción de mínimos",
       "layout": "IPY_MODEL_c3d9460289e443428ba1530cde51fb25",
       "style": "IPY_MODEL_56f0211ef3584ceb9caaab318760dffb"
      }
     },
     "11f6a76a2b5e4c2cb93578b7618cccdd": {
      "model_module": "jupyter-js-widgets",
      "model_module_version": "~2.1.4",
      "model_name": "SelectMultipleModel",
      "state": {
       "_model_module_version": "~2.1.4",
       "_options_labels": [
        "Cycle  6",
        "Cycle  7",
        "Cycle  8",
        "Cycle  9",
        "Cycle 10",
        "Cycle 11",
        "Cycle 12",
        "Cycle 13",
        "Cycle 14",
        "Cycle 15",
        "Cycle 16",
        "Cycle 17",
        "Cycle 18",
        "Cycle 19",
        "Cycle 20",
        "Cycle 21",
        "Cycle 22",
        "Cycle 23",
        "Cycle 24"
       ],
       "_view_module_version": "~2.1.4",
       "layout": "IPY_MODEL_203dc129e9004aca9dbfca9935ec0e13",
       "value": [
        "Cycle  6",
        "Cycle  7",
        "Cycle  8",
        "Cycle 24"
       ]
      }
     },
     "120d8694dce9494e91702bb3ec44dcc2": {
      "model_module": "jupyter-js-widgets",
      "model_module_version": "~2.1.4",
      "model_name": "LayoutModel",
      "state": {
       "_model_module_version": "~2.1.4",
       "_view_module_version": "~2.1.4"
      }
     },
     "121508d70c5f4e43be465868fbdf8812": {
      "model_module": "jupyter-js-widgets",
      "model_module_version": "~2.1.4",
      "model_name": "LayoutModel",
      "state": {
       "_model_module_version": "~2.1.4",
       "_view_module_version": "~2.1.4"
      }
     },
     "1216f060c2b9407482049d0f5d3e6bed": {
      "model_module": "jupyter-js-widgets",
      "model_module_version": "~2.1.4",
      "model_name": "ButtonModel",
      "state": {
       "_model_module_version": "~2.1.4",
       "_view_module_version": "~2.1.4",
       "description": "Eliminar ciclos selecionados",
       "layout": "IPY_MODEL_d1473706fa0c45fba26359270f49f99f",
       "style": "IPY_MODEL_3ebb40b766a6467ebcf581de8219afec"
      }
     },
     "1234e03b14e1404b8323cdee4a9646b9": {
      "model_module": "jupyter-js-widgets",
      "model_module_version": "~2.1.4",
      "model_name": "LayoutModel",
      "state": {
       "_model_module_version": "~2.1.4",
       "_view_module_version": "~2.1.4"
      }
     },
     "12403e6fc8614cdf80dd40b2467ea393": {
      "model_module": "jupyter-js-widgets",
      "model_module_version": "~2.1.4",
      "model_name": "LabelModel",
      "state": {
       "_model_module_version": "~2.1.4",
       "_view_module_version": "~2.1.4",
       "layout": "IPY_MODEL_9460ec827832406db05cf848d241b38b",
       "value": "Mínimos (18)"
      }
     },
     "12c37a95b1d0491a9075cb271bc44955": {
      "model_module": "jupyter-js-widgets",
      "model_module_version": "~2.1.4",
      "model_name": "LayoutModel",
      "state": {
       "_model_module_version": "~2.1.4",
       "_view_module_version": "~2.1.4",
       "margin": "5px 2px 0",
       "width": "300px"
      }
     },
     "12d67d638afa4c388da4cd3539c22b35": {
      "model_module": "jupyter-js-widgets",
      "model_module_version": "~2.1.4",
      "model_name": "LayoutModel",
      "state": {
       "_model_module_version": "~2.1.4",
       "_view_module_version": "~2.1.4"
      }
     },
     "12de2d0736f6414685337aeb2613c0fc": {
      "model_module": "jupyter-js-widgets",
      "model_module_version": "~2.1.4",
      "model_name": "VBoxModel",
      "state": {
       "_model_module_version": "~2.1.4",
       "_view_module_version": "~2.1.4",
       "children": [
        "IPY_MODEL_dad47051a6eb4d129aa922db43d3906b",
        "IPY_MODEL_003fe4f9ac2148f1a4ead695d5fab78e",
        "IPY_MODEL_5ba2fd81ab46474f935753a6392deafa"
       ],
       "layout": "IPY_MODEL_7517129c09c242c08d45512c05ffe96a"
      }
     },
     "135bfaa2aa0d465eb20fa58415640dae": {
      "model_module": "jupyter-js-widgets",
      "model_module_version": "~2.1.4",
      "model_name": "LayoutModel",
      "state": {
       "_model_module_version": "~2.1.4",
       "_view_module_version": "~2.1.4"
      }
     },
     "141ebb4edf194d99a55420616f16d87e": {
      "model_module": "jupyter-js-widgets",
      "model_module_version": "~2.1.4",
      "model_name": "HTMLModel",
      "state": {
       "_model_module_version": "~2.1.4",
       "_view_module_version": "~2.1.4",
       "layout": "IPY_MODEL_f19be3a6e9ea48cea1afcbb24214ab58",
       "value": "<img src='data:image/png;base64,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'/>"
      }
     },
     "142ee9d074ee482e9f35e78046ff210b": {
      "model_module": "jupyter-js-widgets",
      "model_module_version": "~2.1.4",
      "model_name": "ButtonStyleModel",
      "state": {
       "_model_module_version": "~2.1.4",
       "_view_module_version": "~2.1.4"
      }
     },
     "144452091b2d4c15b9de1aecba57d732": {
      "model_module": "jupyter-js-widgets",
      "model_module_version": "~2.1.4",
      "model_name": "OutputModel",
      "state": {
       "_dom_classes": [],
       "_model_module": "jupyter-js-widgets",
       "_model_module_version": "~2.1.4",
       "_view_module": "jupyter-js-widgets",
       "_view_module_version": "~2.1.4",
       "layout": "IPY_MODEL_182e86d1100b440d96cd04bd89bb9381",
       "msg_throttle": 1
      }
     },
     "1475071b25314b4cb45a5613a47177d3": {
      "model_module": "jupyter-js-widgets",
      "model_module_version": "~2.1.4",
      "model_name": "LabelModel",
      "state": {
       "_model_module_version": "~2.1.4",
       "_view_module_version": "~2.1.4",
       "layout": "IPY_MODEL_56cfa637dc594d5b8aa5d8cb972b9956",
       "value": "Delta"
      }
     },
     "147fadd353bf4c14abf69d85b36ea6ac": {
      "model_module": "jupyter-js-widgets",
      "model_module_version": "~2.1.4",
      "model_name": "LayoutModel",
      "state": {
       "_model_module_version": "~2.1.4",
       "_view_module_version": "~2.1.4",
       "width": "100%"
      }
     },
     "149343b2730841a2a3bbd133bf39df9d": {
      "model_module": "jupyter-js-widgets",
      "model_module_version": "~2.1.4",
      "model_name": "LayoutModel",
      "state": {
       "_model_module_version": "~2.1.4",
       "_view_module_version": "~2.1.4"
      }
     },
     "149d66f475494bbdbb969763e201640a": {
      "model_module": "jupyter-js-widgets",
      "model_module_version": "~2.1.4",
      "model_name": "LayoutModel",
      "state": {
       "_model_module_version": "~2.1.4",
       "_view_module_version": "~2.1.4"
      }
     },
     "14ce20191e54486ab3c61371872fa15f": {
      "model_module": "jupyter-js-widgets",
      "model_module_version": "~2.1.4",
      "model_name": "ButtonModel",
      "state": {
       "_model_module_version": "~2.1.4",
       "_view_module_version": "~2.1.4",
       "description": "Eliminar ciclos selecionados",
       "layout": "IPY_MODEL_b39088c7b2dc4b6580129cfe636aea47",
       "style": "IPY_MODEL_5005f49b6f474e81a492b2d7858a4c27"
      }
     },
     "15287d237c4d48658d50e69845c8eb4e": {
      "model_module": "jupyter-js-widgets",
      "model_module_version": "~2.1.4",
      "model_name": "LayoutModel",
      "state": {
       "_model_module_version": "~2.1.4",
       "_view_module_version": "~2.1.4",
       "margin": "5px 2px 0",
       "width": "300px"
      }
     },
     "15446d733aec4555a3af09754d9aef26": {
      "model_module": "jupyter-js-widgets",
      "model_module_version": "~2.1.4",
      "model_name": "SelectMultipleModel",
      "state": {
       "_model_module_version": "~2.1.4",
       "_options_labels": [
        "Cycle  6",
        "Cycle  7",
        "Cycle  8",
        "Cycle  9",
        "Cycle 10",
        "Cycle 11",
        "Cycle 12",
        "Cycle 13",
        "Cycle 14",
        "Cycle 15",
        "Cycle 16",
        "Cycle 17",
        "Cycle 18",
        "Cycle 19",
        "Cycle 20",
        "Cycle 21",
        "Cycle 22",
        "Cycle 23",
        "Cycle 24"
       ],
       "_view_module_version": "~2.1.4",
       "layout": "IPY_MODEL_374fc12d999e4f7b926e360a45d6dec3",
       "value": [
        "Cycle  6",
        "Cycle  7",
        "Cycle  8",
        "Cycle 24"
       ]
      }
     },
     "1579f956ff344d9a8793b3f448755599": {
      "model_module": "jupyter-js-widgets",
      "model_module_version": "~2.1.4",
      "model_name": "SelectMultipleModel",
      "state": {
       "_model_module_version": "~2.1.4",
       "_options_labels": [
        "Cycle  6",
        "Cycle  7",
        "Cycle  8",
        "Cycle  9",
        "Cycle 10",
        "Cycle 11",
        "Cycle 12",
        "Cycle 13",
        "Cycle 14",
        "Cycle 15",
        "Cycle 16",
        "Cycle 17",
        "Cycle 18",
        "Cycle 19",
        "Cycle 20",
        "Cycle 21",
        "Cycle 22",
        "Cycle 23",
        "Cycle 24"
       ],
       "_view_module_version": "~2.1.4",
       "layout": "IPY_MODEL_b1ae410d44c54a4386470fb19968da3b",
       "value": [
        "Cycle  6"
       ]
      }
     },
     "15be664376b742f0b17fa5f0fc466cf4": {
      "model_module": "jupyter-js-widgets",
      "model_module_version": "~2.1.4",
      "model_name": "SelectMultipleModel",
      "state": {
       "_model_module_version": "~2.1.4",
       "_options_labels": [
        "01: 1823-05 (0.143)",
        "02: 1833-11 (12.182)",
        "03: 1843-07 (17.615)",
        "04: 1855-12 (5.997)",
        "05: 1867-03 (9.872)",
        "06: 1878-12 (3.750)",
        "07: 1890-03 (8.279)",
        "08: 1902-01 (4.474)",
        "09: 1913-07 (2.442)",
        "10: 1923-08 (9.362)",
        "11: 1933-09 (5.789)",
        "12: 1944-02 (12.883)",
        "13: 1954-04 (5.096)",
        "14: 1964-10 (14.237)",
        "15: 1976-03 (17.792)",
        "16: 1986-09 (13.520)",
        "17: 1996-05 (11.171)",
        "18: 2008-12 (2.248)"
       ],
       "_view_module_version": "~2.1.4",
       "layout": "IPY_MODEL_f3f4bf5cd2d24feaa6b02d30b5b56a82",
       "value": []
      }
     },
     "15e1f821490e4e29b3c3e3102bccc458": {
      "model_module": "jupyter-js-widgets",
      "model_module_version": "~2.1.4",
      "model_name": "LabelModel",
      "state": {
       "_model_module_version": "~2.1.4",
       "_view_module_version": "~2.1.4",
       "layout": "IPY_MODEL_147fadd353bf4c14abf69d85b36ea6ac",
       "value": "Ciclos solares"
      }
     },
     "15e736966cd741e6b931582003a265a2": {
      "model_module": "jupyter-js-widgets",
      "model_module_version": "~2.1.4",
      "model_name": "LayoutModel",
      "state": {
       "_model_module_version": "~2.1.4",
       "_view_module_version": "~2.1.4"
      }
     },
     "15e76f63f0014c7496170c404295e2be": {
      "model_module": "jupyter-js-widgets",
      "model_module_version": "~2.1.4",
      "model_name": "OutputModel",
      "state": {
       "_dom_classes": [],
       "_model_module": "jupyter-js-widgets",
       "_model_module_version": "~2.1.4",
       "_view_module": "jupyter-js-widgets",
       "_view_module_version": "~2.1.4",
       "layout": "IPY_MODEL_f2191cb30f9d4cfb91d78529505f033d",
       "msg_throttle": 1
      }
     },
     "1632797d89484d9d9e90e13c347b29f5": {
      "model_module": "jupyter-js-widgets",
      "model_module_version": "~2.1.4",
      "model_name": "LabelModel",
      "state": {
       "_model_module_version": "~2.1.4",
       "_view_module_version": "~2.1.4",
       "layout": "IPY_MODEL_8c77cbcb426d459ea865acf82e90c5f3",
       "value": "Ciclos solares"
      }
     },
     "1656b6ddcabf470cb725a470ccab451e": {
      "model_module": "jupyter-js-widgets",
      "model_module_version": "~2.1.4",
      "model_name": "OutputModel",
      "state": {
       "_dom_classes": [],
       "_model_module": "jupyter-js-widgets",
       "_model_module_version": "~2.1.4",
       "_view_module": "jupyter-js-widgets",
       "_view_module_version": "~2.1.4",
       "layout": "IPY_MODEL_078dcd3653fe4bc687e3e1ef1c87daa6",
       "msg_throttle": 1
      }
     },
     "1658f57570b04cadb51948c78a23a497": {
      "model_module": "jupyter-js-widgets",
      "model_module_version": "~2.1.4",
      "model_name": "LayoutModel",
      "state": {
       "_model_module_version": "~2.1.4",
       "_view_module_version": "~2.1.4",
       "margin": "5px 2px 0",
       "width": "300px"
      }
     },
     "16cafb64c9e04c3bad28f5ef74d78f0a": {
      "model_module": "jupyter-js-widgets",
      "model_module_version": "~2.1.4",
      "model_name": "LayoutModel",
      "state": {
       "_model_module_version": "~2.1.4",
       "_view_module_version": "~2.1.4"
      }
     },
     "16cfbea45d6a477288c2296db31f4ac7": {
      "model_module": "jupyter-js-widgets",
      "model_module_version": "~2.1.4",
      "model_name": "SelectMultipleModel",
      "state": {
       "_model_module_version": "~2.1.4",
       "_options_labels": [
        "Cycle  6",
        "Cycle  7",
        "Cycle  8",
        "Cycle  9",
        "Cycle 10",
        "Cycle 11",
        "Cycle 12",
        "Cycle 13",
        "Cycle 14",
        "Cycle 15",
        "Cycle 16",
        "Cycle 17",
        "Cycle 18",
        "Cycle 19",
        "Cycle 20",
        "Cycle 21",
        "Cycle 22",
        "Cycle 23",
        "Cycle 24"
       ],
       "_view_module_version": "~2.1.4",
       "layout": "IPY_MODEL_b94ddb76141e4bb2b8fbdca02b825ab7",
       "value": [
        "Cycle  6",
        "Cycle  7",
        "Cycle  8",
        "Cycle 24"
       ]
      }
     },
     "17083099651c4d4b8d7c786a8caa07b7": {
      "model_module": "jupyter-js-widgets",
      "model_module_version": "~2.1.4",
      "model_name": "ButtonModel",
      "state": {
       "_model_module_version": "~2.1.4",
       "_view_module_version": "~2.1.4",
       "description": "Eliminar ciclos selecionados",
       "layout": "IPY_MODEL_ac80e3280ff74a4ea0f4b1fe9843b6cf",
       "style": "IPY_MODEL_440a77c38a97406eaba5d0d9682aa15f"
      }
     },
     "17144527a3bc42f285c5ae6aa82601e6": {
      "model_module": "jupyter-js-widgets",
      "model_module_version": "~2.1.4",
      "model_name": "LayoutModel",
      "state": {
       "_model_module_version": "~2.1.4",
       "_view_module_version": "~2.1.4"
      }
     },
     "17358bce093a4f3eb38fecab68bd06bf": {
      "model_module": "jupyter-js-widgets",
      "model_module_version": "~2.1.4",
      "model_name": "HBoxModel",
      "state": {
       "_model_module_version": "~2.1.4",
       "_view_module_version": "~2.1.4",
       "children": [
        "IPY_MODEL_e053c2d8b3d24de5b23b331c245afb3f",
        "IPY_MODEL_2c578c0a826541ceb6831af5b8f4f39a"
       ],
       "layout": "IPY_MODEL_90a61582c90347daa6d31b5ab9dd55a6"
      }
     },
     "1773566b79f543f4a58b513ce2d2d4e9": {
      "model_module": "jupyter-js-widgets",
      "model_module_version": "~2.1.4",
      "model_name": "LayoutModel",
      "state": {
       "_model_module_version": "~2.1.4",
       "_view_module_version": "~2.1.4"
      }
     },
     "177eab4acdac4b7a8c7b665d3128bc0d": {
      "model_module": "jupyter-js-widgets",
      "model_module_version": "~2.1.4",
      "model_name": "VBoxModel",
      "state": {
       "_model_module_version": "~2.1.4",
       "_view_module_version": "~2.1.4",
       "children": [
        "IPY_MODEL_89ba4be1cfd049f5865e6d7b4d7ffc6f",
        "IPY_MODEL_109e01d2422a4077b666d34be46fa542",
        "IPY_MODEL_da076a421daa48ad9ffca7d11f015631",
        "IPY_MODEL_a884710514124f4fb4289939cf13ed0b",
        "IPY_MODEL_144452091b2d4c15b9de1aecba57d732"
       ],
       "layout": "IPY_MODEL_3ebc4dc0e5ba409b92760e59e0726bda"
      }
     },
     "177fb99f4047406983bbc28e9960ab24": {
      "model_module": "jupyter-js-widgets",
      "model_module_version": "~2.1.4",
      "model_name": "ButtonStyleModel",
      "state": {
       "_model_module_version": "~2.1.4",
       "_view_module_version": "~2.1.4"
      }
     },
     "17867dea1d8c4d5e9e979fc9882e50c6": {
      "model_module": "jupyter-js-widgets",
      "model_module_version": "~2.1.4",
      "model_name": "VBoxModel",
      "state": {
       "_model_module_version": "~2.1.4",
       "_view_module_version": "~2.1.4",
       "children": [
        "IPY_MODEL_ca59e64d11ae4788ab6fe19ebc717ff2",
        "IPY_MODEL_4e912eb4d7fa427fb26359a9e83b4cca",
        "IPY_MODEL_779a3a6d69aa4cb09cd33027335f843d",
        "IPY_MODEL_01ee080a11b041819b327ef6b6a18103",
        "IPY_MODEL_15e76f63f0014c7496170c404295e2be"
       ],
       "layout": "IPY_MODEL_6b5b63bfc757452080b6dbd8a1aeb7a2"
      }
     },
     "179573c212f647a7a2341a0c73234cb6": {
      "model_module": "jupyter-js-widgets",
      "model_module_version": "~2.1.4",
      "model_name": "VBoxModel",
      "state": {
       "_model_module_version": "~2.1.4",
       "_view_module_version": "~2.1.4",
       "children": [
        "IPY_MODEL_0f7bafe0a73c425ba6ab1e9e771ad1bf",
        "IPY_MODEL_af64f24b671c4dff9e31e0d5ca92797a",
        "IPY_MODEL_92b4dadb10254458956944ad6f0b9459"
       ],
       "layout": "IPY_MODEL_449a0c51f402467aa5dbfce3aa9dd2b6"
      }
     },
     "17df91d5a55f4a6f89f19dd2309a12d4": {
      "model_module": "jupyter-js-widgets",
      "model_module_version": "~2.1.4",
      "model_name": "ButtonStyleModel",
      "state": {
       "_model_module_version": "~2.1.4",
       "_view_module_version": "~2.1.4"
      }
     },
     "17ee7f24b78e418a9e7fee913544d74b": {
      "model_module": "jupyter-js-widgets",
      "model_module_version": "~2.1.4",
      "model_name": "VBoxModel",
      "state": {
       "_model_module_version": "~2.1.4",
       "_view_module_version": "~2.1.4",
       "children": [
        "IPY_MODEL_fa7f9f36c87f4f598a077b7f7641b171",
        "IPY_MODEL_c815cfd1bf4046c48c90a8c6285e4639",
        "IPY_MODEL_553e143714bd4c669841eb2c711abe40",
        "IPY_MODEL_6caa10d4317b4fc39567958a4aeb0411"
       ],
       "layout": "IPY_MODEL_cc6c4c0428fe4f3f9acbc5651d207e1e"
      }
     },
     "17efebb527dc42008a92f63181475bb7": {
      "model_module": "jupyter-js-widgets",
      "model_module_version": "~2.1.4",
      "model_name": "ButtonStyleModel",
      "state": {
       "_model_module_version": "~2.1.4",
       "_view_module_version": "~2.1.4"
      }
     },
     "182e86d1100b440d96cd04bd89bb9381": {
      "model_module": "jupyter-js-widgets",
      "model_module_version": "~2.1.4",
      "model_name": "LayoutModel",
      "state": {
       "_model_module_version": "~2.1.4",
       "_view_module_version": "~2.1.4"
      }
     },
     "1832057d82eb4255adc2b6289a70e733": {
      "model_module": "jupyter-js-widgets",
      "model_module_version": "~2.1.4",
      "model_name": "ButtonStyleModel",
      "state": {
       "_model_module_version": "~2.1.4",
       "_view_module_version": "~2.1.4"
      }
     },
     "1832dd64a8914606986e26395cce285a": {
      "model_module": "jupyter-js-widgets",
      "model_module_version": "~2.1.4",
      "model_name": "ButtonModel",
      "state": {
       "_model_module_version": "~2.1.4",
       "_view_module_version": "~2.1.4",
       "description": "Limpiar seleción de ciclos",
       "layout": "IPY_MODEL_5eb809dff91844f683e860133a33873c",
       "style": "IPY_MODEL_ef03d7d6421647ada01c565cb519eae8"
      }
     },
     "186aec4202b9464e90d98e2917ede8c5": {
      "model_module": "jupyter-js-widgets",
      "model_module_version": "~2.1.4",
      "model_name": "LayoutModel",
      "state": {
       "_model_module_version": "~2.1.4",
       "_view_module_version": "~2.1.4"
      }
     },
     "18b6bd36167a4b4884ec2f2b577f674d": {
      "model_module": "jupyter-js-widgets",
      "model_module_version": "~2.1.4",
      "model_name": "LayoutModel",
      "state": {
       "_model_module_version": "~2.1.4",
       "_view_module_version": "~2.1.4"
      }
     },
     "18e4fd01fcba473299b88f1196249d35": {
      "model_module": "jupyter-js-widgets",
      "model_module_version": "~2.1.4",
      "model_name": "OutputModel",
      "state": {
       "_dom_classes": [],
       "_model_module": "jupyter-js-widgets",
       "_model_module_version": "~2.1.4",
       "_view_module": "jupyter-js-widgets",
       "_view_module_version": "~2.1.4",
       "layout": "IPY_MODEL_92fc863e845846e382751491f849adb7",
       "msg_throttle": 1
      }
     },
     "1932b6d6d86747238a7da63962fad697": {
      "model_module": "jupyter-js-widgets",
      "model_module_version": "~2.1.4",
      "model_name": "LayoutModel",
      "state": {
       "_model_module_version": "~2.1.4",
       "_view_module_version": "~2.1.4"
      }
     },
     "19406580481047ad97e216f75003e9d2": {
      "model_module": "jupyter-js-widgets",
      "model_module_version": "~2.1.4",
      "model_name": "CheckboxModel",
      "state": {
       "_model_module_version": "~2.1.4",
       "_view_module_version": "~2.1.4",
       "description": "Cycle 10",
       "disabled": false,
       "layout": "IPY_MODEL_d403f86aea3c4b03bf5ef0aa22359b59",
       "value": true
      }
     },
     "198a1971af934cd9ae8a22cf006a4160": {
      "model_module": "jupyter-js-widgets",
      "model_module_version": "~2.1.4",
      "model_name": "LayoutModel",
      "state": {
       "_model_module_version": "~2.1.4",
       "_view_module_version": "~2.1.4"
      }
     },
     "19a364757f274b21a077d4f738c89b51": {
      "model_module": "jupyter-js-widgets",
      "model_module_version": "~2.1.4",
      "model_name": "LayoutModel",
      "state": {
       "_model_module_version": "~2.1.4",
       "_view_module_version": "~2.1.4",
       "width": "100%"
      }
     },
     "19dd674928174bce85fc6f2337645fce": {
      "model_module": "jupyter-js-widgets",
      "model_module_version": "~2.1.4",
      "model_name": "SelectMultipleModel",
      "state": {
       "_model_module_version": "~2.1.4",
       "_options_labels": [
        "01: 1829-11 (119.247)",
        "02: 1837-03 (244.868)",
        "03: 1848-02 (219.938)",
        "04: 1860-02 (186.154)",
        "05: 1870-08 (234.021)",
        "06: 1883-12 (124.408)",
        "07: 1894-01 (146.535)",
        "08: 1906-02 (107.068)",
        "09: 1917-08 (175.675)",
        "10: 1928-04 (130.228)",
        "11: 1937-04 (198.636)",
        "12: 1947-05 (218.737)",
        "13: 1958-03 (284.998)",
        "14: 1968-11 (156.632)",
        "15: 1979-12 (232.912)",
        "16: 1989-11 (212.480)",
        "17: 2001-11 (180.273)",
        "18: 2014-04 (116.407)"
       ],
       "_view_module_version": "~2.1.4",
       "layout": "IPY_MODEL_d0d687bbd670460cb6e8f0e6074bbfd6",
       "value": []
      }
     },
     "19eebbab983d44ad9ecb4d7a6f76f1d4": {
      "model_module": "jupyter-js-widgets",
      "model_module_version": "~2.1.4",
      "model_name": "LayoutModel",
      "state": {
       "_model_module_version": "~2.1.4",
       "_view_module_version": "~2.1.4"
      }
     },
     "19f6ff158fdf4356a01861ab15117561": {
      "model_module": "jupyter-js-widgets",
      "model_module_version": "~2.1.4",
      "model_name": "LayoutModel",
      "state": {
       "_model_module_version": "~2.1.4",
       "_view_module_version": "~2.1.4"
      }
     },
     "1a18f27f18ab468a93088ee30c165beb": {
      "model_module": "jupyter-js-widgets",
      "model_module_version": "~2.1.4",
      "model_name": "LabelModel",
      "state": {
       "_model_module_version": "~2.1.4",
       "_view_module_version": "~2.1.4",
       "layout": "IPY_MODEL_810d874957084d1fbaca5ea49476c8c4",
       "value": "Ciclos solares"
      }
     },
     "1aef685faf004f018a0d445627232dac": {
      "model_module": "jupyter-js-widgets",
      "model_module_version": "~2.1.4",
      "model_name": "LayoutModel",
      "state": {
       "_model_module_version": "~2.1.4",
       "_view_module_version": "~2.1.4",
       "margin": "5px 2px 0",
       "width": "300px"
      }
     },
     "1af9a4cb4fff445f9fbd3db19afe5dd5": {
      "model_module": "jupyter-js-widgets",
      "model_module_version": "~2.1.4",
      "model_name": "HBoxModel",
      "state": {
       "_model_module_version": "~2.1.4",
       "_view_module_version": "~2.1.4",
       "children": [
        "IPY_MODEL_f2f5341788aa4da9b6a9a54090afc137",
        "IPY_MODEL_5c2071623d79475591f29981d78f1c65"
       ],
       "layout": "IPY_MODEL_db021a86df5d473ea61a744e492f6d33"
      }
     },
     "1b1abc9930044f2185bb4255563ab888": {
      "model_module": "jupyter-js-widgets",
      "model_module_version": "~2.1.4",
      "model_name": "OutputModel",
      "state": {
       "_dom_classes": [],
       "_model_module": "jupyter-js-widgets",
       "_model_module_version": "~2.1.4",
       "_view_module": "jupyter-js-widgets",
       "_view_module_version": "~2.1.4",
       "layout": "IPY_MODEL_18b6bd36167a4b4884ec2f2b577f674d",
       "msg_throttle": 1
      }
     },
     "1b3f50c25b934816b71979149ae5823a": {
      "model_module": "jupyter-js-widgets",
      "model_module_version": "~2.1.4",
      "model_name": "ButtonModel",
      "state": {
       "_model_module_version": "~2.1.4",
       "_view_module_version": "~2.1.4",
       "description": "Limpiar seleción de ciclos",
       "layout": "IPY_MODEL_51243a1c14ee46888e87c19b22514168",
       "style": "IPY_MODEL_b1907fa231404526b959d9ab093d0848"
      }
     },
     "1b4ac538caa248b7a6bb83b6e0233747": {
      "model_module": "jupyter-js-widgets",
      "model_module_version": "~2.1.4",
      "model_name": "OutputModel",
      "state": {
       "_dom_classes": [],
       "_model_module": "jupyter-js-widgets",
       "_model_module_version": "~2.1.4",
       "_view_module": "jupyter-js-widgets",
       "_view_module_version": "~2.1.4",
       "layout": "IPY_MODEL_19eebbab983d44ad9ecb4d7a6f76f1d4",
       "msg_throttle": 1
      }
     },
     "1b58bc659b8644319dbc777728a9941b": {
      "model_module": "jupyter-js-widgets",
      "model_module_version": "~2.1.4",
      "model_name": "LayoutModel",
      "state": {
       "_model_module_version": "~2.1.4",
       "_view_module_version": "~2.1.4"
      }
     },
     "1b6425eee4cf448d8e222255fb498c08": {
      "model_module": "jupyter-js-widgets",
      "model_module_version": "~2.1.4",
      "model_name": "LayoutModel",
      "state": {
       "_model_module_version": "~2.1.4",
       "_view_module_version": "~2.1.4",
       "width": "100%"
      }
     },
     "1be43d537f0a4f06b4857a7a65606741": {
      "model_module": "jupyter-js-widgets",
      "model_module_version": "~2.1.4",
      "model_name": "LayoutModel",
      "state": {
       "_model_module_version": "~2.1.4",
       "_view_module_version": "~2.1.4"
      }
     },
     "1c21e43d1ae8419298437a8d1a514f88": {
      "model_module": "jupyter-js-widgets",
      "model_module_version": "~2.1.4",
      "model_name": "OutputModel",
      "state": {
       "_dom_classes": [],
       "_model_module": "jupyter-js-widgets",
       "_model_module_version": "~2.1.4",
       "_view_module": "jupyter-js-widgets",
       "_view_module_version": "~2.1.4",
       "layout": "IPY_MODEL_1be43d537f0a4f06b4857a7a65606741",
       "msg_throttle": 1
      }
     },
     "1c3d10fcfb904fe7bb7645eb64635513": {
      "model_module": "jupyter-js-widgets",
      "model_module_version": "~2.1.4",
      "model_name": "VBoxModel",
      "state": {
       "_model_module_version": "~2.1.4",
       "_view_module_version": "~2.1.4",
       "children": [
        "IPY_MODEL_6a7b1af5305c40c68bd5e51c93f914b9",
        "IPY_MODEL_d8d84e515192469d8c5de0363085f610",
        "IPY_MODEL_b7154e2a1a1b47b89b5919aaffb2cd19",
        "IPY_MODEL_bb17127b19174e958f4281710a847e5c",
        "IPY_MODEL_1b4ac538caa248b7a6bb83b6e0233747"
       ],
       "layout": "IPY_MODEL_1b58bc659b8644319dbc777728a9941b"
      }
     },
     "1c8f4b19d3a746ed821cb97f7e9bf3a7": {
      "model_module": "jupyter-js-widgets",
      "model_module_version": "~2.1.4",
      "model_name": "ButtonStyleModel",
      "state": {
       "_model_module_version": "~2.1.4",
       "_view_module_version": "~2.1.4"
      }
     },
     "1cd37bc87ec547a796e32c08cbeeea4f": {
      "model_module": "jupyter-js-widgets",
      "model_module_version": "~2.1.4",
      "model_name": "LabelModel",
      "state": {
       "_model_module_version": "~2.1.4",
       "_view_module_version": "~2.1.4",
       "layout": "IPY_MODEL_ed15f857b57e434f99114d64df9fd16e",
       "value": "Máximos"
      }
     },
     "1ce00b3b16c84553a69ff3990503a605": {
      "model_module": "jupyter-js-widgets",
      "model_module_version": "~2.1.4",
      "model_name": "LayoutModel",
      "state": {
       "_model_module_version": "~2.1.4",
       "_view_module_version": "~2.1.4",
       "width": "100%"
      }
     },
     "1d0ba2a9d75a49ce83788d7d1f1f6bf7": {
      "model_module": "jupyter-js-widgets",
      "model_module_version": "~2.1.4",
      "model_name": "ButtonModel",
      "state": {
       "_model_module_version": "~2.1.4",
       "_view_module_version": "~2.1.4",
       "description": "Eliminar ciclos selecionados",
       "layout": "IPY_MODEL_f4802a14b1104d448f6a009410e8c85c",
       "style": "IPY_MODEL_4153e5ba310940ad831e324e7388347d"
      }
     },
     "1d17ccca9c7c42599d93701f749cdc57": {
      "model_module": "jupyter-js-widgets",
      "model_module_version": "~2.1.4",
      "model_name": "LayoutModel",
      "state": {
       "_model_module_version": "~2.1.4",
       "_view_module_version": "~2.1.4"
      }
     },
     "1d714e8c37294a9fb7ac1d55d2004eb6": {
      "model_module": "jupyter-js-widgets",
      "model_module_version": "~2.1.4",
      "model_name": "LayoutModel",
      "state": {
       "_model_module_version": "~2.1.4",
       "_view_module_version": "~2.1.4",
       "width": "100%"
      }
     },
     "1def9657d73049f289cffa76bd826c79": {
      "model_module": "jupyter-js-widgets",
      "model_module_version": "~2.1.4",
      "model_name": "VBoxModel",
      "state": {
       "_model_module_version": "~2.1.4",
       "_view_module_version": "~2.1.4",
       "children": [
        "IPY_MODEL_953dfd3106e04004a42444495a555d92",
        "IPY_MODEL_17358bce093a4f3eb38fecab68bd06bf",
        "IPY_MODEL_b8652082997d4cdc9d39de2b2e40644d"
       ],
       "layout": "IPY_MODEL_ba94cc9d8f8d4e9cb4c3f43287dcbcd3"
      }
     },
     "1e4ec0ebfbc64c06aa63e5f8f152b556": {
      "model_module": "jupyter-js-widgets",
      "model_module_version": "~2.1.4",
      "model_name": "SelectMultipleModel",
      "state": {
       "_model_module_version": "~2.1.4",
       "_options_labels": [
        "Cycle  6",
        "Cycle  7",
        "Cycle  8",
        "Cycle  9",
        "Cycle 10",
        "Cycle 11",
        "Cycle 12",
        "Cycle 13",
        "Cycle 14",
        "Cycle 15",
        "Cycle 16",
        "Cycle 17",
        "Cycle 18",
        "Cycle 19",
        "Cycle 20",
        "Cycle 21",
        "Cycle 22",
        "Cycle 23",
        "Cycle 24"
       ],
       "_view_module_version": "~2.1.4",
       "layout": "IPY_MODEL_61faf943ddcd4400971fd38a867ee995",
       "value": [
        "Cycle  6",
        "Cycle  7",
        "Cycle  8",
        "Cycle 24"
       ]
      }
     },
     "1e545a6c4615457da8288b314e5934ab": {
      "model_module": "jupyter-js-widgets",
      "model_module_version": "~2.1.4",
      "model_name": "LayoutModel",
      "state": {
       "_model_module_version": "~2.1.4",
       "_view_module_version": "~2.1.4"
      }
     },
     "1ea4f19a05344f9c84d564689a2459ed": {
      "model_module": "jupyter-js-widgets",
      "model_module_version": "~2.1.4",
      "model_name": "ButtonStyleModel",
      "state": {
       "_model_module_version": "~2.1.4",
       "_view_module_version": "~2.1.4"
      }
     },
     "1ed877834c2c4d6ca920dc4e46b387af": {
      "model_module": "jupyter-js-widgets",
      "model_module_version": "~2.1.4",
      "model_name": "ButtonModel",
      "state": {
       "_model_module_version": "~2.1.4",
       "_view_module_version": "~2.1.4",
       "description": "Limpiar seleción de ciclos",
       "layout": "IPY_MODEL_24dbd62ee001463c843cbc777b6c3f29",
       "style": "IPY_MODEL_0fa50966f10d4f339c1ee6cfbe2f831f"
      }
     },
     "1f0643c6d43e4af49c9e7ca3e93c17ea": {
      "model_module": "jupyter-js-widgets",
      "model_module_version": "~2.1.4",
      "model_name": "LabelModel",
      "state": {
       "_model_module_version": "~2.1.4",
       "_view_module_version": "~2.1.4",
       "layout": "IPY_MODEL_4c645162ae254290af8be298c11f2c48",
       "value": "Ciclos solares"
      }
     },
     "1f0aee3e0ace4a118039dac50e791342": {
      "model_module": "jupyter-js-widgets",
      "model_module_version": "~2.1.4",
      "model_name": "LayoutModel",
      "state": {
       "_model_module_version": "~2.1.4",
       "_view_module_version": "~2.1.4"
      }
     },
     "1f59918703f84fc291fad69f7a4e61e3": {
      "model_module": "jupyter-js-widgets",
      "model_module_version": "~2.1.4",
      "model_name": "VBoxModel",
      "state": {
       "_model_module_version": "~2.1.4",
       "_view_module_version": "~2.1.4",
       "children": [
        "IPY_MODEL_d5ad4212881c4cc6aa0a085ad2864e24",
        "IPY_MODEL_d039d94dbab64e588e8055feb1df56d3",
        "IPY_MODEL_61dccb0fb49c45fea8c8b5351ae3888a",
        "IPY_MODEL_d58259a7f3f148e695add4762eaf83cd",
        "IPY_MODEL_b48246339d614b55aa92fde792da6bfd"
       ],
       "layout": "IPY_MODEL_26c9385d70004fcead96178bea327341"
      }
     },
     "1f5b8b099bd14c20ad23b04cb79c661c": {
      "model_module": "jupyter-js-widgets",
      "model_module_version": "~2.1.4",
      "model_name": "LayoutModel",
      "state": {
       "_model_module_version": "~2.1.4",
       "_view_module_version": "~2.1.4",
       "margin": "5px 2px 0",
       "width": "300px"
      }
     },
     "2000b1a3c32c4530949f82fbf86ce9b8": {
      "model_module": "jupyter-js-widgets",
      "model_module_version": "~2.1.4",
      "model_name": "ButtonStyleModel",
      "state": {
       "_model_module_version": "~2.1.4",
       "_view_module_version": "~2.1.4"
      }
     },
     "201768319f4c4822b8f60d1ace137233": {
      "model_module": "jupyter-js-widgets",
      "model_module_version": "~2.1.4",
      "model_name": "VBoxModel",
      "state": {
       "_model_module_version": "~2.1.4",
       "_view_module_version": "~2.1.4",
       "children": [
        "IPY_MODEL_022bc77633a34c4eb38c7c1d84fae510",
        "IPY_MODEL_3e7a87c0851e4938a5f45b3f6f2bf9ed",
        "IPY_MODEL_df33742abb12464da9c46d1f45bdbd1d",
        "IPY_MODEL_f45c855095ed472baaa486e1f8829455",
        "IPY_MODEL_1656b6ddcabf470cb725a470ccab451e"
       ],
       "layout": "IPY_MODEL_d452f71e1e454c8e8acf3e26c4d34a68"
      }
     },
     "201823b43e164485828076d424d0b050": {
      "model_module": "jupyter-js-widgets",
      "model_module_version": "~2.1.4",
      "model_name": "ButtonModel",
      "state": {
       "_model_module_version": "~2.1.4",
       "_view_module_version": "~2.1.4",
       "description": "Limpiar seleción de ciclos",
       "layout": "IPY_MODEL_2e07df8efcad41c990d63013ee2dcd10",
       "style": "IPY_MODEL_6967d9639ec54b5bacd07d6803f6a61c"
      }
     },
     "202e761d332e4f22828fd3f1bfaa5f60": {
      "model_module": "jupyter-js-widgets",
      "model_module_version": "~2.1.4",
      "model_name": "SelectMultipleModel",
      "state": {
       "_model_module_version": "~2.1.4",
       "_options_labels": [
        "Cycle  6",
        "Cycle  7",
        "Cycle  8",
        "Cycle  9",
        "Cycle 10",
        "Cycle 11",
        "Cycle 12",
        "Cycle 13",
        "Cycle 14",
        "Cycle 15",
        "Cycle 16",
        "Cycle 17",
        "Cycle 18",
        "Cycle 19",
        "Cycle 20",
        "Cycle 21",
        "Cycle 22",
        "Cycle 23",
        "Cycle 24"
       ],
       "_view_module_version": "~2.1.4",
       "layout": "IPY_MODEL_c734648cd2ec4fc19a083bd3eba5d92e",
       "value": [
        "Cycle  9"
       ]
      }
     },
     "203dc129e9004aca9dbfca9935ec0e13": {
      "model_module": "jupyter-js-widgets",
      "model_module_version": "~2.1.4",
      "model_name": "LayoutModel",
      "state": {
       "_model_module_version": "~2.1.4",
       "_view_module_version": "~2.1.4"
      }
     },
     "205e386952bb49d6aba9b971bc3b0a19": {
      "model_module": "jupyter-js-widgets",
      "model_module_version": "~2.1.4",
      "model_name": "LayoutModel",
      "state": {
       "_model_module_version": "~2.1.4",
       "_view_module_version": "~2.1.4",
       "width": "100%"
      }
     },
     "207de797f433430ea3223319d4001b52": {
      "model_module": "jupyter-js-widgets",
      "model_module_version": "~2.1.4",
      "model_name": "ButtonModel",
      "state": {
       "_model_module_version": "~2.1.4",
       "_view_module_version": "~2.1.4",
       "description": "Limpiar seleción de ciclos",
       "layout": "IPY_MODEL_5205d4adba454bc785e5f71f2f1c0c4f",
       "style": "IPY_MODEL_a0daa49223ac4b2c8abe2a70e1eb6559"
      }
     },
     "20801164f46a4cc6b104f7d005887db9": {
      "model_module": "jupyter-js-widgets",
      "model_module_version": "~2.1.4",
      "model_name": "LabelModel",
      "state": {
       "_model_module_version": "~2.1.4",
       "_view_module_version": "~2.1.4",
       "layout": "IPY_MODEL_581308a62f3340a99e8eeb5418ca4c0c",
       "value": "Ciclos solares"
      }
     },
     "2082c384a3c242b3afc5a8d459ebf2e0": {
      "model_module": "jupyter-js-widgets",
      "model_module_version": "~2.1.4",
      "model_name": "ButtonModel",
      "state": {
       "_model_module_version": "~2.1.4",
       "_view_module_version": "~2.1.4",
       "description": "Eliminar ciclos selecionados",
       "layout": "IPY_MODEL_94525d3caf86468fb9afb04e80698236",
       "style": "IPY_MODEL_b23ccb36c13944f7b1767326f8917c6c"
      }
     },
     "2089cb6ee2b54c92925b3019448004de": {
      "model_module": "jupyter-js-widgets",
      "model_module_version": "~2.1.4",
      "model_name": "LayoutModel",
      "state": {
       "_model_module_version": "~2.1.4",
       "_view_module_version": "~2.1.4",
       "margin": "5px 2px 0",
       "width": "300px"
      }
     },
     "20924161c50a4dcebfb7c9595d82c437": {
      "model_module": "jupyter-js-widgets",
      "model_module_version": "~2.1.4",
      "model_name": "LayoutModel",
      "state": {
       "_model_module_version": "~2.1.4",
       "_view_module_version": "~2.1.4",
       "margin": "5px 2px 0",
       "width": "300px"
      }
     },
     "20e346540afc40c5ad990aa4ceac642d": {
      "model_module": "jupyter-js-widgets",
      "model_module_version": "~2.1.4",
      "model_name": "LayoutModel",
      "state": {
       "_model_module_version": "~2.1.4",
       "_view_module_version": "~2.1.4",
       "margin": "5px 2px 0",
       "width": "300px"
      }
     },
     "21cd0483504441e8acb036789fecbcd9": {
      "model_module": "jupyter-js-widgets",
      "model_module_version": "~2.1.4",
      "model_name": "LabelModel",
      "state": {
       "_model_module_version": "~2.1.4",
       "_view_module_version": "~2.1.4",
       "layout": "IPY_MODEL_efad284521a44c14a4a3dca0ba271277",
       "value": "Máximos (18)"
      }
     },
     "226c539d0676462ca0fef7298b92e355": {
      "model_module": "jupyter-js-widgets",
      "model_module_version": "~2.1.4",
      "model_name": "ButtonStyleModel",
      "state": {
       "_model_module_version": "~2.1.4",
       "_view_module_version": "~2.1.4"
      }
     },
     "227194316c604f0fa27c90cb3f98c03d": {
      "model_module": "jupyter-js-widgets",
      "model_module_version": "~2.1.4",
      "model_name": "ButtonModel",
      "state": {
       "_model_module_version": "~2.1.4",
       "_view_module_version": "~2.1.4",
       "description": "Eliminar ciclos selecionados",
       "layout": "IPY_MODEL_a87ddfc6f5ad45969953704068c8943c",
       "style": "IPY_MODEL_27acbeffe51844c694793355361c9a5a"
      }
     },
     "22bbb8184c304f3fb5594720a5470908": {
      "model_module": "jupyter-js-widgets",
      "model_module_version": "~2.1.4",
      "model_name": "ButtonModel",
      "state": {
       "_model_module_version": "~2.1.4",
       "_view_module_version": "~2.1.4",
       "description": "Limpiar seleción de ciclos",
       "layout": "IPY_MODEL_a3a7f096de244433a69945b0daff17e3",
       "style": "IPY_MODEL_a074e641a8234206b226a3eabd9c8832"
      }
     },
     "23158ed33df844839f2f4213a6711d00": {
      "model_module": "jupyter-js-widgets",
      "model_module_version": "~2.1.4",
      "model_name": "ButtonStyleModel",
      "state": {
       "_model_module_version": "~2.1.4",
       "_view_module_version": "~2.1.4"
      }
     },
     "2316377fcd684af3b2d4bc64006647b8": {
      "model_module": "jupyter-js-widgets",
      "model_module_version": "~2.1.4",
      "model_name": "LayoutModel",
      "state": {
       "_model_module_version": "~2.1.4",
       "_view_module_version": "~2.1.4",
       "margin": "5px 2px 0",
       "width": "300px"
      }
     },
     "2322870cba51471ba5a7223d3761a3dd": {
      "model_module": "jupyter-js-widgets",
      "model_module_version": "~2.1.4",
      "model_name": "LabelModel",
      "state": {
       "_model_module_version": "~2.1.4",
       "_view_module_version": "~2.1.4",
       "layout": "IPY_MODEL_33e168fce92047c8af9f234a43bf9f78",
       "value": "Ciclos solares"
      }
     },
     "23259c9784a142d1bb44e497ea95e399": {
      "model_module": "jupyter-js-widgets",
      "model_module_version": "~2.1.4",
      "model_name": "SelectMultipleModel",
      "state": {
       "_model_module_version": "~2.1.4",
       "_options_labels": [
        "Cycle  6",
        "Cycle  7",
        "Cycle  8",
        "Cycle  9",
        "Cycle 10",
        "Cycle 11",
        "Cycle 12",
        "Cycle 13",
        "Cycle 14",
        "Cycle 15",
        "Cycle 16",
        "Cycle 17",
        "Cycle 18",
        "Cycle 19",
        "Cycle 20",
        "Cycle 21",
        "Cycle 22",
        "Cycle 23",
        "Cycle 24"
       ],
       "_view_module_version": "~2.1.4",
       "layout": "IPY_MODEL_6881efba441c42c6a827fde8a625a36f",
       "value": [
        "Cycle  6",
        "Cycle  7",
        "Cycle  8"
       ]
      }
     },
     "242f34d070914da19c3e265eefa18cea": {
      "model_module": "jupyter-js-widgets",
      "model_module_version": "~2.1.4",
      "model_name": "LabelModel",
      "state": {
       "_model_module_version": "~2.1.4",
       "_view_module_version": "~2.1.4",
       "layout": "IPY_MODEL_589ae3233be14c47ab7fab259ee4633d",
       "value": "Ciclos solares"
      }
     },
     "24447708f91e4334b0feaa01925dff6e": {
      "model_module": "jupyter-js-widgets",
      "model_module_version": "~2.1.4",
      "model_name": "ButtonModel",
      "state": {
       "_model_module_version": "~2.1.4",
       "_view_module_version": "~2.1.4",
       "description": "Eliminar ciclos selecionados",
       "layout": "IPY_MODEL_50f6178713024a0c9dce04b1eef4d4ef",
       "style": "IPY_MODEL_2fd5b57079d54f719fe5ed4c35406c23"
      }
     },
     "24503b5cd3aa47c0b17995ca84e84a2d": {
      "model_module": "jupyter-js-widgets",
      "model_module_version": "~2.1.4",
      "model_name": "LayoutModel",
      "state": {
       "_model_module_version": "~2.1.4",
       "_view_module_version": "~2.1.4"
      }
     },
     "24835efe0b374476ae336ef35f38fbdd": {
      "model_module": "jupyter-js-widgets",
      "model_module_version": "~2.1.4",
      "model_name": "ButtonModel",
      "state": {
       "_model_module_version": "~2.1.4",
       "_view_module_version": "~2.1.4",
       "description": "Limpiar seleción de mínimos",
       "layout": "IPY_MODEL_5419217225eb4f0ba374e8d8b64d1df3",
       "style": "IPY_MODEL_8ea9a91d0e1e41ad857e9587c8a646b2"
      }
     },
     "24bb794301f74a188f7f4d71c52527c0": {
      "model_module": "jupyter-js-widgets",
      "model_module_version": "~2.1.4",
      "model_name": "SelectMultipleModel",
      "state": {
       "_model_module_version": "~2.1.4",
       "_options_labels": [
        "Cycle  6",
        "Cycle  7",
        "Cycle  8",
        "Cycle  9",
        "Cycle 10",
        "Cycle 11",
        "Cycle 12",
        "Cycle 13",
        "Cycle 14",
        "Cycle 15",
        "Cycle 16",
        "Cycle 17",
        "Cycle 18",
        "Cycle 19",
        "Cycle 20",
        "Cycle 21",
        "Cycle 22",
        "Cycle 23",
        "Cycle 24"
       ],
       "_view_module_version": "~2.1.4",
       "layout": "IPY_MODEL_b6f90e6c0f0e4f58ac8b68366c7ca294",
       "value": [
        "Cycle  7",
        "Cycle  8",
        "Cycle 24"
       ]
      }
     },
     "24cea1040eea47c492f4cdfde20acdc8": {
      "model_module": "jupyter-js-widgets",
      "model_module_version": "~2.1.4",
      "model_name": "LayoutModel",
      "state": {
       "_model_module_version": "~2.1.4",
       "_view_module_version": "~2.1.4"
      }
     },
     "24da840f9dae401e8fcd4b7d1254ad84": {
      "model_module": "jupyter-js-widgets",
      "model_module_version": "~2.1.4",
      "model_name": "LabelModel",
      "state": {
       "_model_module_version": "~2.1.4",
       "_view_module_version": "~2.1.4",
       "layout": "IPY_MODEL_568bbe5771664c7384ed9c485908ac53",
       "value": "Ciclos solares"
      }
     },
     "24dbd62ee001463c843cbc777b6c3f29": {
      "model_module": "jupyter-js-widgets",
      "model_module_version": "~2.1.4",
      "model_name": "LayoutModel",
      "state": {
       "_model_module_version": "~2.1.4",
       "_view_module_version": "~2.1.4",
       "margin": "5px 2px 0",
       "width": "300px"
      }
     },
     "24ef323877394974b12db9f98ec63892": {
      "model_module": "jupyter-js-widgets",
      "model_module_version": "~2.1.4",
      "model_name": "LayoutModel",
      "state": {
       "_model_module_version": "~2.1.4",
       "_view_module_version": "~2.1.4"
      }
     },
     "25179cf4c4a74304ac027552bbe82757": {
      "model_module": "jupyter-js-widgets",
      "model_module_version": "~2.1.4",
      "model_name": "ButtonStyleModel",
      "state": {
       "_model_module_version": "~2.1.4",
       "_view_module_version": "~2.1.4"
      }
     },
     "2523f262dfbe4166a0ca5a8377cd567d": {
      "model_module": "jupyter-js-widgets",
      "model_module_version": "~2.1.4",
      "model_name": "LayoutModel",
      "state": {
       "_model_module_version": "~2.1.4",
       "_view_module_version": "~2.1.4"
      }
     },
     "2564c587598547ef9ba555b526a09b0a": {
      "model_module": "jupyter-js-widgets",
      "model_module_version": "~2.1.4",
      "model_name": "VBoxModel",
      "state": {
       "_model_module_version": "~2.1.4",
       "_view_module_version": "~2.1.4",
       "children": [
        "IPY_MODEL_91c7786f23cb4dd5974a66d256379ba7",
        "IPY_MODEL_6f69b8c0fb4a40f691ae0d8edc8974cf",
        "IPY_MODEL_207de797f433430ea3223319d4001b52",
        "IPY_MODEL_2a238010e2354e48bb0ee94f363e0587",
        "IPY_MODEL_74b198b3a109459388045d00ccbc3538"
       ],
       "layout": "IPY_MODEL_85ea9bc2db5d4b2493d806f472b63aef"
      }
     },
     "25b406516ef8462e95965e8082526143": {
      "model_module": "jupyter-js-widgets",
      "model_module_version": "~2.1.4",
      "model_name": "SelectMultipleModel",
      "state": {
       "_model_module_version": "~2.1.4",
       "_options_labels": [
        "Cycle  6",
        "Cycle  7",
        "Cycle  8",
        "Cycle  9",
        "Cycle 10",
        "Cycle 11",
        "Cycle 12",
        "Cycle 13",
        "Cycle 14",
        "Cycle 15",
        "Cycle 16",
        "Cycle 17",
        "Cycle 18",
        "Cycle 19",
        "Cycle 20",
        "Cycle 21",
        "Cycle 22",
        "Cycle 23",
        "Cycle 24"
       ],
       "_view_module_version": "~2.1.4",
       "layout": "IPY_MODEL_31a258ea13c8427ca8bf84d167b23818",
       "value": [
        "Cycle  6",
        "Cycle  7",
        "Cycle  8",
        "Cycle 24"
       ]
      }
     },
     "25d0d5ebcc2f4b4392eceb21342a48ea": {
      "model_module": "jupyter-js-widgets",
      "model_module_version": "~2.1.4",
      "model_name": "LayoutModel",
      "state": {
       "_model_module_version": "~2.1.4",
       "_view_module_version": "~2.1.4"
      }
     },
     "25da27ff35244373b9d6bcaee52ed540": {
      "model_module": "jupyter-js-widgets",
      "model_module_version": "~2.1.4",
      "model_name": "LayoutModel",
      "state": {
       "_model_module_version": "~2.1.4",
       "_view_module_version": "~2.1.4",
       "width": "100%"
      }
     },
     "25f25f6c7a9c49e8b0035fa8e9bf840a": {
      "model_module": "jupyter-js-widgets",
      "model_module_version": "~2.1.4",
      "model_name": "SelectMultipleModel",
      "state": {
       "_model_module_version": "~2.1.4",
       "_options_labels": [
        "Cycle  6",
        "Cycle  7",
        "Cycle  8",
        "Cycle  9",
        "Cycle 10",
        "Cycle 11",
        "Cycle 12",
        "Cycle 13",
        "Cycle 14",
        "Cycle 15",
        "Cycle 16",
        "Cycle 17",
        "Cycle 18",
        "Cycle 19",
        "Cycle 20",
        "Cycle 21",
        "Cycle 22",
        "Cycle 23",
        "Cycle 24"
       ],
       "_view_module_version": "~2.1.4",
       "layout": "IPY_MODEL_30e393faf3fd49e1ab947c38996c6d10",
       "value": [
        "Cycle  6",
        "Cycle  7",
        "Cycle  8",
        "Cycle 24"
       ]
      }
     },
     "265e39f46c0849199b8d5ce69d1d38b2": {
      "model_module": "jupyter-js-widgets",
      "model_module_version": "~2.1.4",
      "model_name": "LayoutModel",
      "state": {
       "_model_module_version": "~2.1.4",
       "_view_module_version": "~2.1.4"
      }
     },
     "2668b87ff3fb462cb6738992b59b8f1e": {
      "model_module": "jupyter-js-widgets",
      "model_module_version": "~2.1.4",
      "model_name": "LabelModel",
      "state": {
       "_model_module_version": "~2.1.4",
       "_view_module_version": "~2.1.4",
       "layout": "IPY_MODEL_a8aab52a87b048288cdbb1f6d663654e",
       "value": "Lookahead"
      }
     },
     "26bcce0ffd71456ba2980b3271b744e5": {
      "model_module": "jupyter-js-widgets",
      "model_module_version": "~2.1.4",
      "model_name": "OutputModel",
      "state": {
       "_dom_classes": [],
       "_model_module": "jupyter-js-widgets",
       "_model_module_version": "~2.1.4",
       "_view_module": "jupyter-js-widgets",
       "_view_module_version": "~2.1.4",
       "layout": "IPY_MODEL_f5872003369c40e8943fe5830682d8cd",
       "msg_throttle": 1
      }
     },
     "26c9385d70004fcead96178bea327341": {
      "model_module": "jupyter-js-widgets",
      "model_module_version": "~2.1.4",
      "model_name": "LayoutModel",
      "state": {
       "_model_module_version": "~2.1.4",
       "_view_module_version": "~2.1.4"
      }
     },
     "2705450ca7914a3e973c7fa5f2b77ffb": {
      "model_module": "jupyter-js-widgets",
      "model_module_version": "~2.1.4",
      "model_name": "LayoutModel",
      "state": {
       "_model_module_version": "~2.1.4",
       "_view_module_version": "~2.1.4"
      }
     },
     "2716657447fd4ab09421fca58822db89": {
      "model_module": "jupyter-js-widgets",
      "model_module_version": "~2.1.4",
      "model_name": "LayoutModel",
      "state": {
       "_model_module_version": "~2.1.4",
       "_view_module_version": "~2.1.4"
      }
     },
     "27241072e6e74a7ab7e9e495704295d8": {
      "model_module": "jupyter-js-widgets",
      "model_module_version": "~2.1.4",
      "model_name": "LayoutModel",
      "state": {
       "_model_module_version": "~2.1.4",
       "_view_module_version": "~2.1.4"
      }
     },
     "27970c0a9dc64db4a4803436c8b11af2": {
      "model_module": "jupyter-js-widgets",
      "model_module_version": "~2.1.4",
      "model_name": "LayoutModel",
      "state": {
       "_model_module_version": "~2.1.4",
       "_view_module_version": "~2.1.4",
       "margin": "5px 2px 0",
       "width": "300px"
      }
     },
     "27acbeffe51844c694793355361c9a5a": {
      "model_module": "jupyter-js-widgets",
      "model_module_version": "~2.1.4",
      "model_name": "ButtonStyleModel",
      "state": {
       "_model_module_version": "~2.1.4",
       "_view_module_version": "~2.1.4"
      }
     },
     "280e887433d84791a141a82adfa633a3": {
      "model_module": "jupyter-js-widgets",
      "model_module_version": "~2.1.4",
      "model_name": "LayoutModel",
      "state": {
       "_model_module_version": "~2.1.4",
       "_view_module_version": "~2.1.4",
       "margin": "5px 2px 0",
       "width": "300px"
      }
     },
     "2848e3223e194779ba38ce46924bab46": {
      "model_module": "jupyter-js-widgets",
      "model_module_version": "~2.1.4",
      "model_name": "VBoxModel",
      "state": {
       "_model_module_version": "~2.1.4",
       "_view_module_version": "~2.1.4",
       "children": [
        "IPY_MODEL_b3800296e5aa40999f5bf0250fab8ded",
        "IPY_MODEL_b2b50824f29c4fd08f4a36b96bea3094",
        "IPY_MODEL_b51a75fb973c4d0dae700fea90712445"
       ],
       "layout": "IPY_MODEL_66a99910bcd443bcb3e2034b4fb830df"
      }
     },
     "284ad9c10a0a422abc95acaa933bd704": {
      "model_module": "jupyter-js-widgets",
      "model_module_version": "~2.1.4",
      "model_name": "VBoxModel",
      "state": {
       "_model_module_version": "~2.1.4",
       "_view_module_version": "~2.1.4",
       "children": [
        "IPY_MODEL_899fe7d331e64ed09f94266d706ccf65",
        "IPY_MODEL_4f3952af48ac4952b2a58c6217f1e274",
        "IPY_MODEL_6857f06ad9be418193f02ba4f7232a36"
       ],
       "layout": "IPY_MODEL_78d530ff94394567808e572cd0eef632"
      }
     },
     "28f0c212f0bd489db6549456e2ed5103": {
      "model_module": "jupyter-js-widgets",
      "model_module_version": "~2.1.4",
      "model_name": "LabelModel",
      "state": {
       "_model_module_version": "~2.1.4",
       "_view_module_version": "~2.1.4",
       "layout": "IPY_MODEL_c9bd157d8db2410dabd279ac758300ea",
       "value": "Ciclos solares"
      }
     },
     "28fb61f714f941a1ab32d65960869c85": {
      "model_module": "jupyter-js-widgets",
      "model_module_version": "~2.1.4",
      "model_name": "LayoutModel",
      "state": {
       "_model_module_version": "~2.1.4",
       "_view_module_version": "~2.1.4",
       "width": "100%"
      }
     },
     "29503180abc74022851c423202f2b020": {
      "model_module": "jupyter-js-widgets",
      "model_module_version": "~2.1.4",
      "model_name": "SliderStyleModel",
      "state": {
       "_model_module_version": "~2.1.4",
       "_view_module_version": "~2.1.4"
      }
     },
     "295118af114b467ba0b1f2760e30b606": {
      "model_module": "jupyter-js-widgets",
      "model_module_version": "~2.1.4",
      "model_name": "ButtonModel",
      "state": {
       "_model_module_version": "~2.1.4",
       "_view_module_version": "~2.1.4",
       "description": "Eliminar ciclos selecionados",
       "layout": "IPY_MODEL_f245094289f949f0892cae5c4c95a2cc",
       "style": "IPY_MODEL_e466893a64ea40ce86966590ecb9e06d"
      }
     },
     "296b781372914b959a83508be84f7ad6": {
      "model_module": "jupyter-js-widgets",
      "model_module_version": "~2.1.4",
      "model_name": "ButtonStyleModel",
      "state": {
       "_model_module_version": "~2.1.4",
       "_view_module_version": "~2.1.4"
      }
     },
     "2979fe40e4e34b00af6f30ca31bc6c9c": {
      "model_module": "jupyter-js-widgets",
      "model_module_version": "~2.1.4",
      "model_name": "LayoutModel",
      "state": {
       "_model_module_version": "~2.1.4",
       "_view_module_version": "~2.1.4",
       "margin": "5px 2px 0",
       "width": "300px"
      }
     },
     "29919d85d1134c0082bcf3c816929f4a": {
      "model_module": "jupyter-js-widgets",
      "model_module_version": "~2.1.4",
      "model_name": "LayoutModel",
      "state": {
       "_model_module_version": "~2.1.4",
       "_view_module_version": "~2.1.4",
       "margin": "5px 2px 0",
       "width": "300px"
      }
     },
     "29be8a8551364dda93f83fe9534c6804": {
      "model_module": "jupyter-js-widgets",
      "model_module_version": "~2.1.4",
      "model_name": "LayoutModel",
      "state": {
       "_model_module_version": "~2.1.4",
       "_view_module_version": "~2.1.4"
      }
     },
     "29e51435c70a47f4b159004af41517eb": {
      "model_module": "jupyter-js-widgets",
      "model_module_version": "~2.1.4",
      "model_name": "LayoutModel",
      "state": {
       "_model_module_version": "~2.1.4",
       "_view_module_version": "~2.1.4",
       "margin": "5px 2px 0",
       "width": "300px"
      }
     },
     "2a0c61a1afa5490cb972bc12e7f9cf1a": {
      "model_module": "jupyter-js-widgets",
      "model_module_version": "~2.1.4",
      "model_name": "LayoutModel",
      "state": {
       "_model_module_version": "~2.1.4",
       "_view_module_version": "~2.1.4"
      }
     },
     "2a238010e2354e48bb0ee94f363e0587": {
      "model_module": "jupyter-js-widgets",
      "model_module_version": "~2.1.4",
      "model_name": "ButtonModel",
      "state": {
       "_model_module_version": "~2.1.4",
       "_view_module_version": "~2.1.4",
       "description": "Eliminar ciclos selecionados",
       "layout": "IPY_MODEL_352ad5454402418893cb2cea745eb0ca",
       "style": "IPY_MODEL_0357d395b26d411289ae86ae63b2b192"
      }
     },
     "2a600d27a45e448a871a220f7851a231": {
      "model_module": "jupyter-js-widgets",
      "model_module_version": "~2.1.4",
      "model_name": "OutputModel",
      "state": {
       "_dom_classes": [],
       "_model_module": "jupyter-js-widgets",
       "_model_module_version": "~2.1.4",
       "_view_module": "jupyter-js-widgets",
       "_view_module_version": "~2.1.4",
       "layout": "IPY_MODEL_94e8273b1fbf41e68a8e28d6c6c60aeb",
       "msg_throttle": 1
      }
     },
     "2a668bd937e14a5db3af399b2861f7bc": {
      "model_module": "jupyter-js-widgets",
      "model_module_version": "~2.1.4",
      "model_name": "LabelModel",
      "state": {
       "_model_module_version": "~2.1.4",
       "_view_module_version": "~2.1.4",
       "layout": "IPY_MODEL_e9d5523611fb421d898d6f257c9c93df",
       "value": "Delta"
      }
     },
     "2ac22028a21642bc802dcc6365bd3396": {
      "model_module": "jupyter-js-widgets",
      "model_module_version": "~2.1.4",
      "model_name": "ButtonStyleModel",
      "state": {
       "_model_module_version": "~2.1.4",
       "_view_module_version": "~2.1.4"
      }
     },
     "2ac4047ea9694796b0249cd00f9f740a": {
      "model_module": "jupyter-js-widgets",
      "model_module_version": "~2.1.4",
      "model_name": "ButtonStyleModel",
      "state": {
       "_model_module_version": "~2.1.4",
       "_view_module_version": "~2.1.4"
      }
     },
     "2adb01dd562f433ab7207bb2249f9287": {
      "model_module": "jupyter-js-widgets",
      "model_module_version": "~2.1.4",
      "model_name": "ButtonModel",
      "state": {
       "_model_module_version": "~2.1.4",
       "_view_module_version": "~2.1.4",
       "description": "Limpiar seleción de ciclos",
       "layout": "IPY_MODEL_d924ff696b0143b6a304f3c3373af276",
       "style": "IPY_MODEL_ec4d91a31ac543e4a2d3266faa8eac28"
      }
     },
     "2add40a68e5440b3a3d2b457b2b7810b": {
      "model_module": "jupyter-js-widgets",
      "model_module_version": "~2.1.4",
      "model_name": "LayoutModel",
      "state": {
       "_model_module_version": "~2.1.4",
       "_view_module_version": "~2.1.4",
       "margin": "5px 2px 0",
       "width": "300px"
      }
     },
     "2aed6484a8bb4d7890a966ac0ef9724a": {
      "model_module": "jupyter-js-widgets",
      "model_module_version": "~2.1.4",
      "model_name": "ButtonModel",
      "state": {
       "_model_module_version": "~2.1.4",
       "_view_module_version": "~2.1.4",
       "description": "Limpiar seleción de mínimos",
       "layout": "IPY_MODEL_30d92bd1bf094774822e5b5f4bc0be72",
       "style": "IPY_MODEL_384399f9edb74785a30dfacca0c0b501"
      }
     },
     "2b76ea4bf48445819573a0469cb86cfe": {
      "model_module": "jupyter-js-widgets",
      "model_module_version": "~2.1.4",
      "model_name": "VBoxModel",
      "state": {
       "_dom_classes": [
        "widget-interact"
       ],
       "_model_module_version": "~2.1.4",
       "_view_module_version": "~2.1.4",
       "children": [
        "IPY_MODEL_9d42ae3405a24cc0be40830daed8eaa2",
        "IPY_MODEL_b0c58fc6d4cf40aca6e8591b2018a6cb"
       ],
       "layout": "IPY_MODEL_1773566b79f543f4a58b513ce2d2d4e9"
      }
     },
     "2b81e05214074e28b93f76b6562f15d8": {
      "model_module": "jupyter-js-widgets",
      "model_module_version": "~2.1.4",
      "model_name": "LayoutModel",
      "state": {
       "_model_module_version": "~2.1.4",
       "_view_module_version": "~2.1.4"
      }
     },
     "2bb4f825160d41b19d4490b0d7de06a2": {
      "model_module": "jupyter-js-widgets",
      "model_module_version": "~2.1.4",
      "model_name": "OutputModel",
      "state": {
       "_dom_classes": [],
       "_model_module": "jupyter-js-widgets",
       "_model_module_version": "~2.1.4",
       "_view_module": "jupyter-js-widgets",
       "_view_module_version": "~2.1.4",
       "layout": "IPY_MODEL_37450376c5094508ab3f0830f2905811",
       "msg_throttle": 1
      }
     },
     "2be5af92a65045c19793c42a156a7204": {
      "model_module": "jupyter-js-widgets",
      "model_module_version": "~2.1.4",
      "model_name": "VBoxModel",
      "state": {
       "_model_module_version": "~2.1.4",
       "_view_module_version": "~2.1.4",
       "children": [
        "IPY_MODEL_e90f80feead34a1fbd6df8625ec1ffd4",
        "IPY_MODEL_a0fc3acdfb17426b832378013cddee86",
        "IPY_MODEL_af28eb8d29114eaead77cf0d8250871c",
        "IPY_MODEL_a18c4cc918fd43068ccd09e97eedb3ec",
        "IPY_MODEL_d7cca1baadd841558c9d6302787becf3"
       ],
       "layout": "IPY_MODEL_b5758b4e6a704fd791d6e1ffdb860fe0"
      }
     },
     "2c1d3c351669495eb9ea29e138377c36": {
      "model_module": "jupyter-js-widgets",
      "model_module_version": "~2.1.4",
      "model_name": "LayoutModel",
      "state": {
       "_model_module_version": "~2.1.4",
       "_view_module_version": "~2.1.4"
      }
     },
     "2c4e4d1ef6de4e2a86515799cbc34e11": {
      "model_module": "jupyter-js-widgets",
      "model_module_version": "~2.1.4",
      "model_name": "LayoutModel",
      "state": {
       "_model_module_version": "~2.1.4",
       "_view_module_version": "~2.1.4",
       "margin": "5px 2px 0",
       "width": "300px"
      }
     },
     "2c578c0a826541ceb6831af5b8f4f39a": {
      "model_module": "jupyter-js-widgets",
      "model_module_version": "~2.1.4",
      "model_name": "VBoxModel",
      "state": {
       "_model_module_version": "~2.1.4",
       "_view_module_version": "~2.1.4",
       "children": [
        "IPY_MODEL_12403e6fc8614cdf80dd40b2467ea393",
        "IPY_MODEL_15be664376b742f0b17fa5f0fc466cf4",
        "IPY_MODEL_24835efe0b374476ae336ef35f38fbdd"
       ],
       "layout": "IPY_MODEL_b28868b95e0a43bea63171a6eda41fe7"
      }
     },
     "2c9e7c0814f14329acb150b968cf2e15": {
      "model_module": "jupyter-js-widgets",
      "model_module_version": "~2.1.4",
      "model_name": "LayoutModel",
      "state": {
       "_model_module_version": "~2.1.4",
       "_view_module_version": "~2.1.4"
      }
     },
     "2cb51e1e2ef74932bf304d24e7b7b54b": {
      "model_module": "jupyter-js-widgets",
      "model_module_version": "~2.1.4",
      "model_name": "LayoutModel",
      "state": {
       "_model_module_version": "~2.1.4",
       "_view_module_version": "~2.1.4"
      }
     },
     "2cc9b107081b468aa3b341c57ac5e21e": {
      "model_module": "jupyter-js-widgets",
      "model_module_version": "~2.1.4",
      "model_name": "LayoutModel",
      "state": {
       "_model_module_version": "~2.1.4",
       "_view_module_version": "~2.1.4"
      }
     },
     "2cef4170dce84c6a9d23856a4f65d0ac": {
      "model_module": "jupyter-js-widgets",
      "model_module_version": "~2.1.4",
      "model_name": "ButtonModel",
      "state": {
       "_model_module_version": "~2.1.4",
       "_view_module_version": "~2.1.4",
       "description": "Limpiar seleción de ciclos",
       "layout": "IPY_MODEL_4453396d00484ac8a5b18626d8382ade",
       "style": "IPY_MODEL_de5029261ed048b795b072fae35d5ca7"
      }
     },
     "2d38afc335ca4ff79db1cf14ca3afa78": {
      "model_module": "jupyter-js-widgets",
      "model_module_version": "~2.1.4",
      "model_name": "ButtonModel",
      "state": {
       "_model_module_version": "~2.1.4",
       "_view_module_version": "~2.1.4",
       "description": "Limpiar seleción de ciclos",
       "layout": "IPY_MODEL_2089cb6ee2b54c92925b3019448004de",
       "style": "IPY_MODEL_687d03281ac6411fa17a16d891496555"
      }
     },
     "2ddd7afe0bbd4eddb6a21cc6578ba2a0": {
      "model_module": "jupyter-js-widgets",
      "model_module_version": "~2.1.4",
      "model_name": "LayoutModel",
      "state": {
       "_model_module_version": "~2.1.4",
       "_view_module_version": "~2.1.4"
      }
     },
     "2ded3642be494a77b0f209857abccb2b": {
      "model_module": "jupyter-js-widgets",
      "model_module_version": "~2.1.4",
      "model_name": "LayoutModel",
      "state": {
       "_model_module_version": "~2.1.4",
       "_view_module_version": "~2.1.4",
       "margin": "5px 2px 0",
       "width": "300px"
      }
     },
     "2e07df8efcad41c990d63013ee2dcd10": {
      "model_module": "jupyter-js-widgets",
      "model_module_version": "~2.1.4",
      "model_name": "LayoutModel",
      "state": {
       "_model_module_version": "~2.1.4",
       "_view_module_version": "~2.1.4",
       "margin": "5px 2px 0",
       "width": "300px"
      }
     },
     "2e193c6d1c894f5d800713498cfdadd5": {
      "model_module": "jupyter-js-widgets",
      "model_module_version": "~2.1.4",
      "model_name": "ButtonModel",
      "state": {
       "_model_module_version": "~2.1.4",
       "_view_module_version": "~2.1.4",
       "description": "Limpiar seleción de ciclos",
       "layout": "IPY_MODEL_aec6727ec0784fe99b425cd0e812cd47",
       "style": "IPY_MODEL_2f02ba2f5cee4e8083957a2dfe401a81"
      }
     },
     "2ec262098ea34f1791bec93b213720e0": {
      "model_module": "jupyter-js-widgets",
      "model_module_version": "~2.1.4",
      "model_name": "ButtonStyleModel",
      "state": {
       "_model_module_version": "~2.1.4",
       "_view_module_version": "~2.1.4"
      }
     },
     "2ed30ba48925439e8eaaf4570b04beba": {
      "model_module": "jupyter-js-widgets",
      "model_module_version": "~2.1.4",
      "model_name": "LayoutModel",
      "state": {
       "_model_module_version": "~2.1.4",
       "_view_module_version": "~2.1.4",
       "margin": "5px 2px 0",
       "width": "300px"
      }
     },
     "2ed85107640a4cf784930a6407484b43": {
      "model_module": "jupyter-js-widgets",
      "model_module_version": "~2.1.4",
      "model_name": "ButtonModel",
      "state": {
       "_model_module_version": "~2.1.4",
       "_view_module_version": "~2.1.4",
       "description": "Eliminar ciclos selecionados",
       "layout": "IPY_MODEL_7d7df729b20f4dbeab3b93e560489c3e",
       "style": "IPY_MODEL_685b7c5daadd4bb4b630839ec02d53d7"
      }
     },
     "2eeb7f75fcc24194a73522eaef4e3d20": {
      "model_module": "jupyter-js-widgets",
      "model_module_version": "~2.1.4",
      "model_name": "LayoutModel",
      "state": {
       "_model_module_version": "~2.1.4",
       "_view_module_version": "~2.1.4"
      }
     },
     "2eedd38b140a4d5d84f049564be742d7": {
      "model_module": "jupyter-js-widgets",
      "model_module_version": "~2.1.4",
      "model_name": "LayoutModel",
      "state": {
       "_model_module_version": "~2.1.4",
       "_view_module_version": "~2.1.4"
      }
     },
     "2ef1075ce70848d28acb0c2c6fb99ba0": {
      "model_module": "jupyter-js-widgets",
      "model_module_version": "~2.1.4",
      "model_name": "ButtonModel",
      "state": {
       "_model_module_version": "~2.1.4",
       "_view_module_version": "~2.1.4",
       "description": "Eliminar ciclos selecionados",
       "layout": "IPY_MODEL_1aef685faf004f018a0d445627232dac",
       "style": "IPY_MODEL_b0c9af276cc34ec29efa1051a45f0f65"
      }
     },
     "2f02ba2f5cee4e8083957a2dfe401a81": {
      "model_module": "jupyter-js-widgets",
      "model_module_version": "~2.1.4",
      "model_name": "ButtonStyleModel",
      "state": {
       "_model_module_version": "~2.1.4",
       "_view_module_version": "~2.1.4"
      }
     },
     "2f2dcf917bb840c29421a2529739d7bc": {
      "model_module": "jupyter-js-widgets",
      "model_module_version": "~2.1.4",
      "model_name": "HBoxModel",
      "state": {
       "_model_module_version": "~2.1.4",
       "_view_module_version": "~2.1.4",
       "children": [
        "IPY_MODEL_390dc468f03745b0a0791214b17086b4",
        "IPY_MODEL_febdbb5ca2924afeb55f98347c69ec35"
       ],
       "layout": "IPY_MODEL_bca96533a89a4d4580bdbb3159040a20"
      }
     },
     "2fa05a32c55749eeb4bcbe7f19274294": {
      "model_module": "jupyter-js-widgets",
      "model_module_version": "~2.1.4",
      "model_name": "VBoxModel",
      "state": {
       "_model_module_version": "~2.1.4",
       "_view_module_version": "~2.1.4",
       "children": [
        "IPY_MODEL_8e25fb3b953e45a089c7ae60e3ff3047",
        "IPY_MODEL_15446d733aec4555a3af09754d9aef26",
        "IPY_MODEL_f92558653e7b42f2a32e4e969cd594c0",
        "IPY_MODEL_fcb1677925014fbeb738e0a64cf375a2",
        "IPY_MODEL_7f6ab45c8870424ea005ca1cf99451e0"
       ],
       "layout": "IPY_MODEL_9f13267f99914ab0b0c9605540bc96e2"
      }
     },
     "2fc27335b3a64b95a4bebe0e638f0cc6": {
      "model_module": "jupyter-js-widgets",
      "model_module_version": "~2.1.4",
      "model_name": "LabelModel",
      "state": {
       "_model_module_version": "~2.1.4",
       "_view_module_version": "~2.1.4",
       "layout": "IPY_MODEL_54ab86d2310c4d1a8f1817198eea3b81",
       "value": "Ciclos solares"
      }
     },
     "2fcb9104079d43ebadf29d523aca1d8f": {
      "model_module": "jupyter-js-widgets",
      "model_module_version": "~2.1.4",
      "model_name": "LayoutModel",
      "state": {
       "_model_module_version": "~2.1.4",
       "_view_module_version": "~2.1.4"
      }
     },
     "2fd5b57079d54f719fe5ed4c35406c23": {
      "model_module": "jupyter-js-widgets",
      "model_module_version": "~2.1.4",
      "model_name": "ButtonStyleModel",
      "state": {
       "_model_module_version": "~2.1.4",
       "_view_module_version": "~2.1.4"
      }
     },
     "3020141c36d04b079edd7036f5f28dc6": {
      "model_module": "jupyter-js-widgets",
      "model_module_version": "~2.1.4",
      "model_name": "LayoutModel",
      "state": {
       "_model_module_version": "~2.1.4",
       "_view_module_version": "~2.1.4"
      }
     },
     "3089162740dd428f89cb06d89bdb7f3d": {
      "model_module": "jupyter-js-widgets",
      "model_module_version": "~2.1.4",
      "model_name": "VBoxModel",
      "state": {
       "_model_module_version": "~2.1.4",
       "_view_module_version": "~2.1.4",
       "children": [
        "IPY_MODEL_8e58e346c5b04a8a85f54cae4fef5aeb",
        "IPY_MODEL_f8e75e268d334598a9df7a3a11d1fbf4",
        "IPY_MODEL_aaa0096cc43e4309ad9bd043e8493b1f",
        "IPY_MODEL_deb2e62a93a54c709096559cecf813cf",
        "IPY_MODEL_3dc43492c2f54995a58091237c74abba"
       ],
       "layout": "IPY_MODEL_0a1a6be9258c4ff2a3fa528af4dfac57"
      }
     },
     "30907b7aa7104788b97962dcac1795b1": {
      "model_module": "jupyter-js-widgets",
      "model_module_version": "~2.1.4",
      "model_name": "LayoutModel",
      "state": {
       "_model_module_version": "~2.1.4",
       "_view_module_version": "~2.1.4"
      }
     },
     "309b0bd9b72c4b8eb6700dcc083299e8": {
      "model_module": "jupyter-js-widgets",
      "model_module_version": "~2.1.4",
      "model_name": "VBoxModel",
      "state": {
       "_model_module_version": "~2.1.4",
       "_view_module_version": "~2.1.4",
       "children": [
        "IPY_MODEL_01330656fb17483cb09fef6e074c354f",
        "IPY_MODEL_2f2dcf917bb840c29421a2529739d7bc",
        "IPY_MODEL_a4293d1ae56e4a5bb2ae6ef51b5c4ce7"
       ],
       "layout": "IPY_MODEL_0e8c739d4e4742eca410128435189b5c"
      }
     },
     "309f87824a054d3e9de0fb8be0697a58": {
      "model_module": "jupyter-js-widgets",
      "model_module_version": "~2.1.4",
      "model_name": "LayoutModel",
      "state": {
       "_model_module_version": "~2.1.4",
       "_view_module_version": "~2.1.4"
      }
     },
     "30d374e3736249268101626e64767519": {
      "model_module": "jupyter-js-widgets",
      "model_module_version": "~2.1.4",
      "model_name": "HBoxModel",
      "state": {
       "_model_module_version": "~2.1.4",
       "_view_module_version": "~2.1.4",
       "children": [
        "IPY_MODEL_4287856902c7493ebefd6b5ac51c7ad9",
        "IPY_MODEL_468f85d2c97c4b989824b6e5ca0937c7"
       ],
       "layout": "IPY_MODEL_efc404bff2ff4c23a7974c1e0fe15ef3"
      }
     },
     "30d92bd1bf094774822e5b5f4bc0be72": {
      "model_module": "jupyter-js-widgets",
      "model_module_version": "~2.1.4",
      "model_name": "LayoutModel",
      "state": {
       "_model_module_version": "~2.1.4",
       "_view_module_version": "~2.1.4",
       "margin": "5px 2px 0",
       "width": "300px"
      }
     },
     "30e393faf3fd49e1ab947c38996c6d10": {
      "model_module": "jupyter-js-widgets",
      "model_module_version": "~2.1.4",
      "model_name": "LayoutModel",
      "state": {
       "_model_module_version": "~2.1.4",
       "_view_module_version": "~2.1.4"
      }
     },
     "30ff6ca151ba4b269c26c9040245d7e1": {
      "model_module": "jupyter-js-widgets",
      "model_module_version": "~2.1.4",
      "model_name": "ButtonStyleModel",
      "state": {
       "_model_module_version": "~2.1.4",
       "_view_module_version": "~2.1.4"
      }
     },
     "31124d1581cb458885f16859a8a3d130": {
      "model_module": "jupyter-js-widgets",
      "model_module_version": "~2.1.4",
      "model_name": "IntSliderModel",
      "state": {
       "_model_module_version": "~2.1.4",
       "_view_module_version": "~2.1.4",
       "layout": "IPY_MODEL_1234e03b14e1404b8323cdee4a9646b9",
       "min": 1,
       "style": "IPY_MODEL_ccd67c05a305412da774b3d8a5fb2ba0",
       "value": 1
      }
     },
     "313561d556274831be76c59b1f9c9065": {
      "model_module": "jupyter-js-widgets",
      "model_module_version": "~2.1.4",
      "model_name": "LayoutModel",
      "state": {
       "_model_module_version": "~2.1.4",
       "_view_module_version": "~2.1.4"
      }
     },
     "313924da4c6f4b4ca617ea06833c5406": {
      "model_module": "jupyter-js-widgets",
      "model_module_version": "~2.1.4",
      "model_name": "OutputModel",
      "state": {
       "_dom_classes": [],
       "_model_module": "jupyter-js-widgets",
       "_model_module_version": "~2.1.4",
       "_view_module": "jupyter-js-widgets",
       "_view_module_version": "~2.1.4",
       "layout": "IPY_MODEL_4218a37c0683406c83acbf90ebeebf8f",
       "msg_throttle": 1
      }
     },
     "318d468306c047bfac5e4e0c8e118c76": {
      "model_module": "jupyter-js-widgets",
      "model_module_version": "~2.1.4",
      "model_name": "LayoutModel",
      "state": {
       "_model_module_version": "~2.1.4",
       "_view_module_version": "~2.1.4"
      }
     },
     "31a258ea13c8427ca8bf84d167b23818": {
      "model_module": "jupyter-js-widgets",
      "model_module_version": "~2.1.4",
      "model_name": "LayoutModel",
      "state": {
       "_model_module_version": "~2.1.4",
       "_view_module_version": "~2.1.4"
      }
     },
     "3218264599034c03aebffba76b906298": {
      "model_module": "jupyter-js-widgets",
      "model_module_version": "~2.1.4",
      "model_name": "ButtonModel",
      "state": {
       "_model_module_version": "~2.1.4",
       "_view_module_version": "~2.1.4",
       "description": "Limpiar seleción de ciclos",
       "layout": "IPY_MODEL_02041d8d2a4442be9448eae68c0b8617",
       "style": "IPY_MODEL_819981e29cdd43aead1b9c73ff10f0c5"
      }
     },
     "324d0dcbf6bf49f983a5f4f17d19efad": {
      "model_module": "jupyter-js-widgets",
      "model_module_version": "~2.1.4",
      "model_name": "LayoutModel",
      "state": {
       "_model_module_version": "~2.1.4",
       "_view_module_version": "~2.1.4",
       "margin": "5px 2px 0",
       "width": "300px"
      }
     },
     "327be704f9ed4abb8eec2a6071ae3b95": {
      "model_module": "jupyter-js-widgets",
      "model_module_version": "~2.1.4",
      "model_name": "ButtonStyleModel",
      "state": {
       "_model_module_version": "~2.1.4",
       "_view_module_version": "~2.1.4"
      }
     },
     "3381320d1eb74fb2b888fdeb0b12316d": {
      "model_module": "jupyter-js-widgets",
      "model_module_version": "~2.1.4",
      "model_name": "ButtonModel",
      "state": {
       "_model_module_version": "~2.1.4",
       "_view_module_version": "~2.1.4",
       "description": "Eliminar ciclos selecionados",
       "layout": "IPY_MODEL_680aaa621f2b47d1bb91b79ff02790b9",
       "style": "IPY_MODEL_e9e8bb57b2db4c58accf6967ededf7f6"
      }
     },
     "33a1579575df43c88912350a5ed27cf1": {
      "model_module": "jupyter-js-widgets",
      "model_module_version": "~2.1.4",
      "model_name": "LayoutModel",
      "state": {
       "_model_module_version": "~2.1.4",
       "_view_module_version": "~2.1.4"
      }
     },
     "33c84d5dbf6f40abad4533f126f03d64": {
      "model_module": "jupyter-js-widgets",
      "model_module_version": "~2.1.4",
      "model_name": "OutputModel",
      "state": {
       "_dom_classes": [],
       "_model_module": "jupyter-js-widgets",
       "_model_module_version": "~2.1.4",
       "_view_module": "jupyter-js-widgets",
       "_view_module_version": "~2.1.4",
       "layout": "IPY_MODEL_b6d1fa8db28a463b865df69c4d9797b0",
       "msg_throttle": 1
      }
     },
     "33c8a813bdce4efeac9cc4abe130e271": {
      "model_module": "jupyter-js-widgets",
      "model_module_version": "~2.1.4",
      "model_name": "LayoutModel",
      "state": {
       "_model_module_version": "~2.1.4",
       "_view_module_version": "~2.1.4"
      }
     },
     "33e168fce92047c8af9f234a43bf9f78": {
      "model_module": "jupyter-js-widgets",
      "model_module_version": "~2.1.4",
      "model_name": "LayoutModel",
      "state": {
       "_model_module_version": "~2.1.4",
       "_view_module_version": "~2.1.4",
       "width": "100%"
      }
     },
     "33e490361d434f328a8d4525bb054968": {
      "model_module": "jupyter-js-widgets",
      "model_module_version": "~2.1.4",
      "model_name": "LayoutModel",
      "state": {
       "_model_module_version": "~2.1.4",
       "_view_module_version": "~2.1.4",
       "margin": "5px 2px 0",
       "width": "300px"
      }
     },
     "33f7fc692aa1481493e707dd981337f6": {
      "model_module": "jupyter-js-widgets",
      "model_module_version": "~2.1.4",
      "model_name": "IntSliderModel",
      "state": {
       "_model_module_version": "~2.1.4",
       "_view_module_version": "~2.1.4",
       "layout": "IPY_MODEL_8239bbc6039d49189bdd1c60e6c16de9",
       "min": 1,
       "style": "IPY_MODEL_0fb5d9c2193c4b969e26f7abc6fcadd6",
       "value": 20
      }
     },
     "3422d1cc234f467a8ddea6d2c9055507": {
      "model_module": "jupyter-js-widgets",
      "model_module_version": "~2.1.4",
      "model_name": "SelectMultipleModel",
      "state": {
       "_model_module_version": "~2.1.4",
       "_options_labels": [
        "Cycle  6",
        "Cycle  7",
        "Cycle  8",
        "Cycle  9",
        "Cycle 10",
        "Cycle 11",
        "Cycle 12",
        "Cycle 13",
        "Cycle 14",
        "Cycle 15",
        "Cycle 16",
        "Cycle 17",
        "Cycle 18",
        "Cycle 19",
        "Cycle 20",
        "Cycle 21",
        "Cycle 22",
        "Cycle 23",
        "Cycle 24"
       ],
       "_view_module_version": "~2.1.4",
       "layout": "IPY_MODEL_db110dfa5eb64de497149b689c3ef141",
       "value": [
        "Cycle  6",
        "Cycle  7",
        "Cycle  8",
        "Cycle 24"
       ]
      }
     },
     "3437155cc8304249b7dbb7c01a9f05c4": {
      "model_module": "jupyter-js-widgets",
      "model_module_version": "~2.1.4",
      "model_name": "SelectMultipleModel",
      "state": {
       "_model_module_version": "~2.1.4",
       "_options_labels": [
        "Cycle  6",
        "Cycle  7",
        "Cycle  8",
        "Cycle  9",
        "Cycle 10",
        "Cycle 11",
        "Cycle 12",
        "Cycle 13",
        "Cycle 14",
        "Cycle 15",
        "Cycle 16",
        "Cycle 17",
        "Cycle 18",
        "Cycle 19",
        "Cycle 20",
        "Cycle 21",
        "Cycle 22",
        "Cycle 23",
        "Cycle 24"
       ],
       "_view_module_version": "~2.1.4",
       "layout": "IPY_MODEL_4df7d8a1e040492abee7ca0888cadd78",
       "value": []
      }
     },
     "3439260eda934e45a0af9f0651cff178": {
      "model_module": "jupyter-js-widgets",
      "model_module_version": "~2.1.4",
      "model_name": "LayoutModel",
      "state": {
       "_model_module_version": "~2.1.4",
       "_view_module_version": "~2.1.4",
       "width": "100%"
      }
     },
     "345090494b024cd09b118403d9cd57bc": {
      "model_module": "jupyter-js-widgets",
      "model_module_version": "~2.1.4",
      "model_name": "VBoxModel",
      "state": {
       "_model_module_version": "~2.1.4",
       "_view_module_version": "~2.1.4",
       "children": [
        "IPY_MODEL_2fc27335b3a64b95a4bebe0e638f0cc6",
        "IPY_MODEL_3859ec81df3545a399cfa4e28a2c2678",
        "IPY_MODEL_785c7ed7469c4c8e95b9085f6ecb7d91",
        "IPY_MODEL_b74eddd423cc46b1a32e5e393ef86a8d",
        "IPY_MODEL_5d4a3efd6fce4bb6a20bdf4caea96dd3"
       ],
       "layout": "IPY_MODEL_25d0d5ebcc2f4b4392eceb21342a48ea"
      }
     },
     "34601ce4c18e48c4996126d697da9b7e": {
      "model_module": "jupyter-js-widgets",
      "model_module_version": "~2.1.4",
      "model_name": "LabelModel",
      "state": {
       "_model_module_version": "~2.1.4",
       "_view_module_version": "~2.1.4",
       "layout": "IPY_MODEL_e69a1829ce7643eda1649bfa839a2673",
       "value": "Delta"
      }
     },
     "352ad5454402418893cb2cea745eb0ca": {
      "model_module": "jupyter-js-widgets",
      "model_module_version": "~2.1.4",
      "model_name": "LayoutModel",
      "state": {
       "_model_module_version": "~2.1.4",
       "_view_module_version": "~2.1.4",
       "margin": "5px 2px 0",
       "width": "300px"
      }
     },
     "355e1604a2684d11bbb526499eb4e1d6": {
      "model_module": "jupyter-js-widgets",
      "model_module_version": "~2.1.4",
      "model_name": "LayoutModel",
      "state": {
       "_model_module_version": "~2.1.4",
       "_view_module_version": "~2.1.4"
      }
     },
     "3594195e06a848b2a6ae80fab41f6bc5": {
      "model_module": "jupyter-js-widgets",
      "model_module_version": "~2.1.4",
      "model_name": "LayoutModel",
      "state": {
       "_model_module_version": "~2.1.4",
       "_view_module_version": "~2.1.4",
       "margin": "5px 2px 0",
       "width": "300px"
      }
     },
     "35a1dedd8a1e4591a32aff1c4b63d95a": {
      "model_module": "jupyter-js-widgets",
      "model_module_version": "~2.1.4",
      "model_name": "LayoutModel",
      "state": {
       "_model_module_version": "~2.1.4",
       "_view_module_version": "~2.1.4"
      }
     },
     "360f166616094f53833eb7033821c215": {
      "model_module": "jupyter-js-widgets",
      "model_module_version": "~2.1.4",
      "model_name": "LayoutModel",
      "state": {
       "_model_module_version": "~2.1.4",
       "_view_module_version": "~2.1.4"
      }
     },
     "362064b86fae4844ad2ebce879958e11": {
      "model_module": "jupyter-js-widgets",
      "model_module_version": "~2.1.4",
      "model_name": "ButtonModel",
      "state": {
       "_model_module_version": "~2.1.4",
       "_view_module_version": "~2.1.4",
       "button_style": "warning",
       "description": "Eliminar ciclos selecionados",
       "layout": "IPY_MODEL_20924161c50a4dcebfb7c9595d82c437",
       "style": "IPY_MODEL_4e4813c7d7ec4c389dede7b1397c4293"
      }
     },
     "3626ac6ea99844fea5f99cc60f6b837e": {
      "model_module": "jupyter-js-widgets",
      "model_module_version": "~2.1.4",
      "model_name": "ButtonModel",
      "state": {
       "_model_module_version": "~2.1.4",
       "_view_module_version": "~2.1.4",
       "description": "Eliminar ciclos selecionados",
       "layout": "IPY_MODEL_27970c0a9dc64db4a4803436c8b11af2",
       "style": "IPY_MODEL_a8191be3718a44f785f611664ee74480"
      }
     },
     "36afa7274a98488d9426368bb5a8eeec": {
      "model_module": "jupyter-js-widgets",
      "model_module_version": "~2.1.4",
      "model_name": "LabelModel",
      "state": {
       "_model_module_version": "~2.1.4",
       "_view_module_version": "~2.1.4",
       "layout": "IPY_MODEL_a24edf15256b47cab847928f3ac6602a",
       "value": "Delta"
      }
     },
     "37388a236f1b4d18b15b5e1dfde3469f": {
      "model_module": "jupyter-js-widgets",
      "model_module_version": "~2.1.4",
      "model_name": "LabelModel",
      "state": {
       "_model_module_version": "~2.1.4",
       "_view_module_version": "~2.1.4",
       "layout": "IPY_MODEL_dcbdd91c5a9a4edb87e7fbeafb426b52",
       "value": "Lookahead"
      }
     },
     "37450376c5094508ab3f0830f2905811": {
      "model_module": "jupyter-js-widgets",
      "model_module_version": "~2.1.4",
      "model_name": "LayoutModel",
      "state": {
       "_model_module_version": "~2.1.4",
       "_view_module_version": "~2.1.4"
      }
     },
     "374fc12d999e4f7b926e360a45d6dec3": {
      "model_module": "jupyter-js-widgets",
      "model_module_version": "~2.1.4",
      "model_name": "LayoutModel",
      "state": {
       "_model_module_version": "~2.1.4",
       "_view_module_version": "~2.1.4"
      }
     },
     "383a6439dda6434cbb4d37e07187a5f0": {
      "model_module": "jupyter-js-widgets",
      "model_module_version": "~2.1.4",
      "model_name": "LayoutModel",
      "state": {
       "_model_module_version": "~2.1.4",
       "_view_module_version": "~2.1.4"
      }
     },
     "384399f9edb74785a30dfacca0c0b501": {
      "model_module": "jupyter-js-widgets",
      "model_module_version": "~2.1.4",
      "model_name": "ButtonStyleModel",
      "state": {
       "_model_module_version": "~2.1.4",
       "_view_module_version": "~2.1.4"
      }
     },
     "3859ec81df3545a399cfa4e28a2c2678": {
      "model_module": "jupyter-js-widgets",
      "model_module_version": "~2.1.4",
      "model_name": "SelectMultipleModel",
      "state": {
       "_model_module_version": "~2.1.4",
       "_options_labels": [
        "Cycle  6",
        "Cycle  7",
        "Cycle  8",
        "Cycle  9",
        "Cycle 10",
        "Cycle 11",
        "Cycle 12",
        "Cycle 13",
        "Cycle 14",
        "Cycle 15",
        "Cycle 16",
        "Cycle 17",
        "Cycle 18",
        "Cycle 19",
        "Cycle 20",
        "Cycle 21",
        "Cycle 22",
        "Cycle 23",
        "Cycle 24"
       ],
       "_view_module_version": "~2.1.4",
       "layout": "IPY_MODEL_727fbcd75894424586e50a4990bf6d3d",
       "value": [
        "Cycle  7"
       ]
      }
     },
     "387216e4a5d84341a6d3a07eb2188515": {
      "model_module": "jupyter-js-widgets",
      "model_module_version": "~2.1.4",
      "model_name": "LayoutModel",
      "state": {
       "_model_module_version": "~2.1.4",
       "_view_module_version": "~2.1.4",
       "margin": "5px 2px 0",
       "width": "300px"
      }
     },
     "387deaf765f94e6bb3932d47306766e1": {
      "model_module": "jupyter-js-widgets",
      "model_module_version": "~2.1.4",
      "model_name": "LayoutModel",
      "state": {
       "_model_module_version": "~2.1.4",
       "_view_module_version": "~2.1.4"
      }
     },
     "38eb8e5adf9f4db8a86266fc616c6347": {
      "model_module": "jupyter-js-widgets",
      "model_module_version": "~2.1.4",
      "model_name": "ButtonStyleModel",
      "state": {
       "_model_module_version": "~2.1.4",
       "_view_module_version": "~2.1.4"
      }
     },
     "390dc468f03745b0a0791214b17086b4": {
      "model_module": "jupyter-js-widgets",
      "model_module_version": "~2.1.4",
      "model_name": "VBoxModel",
      "state": {
       "_model_module_version": "~2.1.4",
       "_view_module_version": "~2.1.4",
       "children": [
        "IPY_MODEL_fc20235a7ea14274a92bea01daaf4403",
        "IPY_MODEL_0084fe9ee3ba41c3a57fff1b327948e2",
        "IPY_MODEL_a05f405238744d9bae5155c930aef928"
       ],
       "layout": "IPY_MODEL_809bf767467646ae94c6bf3eb17792b9"
      }
     },
     "3942410641944768b6592fb416912a72": {
      "model_module": "jupyter-js-widgets",
      "model_module_version": "~2.1.4",
      "model_name": "OutputModel",
      "state": {
       "_dom_classes": [],
       "_model_module": "jupyter-js-widgets",
       "_model_module_version": "~2.1.4",
       "_view_module": "jupyter-js-widgets",
       "_view_module_version": "~2.1.4",
       "layout": "IPY_MODEL_545448c41ebf485d9a87356f4516ce50",
       "msg_throttle": 1
      }
     },
     "397379fa28764e8bbe029af5bc759abe": {
      "model_module": "jupyter-js-widgets",
      "model_module_version": "~2.1.4",
      "model_name": "LayoutModel",
      "state": {
       "_model_module_version": "~2.1.4",
       "_view_module_version": "~2.1.4"
      }
     },
     "397412f004334230a79075c04ef1b41f": {
      "model_module": "jupyter-js-widgets",
      "model_module_version": "~2.1.4",
      "model_name": "SelectMultipleModel",
      "state": {
       "_model_module_version": "~2.1.4",
       "_options_labels": [
        "Cycle  6",
        "Cycle  7",
        "Cycle  8",
        "Cycle  9",
        "Cycle 10",
        "Cycle 11",
        "Cycle 12",
        "Cycle 13",
        "Cycle 14",
        "Cycle 15",
        "Cycle 16",
        "Cycle 17",
        "Cycle 18",
        "Cycle 19",
        "Cycle 20",
        "Cycle 21",
        "Cycle 22",
        "Cycle 23",
        "Cycle 24"
       ],
       "_view_module_version": "~2.1.4",
       "layout": "IPY_MODEL_d41b8abf837a43bfa74ec12d989b21f7",
       "value": [
        "Cycle  6",
        "Cycle  7",
        "Cycle  8",
        "Cycle 24"
       ]
      }
     },
     "3978a8a8414b44639eb7a287b0d87f68": {
      "model_module": "jupyter-js-widgets",
      "model_module_version": "~2.1.4",
      "model_name": "LayoutModel",
      "state": {
       "_model_module_version": "~2.1.4",
       "_view_module_version": "~2.1.4",
       "width": "100%"
      }
     },
     "398f51d346f444798743527f5afd37c8": {
      "model_module": "jupyter-js-widgets",
      "model_module_version": "~2.1.4",
      "model_name": "LayoutModel",
      "state": {
       "_model_module_version": "~2.1.4",
       "_view_module_version": "~2.1.4"
      }
     },
     "3aba4ec3f6624a198aa77d5cb6f8d1fc": {
      "model_module": "jupyter-js-widgets",
      "model_module_version": "~2.1.4",
      "model_name": "ButtonModel",
      "state": {
       "_model_module_version": "~2.1.4",
       "_view_module_version": "~2.1.4",
       "description": "Limpiar seleción de ciclos",
       "layout": "IPY_MODEL_cf666af6d05440bc94a4b1df43b540d5",
       "style": "IPY_MODEL_ff6f28a8e7e849d4936ee1357be2d45e"
      }
     },
     "3ac46b1759b44f6e9dc2545e25846bb7": {
      "model_module": "jupyter-js-widgets",
      "model_module_version": "~2.1.4",
      "model_name": "ButtonModel",
      "state": {
       "_model_module_version": "~2.1.4",
       "_view_module_version": "~2.1.4",
       "description": "Limpiar seleción de mínimos",
       "layout": "IPY_MODEL_c98a835ad17a4b03b516bb49a57b86e1",
       "style": "IPY_MODEL_0685267067364ff6b8baec0b619f14e3"
      }
     },
     "3ad9969db7634114bd72bd0d74d445ce": {
      "model_module": "jupyter-js-widgets",
      "model_module_version": "~2.1.4",
      "model_name": "ButtonModel",
      "state": {
       "_model_module_version": "~2.1.4",
       "_view_module_version": "~2.1.4",
       "description": "Eliminar ciclos selecionados",
       "layout": "IPY_MODEL_d263f667b31a42d29c3ef375274721df",
       "style": "IPY_MODEL_63c25ba27e6e446db4306075c2c2ec55"
      }
     },
     "3b1e45c0dc0b4a7184d8304824623851": {
      "model_module": "jupyter-js-widgets",
      "model_module_version": "~2.1.4",
      "model_name": "LayoutModel",
      "state": {
       "_model_module_version": "~2.1.4",
       "_view_module_version": "~2.1.4"
      }
     },
     "3b29e26c922d4ffa9f92de1111fbdd4f": {
      "model_module": "jupyter-js-widgets",
      "model_module_version": "~2.1.4",
      "model_name": "VBoxModel",
      "state": {
       "_model_module_version": "~2.1.4",
       "_view_module_version": "~2.1.4",
       "children": [
        "IPY_MODEL_aaea9554e71d4cbfad1abbadd3c135cb",
        "IPY_MODEL_a0409ce8e8334875993502c3a2ec59c7",
        "IPY_MODEL_c6f55c4c279e4cb58463bf21a0126ab7"
       ],
       "layout": "IPY_MODEL_e3cc68383642412c8ec8c745cfec950a"
      }
     },
     "3be2b1c631c24921b65310889a11c7e1": {
      "model_module": "jupyter-js-widgets",
      "model_module_version": "~2.1.4",
      "model_name": "OutputModel",
      "state": {
       "_dom_classes": [],
       "_model_module": "jupyter-js-widgets",
       "_model_module_version": "~2.1.4",
       "_view_module": "jupyter-js-widgets",
       "_view_module_version": "~2.1.4",
       "layout": "IPY_MODEL_5e9645c60b4b4a829ca1481cd736cc38",
       "msg_throttle": 1
      }
     },
     "3c009f41c93f49a1bad5822efcc9ccce": {
      "model_module": "jupyter-js-widgets",
      "model_module_version": "~2.1.4",
      "model_name": "VBoxModel",
      "state": {
       "_model_module_version": "~2.1.4",
       "_view_module_version": "~2.1.4",
       "children": [
        "IPY_MODEL_21cd0483504441e8acb036789fecbcd9",
        "IPY_MODEL_19dd674928174bce85fc6f2337645fce",
        "IPY_MODEL_5d9ca6852acb42c099c5f404cbdc5fe8"
       ],
       "layout": "IPY_MODEL_5f21c3e5cbf34a479c838f023e699d3a"
      }
     },
     "3c682f22b5494a20b0e6b9b155435dd7": {
      "model_module": "jupyter-js-widgets",
      "model_module_version": "~2.1.4",
      "model_name": "IntSliderModel",
      "state": {
       "_model_module_version": "~2.1.4",
       "_view_module_version": "~2.1.4",
       "layout": "IPY_MODEL_da57061c67154973a19ce31f312271a8",
       "min": 1,
       "style": "IPY_MODEL_29503180abc74022851c423202f2b020",
       "value": 1
      }
     },
     "3ceb1d40893d4f98bfe5d1ade28c876e": {
      "model_module": "jupyter-js-widgets",
      "model_module_version": "~2.1.4",
      "model_name": "LayoutModel",
      "state": {
       "_model_module_version": "~2.1.4",
       "_view_module_version": "~2.1.4",
       "margin": "5px 2px 0",
       "width": "300px"
      }
     },
     "3d05fb6f259a4b41b6710b78cfec6b7f": {
      "model_module": "jupyter-js-widgets",
      "model_module_version": "~2.1.4",
      "model_name": "LabelModel",
      "state": {
       "_model_module_version": "~2.1.4",
       "_view_module_version": "~2.1.4",
       "layout": "IPY_MODEL_e07cda4af9fc4a4080ec6df7635d60e5",
       "value": "Slope"
      }
     },
     "3d3f5f740d9645da87de8ef08e2e4207": {
      "model_module": "jupyter-js-widgets",
      "model_module_version": "~2.1.4",
      "model_name": "VBoxModel",
      "state": {
       "_model_module_version": "~2.1.4",
       "_view_module_version": "~2.1.4",
       "children": [
        "IPY_MODEL_fd3b5e7c12264e878a40e09c02d7796f",
        "IPY_MODEL_a87476188d224a959ea7eeaa6543748b",
        "IPY_MODEL_9500d96e600943d786ff4acdcb24f8e0"
       ],
       "layout": "IPY_MODEL_0698804a82194ef98c558df8e0a79456"
      }
     },
     "3d805468dbfa46e59f63b4a5ca9a91b5": {
      "model_module": "jupyter-js-widgets",
      "model_module_version": "~2.1.4",
      "model_name": "ButtonStyleModel",
      "state": {
       "_model_module_version": "~2.1.4",
       "_view_module_version": "~2.1.4"
      }
     },
     "3dc43492c2f54995a58091237c74abba": {
      "model_module": "jupyter-js-widgets",
      "model_module_version": "~2.1.4",
      "model_name": "OutputModel",
      "state": {
       "_dom_classes": [],
       "_model_module": "jupyter-js-widgets",
       "_model_module_version": "~2.1.4",
       "_view_module": "jupyter-js-widgets",
       "_view_module_version": "~2.1.4",
       "layout": "IPY_MODEL_c40406fcd3e344b4bfd2402eb13bfe46",
       "msg_throttle": 1
      }
     },
     "3dde6b14f1904d7f8bea463deecb2d47": {
      "model_module": "jupyter-js-widgets",
      "model_module_version": "~2.1.4",
      "model_name": "LayoutModel",
      "state": {
       "_model_module_version": "~2.1.4",
       "_view_module_version": "~2.1.4",
       "margin": "5px 2px 0",
       "width": "300px"
      }
     },
     "3de778bb110c4db782e83edccf0919f1": {
      "model_module": "jupyter-js-widgets",
      "model_module_version": "~2.1.4",
      "model_name": "ButtonStyleModel",
      "state": {
       "_model_module_version": "~2.1.4",
       "_view_module_version": "~2.1.4"
      }
     },
     "3df20eb4df6c4edd9ac471aa584a6c53": {
      "model_module": "jupyter-js-widgets",
      "model_module_version": "~2.1.4",
      "model_name": "SelectMultipleModel",
      "state": {
       "_model_module_version": "~2.1.4",
       "_options_labels": [
        "Cycle  6",
        "Cycle  7",
        "Cycle  8",
        "Cycle  9",
        "Cycle 10",
        "Cycle 11",
        "Cycle 12",
        "Cycle 13",
        "Cycle 14",
        "Cycle 15",
        "Cycle 16",
        "Cycle 17",
        "Cycle 18",
        "Cycle 19",
        "Cycle 20",
        "Cycle 21",
        "Cycle 22",
        "Cycle 23",
        "Cycle 24"
       ],
       "_view_module_version": "~2.1.4",
       "layout": "IPY_MODEL_f3ff76ad455949b58a79769a44e65db8",
       "value": [
        "Cycle  6"
       ]
      }
     },
     "3df77c771c33475e8baec2700ea87dd2": {
      "model_module": "jupyter-js-widgets",
      "model_module_version": "~2.1.4",
      "model_name": "VBoxModel",
      "state": {
       "_model_module_version": "~2.1.4",
       "_view_module_version": "~2.1.4",
       "children": [
        "IPY_MODEL_7fc50dfbd8db44be99c086468d9e98da",
        "IPY_MODEL_25b406516ef8462e95965e8082526143",
        "IPY_MODEL_e9493bbe73a9418a86c5e3a025e93f19",
        "IPY_MODEL_24447708f91e4334b0feaa01925dff6e",
        "IPY_MODEL_a9e39e96dcbc40f08e50be5ccda5e94d"
       ],
       "layout": "IPY_MODEL_57087a4d2a004811bca5dadef7d9f631"
      }
     },
     "3e367024965148bcac7e5f18f1b21980": {
      "model_module": "jupyter-js-widgets",
      "model_module_version": "~2.1.4",
      "model_name": "LayoutModel",
      "state": {
       "_model_module_version": "~2.1.4",
       "_view_module_version": "~2.1.4"
      }
     },
     "3e51f6500ccc4caaa966c837fb8cf492": {
      "model_module": "jupyter-js-widgets",
      "model_module_version": "~2.1.4",
      "model_name": "CheckboxModel",
      "state": {
       "_model_module_version": "~2.1.4",
       "_view_module_version": "~2.1.4",
       "description": "Cycle 17",
       "disabled": false,
       "layout": "IPY_MODEL_4a5aead131374cf7af8df916eed167f3",
       "value": true
      }
     },
     "3e61037ea1364b55872638b8cefcba34": {
      "model_module": "jupyter-js-widgets",
      "model_module_version": "~2.1.4",
      "model_name": "LayoutModel",
      "state": {
       "_model_module_version": "~2.1.4",
       "_view_module_version": "~2.1.4"
      }
     },
     "3e670782a8d94eff810b07632aa6b201": {
      "model_module": "jupyter-js-widgets",
      "model_module_version": "~2.1.4",
      "model_name": "HBoxModel",
      "state": {
       "_model_module_version": "~2.1.4",
       "_view_module_version": "~2.1.4",
       "children": [
        "IPY_MODEL_4238a3de16bc43ccb069caeca3031802",
        "IPY_MODEL_99023061e6444444aa78a2ff955915f1"
       ],
       "layout": "IPY_MODEL_149343b2730841a2a3bbd133bf39df9d"
      }
     },
     "3e7a87c0851e4938a5f45b3f6f2bf9ed": {
      "model_module": "jupyter-js-widgets",
      "model_module_version": "~2.1.4",
      "model_name": "SelectMultipleModel",
      "state": {
       "_model_module_version": "~2.1.4",
       "_options_labels": [
        "Cycle  6",
        "Cycle  7",
        "Cycle  8",
        "Cycle  9",
        "Cycle 10",
        "Cycle 11",
        "Cycle 12",
        "Cycle 13",
        "Cycle 14",
        "Cycle 15",
        "Cycle 16",
        "Cycle 17",
        "Cycle 18",
        "Cycle 19",
        "Cycle 20",
        "Cycle 21",
        "Cycle 22",
        "Cycle 23",
        "Cycle 24"
       ],
       "_view_module_version": "~2.1.4",
       "layout": "IPY_MODEL_99d61444465d4d36ad9125867f76796c",
       "value": []
      }
     },
     "3e8888774f0043eebc4cdf88258b4376": {
      "model_module": "jupyter-js-widgets",
      "model_module_version": "~2.1.4",
      "model_name": "VBoxModel",
      "state": {
       "_model_module_version": "~2.1.4",
       "_view_module_version": "~2.1.4",
       "children": [
        "IPY_MODEL_b1f74d2048c64238a618be566b9ae6f9",
        "IPY_MODEL_5509f2270bb04b17b57daba4991a55a7",
        "IPY_MODEL_dd5d815c8733496798e9e59c8dff0748",
        "IPY_MODEL_3626ac6ea99844fea5f99cc60f6b837e",
        "IPY_MODEL_dfb438c12c034d168fa50214db4e6095"
       ],
       "layout": "IPY_MODEL_dff92875ad7e436198848152f9a40ea6"
      }
     },
     "3eb048a2ca9a48ac83a1acd5a2a6f279": {
      "model_module": "jupyter-js-widgets",
      "model_module_version": "~2.1.4",
      "model_name": "LayoutModel",
      "state": {
       "_model_module_version": "~2.1.4",
       "_view_module_version": "~2.1.4"
      }
     },
     "3ebb40b766a6467ebcf581de8219afec": {
      "model_module": "jupyter-js-widgets",
      "model_module_version": "~2.1.4",
      "model_name": "ButtonStyleModel",
      "state": {
       "_model_module_version": "~2.1.4",
       "_view_module_version": "~2.1.4"
      }
     },
     "3ebc4dc0e5ba409b92760e59e0726bda": {
      "model_module": "jupyter-js-widgets",
      "model_module_version": "~2.1.4",
      "model_name": "LayoutModel",
      "state": {
       "_model_module_version": "~2.1.4",
       "_view_module_version": "~2.1.4"
      }
     },
     "3ee48cdaea3c492b824d0c5d7ba2a281": {
      "model_module": "jupyter-js-widgets",
      "model_module_version": "~2.1.4",
      "model_name": "LayoutModel",
      "state": {
       "_model_module_version": "~2.1.4",
       "_view_module_version": "~2.1.4"
      }
     },
     "3efb8596b7c24c22bc66ca860a0fa330": {
      "model_module": "jupyter-js-widgets",
      "model_module_version": "~2.1.4",
      "model_name": "LayoutModel",
      "state": {
       "_model_module_version": "~2.1.4",
       "_view_module_version": "~2.1.4"
      }
     },
     "3f45abf1fa9248409a0e27b66a51ab1f": {
      "model_module": "jupyter-js-widgets",
      "model_module_version": "~2.1.4",
      "model_name": "LayoutModel",
      "state": {
       "_model_module_version": "~2.1.4",
       "_view_module_version": "~2.1.4"
      }
     },
     "3f58a85e21014924a6964446cc1d8066": {
      "model_module": "jupyter-js-widgets",
      "model_module_version": "~2.1.4",
      "model_name": "LayoutModel",
      "state": {
       "_model_module_version": "~2.1.4",
       "_view_module_version": "~2.1.4"
      }
     },
     "3f5c11b080884c4e98662a9f42a68a88": {
      "model_module": "jupyter-js-widgets",
      "model_module_version": "~2.1.4",
      "model_name": "OutputModel",
      "state": {
       "_dom_classes": [],
       "_model_module": "jupyter-js-widgets",
       "_model_module_version": "~2.1.4",
       "_view_module": "jupyter-js-widgets",
       "_view_module_version": "~2.1.4",
       "layout": "IPY_MODEL_f81c96a795b2422fae6c7c68e49e74ce",
       "msg_throttle": 1
      }
     },
     "3fd3fc26e9754d0682663c4302a11566": {
      "model_module": "jupyter-js-widgets",
      "model_module_version": "~2.1.4",
      "model_name": "LayoutModel",
      "state": {
       "_model_module_version": "~2.1.4",
       "_view_module_version": "~2.1.4",
       "margin": "5px 2px 0",
       "width": "300px"
      }
     },
     "3ff576cd6f894f1790eda69863d53ca1": {
      "model_module": "jupyter-js-widgets",
      "model_module_version": "~2.1.4",
      "model_name": "ButtonModel",
      "state": {
       "_model_module_version": "~2.1.4",
       "_view_module_version": "~2.1.4",
       "description": "Eliminar ciclos selecionados",
       "layout": "IPY_MODEL_1f5b8b099bd14c20ad23b04cb79c661c",
       "style": "IPY_MODEL_c3624e223404483d80a883e234af85d2"
      }
     },
     "403caee548bb43c6baf43d85482a36d1": {
      "model_module": "jupyter-js-widgets",
      "model_module_version": "~2.1.4",
      "model_name": "SliderStyleModel",
      "state": {
       "_model_module_version": "~2.1.4",
       "_view_module_version": "~2.1.4"
      }
     },
     "4073e47bf4784c1fb2091c95b7cab04f": {
      "model_module": "jupyter-js-widgets",
      "model_module_version": "~2.1.4",
      "model_name": "LayoutModel",
      "state": {
       "_model_module_version": "~2.1.4",
       "_view_module_version": "~2.1.4"
      }
     },
     "413f43f2789a4f6bae7920cabefcdf26": {
      "model_module": "jupyter-js-widgets",
      "model_module_version": "~2.1.4",
      "model_name": "SelectMultipleModel",
      "state": {
       "_model_module_version": "~2.1.4",
       "_options_labels": [
        "Cycle  6",
        "Cycle  7",
        "Cycle  8",
        "Cycle  9",
        "Cycle 10",
        "Cycle 11",
        "Cycle 12",
        "Cycle 13",
        "Cycle 14",
        "Cycle 15",
        "Cycle 16",
        "Cycle 17",
        "Cycle 18",
        "Cycle 19",
        "Cycle 20",
        "Cycle 21",
        "Cycle 22",
        "Cycle 23",
        "Cycle 24"
       ],
       "_view_module_version": "~2.1.4",
       "layout": "IPY_MODEL_8c6fb207a6c4426a8da4b0c21d30f5c5",
       "value": [
        "Cycle  7"
       ]
      }
     },
     "4153e5ba310940ad831e324e7388347d": {
      "model_module": "jupyter-js-widgets",
      "model_module_version": "~2.1.4",
      "model_name": "ButtonStyleModel",
      "state": {
       "_model_module_version": "~2.1.4",
       "_view_module_version": "~2.1.4"
      }
     },
     "4177f16d99174d1e8fc2e1bac23a223b": {
      "model_module": "jupyter-js-widgets",
      "model_module_version": "~2.1.4",
      "model_name": "LayoutModel",
      "state": {
       "_model_module_version": "~2.1.4",
       "_view_module_version": "~2.1.4",
       "margin": "5px 2px 0",
       "width": "300px"
      }
     },
     "41c05e659a3e42fe963ee371b9a3085e": {
      "model_module": "jupyter-js-widgets",
      "model_module_version": "~2.1.4",
      "model_name": "LayoutModel",
      "state": {
       "_model_module_version": "~2.1.4",
       "_view_module_version": "~2.1.4"
      }
     },
     "41f460532b1844d88bef359d57a1a72a": {
      "model_module": "jupyter-js-widgets",
      "model_module_version": "~2.1.4",
      "model_name": "LayoutModel",
      "state": {
       "_model_module_version": "~2.1.4",
       "_view_module_version": "~2.1.4",
       "margin": "5px 2px 0",
       "width": "300px"
      }
     },
     "420bdaa85fd04bb1ad36f9af88650767": {
      "model_module": "jupyter-js-widgets",
      "model_module_version": "~2.1.4",
      "model_name": "LabelModel",
      "state": {
       "_model_module_version": "~2.1.4",
       "_view_module_version": "~2.1.4",
       "layout": "IPY_MODEL_8789ec6891534fde89cb30ae88f1eaf5",
       "value": "Ciclos solares"
      }
     },
     "421313da67a54f4e9fda0fb25d8a386c": {
      "model_module": "jupyter-js-widgets",
      "model_module_version": "~2.1.4",
      "model_name": "ButtonStyleModel",
      "state": {
       "_model_module_version": "~2.1.4",
       "_view_module_version": "~2.1.4"
      }
     },
     "4218a37c0683406c83acbf90ebeebf8f": {
      "model_module": "jupyter-js-widgets",
      "model_module_version": "~2.1.4",
      "model_name": "LayoutModel",
      "state": {
       "_model_module_version": "~2.1.4",
       "_view_module_version": "~2.1.4"
      }
     },
     "4238a3de16bc43ccb069caeca3031802": {
      "model_module": "jupyter-js-widgets",
      "model_module_version": "~2.1.4",
      "model_name": "VBoxModel",
      "state": {
       "_model_module_version": "~2.1.4",
       "_view_module_version": "~2.1.4",
       "children": [
        "IPY_MODEL_5cb7077c6f97483ea06dfe765289c75b",
        "IPY_MODEL_ac47b9919542484295d27ca82aa934f9"
       ],
       "layout": "IPY_MODEL_e5f641cf8b854bf4a5d68e509ac7fc80"
      }
     },
     "4287856902c7493ebefd6b5ac51c7ad9": {
      "model_module": "jupyter-js-widgets",
      "model_module_version": "~2.1.4",
      "model_name": "VBoxModel",
      "state": {
       "_model_module_version": "~2.1.4",
       "_view_module_version": "~2.1.4",
       "children": [
        "IPY_MODEL_d53ae6442be647459da70851e02b3aff",
        "IPY_MODEL_33f7fc692aa1481493e707dd981337f6"
       ],
       "layout": "IPY_MODEL_76a794d859234de0a782d1ab78e17bc7"
      }
     },
     "43adbafe37fe43618123d66664f4ddba": {
      "model_module": "jupyter-js-widgets",
      "model_module_version": "~2.1.4",
      "model_name": "HBoxModel",
      "state": {
       "_model_module_version": "~2.1.4",
       "_view_module_version": "~2.1.4",
       "children": [
        "IPY_MODEL_2848e3223e194779ba38ce46924bab46",
        "IPY_MODEL_179573c212f647a7a2341a0c73234cb6"
       ],
       "layout": "IPY_MODEL_3f58a85e21014924a6964446cc1d8066"
      }
     },
     "43b361a8eb8d4cddb9e6f3af39bbf8c2": {
      "model_module": "jupyter-js-widgets",
      "model_module_version": "~2.1.4",
      "model_name": "LayoutModel",
      "state": {
       "_model_module_version": "~2.1.4",
       "_view_module_version": "~2.1.4"
      }
     },
     "43d49b6d4be044939a46edba67da5b8f": {
      "model_module": "jupyter-js-widgets",
      "model_module_version": "~2.1.4",
      "model_name": "VBoxModel",
      "state": {
       "_model_module_version": "~2.1.4",
       "_view_module_version": "~2.1.4",
       "children": [
        "IPY_MODEL_44c367cc3dcf477bb359633254d66c73",
        "IPY_MODEL_d07403ddcde24af5b6523776bd6d32f8",
        "IPY_MODEL_2d38afc335ca4ff79db1cf14ca3afa78",
        "IPY_MODEL_7df3a7af306646448c3cd9400a196554",
        "IPY_MODEL_6de2c5721150410f9092381a65eb4481"
       ],
       "layout": "IPY_MODEL_0bad68c4617f42bc8a7699fc094d7aac"
      }
     },
     "43d795e05caa42059979bef26caadf3b": {
      "model_module": "jupyter-js-widgets",
      "model_module_version": "~2.1.4",
      "model_name": "LayoutModel",
      "state": {
       "_model_module_version": "~2.1.4",
       "_view_module_version": "~2.1.4"
      }
     },
     "440a77c38a97406eaba5d0d9682aa15f": {
      "model_module": "jupyter-js-widgets",
      "model_module_version": "~2.1.4",
      "model_name": "ButtonStyleModel",
      "state": {
       "_model_module_version": "~2.1.4",
       "_view_module_version": "~2.1.4"
      }
     },
     "4453396d00484ac8a5b18626d8382ade": {
      "model_module": "jupyter-js-widgets",
      "model_module_version": "~2.1.4",
      "model_name": "LayoutModel",
      "state": {
       "_model_module_version": "~2.1.4",
       "_view_module_version": "~2.1.4",
       "margin": "5px 2px 0",
       "width": "300px"
      }
     },
     "4453e709cc0d40919a9ef8507bebce0f": {
      "model_module": "jupyter-js-widgets",
      "model_module_version": "~2.1.4",
      "model_name": "LayoutModel",
      "state": {
       "_model_module_version": "~2.1.4",
       "_view_module_version": "~2.1.4"
      }
     },
     "449304095a8a4a809480650345288388": {
      "model_module": "jupyter-js-widgets",
      "model_module_version": "~2.1.4",
      "model_name": "VBoxModel",
      "state": {
       "_model_module_version": "~2.1.4",
       "_view_module_version": "~2.1.4",
       "children": [
        "IPY_MODEL_dd24f922064a4c19bb639454b08eb5f6",
        "IPY_MODEL_4d75e8dde4f7444ea88e4c679325fa82"
       ],
       "layout": "IPY_MODEL_c56ab021680f4ec1802b5135f37a6732"
      }
     },
     "44982341e6b94368bde778ef655f6e0c": {
      "model_module": "jupyter-js-widgets",
      "model_module_version": "~2.1.4",
      "model_name": "OutputModel",
      "state": {
       "_dom_classes": [],
       "_model_module": "jupyter-js-widgets",
       "_model_module_version": "~2.1.4",
       "_view_module": "jupyter-js-widgets",
       "_view_module_version": "~2.1.4",
       "layout": "IPY_MODEL_9c28d049ca84452bbaf378329b9ac0f1",
       "msg_throttle": 1
      }
     },
     "449a0c51f402467aa5dbfce3aa9dd2b6": {
      "model_module": "jupyter-js-widgets",
      "model_module_version": "~2.1.4",
      "model_name": "LayoutModel",
      "state": {
       "_model_module_version": "~2.1.4",
       "_view_module_version": "~2.1.4"
      }
     },
     "44adeba707414f3781decfe4025059ec": {
      "model_module": "jupyter-js-widgets",
      "model_module_version": "~2.1.4",
      "model_name": "LabelModel",
      "state": {
       "_model_module_version": "~2.1.4",
       "_view_module_version": "~2.1.4",
       "layout": "IPY_MODEL_bb83e09563fe468a95055e48b6d0cc70",
       "value": "Máximos (18)"
      }
     },
     "44c367cc3dcf477bb359633254d66c73": {
      "model_module": "jupyter-js-widgets",
      "model_module_version": "~2.1.4",
      "model_name": "LabelModel",
      "state": {
       "_model_module_version": "~2.1.4",
       "_view_module_version": "~2.1.4",
       "layout": "IPY_MODEL_7f42f2defd2c42eba5b5a61345bd2d42",
       "value": "Ciclos solares"
      }
     },
     "44cefd4eeb9647e0905fbc76aaf078bb": {
      "model_module": "jupyter-js-widgets",
      "model_module_version": "~2.1.4",
      "model_name": "LabelModel",
      "state": {
       "_model_module_version": "~2.1.4",
       "_view_module_version": "~2.1.4",
       "layout": "IPY_MODEL_e8ea3fdd5af24768b323214a9c9c6aba",
       "value": "Ciclos solares"
      }
     },
     "45a1ae9f6b1a415193b5b1bfce09b619": {
      "model_module": "jupyter-js-widgets",
      "model_module_version": "~2.1.4",
      "model_name": "LayoutModel",
      "state": {
       "_model_module_version": "~2.1.4",
       "_view_module_version": "~2.1.4"
      }
     },
     "45d72d7a1a924cf5b2764397f81f75dc": {
      "model_module": "jupyter-js-widgets",
      "model_module_version": "~2.1.4",
      "model_name": "ButtonModel",
      "state": {
       "_model_module_version": "~2.1.4",
       "_view_module_version": "~2.1.4",
       "description": "Limpiar seleción de ciclos",
       "layout": "IPY_MODEL_a2a91a56a36c4f48ad8d1d3a5b2a3bce",
       "style": "IPY_MODEL_5994c64019944b25a0f6ec0be40b3b3e"
      }
     },
     "45f49b784f104e2292dba40a31e3e064": {
      "model_module": "jupyter-js-widgets",
      "model_module_version": "~2.1.4",
      "model_name": "ButtonStyleModel",
      "state": {
       "_model_module_version": "~2.1.4",
       "_view_module_version": "~2.1.4"
      }
     },
     "46172e7ad1fa400ea20f6fdfdb56277b": {
      "model_module": "jupyter-js-widgets",
      "model_module_version": "~2.1.4",
      "model_name": "LabelModel",
      "state": {
       "_model_module_version": "~2.1.4",
       "_view_module_version": "~2.1.4",
       "layout": "IPY_MODEL_86f949a6d028457080410ee550171637",
       "value": "Delta"
      }
     },
     "462b43a8c7224be1855bceff300e6eb8": {
      "model_module": "jupyter-js-widgets",
      "model_module_version": "~2.1.4",
      "model_name": "VBoxModel",
      "state": {
       "_model_module_version": "~2.1.4",
       "_view_module_version": "~2.1.4",
       "children": [
        "IPY_MODEL_15e1f821490e4e29b3c3e3102bccc458",
        "IPY_MODEL_536a3341b22541f78d4b2cf2860f6556",
        "IPY_MODEL_0c83a291007b49e5926875debdb7879f",
        "IPY_MODEL_bec0f62d786b47e3aae85dc827f68c5d",
        "IPY_MODEL_b07d505b5f374ca19b80a2d238eace8c"
       ],
       "layout": "IPY_MODEL_870dab5e39d147a09c61faea3f5a0477"
      }
     },
     "464269c7140045e68d90e5693b520e13": {
      "model_module": "jupyter-js-widgets",
      "model_module_version": "~2.1.4",
      "model_name": "SelectMultipleModel",
      "state": {
       "_model_module_version": "~2.1.4",
       "_options_labels": [
        "Cycle  6",
        "Cycle  7",
        "Cycle  8",
        "Cycle  9",
        "Cycle 10",
        "Cycle 11",
        "Cycle 12",
        "Cycle 13",
        "Cycle 14",
        "Cycle 15",
        "Cycle 16",
        "Cycle 17",
        "Cycle 18",
        "Cycle 19",
        "Cycle 20",
        "Cycle 21",
        "Cycle 22",
        "Cycle 23",
        "Cycle 24"
       ],
       "_view_module_version": "~2.1.4",
       "layout": "IPY_MODEL_135bfaa2aa0d465eb20fa58415640dae",
       "value": []
      }
     },
     "466af7ddec40447b89f6545508f65451": {
      "model_module": "jupyter-js-widgets",
      "model_module_version": "~2.1.4",
      "model_name": "LayoutModel",
      "state": {
       "_model_module_version": "~2.1.4",
       "_view_module_version": "~2.1.4"
      }
     },
     "4683e3354cf04e8cb30c1ef866cfac41": {
      "model_module": "jupyter-js-widgets",
      "model_module_version": "~2.1.4",
      "model_name": "LayoutModel",
      "state": {
       "_model_module_version": "~2.1.4",
       "_view_module_version": "~2.1.4",
       "width": "100%"
      }
     },
     "468f85d2c97c4b989824b6e5ca0937c7": {
      "model_module": "jupyter-js-widgets",
      "model_module_version": "~2.1.4",
      "model_name": "VBoxModel",
      "state": {
       "_model_module_version": "~2.1.4",
       "_view_module_version": "~2.1.4",
       "children": [
        "IPY_MODEL_5edf1ef1d8ba493db4c40309be085897",
        "IPY_MODEL_cc3a1ba26ade418092cdb4dd1a4fd2f4"
       ],
       "layout": "IPY_MODEL_2ddd7afe0bbd4eddb6a21cc6578ba2a0"
      }
     },
     "46de445bec7744ed87463408de328520": {
      "model_module": "jupyter-js-widgets",
      "model_module_version": "~2.1.4",
      "model_name": "ButtonStyleModel",
      "state": {
       "_model_module_version": "~2.1.4",
       "_view_module_version": "~2.1.4"
      }
     },
     "46f67a1404e64f58ba1767e0cd5eda66": {
      "model_module": "jupyter-js-widgets",
      "model_module_version": "~2.1.4",
      "model_name": "LayoutModel",
      "state": {
       "_model_module_version": "~2.1.4",
       "_view_module_version": "~2.1.4",
       "margin": "5px 2px 0",
       "width": "300px"
      }
     },
     "46f7cf42c54e41e683c3d2ea0c23e86b": {
      "model_module": "jupyter-js-widgets",
      "model_module_version": "~2.1.4",
      "model_name": "LayoutModel",
      "state": {
       "_model_module_version": "~2.1.4",
       "_view_module_version": "~2.1.4",
       "width": "100%"
      }
     },
     "4752a62db0914b81a00ea23cbb374fc6": {
      "model_module": "jupyter-js-widgets",
      "model_module_version": "~2.1.4",
      "model_name": "LayoutModel",
      "state": {
       "_model_module_version": "~2.1.4",
       "_view_module_version": "~2.1.4",
       "width": "100%"
      }
     },
     "478c38d252f443e4a915c294e1055e62": {
      "model_module": "jupyter-js-widgets",
      "model_module_version": "~2.1.4",
      "model_name": "VBoxModel",
      "state": {
       "_model_module_version": "~2.1.4",
       "_view_module_version": "~2.1.4",
       "children": [
        "IPY_MODEL_004e7ae514924d5996e3479fb06cbc50",
        "IPY_MODEL_831c51ff6f48468a8cdb6ae5a8089d55",
        "IPY_MODEL_61eae0333fdb4bf5b64129961aad3639"
       ],
       "layout": "IPY_MODEL_ba3475be7e894abea61ddd62f864440a"
      }
     },
     "48225c0e408948b2a847f6727b4b3c2c": {
      "model_module": "jupyter-js-widgets",
      "model_module_version": "~2.1.4",
      "model_name": "VBoxModel",
      "state": {
       "_model_module_version": "~2.1.4",
       "_view_module_version": "~2.1.4",
       "children": [
        "IPY_MODEL_3e670782a8d94eff810b07632aa6b201",
        "IPY_MODEL_5fb31b148e8e4ea1b35a7b2b6744e6b1",
        "IPY_MODEL_c01f0f79d316453f99d348667db69389"
       ],
       "layout": "IPY_MODEL_06edc62f98604d1e8cb924311ab80881"
      }
     },
     "4838e3b75b7344b994e6f4f059681c21": {
      "model_module": "jupyter-js-widgets",
      "model_module_version": "~2.1.4",
      "model_name": "ButtonStyleModel",
      "state": {
       "_model_module_version": "~2.1.4",
       "_view_module_version": "~2.1.4"
      }
     },
     "483f90ffeaf74682a4345997f0640358": {
      "model_module": "jupyter-js-widgets",
      "model_module_version": "~2.1.4",
      "model_name": "SelectMultipleModel",
      "state": {
       "_model_module_version": "~2.1.4",
       "_options_labels": [
        "Cycle  6",
        "Cycle  7",
        "Cycle  8",
        "Cycle  9",
        "Cycle 10",
        "Cycle 11",
        "Cycle 12",
        "Cycle 13",
        "Cycle 14",
        "Cycle 15",
        "Cycle 16",
        "Cycle 17",
        "Cycle 18",
        "Cycle 19",
        "Cycle 20",
        "Cycle 21",
        "Cycle 22",
        "Cycle 23",
        "Cycle 24"
       ],
       "_view_module_version": "~2.1.4",
       "layout": "IPY_MODEL_7c67218f55e242e6a16dd7cc4aec9e2c",
       "value": [
        "Cycle  6",
        "Cycle  7",
        "Cycle  8",
        "Cycle 24"
       ]
      }
     },
     "48bf5a74f1ec4fd28f19ba1b0efd6e6d": {
      "model_module": "jupyter-js-widgets",
      "model_module_version": "~2.1.4",
      "model_name": "LayoutModel",
      "state": {
       "_model_module_version": "~2.1.4",
       "_view_module_version": "~2.1.4"
      }
     },
     "49892c8b497c4fc19d73d3a2a40b9537": {
      "model_module": "jupyter-js-widgets",
      "model_module_version": "~2.1.4",
      "model_name": "LabelModel",
      "state": {
       "_model_module_version": "~2.1.4",
       "_view_module_version": "~2.1.4",
       "layout": "IPY_MODEL_c87b652b0b214d0eb172cee8c46abd62",
       "value": "Mínimos (18)"
      }
     },
     "49a2a8d120a74cb29c70cbac8a83ea02": {
      "model_module": "jupyter-js-widgets",
      "model_module_version": "~2.1.4",
      "model_name": "LabelModel",
      "state": {
       "_model_module_version": "~2.1.4",
       "_view_module_version": "~2.1.4",
       "layout": "IPY_MODEL_3978a8a8414b44639eb7a287b0d87f68",
       "value": "Máximos (18)"
      }
     },
     "4a1cb81480074670bbe44dc38e5732c1": {
      "model_module": "jupyter-js-widgets",
      "model_module_version": "~2.1.4",
      "model_name": "LayoutModel",
      "state": {
       "_model_module_version": "~2.1.4",
       "_view_module_version": "~2.1.4",
       "width": "100%"
      }
     },
     "4a4a003cec064677baed767f5e778f36": {
      "model_module": "jupyter-js-widgets",
      "model_module_version": "~2.1.4",
      "model_name": "VBoxModel",
      "state": {
       "_model_module_version": "~2.1.4",
       "_view_module_version": "~2.1.4",
       "children": [
        "IPY_MODEL_d29ba6e85adc4a83b9cc1d7731bb126e",
        "IPY_MODEL_8939fbb396274a4cb9e9d20cddaf1933",
        "IPY_MODEL_eb282a1ada18480fb9a5060e8268520f",
        "IPY_MODEL_681e1727b36d431fb6448bd10f5bfe96",
        "IPY_MODEL_52fcccbe63274b89aa897f9acb876656"
       ],
       "layout": "IPY_MODEL_6e0ecf3d11f046528841d74c8da5bdd7"
      }
     },
     "4a5aead131374cf7af8df916eed167f3": {
      "model_module": "jupyter-js-widgets",
      "model_module_version": "~2.1.4",
      "model_name": "LayoutModel",
      "state": {
       "_model_module_version": "~2.1.4",
       "_view_module_version": "~2.1.4"
      }
     },
     "4ab0c897f6a24b8685e35b42cd3e93c4": {
      "model_module": "jupyter-js-widgets",
      "model_module_version": "~2.1.4",
      "model_name": "LayoutModel",
      "state": {
       "_model_module_version": "~2.1.4",
       "_view_module_version": "~2.1.4",
       "margin": "5px 2px 0",
       "width": "300px"
      }
     },
     "4ae19f9823d9408dbe68d90f33217f3f": {
      "model_module": "jupyter-js-widgets",
      "model_module_version": "~2.1.4",
      "model_name": "LayoutModel",
      "state": {
       "_model_module_version": "~2.1.4",
       "_view_module_version": "~2.1.4",
       "margin": "5px 2px 0",
       "width": "300px"
      }
     },
     "4aec5960d4b7402384878be23078f0b5": {
      "model_module": "jupyter-js-widgets",
      "model_module_version": "~2.1.4",
      "model_name": "LayoutModel",
      "state": {
       "_model_module_version": "~2.1.4",
       "_view_module_version": "~2.1.4",
       "width": "100%"
      }
     },
     "4b45677ab5bf4c8194b6c1066b055e07": {
      "model_module": "jupyter-js-widgets",
      "model_module_version": "~2.1.4",
      "model_name": "SelectMultipleModel",
      "state": {
       "_model_module_version": "~2.1.4",
       "_options_labels": [
        "01: 1829-11 (119.247)",
        "02: 1837-03 (244.868)",
        "03: 1848-02 (219.938)",
        "04: 1860-02 (186.154)",
        "05: 1870-08 (234.021)",
        "06: 1883-12 (124.408)",
        "07: 1894-01 (146.535)",
        "08: 1906-02 (107.068)",
        "09: 1917-08 (175.675)",
        "10: 1928-04 (130.228)",
        "11: 1937-04 (198.636)",
        "12: 1947-05 (218.737)",
        "13: 1958-03 (284.998)",
        "14: 1968-11 (156.632)",
        "15: 1979-12 (232.912)",
        "16: 1989-11 (212.480)",
        "17: 2001-11 (180.273)",
        "18: 2014-04 (116.407)"
       ],
       "_view_module_version": "~2.1.4",
       "layout": "IPY_MODEL_6745b2555eb6451eac78fcb5e17a58c7",
       "value": []
      }
     },
     "4bc63b945bef43aab80dff4d7fd0db08": {
      "model_module": "jupyter-js-widgets",
      "model_module_version": "~2.1.4",
      "model_name": "LayoutModel",
      "state": {
       "_model_module_version": "~2.1.4",
       "_view_module_version": "~2.1.4",
       "margin": "5px 2px 0",
       "width": "300px"
      }
     },
     "4c05911b10c64ad9853a6dcf9b839103": {
      "model_module": "jupyter-js-widgets",
      "model_module_version": "~2.1.4",
      "model_name": "LayoutModel",
      "state": {
       "_model_module_version": "~2.1.4",
       "_view_module_version": "~2.1.4"
      }
     },
     "4c081c4de26f4fe983a36c3fe7362aab": {
      "model_module": "jupyter-js-widgets",
      "model_module_version": "~2.1.4",
      "model_name": "ButtonModel",
      "state": {
       "_model_module_version": "~2.1.4",
       "_view_module_version": "~2.1.4",
       "description": "Limpiar seleción de ciclos",
       "layout": "IPY_MODEL_1658f57570b04cadb51948c78a23a497",
       "style": "IPY_MODEL_8e4c60f115ba42baad46ef5269566e65"
      }
     },
     "4c645162ae254290af8be298c11f2c48": {
      "model_module": "jupyter-js-widgets",
      "model_module_version": "~2.1.4",
      "model_name": "LayoutModel",
      "state": {
       "_model_module_version": "~2.1.4",
       "_view_module_version": "~2.1.4",
       "width": "100%"
      }
     },
     "4c6e335ff6a04f74b9eeea58a2b5c266": {
      "model_module": "jupyter-js-widgets",
      "model_module_version": "~2.1.4",
      "model_name": "LayoutModel",
      "state": {
       "_model_module_version": "~2.1.4",
       "_view_module_version": "~2.1.4"
      }
     },
     "4c7aa36c89444766b3b307af2c76aedd": {
      "model_module": "jupyter-js-widgets",
      "model_module_version": "~2.1.4",
      "model_name": "OutputModel",
      "state": {
       "_dom_classes": [],
       "_model_module": "jupyter-js-widgets",
       "_model_module_version": "~2.1.4",
       "_view_module": "jupyter-js-widgets",
       "_view_module_version": "~2.1.4",
       "layout": "IPY_MODEL_41c05e659a3e42fe963ee371b9a3085e",
       "msg_throttle": 1
      }
     },
     "4d270e3fb3134b419d34d7d5442f2276": {
      "model_module": "jupyter-js-widgets",
      "model_module_version": "~2.1.4",
      "model_name": "LayoutModel",
      "state": {
       "_model_module_version": "~2.1.4",
       "_view_module_version": "~2.1.4",
       "width": "100%"
      }
     },
     "4d74c5e8cab148839d1c8d25554c412c": {
      "model_module": "jupyter-js-widgets",
      "model_module_version": "~2.1.4",
      "model_name": "LayoutModel",
      "state": {
       "_model_module_version": "~2.1.4",
       "_view_module_version": "~2.1.4",
       "margin": "5px 2px 0",
       "width": "300px"
      }
     },
     "4d75e8dde4f7444ea88e4c679325fa82": {
      "model_module": "jupyter-js-widgets",
      "model_module_version": "~2.1.4",
      "model_name": "IntSliderModel",
      "state": {
       "_model_module_version": "~2.1.4",
       "_view_module_version": "~2.1.4",
       "layout": "IPY_MODEL_355e1604a2684d11bbb526499eb4e1d6",
       "min": 1,
       "style": "IPY_MODEL_fe8e7dd4a5bc48e186d34b9d39817280",
       "value": 20
      }
     },
     "4d97841be00c401aadfbe92ba054e3c8": {
      "model_module": "jupyter-js-widgets",
      "model_module_version": "~2.1.4",
      "model_name": "SelectMultipleModel",
      "state": {
       "_model_module_version": "~2.1.4",
       "_options_labels": [
        "Cycle  6",
        "Cycle  7",
        "Cycle  8",
        "Cycle  9",
        "Cycle 10",
        "Cycle 11",
        "Cycle 12",
        "Cycle 13",
        "Cycle 14",
        "Cycle 15",
        "Cycle 16",
        "Cycle 17",
        "Cycle 18",
        "Cycle 19",
        "Cycle 20",
        "Cycle 21",
        "Cycle 22",
        "Cycle 23",
        "Cycle 24"
       ],
       "_view_module_version": "~2.1.4",
       "layout": "IPY_MODEL_98d7dd7a2b4b405caa4add874f24e173",
       "value": [
        "Cycle  6",
        "Cycle  7",
        "Cycle  8",
        "Cycle 24"
       ]
      }
     },
     "4df7d8a1e040492abee7ca0888cadd78": {
      "model_module": "jupyter-js-widgets",
      "model_module_version": "~2.1.4",
      "model_name": "LayoutModel",
      "state": {
       "_model_module_version": "~2.1.4",
       "_view_module_version": "~2.1.4"
      }
     },
     "4e20dd75aa184aa5b43ed53c08426975": {
      "model_module": "jupyter-js-widgets",
      "model_module_version": "~2.1.4",
      "model_name": "LayoutModel",
      "state": {
       "_model_module_version": "~2.1.4",
       "_view_module_version": "~2.1.4"
      }
     },
     "4e4813c7d7ec4c389dede7b1397c4293": {
      "model_module": "jupyter-js-widgets",
      "model_module_version": "~2.1.4",
      "model_name": "ButtonStyleModel",
      "state": {
       "_model_module_version": "~2.1.4",
       "_view_module_version": "~2.1.4"
      }
     },
     "4e6f4265f573460d83c6aaf6902047b3": {
      "model_module": "jupyter-js-widgets",
      "model_module_version": "~2.1.4",
      "model_name": "ButtonModel",
      "state": {
       "_model_module_version": "~2.1.4",
       "_view_module_version": "~2.1.4",
       "button_style": "success",
       "description": "Eliminar ciclos selecionados",
       "layout": "IPY_MODEL_78c59476cf8949fca3101ab58c1d043f",
       "style": "IPY_MODEL_da6e1cfc053c4a74a29ae8d4358840bf"
      }
     },
     "4e912eb4d7fa427fb26359a9e83b4cca": {
      "model_module": "jupyter-js-widgets",
      "model_module_version": "~2.1.4",
      "model_name": "SelectMultipleModel",
      "state": {
       "_model_module_version": "~2.1.4",
       "_options_labels": [
        "Cycle  6",
        "Cycle  7",
        "Cycle  8",
        "Cycle  9",
        "Cycle 10",
        "Cycle 11",
        "Cycle 12",
        "Cycle 13",
        "Cycle 14",
        "Cycle 15",
        "Cycle 16",
        "Cycle 17",
        "Cycle 18",
        "Cycle 19",
        "Cycle 20",
        "Cycle 21",
        "Cycle 22",
        "Cycle 23",
        "Cycle 24"
       ],
       "_view_module_version": "~2.1.4",
       "layout": "IPY_MODEL_33a1579575df43c88912350a5ed27cf1",
       "value": [
        "Cycle  6",
        "Cycle  7",
        "Cycle  8",
        "Cycle 24"
       ]
      }
     },
     "4eb890009ed7483381dd250c87f06001": {
      "model_module": "jupyter-js-widgets",
      "model_module_version": "~2.1.4",
      "model_name": "LayoutModel",
      "state": {
       "_model_module_version": "~2.1.4",
       "_view_module_version": "~2.1.4"
      }
     },
     "4eda1afa8b734b93979f79173b12bc72": {
      "model_module": "jupyter-js-widgets",
      "model_module_version": "~2.1.4",
      "model_name": "LayoutModel",
      "state": {
       "_model_module_version": "~2.1.4",
       "_view_module_version": "~2.1.4",
       "margin": "5px 2px 0",
       "width": "300px"
      }
     },
     "4eeeaa4006064f27919d37d1333343fc": {
      "model_module": "jupyter-js-widgets",
      "model_module_version": "~2.1.4",
      "model_name": "SelectMultipleModel",
      "state": {
       "_model_module_version": "~2.1.4",
       "_options_labels": [
        "Cycle  6",
        "Cycle  7",
        "Cycle  8",
        "Cycle  9",
        "Cycle 10",
        "Cycle 11",
        "Cycle 12",
        "Cycle 13",
        "Cycle 14",
        "Cycle 15",
        "Cycle 16",
        "Cycle 17",
        "Cycle 18",
        "Cycle 19",
        "Cycle 20",
        "Cycle 21",
        "Cycle 22",
        "Cycle 23",
        "Cycle 24"
       ],
       "_view_module_version": "~2.1.4",
       "layout": "IPY_MODEL_aa97c607eec0471eb8206c6ab995565e",
       "value": []
      }
     },
     "4ef5c9911e08469fbefeb97d628a31b1": {
      "model_module": "jupyter-js-widgets",
      "model_module_version": "~2.1.4",
      "model_name": "LabelModel",
      "state": {
       "_model_module_version": "~2.1.4",
       "_view_module_version": "~2.1.4",
       "layout": "IPY_MODEL_b286a600fd604cb5a94fb9e372dabf0e",
       "value": "Mínimos (18)"
      }
     },
     "4f2bc368a15b4681830d365161d931e1": {
      "model_module": "jupyter-js-widgets",
      "model_module_version": "~2.1.4",
      "model_name": "OutputModel",
      "state": {
       "_dom_classes": [],
       "_model_module": "jupyter-js-widgets",
       "_model_module_version": "~2.1.4",
       "_view_module": "jupyter-js-widgets",
       "_view_module_version": "~2.1.4",
       "layout": "IPY_MODEL_e1d6770fa7aa40919b46951db49bee4a",
       "msg_throttle": 1
      }
     },
     "4f3952af48ac4952b2a58c6217f1e274": {
      "model_module": "jupyter-js-widgets",
      "model_module_version": "~2.1.4",
      "model_name": "SelectMultipleModel",
      "state": {
       "_model_module_version": "~2.1.4",
       "_options_labels": [
        "01: 1823-05 (0.143)",
        "02: 1833-11 (12.182)",
        "03: 1843-07 (17.615)",
        "04: 1855-12 (5.997)",
        "05: 1867-03 (9.872)",
        "06: 1878-12 (3.750)",
        "07: 1890-03 (8.279)",
        "08: 1902-01 (4.474)",
        "09: 1913-07 (2.442)",
        "10: 1923-08 (9.362)",
        "11: 1933-09 (5.789)",
        "12: 1944-02 (12.883)",
        "13: 1954-04 (5.096)",
        "14: 1964-10 (14.237)",
        "15: 1976-03 (17.792)",
        "16: 1986-09 (13.520)",
        "17: 1996-05 (11.171)",
        "18: 2008-12 (2.248)"
       ],
       "_view_module_version": "~2.1.4",
       "layout": "IPY_MODEL_09fbe14fb09e41ec9d088064c7ae1a35",
       "value": []
      }
     },
     "4f5aa13ff1a94adf89df12d941da79d6": {
      "model_module": "jupyter-js-widgets",
      "model_module_version": "~2.1.4",
      "model_name": "VBoxModel",
      "state": {
       "_model_module_version": "~2.1.4",
       "_view_module_version": "~2.1.4",
       "children": [
        "IPY_MODEL_8a2e103995524aaaa23548a750ce312c",
        "IPY_MODEL_7fd94915b88d417db3f1fcc4d849bad5",
        "IPY_MODEL_3aba4ec3f6624a198aa77d5cb6f8d1fc",
        "IPY_MODEL_0a07de625a4843ffa196d8a2f1f8f679",
        "IPY_MODEL_3942410641944768b6592fb416912a72"
       ],
       "layout": "IPY_MODEL_91fcbda5d45e41889b835f7ec42b5341"
      }
     },
     "4fa14c5d4a6f465d96a07cf09d0d69b4": {
      "model_module": "jupyter-js-widgets",
      "model_module_version": "~2.1.4",
      "model_name": "LayoutModel",
      "state": {
       "_model_module_version": "~2.1.4",
       "_view_module_version": "~2.1.4"
      }
     },
     "4fae69c08627495a87ebed2af96cae6b": {
      "model_module": "jupyter-js-widgets",
      "model_module_version": "~2.1.4",
      "model_name": "ButtonStyleModel",
      "state": {
       "_model_module_version": "~2.1.4",
       "_view_module_version": "~2.1.4"
      }
     },
     "4fed0a0c9a864db0aed520793880aee2": {
      "model_module": "jupyter-js-widgets",
      "model_module_version": "~2.1.4",
      "model_name": "ButtonModel",
      "state": {
       "_model_module_version": "~2.1.4",
       "_view_module_version": "~2.1.4",
       "description": "Eliminar ciclos selecionados",
       "layout": "IPY_MODEL_b4ee2fe8dc8948dbaa6778e01c107567",
       "style": "IPY_MODEL_142ee9d074ee482e9f35e78046ff210b"
      }
     },
     "5005f49b6f474e81a492b2d7858a4c27": {
      "model_module": "jupyter-js-widgets",
      "model_module_version": "~2.1.4",
      "model_name": "ButtonStyleModel",
      "state": {
       "_model_module_version": "~2.1.4",
       "_view_module_version": "~2.1.4"
      }
     },
     "50209cbab8fc47bbb662ac44eff64759": {
      "model_module": "jupyter-js-widgets",
      "model_module_version": "~2.1.4",
      "model_name": "LayoutModel",
      "state": {
       "_model_module_version": "~2.1.4",
       "_view_module_version": "~2.1.4",
       "width": "100%"
      }
     },
     "50252016b7584a43bb00f1373a2d3d91": {
      "model_module": "jupyter-js-widgets",
      "model_module_version": "~2.1.4",
      "model_name": "ButtonModel",
      "state": {
       "_model_module_version": "~2.1.4",
       "_view_module_version": "~2.1.4",
       "description": "Eliminar ciclos selecionados",
       "layout": "IPY_MODEL_4d74c5e8cab148839d1c8d25554c412c",
       "style": "IPY_MODEL_9f610d6898764343b1877131839b16d3"
      }
     },
     "50394ba39da34236b6d2ef9ab7a24268": {
      "model_module": "jupyter-js-widgets",
      "model_module_version": "~2.1.4",
      "model_name": "LabelModel",
      "state": {
       "_model_module_version": "~2.1.4",
       "_view_module_version": "~2.1.4",
       "layout": "IPY_MODEL_c97209fa657f4f2186fe3d705f1b0b1f",
       "value": "Ciclos solares"
      }
     },
     "50438cdae24646918b4c16448f55e6f0": {
      "model_module": "jupyter-js-widgets",
      "model_module_version": "~2.1.4",
      "model_name": "ButtonStyleModel",
      "state": {
       "_model_module_version": "~2.1.4",
       "_view_module_version": "~2.1.4"
      }
     },
     "504839c325f647e582d9b704e7de4399": {
      "model_module": "jupyter-js-widgets",
      "model_module_version": "~2.1.4",
      "model_name": "OutputModel",
      "state": {
       "_dom_classes": [],
       "_model_module": "jupyter-js-widgets",
       "_model_module_version": "~2.1.4",
       "_view_module": "jupyter-js-widgets",
       "_view_module_version": "~2.1.4",
       "layout": "IPY_MODEL_466af7ddec40447b89f6545508f65451",
       "msg_throttle": 1
      }
     },
     "50cc7065a03047b5a31039018bc839b0": {
      "model_module": "jupyter-js-widgets",
      "model_module_version": "~2.1.4",
      "model_name": "SelectMultipleModel",
      "state": {
       "_model_module_version": "~2.1.4",
       "_options_labels": [
        "Cycle  6",
        "Cycle  7",
        "Cycle  8",
        "Cycle  9",
        "Cycle 10",
        "Cycle 11",
        "Cycle 12",
        "Cycle 13",
        "Cycle 14",
        "Cycle 15",
        "Cycle 16",
        "Cycle 17",
        "Cycle 18",
        "Cycle 19",
        "Cycle 20",
        "Cycle 21",
        "Cycle 22",
        "Cycle 23",
        "Cycle 24"
       ],
       "_view_module_version": "~2.1.4",
       "layout": "IPY_MODEL_29be8a8551364dda93f83fe9534c6804",
       "value": [
        "Cycle 23",
        "Cycle 24",
        "Cycle 24",
        "Cycle 24",
        "Cycle 24",
        "Cycle 24",
        "Cycle 24",
        "Cycle 24",
        "Cycle 24",
        "Cycle 24",
        "Cycle 24",
        "Cycle 24",
        "Cycle 24",
        "Cycle 24",
        "Cycle 24",
        "Cycle 24",
        "Cycle 24",
        "Cycle 24",
        "Cycle 24",
        "Cycle 24",
        "Cycle 24",
        "Cycle 24",
        "Cycle 24",
        "Cycle 24",
        "Cycle 24",
        "Cycle 24",
        "Cycle 24",
        "Cycle 24",
        "Cycle 24",
        "Cycle 24",
        "Cycle 24",
        "Cycle 24",
        "Cycle 24",
        "Cycle 24",
        "Cycle 24",
        "Cycle 24",
        "Cycle 24",
        "Cycle 24",
        "Cycle 24",
        "Cycle 24",
        "Cycle 24",
        "Cycle 24",
        "Cycle 24",
        "Cycle 24",
        "Cycle 24",
        "Cycle 24",
        "Cycle 24",
        "Cycle 24",
        "Cycle 24",
        "Cycle 24",
        "Cycle 24",
        "Cycle 24",
        "Cycle 24",
        "Cycle 24",
        "Cycle 24",
        "Cycle 24",
        "Cycle 24",
        "Cycle 24",
        "Cycle 24",
        "Cycle 24",
        "Cycle 24",
        "Cycle 24",
        "Cycle 24",
        "Cycle 24",
        "Cycle 24",
        "Cycle 24",
        "Cycle 24",
        "Cycle 24",
        "Cycle 24",
        "Cycle 24",
        "Cycle 24",
        "Cycle 24",
        "Cycle 24",
        "Cycle 24",
        "Cycle 24",
        "Cycle 24",
        "Cycle 24",
        "Cycle 24",
        "Cycle 24",
        "Cycle 24",
        "Cycle 24",
        "Cycle 24",
        "Cycle 24",
        "Cycle 24",
        "Cycle 24",
        "Cycle 24",
        "Cycle 24",
        "Cycle 24",
        "Cycle 24",
        "Cycle 24",
        "Cycle 24",
        "Cycle 24",
        "Cycle 24",
        "Cycle 24",
        "Cycle 24",
        "Cycle 24",
        "Cycle 24",
        "Cycle 24",
        "Cycle 24",
        "Cycle 24",
        "Cycle 24",
        "Cycle 24",
        "Cycle 24",
        "Cycle 24",
        "Cycle 24",
        "Cycle 24",
        "Cycle 24",
        "Cycle 24",
        "Cycle 24",
        "Cycle 24",
        "Cycle 24",
        "Cycle 24",
        "Cycle 24",
        "Cycle 24",
        "Cycle 24",
        "Cycle 24",
        "Cycle 24",
        "Cycle 24",
        "Cycle 24",
        "Cycle 24",
        "Cycle 24",
        "Cycle 24",
        "Cycle 24",
        "Cycle 24",
        "Cycle 24",
        "Cycle 24",
        "Cycle 24",
        "Cycle 24",
        "Cycle 24",
        "Cycle 24",
        "Cycle 24",
        "Cycle 24",
        "Cycle 24",
        "Cycle 24",
        "Cycle 24",
        "Cycle 24",
        "Cycle 24",
        "Cycle 24",
        "Cycle 24",
        "Cycle 24",
        "Cycle 24",
        "Cycle 24",
        "Cycle 24",
        "Cycle 24",
        "Cycle 24",
        "Cycle 24",
        "Cycle 24",
        "Cycle 24",
        "Cycle 24",
        "Cycle 24",
        "Cycle 24",
        "Cycle 24",
        "Cycle 24",
        "Cycle 24",
        "Cycle 24",
        "Cycle 24",
        "Cycle 24",
        "Cycle 24",
        "Cycle 24",
        "Cycle 24",
        "Cycle 24",
        "Cycle 24",
        "Cycle 24",
        "Cycle 24",
        "Cycle 24",
        "Cycle 24",
        "Cycle 24",
        "Cycle 24",
        "Cycle 24",
        "Cycle 24",
        "Cycle 24",
        "Cycle 24",
        "Cycle 24",
        "Cycle 24",
        "Cycle 24",
        "Cycle 24",
        "Cycle 24",
        "Cycle 24",
        "Cycle 24",
        "Cycle 24",
        "Cycle 24",
        "Cycle 24",
        "Cycle 24",
        "Cycle 24",
        "Cycle 24",
        "Cycle 24",
        "Cycle 24",
        "Cycle 24",
        "Cycle 24",
        "Cycle 24",
        "Cycle 24",
        "Cycle 24",
        "Cycle 24",
        "Cycle 24",
        "Cycle 24",
        "Cycle 24",
        "Cycle 24",
        "Cycle 24",
        "Cycle 24",
        "Cycle 24",
        "Cycle 24",
        "Cycle 24",
        "Cycle 24",
        "Cycle 24",
        "Cycle 24",
        "Cycle 24",
        "Cycle 24",
        "Cycle 24",
        "Cycle 24",
        "Cycle 24",
        "Cycle 24",
        "Cycle 24",
        "Cycle 24",
        "Cycle 24",
        "Cycle 24",
        "Cycle 24",
        "Cycle 24",
        "Cycle 24",
        "Cycle 24",
        "Cycle 24",
        "Cycle 24",
        "Cycle 24",
        "Cycle 24",
        "Cycle 24",
        "Cycle 24",
        "Cycle 24",
        "Cycle 24",
        "Cycle 24"
       ]
      }
     },
     "50ecbc7b4f5742cfa4a21cae56ee02b3": {
      "model_module": "jupyter-js-widgets",
      "model_module_version": "~2.1.4",
      "model_name": "ButtonStyleModel",
      "state": {
       "_model_module_version": "~2.1.4",
       "_view_module_version": "~2.1.4"
      }
     },
     "50f6178713024a0c9dce04b1eef4d4ef": {
      "model_module": "jupyter-js-widgets",
      "model_module_version": "~2.1.4",
      "model_name": "LayoutModel",
      "state": {
       "_model_module_version": "~2.1.4",
       "_view_module_version": "~2.1.4",
       "margin": "5px 2px 0",
       "width": "300px"
      }
     },
     "51243a1c14ee46888e87c19b22514168": {
      "model_module": "jupyter-js-widgets",
      "model_module_version": "~2.1.4",
      "model_name": "LayoutModel",
      "state": {
       "_model_module_version": "~2.1.4",
       "_view_module_version": "~2.1.4",
       "margin": "5px 2px 0",
       "width": "300px"
      }
     },
     "514570cbf6bf4529970262cc477ad3b5": {
      "model_module": "jupyter-js-widgets",
      "model_module_version": "~2.1.4",
      "model_name": "ButtonModel",
      "state": {
       "_model_module_version": "~2.1.4",
       "_view_module_version": "~2.1.4",
       "description": "Eliminar ciclos selecionados",
       "layout": "IPY_MODEL_3ceb1d40893d4f98bfe5d1ade28c876e",
       "style": "IPY_MODEL_de1a91d4663e42209d398b29e8c22817"
      }
     },
     "51470d309f5c4003a09b98494c466209": {
      "model_module": "jupyter-js-widgets",
      "model_module_version": "~2.1.4",
      "model_name": "ButtonModel",
      "state": {
       "_model_module_version": "~2.1.4",
       "_view_module_version": "~2.1.4",
       "description": "Eliminar ciclos selecionados",
       "layout": "IPY_MODEL_d1912f7538454caba81ac48266499a09",
       "style": "IPY_MODEL_61c39c271f8c4384ace85b7cf67ec666"
      }
     },
     "514eb5ba5d274374bc67ae67f7cdda28": {
      "model_module": "jupyter-js-widgets",
      "model_module_version": "~2.1.4",
      "model_name": "LayoutModel",
      "state": {
       "_model_module_version": "~2.1.4",
       "_view_module_version": "~2.1.4",
       "width": "100%"
      }
     },
     "518d3d11d6c94f2da0376714213f22f5": {
      "model_module": "jupyter-js-widgets",
      "model_module_version": "~2.1.4",
      "model_name": "LayoutModel",
      "state": {
       "_model_module_version": "~2.1.4",
       "_view_module_version": "~2.1.4"
      }
     },
     "5205d4adba454bc785e5f71f2f1c0c4f": {
      "model_module": "jupyter-js-widgets",
      "model_module_version": "~2.1.4",
      "model_name": "LayoutModel",
      "state": {
       "_model_module_version": "~2.1.4",
       "_view_module_version": "~2.1.4",
       "margin": "5px 2px 0",
       "width": "300px"
      }
     },
     "5256d24542a646a7a2c1b3f96254e48b": {
      "model_module": "jupyter-js-widgets",
      "model_module_version": "~2.1.4",
      "model_name": "ButtonStyleModel",
      "state": {
       "_model_module_version": "~2.1.4",
       "_view_module_version": "~2.1.4"
      }
     },
     "529d97534c7e469d802323a8e7a4ed8a": {
      "model_module": "jupyter-js-widgets",
      "model_module_version": "~2.1.4",
      "model_name": "LayoutModel",
      "state": {
       "_model_module_version": "~2.1.4",
       "_view_module_version": "~2.1.4",
       "width": "100%"
      }
     },
     "52bf794ce3db494498114d3abe2d8c84": {
      "model_module": "jupyter-js-widgets",
      "model_module_version": "~2.1.4",
      "model_name": "LayoutModel",
      "state": {
       "_model_module_version": "~2.1.4",
       "_view_module_version": "~2.1.4"
      }
     },
     "52f5436bca12403d9ad2270f5060245c": {
      "model_module": "jupyter-js-widgets",
      "model_module_version": "~2.1.4",
      "model_name": "LayoutModel",
      "state": {
       "_model_module_version": "~2.1.4",
       "_view_module_version": "~2.1.4",
       "margin": "5px 2px 0",
       "width": "300px"
      }
     },
     "52fcccbe63274b89aa897f9acb876656": {
      "model_module": "jupyter-js-widgets",
      "model_module_version": "~2.1.4",
      "model_name": "OutputModel",
      "state": {
       "_dom_classes": [],
       "_model_module": "jupyter-js-widgets",
       "_model_module_version": "~2.1.4",
       "_view_module": "jupyter-js-widgets",
       "_view_module_version": "~2.1.4",
       "layout": "IPY_MODEL_f970668f62fc4b52a237a60e43e25ba6",
       "msg_throttle": 1
      }
     },
     "536a3341b22541f78d4b2cf2860f6556": {
      "model_module": "jupyter-js-widgets",
      "model_module_version": "~2.1.4",
      "model_name": "SelectMultipleModel",
      "state": {
       "_model_module_version": "~2.1.4",
       "_options_labels": [
        "Cycle  6",
        "Cycle  7",
        "Cycle  8",
        "Cycle  9",
        "Cycle 10",
        "Cycle 11",
        "Cycle 12",
        "Cycle 13",
        "Cycle 14",
        "Cycle 15",
        "Cycle 16",
        "Cycle 17",
        "Cycle 18",
        "Cycle 19",
        "Cycle 20",
        "Cycle 21",
        "Cycle 22",
        "Cycle 23",
        "Cycle 24"
       ],
       "_view_module_version": "~2.1.4",
       "layout": "IPY_MODEL_0143fde605c344eeb9e0cac34d37b93f",
       "value": [
        "Cycle  6",
        "Cycle  7",
        "Cycle  8",
        "Cycle 24"
       ]
      }
     },
     "53782ebefe314277b760e9af5174cc49": {
      "model_module": "jupyter-js-widgets",
      "model_module_version": "~2.1.4",
      "model_name": "LayoutModel",
      "state": {
       "_model_module_version": "~2.1.4",
       "_view_module_version": "~2.1.4"
      }
     },
     "53c79be8f1754609afce60e32655dfe1": {
      "model_module": "jupyter-js-widgets",
      "model_module_version": "~2.1.4",
      "model_name": "LayoutModel",
      "state": {
       "_model_module_version": "~2.1.4",
       "_view_module_version": "~2.1.4",
       "margin": "5px 2px 0",
       "width": "300px"
      }
     },
     "53d2c4b1bcbd4433b3bb5d78ae497e23": {
      "model_module": "jupyter-js-widgets",
      "model_module_version": "~2.1.4",
      "model_name": "LayoutModel",
      "state": {
       "_model_module_version": "~2.1.4",
       "_view_module_version": "~2.1.4",
       "margin": "5px 2px 0",
       "width": "300px"
      }
     },
     "53d969250081438dacab1ef99fe26206": {
      "model_module": "jupyter-js-widgets",
      "model_module_version": "~2.1.4",
      "model_name": "VBoxModel",
      "state": {
       "_model_module_version": "~2.1.4",
       "_view_module_version": "~2.1.4",
       "children": [
        "IPY_MODEL_34601ce4c18e48c4996126d697da9b7e",
        "IPY_MODEL_3c682f22b5494a20b0e6b9b155435dd7"
       ],
       "layout": "IPY_MODEL_b692920ad16647319d30d88798bd1619"
      }
     },
     "53f0ea150e0a4cc1ac2eb006068941fc": {
      "model_module": "jupyter-js-widgets",
      "model_module_version": "~2.1.4",
      "model_name": "ButtonModel",
      "state": {
       "_model_module_version": "~2.1.4",
       "_view_module_version": "~2.1.4",
       "description": "Limpiar seleción de ciclos",
       "layout": "IPY_MODEL_7a5c65a3eb5f4d6b9d1d483fcceeab3c",
       "style": "IPY_MODEL_296b781372914b959a83508be84f7ad6"
      }
     },
     "5419217225eb4f0ba374e8d8b64d1df3": {
      "model_module": "jupyter-js-widgets",
      "model_module_version": "~2.1.4",
      "model_name": "LayoutModel",
      "state": {
       "_model_module_version": "~2.1.4",
       "_view_module_version": "~2.1.4",
       "margin": "5px 2px 0",
       "width": "300px"
      }
     },
     "545448c41ebf485d9a87356f4516ce50": {
      "model_module": "jupyter-js-widgets",
      "model_module_version": "~2.1.4",
      "model_name": "LayoutModel",
      "state": {
       "_model_module_version": "~2.1.4",
       "_view_module_version": "~2.1.4"
      }
     },
     "54733e909ba047e1a4d799950e67f1c2": {
      "model_module": "jupyter-js-widgets",
      "model_module_version": "~2.1.4",
      "model_name": "SliderStyleModel",
      "state": {
       "_model_module_version": "~2.1.4",
       "_view_module_version": "~2.1.4"
      }
     },
     "5489d3b023ab4328b7aacb00081482b5": {
      "model_module": "jupyter-js-widgets",
      "model_module_version": "~2.1.4",
      "model_name": "OutputModel",
      "state": {
       "_dom_classes": [],
       "_model_module": "jupyter-js-widgets",
       "_model_module_version": "~2.1.4",
       "_view_module": "jupyter-js-widgets",
       "_view_module_version": "~2.1.4",
       "layout": "IPY_MODEL_fd0b0e533bd644fb9babc0f36cb33da2",
       "msg_throttle": 1
      }
     },
     "5493010ed70a4ac791ca7c214207c734": {
      "model_module": "jupyter-js-widgets",
      "model_module_version": "~2.1.4",
      "model_name": "LayoutModel",
      "state": {
       "_model_module_version": "~2.1.4",
       "_view_module_version": "~2.1.4",
       "margin": "5px 2px 0",
       "width": "300px"
      }
     },
     "54ab86d2310c4d1a8f1817198eea3b81": {
      "model_module": "jupyter-js-widgets",
      "model_module_version": "~2.1.4",
      "model_name": "LayoutModel",
      "state": {
       "_model_module_version": "~2.1.4",
       "_view_module_version": "~2.1.4",
       "width": "100%"
      }
     },
     "54acd9c875b0489db5961f5d25021039": {
      "model_module": "jupyter-js-widgets",
      "model_module_version": "~2.1.4",
      "model_name": "CheckboxModel",
      "state": {
       "_model_module_version": "~2.1.4",
       "_view_module_version": "~2.1.4",
       "description": "Cycle 20",
       "disabled": false,
       "layout": "IPY_MODEL_8ea452736d8148c493605aaf254c987c",
       "value": true
      }
     },
     "54c25b1a0b884fd19e720b6797a3d6b3": {
      "model_module": "jupyter-js-widgets",
      "model_module_version": "~2.1.4",
      "model_name": "LayoutModel",
      "state": {
       "_model_module_version": "~2.1.4",
       "_view_module_version": "~2.1.4"
      }
     },
     "54cf10f0384a4b3b90e83b25600871de": {
      "model_module": "jupyter-js-widgets",
      "model_module_version": "~2.1.4",
      "model_name": "ButtonStyleModel",
      "state": {
       "_model_module_version": "~2.1.4",
       "_view_module_version": "~2.1.4"
      }
     },
     "5509f2270bb04b17b57daba4991a55a7": {
      "model_module": "jupyter-js-widgets",
      "model_module_version": "~2.1.4",
      "model_name": "SelectMultipleModel",
      "state": {
       "_model_module_version": "~2.1.4",
       "_options_labels": [
        "Cycle  6",
        "Cycle  7",
        "Cycle  8",
        "Cycle  9",
        "Cycle 10",
        "Cycle 11",
        "Cycle 12",
        "Cycle 13",
        "Cycle 14",
        "Cycle 15",
        "Cycle 16",
        "Cycle 17",
        "Cycle 18",
        "Cycle 19",
        "Cycle 20",
        "Cycle 21",
        "Cycle 22",
        "Cycle 23",
        "Cycle 24"
       ],
       "_view_module_version": "~2.1.4",
       "layout": "IPY_MODEL_3ee48cdaea3c492b824d0c5d7ba2a281",
       "value": [
        "Cycle  6",
        "Cycle  7",
        "Cycle  8",
        "Cycle 24"
       ]
      }
     },
     "5538924db5fd44dd888b512d8b8ef4d1": {
      "model_module": "jupyter-js-widgets",
      "model_module_version": "~2.1.4",
      "model_name": "SelectMultipleModel",
      "state": {
       "_model_module_version": "~2.1.4",
       "_options_labels": [
        "Cycle  6",
        "Cycle  7",
        "Cycle  8",
        "Cycle  9",
        "Cycle 10",
        "Cycle 11",
        "Cycle 12",
        "Cycle 13",
        "Cycle 14",
        "Cycle 15",
        "Cycle 16",
        "Cycle 17",
        "Cycle 18",
        "Cycle 19",
        "Cycle 20",
        "Cycle 21",
        "Cycle 22",
        "Cycle 23",
        "Cycle 24"
       ],
       "_view_module_version": "~2.1.4",
       "layout": "IPY_MODEL_ce72e0c731a34188a1a8cdbe641577e2",
       "value": [
        "Cycle  6",
        "Cycle  7",
        "Cycle  8"
       ]
      }
     },
     "553e143714bd4c669841eb2c711abe40": {
      "model_module": "jupyter-js-widgets",
      "model_module_version": "~2.1.4",
      "model_name": "ButtonModel",
      "state": {
       "_model_module_version": "~2.1.4",
       "_view_module_version": "~2.1.4",
       "description": "Limpiar seleción de mínimos",
       "layout": "IPY_MODEL_880793499be646a19cb39be0d5098799",
       "style": "IPY_MODEL_5ed18bc3e2bb42e3b66415c4a5f9c3db"
      }
     },
     "558c42db944a470989ee77a0a8216beb": {
      "model_module": "jupyter-js-widgets",
      "model_module_version": "~2.1.4",
      "model_name": "LayoutModel",
      "state": {
       "_model_module_version": "~2.1.4",
       "_view_module_version": "~2.1.4"
      }
     },
     "5593d2c35c2b42fca88baf388bfe97ec": {
      "model_module": "jupyter-js-widgets",
      "model_module_version": "~2.1.4",
      "model_name": "LayoutModel",
      "state": {
       "_model_module_version": "~2.1.4",
       "_view_module_version": "~2.1.4"
      }
     },
     "55dde1fbc60044668a26f80e58e1aba0": {
      "model_module": "jupyter-js-widgets",
      "model_module_version": "~2.1.4",
      "model_name": "ButtonModel",
      "state": {
       "_model_module_version": "~2.1.4",
       "_view_module_version": "~2.1.4",
       "description": "Limpiar seleción de ciclos",
       "layout": "IPY_MODEL_7cc54d8796e14e9b9dde046869e9190d",
       "style": "IPY_MODEL_743d53b1c7fe4e6c9ea568ca75687456"
      }
     },
     "560f8bf21eec429eaeb9929ae1c10e56": {
      "model_module": "jupyter-js-widgets",
      "model_module_version": "~2.1.4",
      "model_name": "LayoutModel",
      "state": {
       "_model_module_version": "~2.1.4",
       "_view_module_version": "~2.1.4"
      }
     },
     "56343292c6c34397ba08f515fdb59510": {
      "model_module": "jupyter-js-widgets",
      "model_module_version": "~2.1.4",
      "model_name": "LayoutModel",
      "state": {
       "_model_module_version": "~2.1.4",
       "_view_module_version": "~2.1.4"
      }
     },
     "5664c0897f6c49e696ab33a339b1faf3": {
      "model_module": "jupyter-js-widgets",
      "model_module_version": "~2.1.4",
      "model_name": "LayoutModel",
      "state": {
       "_model_module_version": "~2.1.4",
       "_view_module_version": "~2.1.4",
       "width": "100%"
      }
     },
     "568bbe5771664c7384ed9c485908ac53": {
      "model_module": "jupyter-js-widgets",
      "model_module_version": "~2.1.4",
      "model_name": "LayoutModel",
      "state": {
       "_model_module_version": "~2.1.4",
       "_view_module_version": "~2.1.4",
       "width": "100%"
      }
     },
     "56cfa637dc594d5b8aa5d8cb972b9956": {
      "model_module": "jupyter-js-widgets",
      "model_module_version": "~2.1.4",
      "model_name": "LayoutModel",
      "state": {
       "_model_module_version": "~2.1.4",
       "_view_module_version": "~2.1.4"
      }
     },
     "56f0211ef3584ceb9caaab318760dffb": {
      "model_module": "jupyter-js-widgets",
      "model_module_version": "~2.1.4",
      "model_name": "ButtonStyleModel",
      "state": {
       "_model_module_version": "~2.1.4",
       "_view_module_version": "~2.1.4"
      }
     },
     "57087a4d2a004811bca5dadef7d9f631": {
      "model_module": "jupyter-js-widgets",
      "model_module_version": "~2.1.4",
      "model_name": "LayoutModel",
      "state": {
       "_model_module_version": "~2.1.4",
       "_view_module_version": "~2.1.4"
      }
     },
     "5721f05737ea4bc990b983cee16af5ea": {
      "model_module": "jupyter-js-widgets",
      "model_module_version": "~2.1.4",
      "model_name": "ButtonModel",
      "state": {
       "_model_module_version": "~2.1.4",
       "_view_module_version": "~2.1.4",
       "description": "Limpiar seleción de mínimos",
       "layout": "IPY_MODEL_7ca4292de7594744987e277b097f44d7",
       "style": "IPY_MODEL_89e69a044841488aab4778ec81b12bcd"
      }
     },
     "5733c7202c064e8c8c08ca94158f9a9c": {
      "model_module": "jupyter-js-widgets",
      "model_module_version": "~2.1.4",
      "model_name": "ButtonStyleModel",
      "state": {
       "_model_module_version": "~2.1.4",
       "_view_module_version": "~2.1.4"
      }
     },
     "5748d4e22dd641dd85ed71c9ccd3afc4": {
      "model_module": "jupyter-js-widgets",
      "model_module_version": "~2.1.4",
      "model_name": "ButtonStyleModel",
      "state": {
       "_model_module_version": "~2.1.4",
       "_view_module_version": "~2.1.4"
      }
     },
     "575fd29c324443ecb6dc5a3948314b46": {
      "model_module": "jupyter-js-widgets",
      "model_module_version": "~2.1.4",
      "model_name": "CheckboxModel",
      "state": {
       "_model_module_version": "~2.1.4",
       "_view_module_version": "~2.1.4",
       "description": "Cycle 13",
       "disabled": false,
       "layout": "IPY_MODEL_8012fed81d594ffa9a789f0eb1bb7551",
       "value": true
      }
     },
     "5766950253fe48429c3a69cec35422f9": {
      "model_module": "jupyter-js-widgets",
      "model_module_version": "~2.1.4",
      "model_name": "LabelModel",
      "state": {
       "_model_module_version": "~2.1.4",
       "_view_module_version": "~2.1.4",
       "layout": "IPY_MODEL_4752a62db0914b81a00ea23cbb374fc6",
       "value": "Ciclos solares"
      }
     },
     "579f883375404e249be46d3e06445269": {
      "model_module": "jupyter-js-widgets",
      "model_module_version": "~2.1.4",
      "model_name": "ButtonStyleModel",
      "state": {
       "_model_module_version": "~2.1.4",
       "_view_module_version": "~2.1.4"
      }
     },
     "57c2b3960d4b467694d27015f375c059": {
      "model_module": "jupyter-js-widgets",
      "model_module_version": "~2.1.4",
      "model_name": "ButtonStyleModel",
      "state": {
       "_model_module_version": "~2.1.4",
       "_view_module_version": "~2.1.4"
      }
     },
     "580076c7b4db4736a55d196c4a7449f4": {
      "model_module": "jupyter-js-widgets",
      "model_module_version": "~2.1.4",
      "model_name": "LayoutModel",
      "state": {
       "_model_module_version": "~2.1.4",
       "_view_module_version": "~2.1.4",
       "width": "100%"
      }
     },
     "581308a62f3340a99e8eeb5418ca4c0c": {
      "model_module": "jupyter-js-widgets",
      "model_module_version": "~2.1.4",
      "model_name": "LayoutModel",
      "state": {
       "_model_module_version": "~2.1.4",
       "_view_module_version": "~2.1.4",
       "width": "100%"
      }
     },
     "589ae3233be14c47ab7fab259ee4633d": {
      "model_module": "jupyter-js-widgets",
      "model_module_version": "~2.1.4",
      "model_name": "LayoutModel",
      "state": {
       "_model_module_version": "~2.1.4",
       "_view_module_version": "~2.1.4",
       "width": "100%"
      }
     },
     "58d115b9449243c4b6b58094ec154d88": {
      "model_module": "jupyter-js-widgets",
      "model_module_version": "~2.1.4",
      "model_name": "LayoutModel",
      "state": {
       "_model_module_version": "~2.1.4",
       "_view_module_version": "~2.1.4"
      }
     },
     "58dadfb8cf0140e1a5d18309fda10e40": {
      "model_module": "jupyter-js-widgets",
      "model_module_version": "~2.1.4",
      "model_name": "SelectMultipleModel",
      "state": {
       "_model_module_version": "~2.1.4",
       "_options_labels": [
        "Cycle  6",
        "Cycle  7",
        "Cycle  8",
        "Cycle  9",
        "Cycle 10",
        "Cycle 11",
        "Cycle 12",
        "Cycle 13",
        "Cycle 14",
        "Cycle 15",
        "Cycle 16",
        "Cycle 17",
        "Cycle 18",
        "Cycle 19",
        "Cycle 20",
        "Cycle 21",
        "Cycle 22",
        "Cycle 23",
        "Cycle 24"
       ],
       "_view_module_version": "~2.1.4",
       "layout": "IPY_MODEL_072f7b2911824e7f9bcf27683a155cdf",
       "value": []
      }
     },
     "5922507e0fcf4aceac3ad5168565a20f": {
      "model_module": "jupyter-js-widgets",
      "model_module_version": "~2.1.4",
      "model_name": "LayoutModel",
      "state": {
       "_model_module_version": "~2.1.4",
       "_view_module_version": "~2.1.4"
      }
     },
     "5957804c352748f1940d110d7d77d33e": {
      "model_module": "jupyter-js-widgets",
      "model_module_version": "~2.1.4",
      "model_name": "SelectMultipleModel",
      "state": {
       "_model_module_version": "~2.1.4",
       "_options_labels": [
        "Cycle  6",
        "Cycle  7",
        "Cycle  8",
        "Cycle  9",
        "Cycle 10",
        "Cycle 11",
        "Cycle 12",
        "Cycle 13",
        "Cycle 14",
        "Cycle 15",
        "Cycle 16",
        "Cycle 17",
        "Cycle 18",
        "Cycle 19",
        "Cycle 20",
        "Cycle 21",
        "Cycle 22",
        "Cycle 23",
        "Cycle 24"
       ],
       "_view_module_version": "~2.1.4",
       "layout": "IPY_MODEL_b5ae188f2dcc4262b745f65ecf8a674f",
       "value": [
        "Cycle  6",
        "Cycle  7",
        "Cycle  8",
        "Cycle 24"
       ]
      }
     },
     "5969c8b8bb7549e890d120d3d47410aa": {
      "model_module": "jupyter-js-widgets",
      "model_module_version": "~2.1.4",
      "model_name": "VBoxModel",
      "state": {
       "_model_module_version": "~2.1.4",
       "_view_module_version": "~2.1.4",
       "children": [
        "IPY_MODEL_b71c0f1e5b584145a9f0f9d628c3c72b",
        "IPY_MODEL_0248c9551e594b669432c1833697e5ff",
        "IPY_MODEL_cbf3a789aec3407282aa400fecc71cd1",
        "IPY_MODEL_2ef1075ce70848d28acb0c2c6fb99ba0",
        "IPY_MODEL_d1fb7ffc5afb439d9ca300e56de60257"
       ],
       "layout": "IPY_MODEL_6ea755c763b9463db0ef7788727f5bfe"
      }
     },
     "596ae1bb5c52414b872f5ad85032c313": {
      "model_module": "jupyter-js-widgets",
      "model_module_version": "~2.1.4",
      "model_name": "LayoutModel",
      "state": {
       "_model_module_version": "~2.1.4",
       "_view_module_version": "~2.1.4",
       "margin": "5px 2px 0",
       "width": "300px"
      }
     },
     "597464cae6654fd1a34daeeeade53ce0": {
      "model_module": "jupyter-js-widgets",
      "model_module_version": "~2.1.4",
      "model_name": "ButtonModel",
      "state": {
       "_model_module_version": "~2.1.4",
       "_view_module_version": "~2.1.4",
       "description": "Limpiar seleción de ciclos",
       "layout": "IPY_MODEL_65b5b05d0ad2486a91f46a60ab457106",
       "style": "IPY_MODEL_4fae69c08627495a87ebed2af96cae6b"
      }
     },
     "5994c64019944b25a0f6ec0be40b3b3e": {
      "model_module": "jupyter-js-widgets",
      "model_module_version": "~2.1.4",
      "model_name": "ButtonStyleModel",
      "state": {
       "_model_module_version": "~2.1.4",
       "_view_module_version": "~2.1.4"
      }
     },
     "59da41c905ea4ab688ae8287193aaa10": {
      "model_module": "jupyter-js-widgets",
      "model_module_version": "~2.1.4",
      "model_name": "LayoutModel",
      "state": {
       "_model_module_version": "~2.1.4",
       "_view_module_version": "~2.1.4",
       "margin": "5px 2px 0",
       "width": "300px"
      }
     },
     "5a3be8e2547b4b44bd2604c38fc115d6": {
      "model_module": "jupyter-js-widgets",
      "model_module_version": "~2.1.4",
      "model_name": "ButtonStyleModel",
      "state": {
       "_model_module_version": "~2.1.4",
       "_view_module_version": "~2.1.4"
      }
     },
     "5a8c7860684940d297cfd5b0ca2f7568": {
      "model_module": "jupyter-js-widgets",
      "model_module_version": "~2.1.4",
      "model_name": "ButtonModel",
      "state": {
       "_model_module_version": "~2.1.4",
       "_view_module_version": "~2.1.4",
       "description": "Limpiar seleción de ciclos",
       "layout": "IPY_MODEL_2add40a68e5440b3a3d2b457b2b7810b",
       "style": "IPY_MODEL_c785d190d00e486588e5b5911461ecfe"
      }
     },
     "5ab54543e6124f149ec4527cbda6ed3b": {
      "model_module": "jupyter-js-widgets",
      "model_module_version": "~2.1.4",
      "model_name": "LayoutModel",
      "state": {
       "_model_module_version": "~2.1.4",
       "_view_module_version": "~2.1.4",
       "width": "100%"
      }
     },
     "5b25fafa61c540938d885eb3af6c0f47": {
      "model_module": "jupyter-js-widgets",
      "model_module_version": "~2.1.4",
      "model_name": "LayoutModel",
      "state": {
       "_model_module_version": "~2.1.4",
       "_view_module_version": "~2.1.4"
      }
     },
     "5b303e0bd55d46d6b927854eaa1d10d4": {
      "model_module": "jupyter-js-widgets",
      "model_module_version": "~2.1.4",
      "model_name": "SelectMultipleModel",
      "state": {
       "_model_module_version": "~2.1.4",
       "_options_labels": [
        "Cycle  6",
        "Cycle  7",
        "Cycle  8",
        "Cycle  9",
        "Cycle 10",
        "Cycle 11",
        "Cycle 12",
        "Cycle 13",
        "Cycle 14",
        "Cycle 15",
        "Cycle 16",
        "Cycle 17",
        "Cycle 18",
        "Cycle 19",
        "Cycle 20",
        "Cycle 21",
        "Cycle 22",
        "Cycle 23",
        "Cycle 24"
       ],
       "_view_module_version": "~2.1.4",
       "layout": "IPY_MODEL_ad12be3353454d489b998ec31b693cf2",
       "value": [
        "Cycle  6",
        "Cycle  7",
        "Cycle  8",
        "Cycle 24"
       ]
      }
     },
     "5b4a499ec9f84e3495b676b88729e04a": {
      "model_module": "jupyter-js-widgets",
      "model_module_version": "~2.1.4",
      "model_name": "IntSliderModel",
      "state": {
       "_model_module_version": "~2.1.4",
       "_view_module_version": "~2.1.4",
       "layout": "IPY_MODEL_f0affc2ec49046beaa14aeaab233afc8",
       "min": 1,
       "style": "IPY_MODEL_afe518b18e024354b58a8008bc882d82",
       "value": 1
      }
     },
     "5b4ae35eaf944f368aa0afa27e290910": {
      "model_module": "jupyter-js-widgets",
      "model_module_version": "~2.1.4",
      "model_name": "VBoxModel",
      "state": {
       "_model_module_version": "~2.1.4",
       "_view_module_version": "~2.1.4",
       "children": [
        "IPY_MODEL_965e5117730d466796b16fecd29794e9",
        "IPY_MODEL_b84b5ad78d0a47f2bdca3b98920b2824",
        "IPY_MODEL_ac3612b7b2a744c29f8711403833b08e"
       ],
       "layout": "IPY_MODEL_d64575a2d55e45aca8e05958cc4237ab"
      }
     },
     "5b6fe18c3786482299220e439681c6c6": {
      "model_module": "jupyter-js-widgets",
      "model_module_version": "~2.1.4",
      "model_name": "ButtonStyleModel",
      "state": {
       "_model_module_version": "~2.1.4",
       "_view_module_version": "~2.1.4"
      }
     },
     "5b8d588273674085bb307f74aa9f589c": {
      "model_module": "jupyter-js-widgets",
      "model_module_version": "~2.1.4",
      "model_name": "VBoxModel",
      "state": {
       "_model_module_version": "~2.1.4",
       "_view_module_version": "~2.1.4",
       "children": [
        "IPY_MODEL_30d374e3736249268101626e64767519",
        "IPY_MODEL_cdedb83237a7458dbe983ff921c4485f",
        "IPY_MODEL_e9a912737aeb4d83ac17916a6c176412"
       ],
       "layout": "IPY_MODEL_fa54fda185ec4ae38f747672e63228ec"
      }
     },
     "5ba2fd81ab46474f935753a6392deafa": {
      "model_module": "jupyter-js-widgets",
      "model_module_version": "~2.1.4",
      "model_name": "ButtonModel",
      "state": {
       "_model_module_version": "~2.1.4",
       "_view_module_version": "~2.1.4",
       "description": "Limpiar seleción de mínimos",
       "layout": "IPY_MODEL_f0dec2562f3d49fa85679455b37a86f2",
       "style": "IPY_MODEL_17df91d5a55f4a6f89f19dd2309a12d4"
      }
     },
     "5c2071623d79475591f29981d78f1c65": {
      "model_module": "jupyter-js-widgets",
      "model_module_version": "~2.1.4",
      "model_name": "VBoxModel",
      "state": {
       "_model_module_version": "~2.1.4",
       "_view_module_version": "~2.1.4",
       "children": [
        "IPY_MODEL_36afa7274a98488d9426368bb5a8eeec",
        "IPY_MODEL_fad58ce9440c43cebc1b252591926d6f"
       ],
       "layout": "IPY_MODEL_787d4e38b4eb40c3bb2f6e9e9598fd82"
      }
     },
     "5cb5f43671aa412d81f7f27fc2f8f89f": {
      "model_module": "jupyter-js-widgets",
      "model_module_version": "~2.1.4",
      "model_name": "LayoutModel",
      "state": {
       "_model_module_version": "~2.1.4",
       "_view_module_version": "~2.1.4",
       "width": "100%"
      }
     },
     "5cb7077c6f97483ea06dfe765289c75b": {
      "model_module": "jupyter-js-widgets",
      "model_module_version": "~2.1.4",
      "model_name": "LabelModel",
      "state": {
       "_model_module_version": "~2.1.4",
       "_view_module_version": "~2.1.4",
       "layout": "IPY_MODEL_0dcd6163b8f24df5a6e8458e25f7a114",
       "value": "Lookahead"
      }
     },
     "5cc5ae454cf543d79e5459e8d5ba0ff1": {
      "model_module": "jupyter-js-widgets",
      "model_module_version": "~2.1.4",
      "model_name": "ButtonModel",
      "state": {
       "_model_module_version": "~2.1.4",
       "_view_module_version": "~2.1.4",
       "description": "Limpiar seleción de ciclos",
       "layout": "IPY_MODEL_ee9fed8ef00d4fb6866e9ee376f78278",
       "style": "IPY_MODEL_5748d4e22dd641dd85ed71c9ccd3afc4"
      }
     },
     "5cd71bd49bb94d368adc868dccbce95b": {
      "model_module": "jupyter-js-widgets",
      "model_module_version": "~2.1.4",
      "model_name": "SelectMultipleModel",
      "state": {
       "_model_module_version": "~2.1.4",
       "_options_labels": [
        "Cycle  6",
        "Cycle  7",
        "Cycle  8",
        "Cycle  9",
        "Cycle 10",
        "Cycle 11",
        "Cycle 12",
        "Cycle 13",
        "Cycle 14",
        "Cycle 15",
        "Cycle 16",
        "Cycle 17",
        "Cycle 18",
        "Cycle 19",
        "Cycle 20",
        "Cycle 21",
        "Cycle 22",
        "Cycle 23",
        "Cycle 24"
       ],
       "_view_module_version": "~2.1.4",
       "layout": "IPY_MODEL_e74b43d13a33481a8269f2df140e7fce",
       "value": [
        "Cycle  6",
        "Cycle  7",
        "Cycle  8",
        "Cycle 24"
       ]
      }
     },
     "5d030eaf07cb4cd1a9c1e65fb9311248": {
      "model_module": "jupyter-js-widgets",
      "model_module_version": "~2.1.4",
      "model_name": "LabelModel",
      "state": {
       "_model_module_version": "~2.1.4",
       "_view_module_version": "~2.1.4",
       "layout": "IPY_MODEL_a1ce0496013e42ee9c58ea331708bdfa",
       "value": "Ciclos solares"
      }
     },
     "5d340472341345898770ea7b20b419db": {
      "model_module": "jupyter-js-widgets",
      "model_module_version": "~2.1.4",
      "model_name": "OutputModel",
      "state": {
       "_dom_classes": [],
       "_model_module": "jupyter-js-widgets",
       "_model_module_version": "~2.1.4",
       "_view_module": "jupyter-js-widgets",
       "_view_module_version": "~2.1.4",
       "layout": "IPY_MODEL_99ceaf17d48144edb744b0faae289e90",
       "msg_throttle": 1
      }
     },
     "5d4a3efd6fce4bb6a20bdf4caea96dd3": {
      "model_module": "jupyter-js-widgets",
      "model_module_version": "~2.1.4",
      "model_name": "OutputModel",
      "state": {
       "_dom_classes": [],
       "_model_module": "jupyter-js-widgets",
       "_model_module_version": "~2.1.4",
       "_view_module": "jupyter-js-widgets",
       "_view_module_version": "~2.1.4",
       "layout": "IPY_MODEL_ff4e48ef5e2f425889a4aab719a08cdb",
       "msg_throttle": 1
      }
     },
     "5d9ca6852acb42c099c5f404cbdc5fe8": {
      "model_module": "jupyter-js-widgets",
      "model_module_version": "~2.1.4",
      "model_name": "ButtonModel",
      "state": {
       "_model_module_version": "~2.1.4",
       "_view_module_version": "~2.1.4",
       "description": "Limpiar seleción de máximos",
       "layout": "IPY_MODEL_2ed30ba48925439e8eaaf4570b04beba",
       "style": "IPY_MODEL_1832057d82eb4255adc2b6289a70e733"
      }
     },
     "5da3d98bab2342648120a6384045eec9": {
      "model_module": "jupyter-js-widgets",
      "model_module_version": "~2.1.4",
      "model_name": "SelectMultipleModel",
      "state": {
       "_model_module_version": "~2.1.4",
       "_options_labels": [
        "Cycle  6",
        "Cycle  7",
        "Cycle  8",
        "Cycle  9",
        "Cycle 10",
        "Cycle 11",
        "Cycle 12",
        "Cycle 13",
        "Cycle 14",
        "Cycle 15",
        "Cycle 16",
        "Cycle 17",
        "Cycle 18",
        "Cycle 19",
        "Cycle 20",
        "Cycle 21",
        "Cycle 22",
        "Cycle 23",
        "Cycle 24"
       ],
       "_view_module_version": "~2.1.4",
       "layout": "IPY_MODEL_15e736966cd741e6b931582003a265a2",
       "value": [
        "Cycle  6",
        "Cycle  7",
        "Cycle  8",
        "Cycle 24"
       ]
      }
     },
     "5dc9e65b702b46bdb845dd85e328a26e": {
      "model_module": "jupyter-js-widgets",
      "model_module_version": "~2.1.4",
      "model_name": "VBoxModel",
      "state": {
       "_model_module_version": "~2.1.4",
       "_view_module_version": "~2.1.4",
       "children": [
        "IPY_MODEL_6177303d6ab742f7879de0a3fbc80539",
        "IPY_MODEL_c403ffc678454980883ee51ce030b4d6",
        "IPY_MODEL_89932753f1b24b4b9ab536e5846a2893",
        "IPY_MODEL_78e2737f2d9a4c8298178498d3434417",
        "IPY_MODEL_33c84d5dbf6f40abad4533f126f03d64"
       ],
       "layout": "IPY_MODEL_89a3d131c9af4d218ef5ba95e96492ee"
      }
     },
     "5dfe6a6c5eb64a8f98d24ef3d491a24b": {
      "model_module": "jupyter-js-widgets",
      "model_module_version": "~2.1.4",
      "model_name": "LabelModel",
      "state": {
       "_model_module_version": "~2.1.4",
       "_view_module_version": "~2.1.4",
       "layout": "IPY_MODEL_28fb61f714f941a1ab32d65960869c85",
       "value": "Ciclos solares"
      }
     },
     "5e9645c60b4b4a829ca1481cd736cc38": {
      "model_module": "jupyter-js-widgets",
      "model_module_version": "~2.1.4",
      "model_name": "LayoutModel",
      "state": {
       "_model_module_version": "~2.1.4",
       "_view_module_version": "~2.1.4"
      }
     },
     "5eb809dff91844f683e860133a33873c": {
      "model_module": "jupyter-js-widgets",
      "model_module_version": "~2.1.4",
      "model_name": "LayoutModel",
      "state": {
       "_model_module_version": "~2.1.4",
       "_view_module_version": "~2.1.4",
       "margin": "5px 2px 0",
       "width": "300px"
      }
     },
     "5ed18bc3e2bb42e3b66415c4a5f9c3db": {
      "model_module": "jupyter-js-widgets",
      "model_module_version": "~2.1.4",
      "model_name": "ButtonStyleModel",
      "state": {
       "_model_module_version": "~2.1.4",
       "_view_module_version": "~2.1.4"
      }
     },
     "5edf1ef1d8ba493db4c40309be085897": {
      "model_module": "jupyter-js-widgets",
      "model_module_version": "~2.1.4",
      "model_name": "LabelModel",
      "state": {
       "_model_module_version": "~2.1.4",
       "_view_module_version": "~2.1.4",
       "layout": "IPY_MODEL_940c822b38044d649adf052974a75e46",
       "value": "Delta"
      }
     },
     "5efacccfc2d94336bac47b06b4ec947b": {
      "model_module": "jupyter-js-widgets",
      "model_module_version": "~2.1.4",
      "model_name": "ButtonModel",
      "state": {
       "_model_module_version": "~2.1.4",
       "_view_module_version": "~2.1.4",
       "description": "Eliminar ciclos selecionados",
       "layout": "IPY_MODEL_0131197bfb7f4ecfa586ed44ded8b0aa",
       "style": "IPY_MODEL_5b6fe18c3786482299220e439681c6c6"
      }
     },
     "5f09287a446a41c385dea5ee748578aa": {
      "model_module": "jupyter-js-widgets",
      "model_module_version": "~2.1.4",
      "model_name": "OutputModel",
      "state": {
       "_dom_classes": [],
       "_model_module": "jupyter-js-widgets",
       "_model_module_version": "~2.1.4",
       "_view_module": "jupyter-js-widgets",
       "_view_module_version": "~2.1.4",
       "layout": "IPY_MODEL_9386a4585f954ae0ad864131dbe2d750",
       "msg_throttle": 1
      }
     },
     "5f1680eb37194968a5c9a13f9e21724c": {
      "model_module": "jupyter-js-widgets",
      "model_module_version": "~2.1.4",
      "model_name": "LayoutModel",
      "state": {
       "_model_module_version": "~2.1.4",
       "_view_module_version": "~2.1.4"
      }
     },
     "5f21c3e5cbf34a479c838f023e699d3a": {
      "model_module": "jupyter-js-widgets",
      "model_module_version": "~2.1.4",
      "model_name": "LayoutModel",
      "state": {
       "_model_module_version": "~2.1.4",
       "_view_module_version": "~2.1.4"
      }
     },
     "5f40ff6de589474aa0cb36bd78891ea6": {
      "model_module": "jupyter-js-widgets",
      "model_module_version": "~2.1.4",
      "model_name": "LayoutModel",
      "state": {
       "_model_module_version": "~2.1.4",
       "_view_module_version": "~2.1.4",
       "margin": "5px 2px 0",
       "width": "300px"
      }
     },
     "5f8a1c36460c444baf3e64030984f5dd": {
      "model_module": "jupyter-js-widgets",
      "model_module_version": "~2.1.4",
      "model_name": "VBoxModel",
      "state": {
       "_model_module_version": "~2.1.4",
       "_view_module_version": "~2.1.4",
       "children": [
        "IPY_MODEL_3d05fb6f259a4b41b6710b78cfec6b7f",
        "IPY_MODEL_9d42ae3405a24cc0be40830daed8eaa2",
        "IPY_MODEL_f82662e44368493aabbf10f83f41ab95"
       ],
       "layout": "IPY_MODEL_43d795e05caa42059979bef26caadf3b"
      }
     },
     "5fa8b191a37c4b34a5492274395b86f8": {
      "model_module": "jupyter-js-widgets",
      "model_module_version": "~2.1.4",
      "model_name": "LayoutModel",
      "state": {
       "_model_module_version": "~2.1.4",
       "_view_module_version": "~2.1.4"
      }
     },
     "5fb31b148e8e4ea1b35a7b2b6744e6b1": {
      "model_module": "jupyter-js-widgets",
      "model_module_version": "~2.1.4",
      "model_name": "HBoxModel",
      "state": {
       "_model_module_version": "~2.1.4",
       "_view_module_version": "~2.1.4",
       "children": [
        "IPY_MODEL_3c009f41c93f49a1bad5822efcc9ccce",
        "IPY_MODEL_d819dfc77ad0472abaca7458562c90ae"
       ],
       "layout": "IPY_MODEL_955e8097ab374fe796b30163515a2699"
      }
     },
     "5fbd3d7773be436e884091a6d473a163": {
      "model_module": "jupyter-js-widgets",
      "model_module_version": "~2.1.4",
      "model_name": "CheckboxModel",
      "state": {
       "_model_module_version": "~2.1.4",
       "_view_module_version": "~2.1.4",
       "description": "Cycle  8",
       "disabled": false,
       "layout": "IPY_MODEL_635a8bcb1ba0466b8ec7c95aff314cfd",
       "value": true
      }
     },
     "5fedfeaddac74a1b9a156f9dfd20e78b": {
      "model_module": "jupyter-js-widgets",
      "model_module_version": "~2.1.4",
      "model_name": "ButtonStyleModel",
      "state": {
       "_model_module_version": "~2.1.4",
       "_view_module_version": "~2.1.4"
      }
     },
     "600ceb4481134ff3a623825d74b297e0": {
      "model_module": "jupyter-js-widgets",
      "model_module_version": "~2.1.4",
      "model_name": "LayoutModel",
      "state": {
       "_model_module_version": "~2.1.4",
       "_view_module_version": "~2.1.4"
      }
     },
     "604afa65135448a4ac14414633490c74": {
      "model_module": "jupyter-js-widgets",
      "model_module_version": "~2.1.4",
      "model_name": "OutputModel",
      "state": {
       "_dom_classes": [],
       "_model_module": "jupyter-js-widgets",
       "_model_module_version": "~2.1.4",
       "_view_module": "jupyter-js-widgets",
       "_view_module_version": "~2.1.4",
       "layout": "IPY_MODEL_eba0167523024bbebd28f1a39e65dc89",
       "msg_throttle": 1
      }
     },
     "6115ad3e6467435e88c403581689f91e": {
      "model_module": "jupyter-js-widgets",
      "model_module_version": "~2.1.4",
      "model_name": "LabelModel",
      "state": {
       "_model_module_version": "~2.1.4",
       "_view_module_version": "~2.1.4",
       "layout": "IPY_MODEL_f8136b8dd60b42ef99f6e168cd91984c",
       "value": "Ciclos solares"
      }
     },
     "6170123747a645dea46867cf1ca70b22": {
      "model_module": "jupyter-js-widgets",
      "model_module_version": "~2.1.4",
      "model_name": "ButtonStyleModel",
      "state": {
       "_model_module_version": "~2.1.4",
       "_view_module_version": "~2.1.4"
      }
     },
     "6177303d6ab742f7879de0a3fbc80539": {
      "model_module": "jupyter-js-widgets",
      "model_module_version": "~2.1.4",
      "model_name": "LabelModel",
      "state": {
       "_model_module_version": "~2.1.4",
       "_view_module_version": "~2.1.4",
       "layout": "IPY_MODEL_5664c0897f6c49e696ab33a339b1faf3",
       "value": "Ciclos solares"
      }
     },
     "61a264d1a3ae400e86cfc9a188956cba": {
      "model_module": "jupyter-js-widgets",
      "model_module_version": "~2.1.4",
      "model_name": "VBoxModel",
      "state": {
       "_model_module_version": "~2.1.4",
       "_view_module_version": "~2.1.4",
       "children": [
        "IPY_MODEL_7f6354a3fe814f18853a1186aa4a9a6d",
        "IPY_MODEL_23259c9784a142d1bb44e497ea95e399",
        "IPY_MODEL_5cc5ae454cf543d79e5459e8d5ba0ff1",
        "IPY_MODEL_641356956b39459ea5878df3ddaec7cd",
        "IPY_MODEL_08885c6a34e6448991d0ad914c81255d"
       ],
       "layout": "IPY_MODEL_360f166616094f53833eb7033821c215"
      }
     },
     "61c39c271f8c4384ace85b7cf67ec666": {
      "model_module": "jupyter-js-widgets",
      "model_module_version": "~2.1.4",
      "model_name": "ButtonStyleModel",
      "state": {
       "_model_module_version": "~2.1.4",
       "_view_module_version": "~2.1.4"
      }
     },
     "61dccb0fb49c45fea8c8b5351ae3888a": {
      "model_module": "jupyter-js-widgets",
      "model_module_version": "~2.1.4",
      "model_name": "ButtonModel",
      "state": {
       "_model_module_version": "~2.1.4",
       "_view_module_version": "~2.1.4",
       "description": "Limpiar seleción de ciclos",
       "layout": "IPY_MODEL_b63639fccfe446c2a8bcfcdc648d4d5a",
       "style": "IPY_MODEL_eb1b82fa479d4343a1f6b9a08d644d40"
      }
     },
     "61eae0333fdb4bf5b64129961aad3639": {
      "model_module": "jupyter-js-widgets",
      "model_module_version": "~2.1.4",
      "model_name": "ButtonModel",
      "state": {
       "_model_module_version": "~2.1.4",
       "_view_module_version": "~2.1.4",
       "description": "Limpiar seleción de mínimos",
       "layout": "IPY_MODEL_87f8d0a0889b4604848df0327c62a25a",
       "style": "IPY_MODEL_579f883375404e249be46d3e06445269"
      }
     },
     "61faf943ddcd4400971fd38a867ee995": {
      "model_module": "jupyter-js-widgets",
      "model_module_version": "~2.1.4",
      "model_name": "LayoutModel",
      "state": {
       "_model_module_version": "~2.1.4",
       "_view_module_version": "~2.1.4"
      }
     },
     "624d62415bc0459fa53e2826b8bce153": {
      "model_module": "jupyter-js-widgets",
      "model_module_version": "~2.1.4",
      "model_name": "LayoutModel",
      "state": {
       "_model_module_version": "~2.1.4",
       "_view_module_version": "~2.1.4"
      }
     },
     "6252eaaa37dd4aeb9a3f2286ffba98bb": {
      "model_module": "jupyter-js-widgets",
      "model_module_version": "~2.1.4",
      "model_name": "LayoutModel",
      "state": {
       "_model_module_version": "~2.1.4",
       "_view_module_version": "~2.1.4",
       "width": "100%"
      }
     },
     "62632b41666241da99597b586a384f5a": {
      "model_module": "jupyter-js-widgets",
      "model_module_version": "~2.1.4",
      "model_name": "LayoutModel",
      "state": {
       "_model_module_version": "~2.1.4",
       "_view_module_version": "~2.1.4"
      }
     },
     "628fe74b3a0a466da6dc74e9ef5cd27e": {
      "model_module": "jupyter-js-widgets",
      "model_module_version": "~2.1.4",
      "model_name": "ButtonModel",
      "state": {
       "_model_module_version": "~2.1.4",
       "_view_module_version": "~2.1.4",
       "description": "Limpiar seleción de cyclos",
       "layout": "IPY_MODEL_c25c39a597fa4391a9bae2e62eae42c2",
       "style": "IPY_MODEL_e32c1eb644774bddad9174ddb1b91f58"
      }
     },
     "62a0b0a8edcd4561a1643274582a7de1": {
      "model_module": "jupyter-js-widgets",
      "model_module_version": "~2.1.4",
      "model_name": "SliderStyleModel",
      "state": {
       "_model_module_version": "~2.1.4",
       "_view_module_version": "~2.1.4"
      }
     },
     "635a8bcb1ba0466b8ec7c95aff314cfd": {
      "model_module": "jupyter-js-widgets",
      "model_module_version": "~2.1.4",
      "model_name": "LayoutModel",
      "state": {
       "_model_module_version": "~2.1.4",
       "_view_module_version": "~2.1.4"
      }
     },
     "63677e1899844a8daa16c6feeb5ee77c": {
      "model_module": "jupyter-js-widgets",
      "model_module_version": "~2.1.4",
      "model_name": "LayoutModel",
      "state": {
       "_model_module_version": "~2.1.4",
       "_view_module_version": "~2.1.4"
      }
     },
     "63970d5f689f4b84ab05724e9019d118": {
      "model_module": "jupyter-js-widgets",
      "model_module_version": "~2.1.4",
      "model_name": "VBoxModel",
      "state": {
       "_model_module_version": "~2.1.4",
       "_view_module_version": "~2.1.4",
       "children": [
        "IPY_MODEL_2a668bd937e14a5db3af399b2861f7bc",
        "IPY_MODEL_908feb14a8af406f8b5cb1f29f1d9c34"
       ],
       "layout": "IPY_MODEL_dd56e92a45f34d338da438327b669221"
      }
     },
     "63b2acab3e7747bd8da2d6160e872ae1": {
      "model_module": "jupyter-js-widgets",
      "model_module_version": "~2.1.4",
      "model_name": "OutputModel",
      "state": {
       "_dom_classes": [],
       "_model_module": "jupyter-js-widgets",
       "_model_module_version": "~2.1.4",
       "_view_module": "jupyter-js-widgets",
       "_view_module_version": "~2.1.4",
       "layout": "IPY_MODEL_ad8606c3578d49f6b813b44d14c14481",
       "msg_throttle": 1
      }
     },
     "63bfa1fb59b346a69e38b738090d4136": {
      "model_module": "jupyter-js-widgets",
      "model_module_version": "~2.1.4",
      "model_name": "OutputModel",
      "state": {
       "_dom_classes": [],
       "_model_module": "jupyter-js-widgets",
       "_model_module_version": "~2.1.4",
       "_view_module": "jupyter-js-widgets",
       "_view_module_version": "~2.1.4",
       "layout": "IPY_MODEL_397379fa28764e8bbe029af5bc759abe",
       "msg_throttle": 1
      }
     },
     "63c25ba27e6e446db4306075c2c2ec55": {
      "model_module": "jupyter-js-widgets",
      "model_module_version": "~2.1.4",
      "model_name": "ButtonStyleModel",
      "state": {
       "_model_module_version": "~2.1.4",
       "_view_module_version": "~2.1.4"
      }
     },
     "63c7339a40b5499588affc338437c7dd": {
      "model_module": "jupyter-js-widgets",
      "model_module_version": "~2.1.4",
      "model_name": "LayoutModel",
      "state": {
       "_model_module_version": "~2.1.4",
       "_view_module_version": "~2.1.4"
      }
     },
     "63f88f78795c45c08e06f080adef3180": {
      "model_module": "jupyter-js-widgets",
      "model_module_version": "~2.1.4",
      "model_name": "ButtonModel",
      "state": {
       "_model_module_version": "~2.1.4",
       "_view_module_version": "~2.1.4",
       "description": "Eliminar ciclos selecionados",
       "layout": "IPY_MODEL_cf6edc3d19a9449dbdf73afecc23a64d",
       "style": "IPY_MODEL_945f924ef5bc4131a7fda675c03f8680"
      }
     },
     "64097ab1d18a497abbf5c2d3178b2b4f": {
      "model_module": "jupyter-js-widgets",
      "model_module_version": "~2.1.4",
      "model_name": "CheckboxModel",
      "state": {
       "_model_module_version": "~2.1.4",
       "_view_module_version": "~2.1.4",
       "description": "Cycle 19",
       "disabled": false,
       "layout": "IPY_MODEL_7dbb73520b284898871c2c81fd639a88",
       "value": true
      }
     },
     "641356956b39459ea5878df3ddaec7cd": {
      "model_module": "jupyter-js-widgets",
      "model_module_version": "~2.1.4",
      "model_name": "ButtonModel",
      "state": {
       "_model_module_version": "~2.1.4",
       "_view_module_version": "~2.1.4",
       "button_style": "warning",
       "description": "Eliminar ciclos selecionados",
       "layout": "IPY_MODEL_8184878bb5e549518ce9ace13b8a6149",
       "style": "IPY_MODEL_50438cdae24646918b4c16448f55e6f0"
      }
     },
     "653ccd86c5234775a9306ed44b28f931": {
      "model_module": "jupyter-js-widgets",
      "model_module_version": "~2.1.4",
      "model_name": "VBoxModel",
      "state": {
       "_model_module_version": "~2.1.4",
       "_view_module_version": "~2.1.4",
       "children": [
        "IPY_MODEL_9e9d940b9e2c4132805899ed855a3d69",
        "IPY_MODEL_3422d1cc234f467a8ddea6d2c9055507",
        "IPY_MODEL_ef06fafc72574050bc26ba52713d0512",
        "IPY_MODEL_8034e1016fa1460f9f2ba7dcf0033b05",
        "IPY_MODEL_a154aae3ad874c39ad5acd57d651f408"
       ],
       "layout": "IPY_MODEL_6a846c8fb5534c89bbb8fc7aeb8888c3"
      }
     },
     "653e81d93529494db516a442faef1344": {
      "model_module": "jupyter-js-widgets",
      "model_module_version": "~2.1.4",
      "model_name": "LayoutModel",
      "state": {
       "_model_module_version": "~2.1.4",
       "_view_module_version": "~2.1.4",
       "margin": "5px 2px 0",
       "width": "146px"
      }
     },
     "65427c4446fe4d6ba787bb4bef5c9189": {
      "model_module": "jupyter-js-widgets",
      "model_module_version": "~2.1.4",
      "model_name": "LabelModel",
      "state": {
       "_model_module_version": "~2.1.4",
       "_view_module_version": "~2.1.4",
       "layout": "IPY_MODEL_27241072e6e74a7ab7e9e495704295d8",
       "value": "Curvature"
      }
     },
     "659e31a3004b4ea186a25d3bd3a09fa2": {
      "model_module": "jupyter-js-widgets",
      "model_module_version": "~2.1.4",
      "model_name": "LayoutModel",
      "state": {
       "_model_module_version": "~2.1.4",
       "_view_module_version": "~2.1.4"
      }
     },
     "65b5b05d0ad2486a91f46a60ab457106": {
      "model_module": "jupyter-js-widgets",
      "model_module_version": "~2.1.4",
      "model_name": "LayoutModel",
      "state": {
       "_model_module_version": "~2.1.4",
       "_view_module_version": "~2.1.4",
       "margin": "5px 2px 0",
       "width": "300px"
      }
     },
     "65ec3b0b995d47429bd3002b5771c5c9": {
      "model_module": "jupyter-js-widgets",
      "model_module_version": "~2.1.4",
      "model_name": "ButtonStyleModel",
      "state": {
       "_model_module_version": "~2.1.4",
       "_view_module_version": "~2.1.4"
      }
     },
     "65f17681bcce492ba6b236cf348878ab": {
      "model_module": "jupyter-js-widgets",
      "model_module_version": "~2.1.4",
      "model_name": "ButtonModel",
      "state": {
       "_model_module_version": "~2.1.4",
       "_view_module_version": "~2.1.4",
       "description": "Limpiar seleción de ciclos",
       "layout": "IPY_MODEL_72698ce6a07748dc93cedb78727254b7",
       "style": "IPY_MODEL_94ecc65c687543d6b0e136466962027b"
      }
     },
     "664693558a3443dab7d56d2b36ef806d": {
      "model_module": "jupyter-js-widgets",
      "model_module_version": "~2.1.4",
      "model_name": "LabelModel",
      "state": {
       "_model_module_version": "~2.1.4",
       "_view_module_version": "~2.1.4",
       "layout": "IPY_MODEL_4683e3354cf04e8cb30c1ef866cfac41",
       "value": "Máximos"
      }
     },
     "667949c3522f4b9bbcacf051a2d424d1": {
      "model_module": "jupyter-js-widgets",
      "model_module_version": "~2.1.4",
      "model_name": "VBoxModel",
      "state": {
       "_model_module_version": "~2.1.4",
       "_view_module_version": "~2.1.4",
       "children": [
        "IPY_MODEL_7c239920f4d04d51883fb16f31e49dbb",
        "IPY_MODEL_03f93c2d0b004c739bb7f07133017df6",
        "IPY_MODEL_5721f05737ea4bc990b983cee16af5ea"
       ],
       "layout": "IPY_MODEL_bcd67de791c94863ab423f80aaf84ad7"
      }
     },
     "6683059429564d96ab830dadde549b97": {
      "model_module": "jupyter-js-widgets",
      "model_module_version": "~2.1.4",
      "model_name": "VBoxModel",
      "state": {
       "_model_module_version": "~2.1.4",
       "_view_module_version": "~2.1.4",
       "children": [
        "IPY_MODEL_bf7a5e298cc24f9ba83fb3fb7c87a99d",
        "IPY_MODEL_e9b587c20778450788252353680dbf2b"
       ],
       "layout": "IPY_MODEL_e979ee0c803645fbb9ecb191ea8cbc4d"
      }
     },
     "66a4db94be9b44afad65c648f581ba1e": {
      "model_module": "jupyter-js-widgets",
      "model_module_version": "~2.1.4",
      "model_name": "ButtonModel",
      "state": {
       "_model_module_version": "~2.1.4",
       "_view_module_version": "~2.1.4",
       "description": "Eliminar ciclos selecionados",
       "layout": "IPY_MODEL_71f5d232522048d59cf5e9bbbb172f08",
       "style": "IPY_MODEL_e5e684c0f403477081135e2c4d9987d7"
      }
     },
     "66a99910bcd443bcb3e2034b4fb830df": {
      "model_module": "jupyter-js-widgets",
      "model_module_version": "~2.1.4",
      "model_name": "LayoutModel",
      "state": {
       "_model_module_version": "~2.1.4",
       "_view_module_version": "~2.1.4"
      }
     },
     "6713438dfb124104b97d60c1008b41b3": {
      "model_module": "jupyter-js-widgets",
      "model_module_version": "~2.1.4",
      "model_name": "LayoutModel",
      "state": {
       "_model_module_version": "~2.1.4",
       "_view_module_version": "~2.1.4"
      }
     },
     "6745b2555eb6451eac78fcb5e17a58c7": {
      "model_module": "jupyter-js-widgets",
      "model_module_version": "~2.1.4",
      "model_name": "LayoutModel",
      "state": {
       "_model_module_version": "~2.1.4",
       "_view_module_version": "~2.1.4"
      }
     },
     "680aaa621f2b47d1bb91b79ff02790b9": {
      "model_module": "jupyter-js-widgets",
      "model_module_version": "~2.1.4",
      "model_name": "LayoutModel",
      "state": {
       "_model_module_version": "~2.1.4",
       "_view_module_version": "~2.1.4",
       "margin": "5px 2px 0",
       "width": "300px"
      }
     },
     "6818624906754ce2b7779c85f52dc82c": {
      "model_module": "jupyter-js-widgets",
      "model_module_version": "~2.1.4",
      "model_name": "VBoxModel",
      "state": {
       "_model_module_version": "~2.1.4",
       "_view_module_version": "~2.1.4",
       "children": [
        "IPY_MODEL_1475071b25314b4cb45a5613a47177d3",
        "IPY_MODEL_5b4a499ec9f84e3495b676b88729e04a"
       ],
       "layout": "IPY_MODEL_558c42db944a470989ee77a0a8216beb"
      }
     },
     "681e1727b36d431fb6448bd10f5bfe96": {
      "model_module": "jupyter-js-widgets",
      "model_module_version": "~2.1.4",
      "model_name": "ButtonModel",
      "state": {
       "_model_module_version": "~2.1.4",
       "_view_module_version": "~2.1.4",
       "description": "Eliminar ciclos selecionados",
       "layout": "IPY_MODEL_a6eef1859a7741caa90cec47279694b5",
       "style": "IPY_MODEL_f4fe0d4f3e6b43dbb0ddad352a0e8088"
      }
     },
     "682c3b1235514892a4ea2cc73a1f667b": {
      "model_module": "jupyter-js-widgets",
      "model_module_version": "~2.1.4",
      "model_name": "LayoutModel",
      "state": {
       "_model_module_version": "~2.1.4",
       "_view_module_version": "~2.1.4"
      }
     },
     "6857f06ad9be418193f02ba4f7232a36": {
      "model_module": "jupyter-js-widgets",
      "model_module_version": "~2.1.4",
      "model_name": "ButtonModel",
      "state": {
       "_model_module_version": "~2.1.4",
       "_view_module_version": "~2.1.4",
       "description": "Limpiar seleción de mínimos",
       "layout": "IPY_MODEL_324d0dcbf6bf49f983a5f4f17d19efad",
       "style": "IPY_MODEL_10bacd6171c04285bf386cd14b009f5b"
      }
     },
     "685b7c5daadd4bb4b630839ec02d53d7": {
      "model_module": "jupyter-js-widgets",
      "model_module_version": "~2.1.4",
      "model_name": "ButtonStyleModel",
      "state": {
       "_model_module_version": "~2.1.4",
       "_view_module_version": "~2.1.4"
      }
     },
     "6869e6ecd5414ee8a4a35aa29f83612e": {
      "model_module": "jupyter-js-widgets",
      "model_module_version": "~2.1.4",
      "model_name": "VBoxModel",
      "state": {
       "_model_module_version": "~2.1.4",
       "_view_module_version": "~2.1.4",
       "children": [
        "IPY_MODEL_9c7b85f9b63641789c709505d70a79e5",
        "IPY_MODEL_ab5885e55ba14ba8a1458f1cc9c079d2",
        "IPY_MODEL_cd3cdc01b9d94c62a77b07d52a2ce992",
        "IPY_MODEL_e8138e7dd0cd42aa9181593999ce850d",
        "IPY_MODEL_e71d1fa2e72f4d3baab6236f48f28e7d"
       ],
       "layout": "IPY_MODEL_e021bcbe27c64086a7ffa3af7d4b8285"
      }
     },
     "687d03281ac6411fa17a16d891496555": {
      "model_module": "jupyter-js-widgets",
      "model_module_version": "~2.1.4",
      "model_name": "ButtonStyleModel",
      "state": {
       "_model_module_version": "~2.1.4",
       "_view_module_version": "~2.1.4"
      }
     },
     "6881efba441c42c6a827fde8a625a36f": {
      "model_module": "jupyter-js-widgets",
      "model_module_version": "~2.1.4",
      "model_name": "LayoutModel",
      "state": {
       "_model_module_version": "~2.1.4",
       "_view_module_version": "~2.1.4"
      }
     },
     "6898f8980689481e88d1c05e0cca5231": {
      "model_module": "jupyter-js-widgets",
      "model_module_version": "~2.1.4",
      "model_name": "LayoutModel",
      "state": {
       "_model_module_version": "~2.1.4",
       "_view_module_version": "~2.1.4",
       "width": "100%"
      }
     },
     "68a0bdf67eb54d3cba0eb1bd4c0dc60b": {
      "model_module": "jupyter-js-widgets",
      "model_module_version": "~2.1.4",
      "model_name": "ButtonModel",
      "state": {
       "_model_module_version": "~2.1.4",
       "_view_module_version": "~2.1.4",
       "description": "Limpiar seleción de ciclos",
       "layout": "IPY_MODEL_e6e36346b41c47cab8f7a4a523bb6010",
       "style": "IPY_MODEL_fb9cec80ce314ebd878e0e7fa3ae3c9d"
      }
     },
     "68fa569626b94dac9b0fd6d7e3d51309": {
      "model_module": "jupyter-js-widgets",
      "model_module_version": "~2.1.4",
      "model_name": "ButtonStyleModel",
      "state": {
       "_model_module_version": "~2.1.4",
       "_view_module_version": "~2.1.4"
      }
     },
     "6908a69dda7448a2add04a96ee8979c3": {
      "model_module": "jupyter-js-widgets",
      "model_module_version": "~2.1.4",
      "model_name": "LayoutModel",
      "state": {
       "_model_module_version": "~2.1.4",
       "_view_module_version": "~2.1.4"
      }
     },
     "691e5ea9aa1e445280df5dd9bf0ab58f": {
      "model_module": "jupyter-js-widgets",
      "model_module_version": "~2.1.4",
      "model_name": "LayoutModel",
      "state": {
       "_model_module_version": "~2.1.4",
       "_view_module_version": "~2.1.4",
       "width": "100%"
      }
     },
     "692164b6bf9e4bd29430507c23fddae7": {
      "model_module": "jupyter-js-widgets",
      "model_module_version": "~2.1.4",
      "model_name": "LabelModel",
      "state": {
       "_model_module_version": "~2.1.4",
       "_view_module_version": "~2.1.4",
       "layout": "IPY_MODEL_cd44a923c522442ea1be789df1633e73",
       "value": "Ciclos solares"
      }
     },
     "6939fe891093446c83e2fd11c2f69ced": {
      "model_module": "jupyter-js-widgets",
      "model_module_version": "~2.1.4",
      "model_name": "CheckboxModel",
      "state": {
       "_model_module_version": "~2.1.4",
       "_view_module_version": "~2.1.4",
       "description": "Cycle 12",
       "disabled": false,
       "layout": "IPY_MODEL_63c7339a40b5499588affc338437c7dd",
       "value": true
      }
     },
     "6967d9639ec54b5bacd07d6803f6a61c": {
      "model_module": "jupyter-js-widgets",
      "model_module_version": "~2.1.4",
      "model_name": "ButtonStyleModel",
      "state": {
       "_model_module_version": "~2.1.4",
       "_view_module_version": "~2.1.4"
      }
     },
     "69806ce8c0514acd9a2a800c68f212df": {
      "model_module": "jupyter-js-widgets",
      "model_module_version": "~2.1.4",
      "model_name": "VBoxModel",
      "state": {
       "_model_module_version": "~2.1.4",
       "_view_module_version": "~2.1.4",
       "children": [
        "IPY_MODEL_44cefd4eeb9647e0905fbc76aaf078bb",
        "IPY_MODEL_de5287162372478cb43cdedd83e3cab4",
        "IPY_MODEL_e3cf0fcfebc844948dc11eedbad15ad7",
        "IPY_MODEL_b08f866c004c4ddbb8fac499f67dee4a",
        "IPY_MODEL_87708b2d02f545d6ac63aa88ac5c512a"
       ],
       "layout": "IPY_MODEL_eb6ad029e303413ca2ed95aed752cff6"
      }
     },
     "6a28b4c2b1c945f4a1314f5afabecf3f": {
      "model_module": "jupyter-js-widgets",
      "model_module_version": "~2.1.4",
      "model_name": "LayoutModel",
      "state": {
       "_model_module_version": "~2.1.4",
       "_view_module_version": "~2.1.4"
      }
     },
     "6a41b3a2296948ad9f54ac7340271e9b": {
      "model_module": "jupyter-js-widgets",
      "model_module_version": "~2.1.4",
      "model_name": "SelectMultipleModel",
      "state": {
       "_model_module_version": "~2.1.4",
       "_options_labels": [
        "Cycle  6",
        "Cycle  7",
        "Cycle  8",
        "Cycle  9",
        "Cycle 10",
        "Cycle 11",
        "Cycle 12",
        "Cycle 13",
        "Cycle 14",
        "Cycle 15",
        "Cycle 16",
        "Cycle 17",
        "Cycle 18",
        "Cycle 19",
        "Cycle 20",
        "Cycle 21",
        "Cycle 22",
        "Cycle 23",
        "Cycle 24"
       ],
       "_view_module_version": "~2.1.4",
       "layout": "IPY_MODEL_8d2030e418814b89a9bc08a7a471f6d8",
       "value": [
        "Cycle  6",
        "Cycle  7",
        "Cycle  8",
        "Cycle 24"
       ]
      }
     },
     "6a7b1af5305c40c68bd5e51c93f914b9": {
      "model_module": "jupyter-js-widgets",
      "model_module_version": "~2.1.4",
      "model_name": "LabelModel",
      "state": {
       "_model_module_version": "~2.1.4",
       "_view_module_version": "~2.1.4",
       "layout": "IPY_MODEL_73b97f4b07944e90b19b21f862674884",
       "value": "Ciclos solares"
      }
     },
     "6a846c8fb5534c89bbb8fc7aeb8888c3": {
      "model_module": "jupyter-js-widgets",
      "model_module_version": "~2.1.4",
      "model_name": "LayoutModel",
      "state": {
       "_model_module_version": "~2.1.4",
       "_view_module_version": "~2.1.4"
      }
     },
     "6afbe1781fde4e08894b24098ff87c08": {
      "model_module": "jupyter-js-widgets",
      "model_module_version": "~2.1.4",
      "model_name": "CheckboxModel",
      "state": {
       "_model_module_version": "~2.1.4",
       "_view_module_version": "~2.1.4",
       "description": "Cycle  6",
       "disabled": false,
       "layout": "IPY_MODEL_9462c1ab10ee403f8142551df54237ad",
       "value": true
      }
     },
     "6b20d217a8db4eedb17b3fddbfdb24c7": {
      "model_module": "jupyter-js-widgets",
      "model_module_version": "~2.1.4",
      "model_name": "ButtonModel",
      "state": {
       "_model_module_version": "~2.1.4",
       "_view_module_version": "~2.1.4",
       "description": "Eliminar ciclos selecionados",
       "layout": "IPY_MODEL_6d567da2c20949569a3c7b217684e8b9",
       "style": "IPY_MODEL_45f49b784f104e2292dba40a31e3e064"
      }
     },
     "6b5b63bfc757452080b6dbd8a1aeb7a2": {
      "model_module": "jupyter-js-widgets",
      "model_module_version": "~2.1.4",
      "model_name": "LayoutModel",
      "state": {
       "_model_module_version": "~2.1.4",
       "_view_module_version": "~2.1.4"
      }
     },
     "6c5bddd4cb9a4d3ebff5e3cc167cb011": {
      "model_module": "jupyter-js-widgets",
      "model_module_version": "~2.1.4",
      "model_name": "OutputModel",
      "state": {
       "_dom_classes": [],
       "_model_module": "jupyter-js-widgets",
       "_model_module_version": "~2.1.4",
       "_view_module": "jupyter-js-widgets",
       "_view_module_version": "~2.1.4",
       "layout": "IPY_MODEL_398f51d346f444798743527f5afd37c8",
       "msg_throttle": 1
      }
     },
     "6c9c96ce5aa141be9d15893a330f589d": {
      "model_module": "jupyter-js-widgets",
      "model_module_version": "~2.1.4",
      "model_name": "LabelModel",
      "state": {
       "_model_module_version": "~2.1.4",
       "_view_module_version": "~2.1.4",
       "layout": "IPY_MODEL_95138287d19741329cea305cebb3572b",
       "value": "Máximos"
      }
     },
     "6c9f6f8595c641a0b255b81475ee5ec5": {
      "model_module": "jupyter-js-widgets",
      "model_module_version": "~2.1.4",
      "model_name": "HBoxModel",
      "state": {
       "_model_module_version": "~2.1.4",
       "_view_module_version": "~2.1.4",
       "children": [
        "IPY_MODEL_6683059429564d96ab830dadde549b97",
        "IPY_MODEL_63970d5f689f4b84ab05724e9019d118"
       ],
       "layout": "IPY_MODEL_5f1680eb37194968a5c9a13f9e21724c"
      }
     },
     "6caa10d4317b4fc39567958a4aeb0411": {
      "model_module": "jupyter-js-widgets",
      "model_module_version": "~2.1.4",
      "model_name": "OutputModel",
      "state": {
       "_dom_classes": [],
       "_model_module": "jupyter-js-widgets",
       "_model_module_version": "~2.1.4",
       "_view_module": "jupyter-js-widgets",
       "_view_module_version": "~2.1.4",
       "layout": "IPY_MODEL_8becaa6f1b904087a443f630a9d23161",
       "msg_throttle": 1
      }
     },
     "6cbe4c56a30c45b7988bdc881393adb0": {
      "model_module": "jupyter-js-widgets",
      "model_module_version": "~2.1.4",
      "model_name": "LayoutModel",
      "state": {
       "_model_module_version": "~2.1.4",
       "_view_module_version": "~2.1.4",
       "width": "100%"
      }
     },
     "6d0f00a232c441f2b8f8cd85590118c2": {
      "model_module": "jupyter-js-widgets",
      "model_module_version": "~2.1.4",
      "model_name": "OutputModel",
      "state": {
       "_dom_classes": [],
       "_model_module": "jupyter-js-widgets",
       "_model_module_version": "~2.1.4",
       "_view_module": "jupyter-js-widgets",
       "_view_module_version": "~2.1.4",
       "layout": "IPY_MODEL_7b42f71bf4654b15bad807e0492027d8",
       "msg_throttle": 1
      }
     },
     "6d366dc946ab442cb61af1ce014f1fe5": {
      "model_module": "jupyter-js-widgets",
      "model_module_version": "~2.1.4",
      "model_name": "LayoutModel",
      "state": {
       "_model_module_version": "~2.1.4",
       "_view_module_version": "~2.1.4"
      }
     },
     "6d49d6b2586740e2ad5800e13e9133eb": {
      "model_module": "jupyter-js-widgets",
      "model_module_version": "~2.1.4",
      "model_name": "ButtonModel",
      "state": {
       "_model_module_version": "~2.1.4",
       "_view_module_version": "~2.1.4",
       "description": "Limpiar seleción de cyclos",
       "layout": "IPY_MODEL_8cb6838bc64947379a1d7fa0777271d8",
       "style": "IPY_MODEL_dda4669fcbaf4557855e54a7d629f980"
      }
     },
     "6d567da2c20949569a3c7b217684e8b9": {
      "model_module": "jupyter-js-widgets",
      "model_module_version": "~2.1.4",
      "model_name": "LayoutModel",
      "state": {
       "_model_module_version": "~2.1.4",
       "_view_module_version": "~2.1.4",
       "margin": "5px 2px 0",
       "width": "300px"
      }
     },
     "6da41ab766b54082a7bfc73b0199b47a": {
      "model_module": "jupyter-js-widgets",
      "model_module_version": "~2.1.4",
      "model_name": "ButtonModel",
      "state": {
       "_model_module_version": "~2.1.4",
       "_view_module_version": "~2.1.4",
       "description": "Eliminar ciclos selecionados",
       "layout": "IPY_MODEL_0bffd7f8d8834c1084747f5d300ea7bd",
       "style": "IPY_MODEL_65ec3b0b995d47429bd3002b5771c5c9"
      }
     },
     "6dcfdadbbeee40278792d42c54b94b4b": {
      "model_module": "jupyter-js-widgets",
      "model_module_version": "~2.1.4",
      "model_name": "ButtonModel",
      "state": {
       "_model_module_version": "~2.1.4",
       "_view_module_version": "~2.1.4",
       "description": "Eliminar ciclos selecionados",
       "layout": "IPY_MODEL_d79b2512f0a94586bbb65e7cce5178df",
       "style": "IPY_MODEL_964c920d4f2e49ebb0d6a86eb512436e"
      }
     },
     "6de2c5721150410f9092381a65eb4481": {
      "model_module": "jupyter-js-widgets",
      "model_module_version": "~2.1.4",
      "model_name": "OutputModel",
      "state": {
       "_dom_classes": [],
       "_model_module": "jupyter-js-widgets",
       "_model_module_version": "~2.1.4",
       "_view_module": "jupyter-js-widgets",
       "_view_module_version": "~2.1.4",
       "layout": "IPY_MODEL_62632b41666241da99597b586a384f5a",
       "msg_throttle": 1
      }
     },
     "6e0ecf3d11f046528841d74c8da5bdd7": {
      "model_module": "jupyter-js-widgets",
      "model_module_version": "~2.1.4",
      "model_name": "LayoutModel",
      "state": {
       "_model_module_version": "~2.1.4",
       "_view_module_version": "~2.1.4"
      }
     },
     "6e7c660d743a47e6878d8b210a42b396": {
      "model_module": "jupyter-js-widgets",
      "model_module_version": "~2.1.4",
      "model_name": "LayoutModel",
      "state": {
       "_model_module_version": "~2.1.4",
       "_view_module_version": "~2.1.4",
       "margin": "5px 2px 0",
       "width": "300px"
      }
     },
     "6ea755c763b9463db0ef7788727f5bfe": {
      "model_module": "jupyter-js-widgets",
      "model_module_version": "~2.1.4",
      "model_name": "LayoutModel",
      "state": {
       "_model_module_version": "~2.1.4",
       "_view_module_version": "~2.1.4"
      }
     },
     "6ea88293a586438592556330fefeee78": {
      "model_module": "jupyter-js-widgets",
      "model_module_version": "~2.1.4",
      "model_name": "LayoutModel",
      "state": {
       "_model_module_version": "~2.1.4",
       "_view_module_version": "~2.1.4"
      }
     },
     "6eae306e5fae433fbad6909033f0c9b6": {
      "model_module": "jupyter-js-widgets",
      "model_module_version": "~2.1.4",
      "model_name": "IntSliderModel",
      "state": {
       "_model_module_version": "~2.1.4",
       "_view_module_version": "~2.1.4",
       "layout": "IPY_MODEL_00814777ae40455fa66ca332a762dad4",
       "min": 1,
       "style": "IPY_MODEL_54733e909ba047e1a4d799950e67f1c2",
       "value": 20
      }
     },
     "6f42cbf323d64aed80b8e636ee04388c": {
      "model_module": "jupyter-js-widgets",
      "model_module_version": "~2.1.4",
      "model_name": "ButtonStyleModel",
      "state": {
       "_model_module_version": "~2.1.4",
       "_view_module_version": "~2.1.4"
      }
     },
     "6f69b8c0fb4a40f691ae0d8edc8974cf": {
      "model_module": "jupyter-js-widgets",
      "model_module_version": "~2.1.4",
      "model_name": "SelectMultipleModel",
      "state": {
       "_model_module_version": "~2.1.4",
       "_options_labels": [
        "Cycle  6",
        "Cycle  7",
        "Cycle  8",
        "Cycle  9",
        "Cycle 10",
        "Cycle 11",
        "Cycle 12",
        "Cycle 13",
        "Cycle 14",
        "Cycle 15",
        "Cycle 16",
        "Cycle 17",
        "Cycle 18",
        "Cycle 19",
        "Cycle 20",
        "Cycle 21",
        "Cycle 22",
        "Cycle 23",
        "Cycle 24"
       ],
       "_view_module_version": "~2.1.4",
       "layout": "IPY_MODEL_efbee8c3edb7423dabaf8ff92589af7f",
       "value": [
        "Cycle  6",
        "Cycle  7",
        "Cycle  8",
        "Cycle 24"
       ]
      }
     },
     "6f6b317b2f9a48b8869d5a1d0b219593": {
      "model_module": "jupyter-js-widgets",
      "model_module_version": "~2.1.4",
      "model_name": "LayoutModel",
      "state": {
       "_model_module_version": "~2.1.4",
       "_view_module_version": "~2.1.4"
      }
     },
     "6fc9fd694d5f4813945a599b08d98eb6": {
      "model_module": "jupyter-js-widgets",
      "model_module_version": "~2.1.4",
      "model_name": "LayoutModel",
      "state": {
       "_model_module_version": "~2.1.4",
       "_view_module_version": "~2.1.4"
      }
     },
     "6fd882fc036548d5959aacd23c70b8fc": {
      "model_module": "jupyter-js-widgets",
      "model_module_version": "~2.1.4",
      "model_name": "OutputModel",
      "state": {
       "_dom_classes": [],
       "_model_module": "jupyter-js-widgets",
       "_model_module_version": "~2.1.4",
       "_view_module": "jupyter-js-widgets",
       "_view_module_version": "~2.1.4",
       "layout": "IPY_MODEL_6d366dc946ab442cb61af1ce014f1fe5",
       "msg_throttle": 1
      }
     },
     "7027ee4c35e7422cb5780c1b265877ed": {
      "model_module": "jupyter-js-widgets",
      "model_module_version": "~2.1.4",
      "model_name": "LayoutModel",
      "state": {
       "_model_module_version": "~2.1.4",
       "_view_module_version": "~2.1.4"
      }
     },
     "70b17da706f441cda7113393cdd7bb95": {
      "model_module": "jupyter-js-widgets",
      "model_module_version": "~2.1.4",
      "model_name": "ButtonModel",
      "state": {
       "_model_module_version": "~2.1.4",
       "_view_module_version": "~2.1.4",
       "description": "Eliminar ciclos selecionados",
       "layout": "IPY_MODEL_ad26f725c36f4e10935456a7c5306c91",
       "style": "IPY_MODEL_4838e3b75b7344b994e6f4f059681c21"
      }
     },
     "70d313873a83422c8724e2c601d0ab73": {
      "model_module": "jupyter-js-widgets",
      "model_module_version": "~2.1.4",
      "model_name": "CheckboxModel",
      "state": {
       "_model_module_version": "~2.1.4",
       "_view_module_version": "~2.1.4",
       "description": "Cycle 14",
       "disabled": false,
       "layout": "IPY_MODEL_d3a6621f4c86474e8e6e72ece0801463",
       "value": true
      }
     },
     "70d919b37b0f4571b600c803f9d300ac": {
      "model_module": "jupyter-js-widgets",
      "model_module_version": "~2.1.4",
      "model_name": "VBoxModel",
      "state": {
       "_model_module_version": "~2.1.4",
       "_view_module_version": "~2.1.4",
       "children": [
        "IPY_MODEL_1af9a4cb4fff445f9fbd3db19afe5dd5",
        "IPY_MODEL_d7acb8dd7d4144578df447d278f1cd7f",
        "IPY_MODEL_4c7aa36c89444766b3b307af2c76aedd"
       ],
       "layout": "IPY_MODEL_a4e1d40aea82441dbb28f3e64598ee73"
      }
     },
     "70e75de8ec184c68b34da5551150b4c2": {
      "model_module": "jupyter-js-widgets",
      "model_module_version": "~2.1.4",
      "model_name": "ButtonStyleModel",
      "state": {
       "_model_module_version": "~2.1.4",
       "_view_module_version": "~2.1.4"
      }
     },
     "70fb76dce249414d990b8eb9eb0d46fd": {
      "model_module": "jupyter-js-widgets",
      "model_module_version": "~2.1.4",
      "model_name": "LayoutModel",
      "state": {
       "_model_module_version": "~2.1.4",
       "_view_module_version": "~2.1.4",
       "width": "100%"
      }
     },
     "71148dbc4b444dbdaaf1e894a54ffce8": {
      "model_module": "jupyter-js-widgets",
      "model_module_version": "~2.1.4",
      "model_name": "VBoxModel",
      "state": {
       "_model_module_version": "~2.1.4",
       "_view_module_version": "~2.1.4",
       "children": [
        "IPY_MODEL_9f69e32ed34849ed8b98bc29e0f09bf2",
        "IPY_MODEL_464269c7140045e68d90e5693b520e13",
        "IPY_MODEL_b3e058e913f1458cab867c8f32b44c68",
        "IPY_MODEL_892397780d374efa91e288f7557dc86d",
        "IPY_MODEL_c49cab03b0054867a2f953d2f6c69358"
       ],
       "layout": "IPY_MODEL_084449621e5947788c6abfad84aff8c8"
      }
     },
     "71297ed271c84c0abe6f08cd0d9fe2d3": {
      "model_module": "jupyter-js-widgets",
      "model_module_version": "~2.1.4",
      "model_name": "LayoutModel",
      "state": {
       "_model_module_version": "~2.1.4",
       "_view_module_version": "~2.1.4",
       "margin": "5px 2px 0",
       "width": "300px"
      }
     },
     "7176288030c34ffe8e484038499f05e8": {
      "model_module": "jupyter-js-widgets",
      "model_module_version": "~2.1.4",
      "model_name": "LayoutModel",
      "state": {
       "_model_module_version": "~2.1.4",
       "_view_module_version": "~2.1.4"
      }
     },
     "718dbe2411f04ead96df1f6fda2a3f05": {
      "model_module": "jupyter-js-widgets",
      "model_module_version": "~2.1.4",
      "model_name": "ButtonModel",
      "state": {
       "_model_module_version": "~2.1.4",
       "_view_module_version": "~2.1.4",
       "description": "Limpiar seleción de ciclos",
       "layout": "IPY_MODEL_96222d4ae0064888a0b07ba88cd50dc6",
       "style": "IPY_MODEL_421313da67a54f4e9fda0fb25d8a386c"
      }
     },
     "71b00acf9918443886ec87b9c4901451": {
      "model_module": "jupyter-js-widgets",
      "model_module_version": "~2.1.4",
      "model_name": "VBoxModel",
      "state": {
       "_model_module_version": "~2.1.4",
       "_view_module_version": "~2.1.4",
       "children": [
        "IPY_MODEL_c77b4edc2e0d44ef89852a6ecb42f24c",
        "IPY_MODEL_86c3a648b3ea4e83b628dcbe1315fcf0",
        "IPY_MODEL_d9f37e017e4c4c43867523cac43da689",
        "IPY_MODEL_c04bf0736d97480a8503c18d53bb74fc",
        "IPY_MODEL_df5ae145633e4494ab2269a2265990d2"
       ],
       "layout": "IPY_MODEL_53782ebefe314277b760e9af5174cc49"
      }
     },
     "71f5d232522048d59cf5e9bbbb172f08": {
      "model_module": "jupyter-js-widgets",
      "model_module_version": "~2.1.4",
      "model_name": "LayoutModel",
      "state": {
       "_model_module_version": "~2.1.4",
       "_view_module_version": "~2.1.4",
       "margin": "5px 2px 0",
       "width": "300px"
      }
     },
     "72698ce6a07748dc93cedb78727254b7": {
      "model_module": "jupyter-js-widgets",
      "model_module_version": "~2.1.4",
      "model_name": "LayoutModel",
      "state": {
       "_model_module_version": "~2.1.4",
       "_view_module_version": "~2.1.4",
       "margin": "5px 2px 0",
       "width": "300px"
      }
     },
     "727fbcd75894424586e50a4990bf6d3d": {
      "model_module": "jupyter-js-widgets",
      "model_module_version": "~2.1.4",
      "model_name": "LayoutModel",
      "state": {
       "_model_module_version": "~2.1.4",
       "_view_module_version": "~2.1.4"
      }
     },
     "72bd601994a0483793f09994880ddbfa": {
      "model_module": "jupyter-js-widgets",
      "model_module_version": "~2.1.4",
      "model_name": "ButtonStyleModel",
      "state": {
       "_model_module_version": "~2.1.4",
       "_view_module_version": "~2.1.4"
      }
     },
     "72bd97c002314c6d837b83464c82666b": {
      "model_module": "jupyter-js-widgets",
      "model_module_version": "~2.1.4",
      "model_name": "VBoxModel",
      "state": {
       "_model_module_version": "~2.1.4",
       "_view_module_version": "~2.1.4",
       "children": [
        "IPY_MODEL_9836211ac5cc402d968c0df4c0f9b667",
        "IPY_MODEL_ba6a3f29104e47c393c3e0deaa91c513",
        "IPY_MODEL_d96eb96ade7e4e559f374eeabe025ee4",
        "IPY_MODEL_0c3c8fa9361c42b09f4d0235d70fbf8d",
        "IPY_MODEL_77b9278364974c909778d3737c563196"
       ],
       "layout": "IPY_MODEL_aab3b987eba74dd0a747080801c5c49b"
      }
     },
     "72d1eb37f6a541438ac814e54b5da272": {
      "model_module": "jupyter-js-widgets",
      "model_module_version": "~2.1.4",
      "model_name": "LayoutModel",
      "state": {
       "_model_module_version": "~2.1.4",
       "_view_module_version": "~2.1.4",
       "margin": "5px 2px 0",
       "width": "300px"
      }
     },
     "731469eb99744e6d89cc08061e0c2f9b": {
      "model_module": "jupyter-js-widgets",
      "model_module_version": "~2.1.4",
      "model_name": "LayoutModel",
      "state": {
       "_model_module_version": "~2.1.4",
       "_view_module_version": "~2.1.4",
       "margin": "5px 2px 0",
       "width": "146px"
      }
     },
     "731b0e2f1f484211a4442a1b9e246f76": {
      "model_module": "jupyter-js-widgets",
      "model_module_version": "~2.1.4",
      "model_name": "SliderStyleModel",
      "state": {
       "_model_module_version": "~2.1.4",
       "_view_module_version": "~2.1.4"
      }
     },
     "737c7d31bf8c40eb85a90dd71fe8564a": {
      "model_module": "jupyter-js-widgets",
      "model_module_version": "~2.1.4",
      "model_name": "LabelModel",
      "state": {
       "_model_module_version": "~2.1.4",
       "_view_module_version": "~2.1.4",
       "layout": "IPY_MODEL_7e047e93b59a4d2d893febd302262858",
       "value": "Ciclos solares"
      }
     },
     "73b97f4b07944e90b19b21f862674884": {
      "model_module": "jupyter-js-widgets",
      "model_module_version": "~2.1.4",
      "model_name": "LayoutModel",
      "state": {
       "_model_module_version": "~2.1.4",
       "_view_module_version": "~2.1.4",
       "width": "100%"
      }
     },
     "74060214277843bca571ebfece4a9dd5": {
      "model_module": "jupyter-js-widgets",
      "model_module_version": "~2.1.4",
      "model_name": "SelectMultipleModel",
      "state": {
       "_model_module_version": "~2.1.4",
       "_options_labels": [
        "Cycle  6",
        "Cycle  7",
        "Cycle  8",
        "Cycle  9",
        "Cycle 10",
        "Cycle 11",
        "Cycle 12",
        "Cycle 13",
        "Cycle 14",
        "Cycle 15",
        "Cycle 16",
        "Cycle 17",
        "Cycle 18",
        "Cycle 19",
        "Cycle 20",
        "Cycle 21",
        "Cycle 22",
        "Cycle 23",
        "Cycle 24"
       ],
       "_view_module_version": "~2.1.4",
       "layout": "IPY_MODEL_eee1f5a93e9a4a53a9507164a4ab1803",
       "value": [
        "Cycle  6",
        "Cycle  7",
        "Cycle  8",
        "Cycle 24"
       ]
      }
     },
     "743d53b1c7fe4e6c9ea568ca75687456": {
      "model_module": "jupyter-js-widgets",
      "model_module_version": "~2.1.4",
      "model_name": "ButtonStyleModel",
      "state": {
       "_model_module_version": "~2.1.4",
       "_view_module_version": "~2.1.4"
      }
     },
     "74ad457d4e1e407d88b1237fabc001ff": {
      "model_module": "jupyter-js-widgets",
      "model_module_version": "~2.1.4",
      "model_name": "ButtonModel",
      "state": {
       "_model_module_version": "~2.1.4",
       "_view_module_version": "~2.1.4",
       "description": "Limpiar seleción de ciclos",
       "layout": "IPY_MODEL_023f151360954f349ac6855607485edf",
       "style": "IPY_MODEL_a1e155a13a694db5814384e0a17e88cb"
      }
     },
     "74b198b3a109459388045d00ccbc3538": {
      "model_module": "jupyter-js-widgets",
      "model_module_version": "~2.1.4",
      "model_name": "OutputModel",
      "state": {
       "_dom_classes": [],
       "_model_module": "jupyter-js-widgets",
       "_model_module_version": "~2.1.4",
       "_view_module": "jupyter-js-widgets",
       "_view_module_version": "~2.1.4",
       "layout": "IPY_MODEL_fdc43b2b5e3744c4abccd039c291a292",
       "msg_throttle": 1
      }
     },
     "7517129c09c242c08d45512c05ffe96a": {
      "model_module": "jupyter-js-widgets",
      "model_module_version": "~2.1.4",
      "model_name": "LayoutModel",
      "state": {
       "_model_module_version": "~2.1.4",
       "_view_module_version": "~2.1.4"
      }
     },
     "752d36eb89cc4b899ffd3b6a03d6af02": {
      "model_module": "jupyter-js-widgets",
      "model_module_version": "~2.1.4",
      "model_name": "LayoutModel",
      "state": {
       "_model_module_version": "~2.1.4",
       "_view_module_version": "~2.1.4",
       "margin": "5px 2px 0",
       "width": "300px"
      }
     },
     "753a705d7ab54d92ad614bd333b56108": {
      "model_module": "jupyter-js-widgets",
      "model_module_version": "~2.1.4",
      "model_name": "LayoutModel",
      "state": {
       "_model_module_version": "~2.1.4",
       "_view_module_version": "~2.1.4",
       "width": "100%"
      }
     },
     "7554badb8bb24c59a7248dc37de13bd8": {
      "model_module": "jupyter-js-widgets",
      "model_module_version": "~2.1.4",
      "model_name": "LabelModel",
      "state": {
       "_model_module_version": "~2.1.4",
       "_view_module_version": "~2.1.4",
       "layout": "IPY_MODEL_bc7e6d9fad5d49bca88908cbafe15319",
       "value": "Ciclos solares"
      }
     },
     "759d5b12ebaf497daa6569f71d8927e2": {
      "model_module": "jupyter-js-widgets",
      "model_module_version": "~2.1.4",
      "model_name": "LayoutModel",
      "state": {
       "_model_module_version": "~2.1.4",
       "_view_module_version": "~2.1.4"
      }
     },
     "75cc29baa0e74ff9bbd3d1994cec11e4": {
      "model_module": "jupyter-js-widgets",
      "model_module_version": "~2.1.4",
      "model_name": "LabelModel",
      "state": {
       "_model_module_version": "~2.1.4",
       "_view_module_version": "~2.1.4",
       "layout": "IPY_MODEL_4d270e3fb3134b419d34d7d5442f2276",
       "value": "Ciclos solares"
      }
     },
     "75d4af1b430543dfa2787b06df425109": {
      "model_module": "jupyter-js-widgets",
      "model_module_version": "~2.1.4",
      "model_name": "OutputModel",
      "state": {
       "_dom_classes": [],
       "_model_module": "jupyter-js-widgets",
       "_model_module_version": "~2.1.4",
       "_view_module": "jupyter-js-widgets",
       "_view_module_version": "~2.1.4",
       "layout": "IPY_MODEL_120d8694dce9494e91702bb3ec44dcc2",
       "msg_throttle": 1
      }
     },
     "7627a2af1f79476c8b2f03a673b877f2": {
      "model_module": "jupyter-js-widgets",
      "model_module_version": "~2.1.4",
      "model_name": "VBoxModel",
      "state": {
       "_model_module_version": "~2.1.4",
       "_view_module_version": "~2.1.4",
       "children": [
        "IPY_MODEL_1f0643c6d43e4af49c9e7ca3e93c17ea",
        "IPY_MODEL_ed3f7e3ebf7d42ecbbf8982e92091225",
        "IPY_MODEL_dc0bc5ae650a4abb99c36dcc37a69b8e",
        "IPY_MODEL_f3ef55a634ca4d58bd6cfe9ea244a426",
        "IPY_MODEL_eb8859d5bec447d79c07cee18eabfbbc"
       ],
       "layout": "IPY_MODEL_6713438dfb124104b97d60c1008b41b3"
      }
     },
     "768af1a0bf1e4c7495b5fb3e058af75d": {
      "model_module": "jupyter-js-widgets",
      "model_module_version": "~2.1.4",
      "model_name": "ButtonModel",
      "state": {
       "_model_module_version": "~2.1.4",
       "_view_module_version": "~2.1.4",
       "description": "Eliminar ciclos selecionados",
       "layout": "IPY_MODEL_09fa2a09dc5e4485ae2f6933b1967d45",
       "style": "IPY_MODEL_08e71be6b2f140a9ab73836de98ccc84"
      }
     },
     "76a794d859234de0a782d1ab78e17bc7": {
      "model_module": "jupyter-js-widgets",
      "model_module_version": "~2.1.4",
      "model_name": "LayoutModel",
      "state": {
       "_model_module_version": "~2.1.4",
       "_view_module_version": "~2.1.4"
      }
     },
     "76abcb6e42574730b463c56a47395670": {
      "model_module": "jupyter-js-widgets",
      "model_module_version": "~2.1.4",
      "model_name": "VBoxModel",
      "state": {
       "_model_module_version": "~2.1.4",
       "_view_module_version": "~2.1.4",
       "children": [
        "IPY_MODEL_cd615a551f864df8a510cf2ef9dc9dbc",
        "IPY_MODEL_4d97841be00c401aadfbe92ba054e3c8",
        "IPY_MODEL_65f17681bcce492ba6b236cf348878ab",
        "IPY_MODEL_4e6f4265f573460d83c6aaf6902047b3"
       ],
       "layout": "IPY_MODEL_a84a9959c228497aa854959c1cb57dee"
      }
     },
     "772f06a8f57d4c3ab0112ad4f058bf5c": {
      "model_module": "jupyter-js-widgets",
      "model_module_version": "~2.1.4",
      "model_name": "CheckboxModel",
      "state": {
       "_model_module_version": "~2.1.4",
       "_view_module_version": "~2.1.4",
       "description": "Cycle 22",
       "disabled": false,
       "layout": "IPY_MODEL_149d66f475494bbdbb969763e201640a",
       "value": true
      }
     },
     "779a3a6d69aa4cb09cd33027335f843d": {
      "model_module": "jupyter-js-widgets",
      "model_module_version": "~2.1.4",
      "model_name": "ButtonModel",
      "state": {
       "_model_module_version": "~2.1.4",
       "_view_module_version": "~2.1.4",
       "description": "Limpiar seleción de ciclos",
       "layout": "IPY_MODEL_ea6b478c71534214b0b5eb0674784b79",
       "style": "IPY_MODEL_54cf10f0384a4b3b90e83b25600871de"
      }
     },
     "77b9278364974c909778d3737c563196": {
      "model_module": "jupyter-js-widgets",
      "model_module_version": "~2.1.4",
      "model_name": "OutputModel",
      "state": {
       "_dom_classes": [],
       "_model_module": "jupyter-js-widgets",
       "_model_module_version": "~2.1.4",
       "_view_module": "jupyter-js-widgets",
       "_view_module_version": "~2.1.4",
       "layout": "IPY_MODEL_f9e81eb114da4765b16bafa0aae5bbbf",
       "msg_throttle": 1
      }
     },
     "77bb2566ec64484ab3f17a270412b674": {
      "model_module": "jupyter-js-widgets",
      "model_module_version": "~2.1.4",
      "model_name": "SelectMultipleModel",
      "state": {
       "_model_module_version": "~2.1.4",
       "_options_labels": [
        "Cycle  6",
        "Cycle  7",
        "Cycle  8",
        "Cycle  9",
        "Cycle 10",
        "Cycle 11",
        "Cycle 12",
        "Cycle 13",
        "Cycle 14",
        "Cycle 15",
        "Cycle 16",
        "Cycle 17",
        "Cycle 18",
        "Cycle 19",
        "Cycle 20",
        "Cycle 21",
        "Cycle 22",
        "Cycle 23",
        "Cycle 24"
       ],
       "_view_module_version": "~2.1.4",
       "layout": "IPY_MODEL_3e61037ea1364b55872638b8cefcba34",
       "value": [
        "Cycle  6",
        "Cycle  7",
        "Cycle  8",
        "Cycle 24"
       ]
      }
     },
     "77c40ac2e4374d2e9e0bc6f289b4ff78": {
      "model_module": "jupyter-js-widgets",
      "model_module_version": "~2.1.4",
      "model_name": "LabelModel",
      "state": {
       "_model_module_version": "~2.1.4",
       "_view_module_version": "~2.1.4",
       "layout": "IPY_MODEL_7c6dac0f5cef4548a403171402571a4e",
       "value": "Ciclos solares"
      }
     },
     "7844f10b463e46549ef7ec32a267ffae": {
      "model_module": "jupyter-js-widgets",
      "model_module_version": "~2.1.4",
      "model_name": "ButtonStyleModel",
      "state": {
       "_model_module_version": "~2.1.4",
       "_view_module_version": "~2.1.4"
      }
     },
     "785c7ed7469c4c8e95b9085f6ecb7d91": {
      "model_module": "jupyter-js-widgets",
      "model_module_version": "~2.1.4",
      "model_name": "ButtonModel",
      "state": {
       "_model_module_version": "~2.1.4",
       "_view_module_version": "~2.1.4",
       "description": "Limpiar seleción de ciclos",
       "layout": "IPY_MODEL_05f30eada99f482cbe764278c473f893",
       "style": "IPY_MODEL_aa7342c684e048fab5950de1a4b1b333"
      }
     },
     "7861e720d67647bfb6d0585c90793288": {
      "model_module": "jupyter-js-widgets",
      "model_module_version": "~2.1.4",
      "model_name": "LayoutModel",
      "state": {
       "_model_module_version": "~2.1.4",
       "_view_module_version": "~2.1.4",
       "margin": "5px 2px 0",
       "width": "300px"
      }
     },
     "7879812721c148f5aaecdc2a6baecc17": {
      "model_module": "jupyter-js-widgets",
      "model_module_version": "~2.1.4",
      "model_name": "VBoxModel",
      "state": {
       "_model_module_version": "~2.1.4",
       "_view_module_version": "~2.1.4",
       "children": [
        "IPY_MODEL_49a2a8d120a74cb29c70cbac8a83ea02",
        "IPY_MODEL_af624b52ef984b2cb6169f135f3f6fa5",
        "IPY_MODEL_06460a2b57104b9095fdc318562c7733"
       ],
       "layout": "IPY_MODEL_cdc23fcf2f544f2ca29cd8648843391e"
      }
     },
     "787d4e38b4eb40c3bb2f6e9e9598fd82": {
      "model_module": "jupyter-js-widgets",
      "model_module_version": "~2.1.4",
      "model_name": "LayoutModel",
      "state": {
       "_model_module_version": "~2.1.4",
       "_view_module_version": "~2.1.4"
      }
     },
     "789a4b38d94f46cda0f998ac8a2348b4": {
      "model_module": "jupyter-js-widgets",
      "model_module_version": "~2.1.4",
      "model_name": "LayoutModel",
      "state": {
       "_model_module_version": "~2.1.4",
       "_view_module_version": "~2.1.4"
      }
     },
     "78c59476cf8949fca3101ab58c1d043f": {
      "model_module": "jupyter-js-widgets",
      "model_module_version": "~2.1.4",
      "model_name": "LayoutModel",
      "state": {
       "_model_module_version": "~2.1.4",
       "_view_module_version": "~2.1.4",
       "margin": "5px 2px 0",
       "width": "300px"
      }
     },
     "78d530ff94394567808e572cd0eef632": {
      "model_module": "jupyter-js-widgets",
      "model_module_version": "~2.1.4",
      "model_name": "LayoutModel",
      "state": {
       "_model_module_version": "~2.1.4",
       "_view_module_version": "~2.1.4"
      }
     },
     "78e2737f2d9a4c8298178498d3434417": {
      "model_module": "jupyter-js-widgets",
      "model_module_version": "~2.1.4",
      "model_name": "ButtonModel",
      "state": {
       "_model_module_version": "~2.1.4",
       "_view_module_version": "~2.1.4",
       "description": "Eliminar ciclos selecionados",
       "layout": "IPY_MODEL_830272596f654354b72fa71060a916ad",
       "style": "IPY_MODEL_5733c7202c064e8c8c08ca94158f9a9c"
      }
     },
     "78e643c7ee7a441cade448cadbc27506": {
      "model_module": "jupyter-js-widgets",
      "model_module_version": "~2.1.4",
      "model_name": "OutputModel",
      "state": {
       "_dom_classes": [],
       "_model_module": "jupyter-js-widgets",
       "_model_module_version": "~2.1.4",
       "_view_module": "jupyter-js-widgets",
       "_view_module_version": "~2.1.4",
       "layout": "IPY_MODEL_3eb048a2ca9a48ac83a1acd5a2a6f279",
       "msg_throttle": 1
      }
     },
     "793fe96d7606424bbb66c4e70a46c2e8": {
      "model_module": "jupyter-js-widgets",
      "model_module_version": "~2.1.4",
      "model_name": "LayoutModel",
      "state": {
       "_model_module_version": "~2.1.4",
       "_view_module_version": "~2.1.4",
       "margin": "5px 2px 0",
       "width": "300px"
      }
     },
     "79d098af0a01436ab068ed2d489e83d8": {
      "model_module": "jupyter-js-widgets",
      "model_module_version": "~2.1.4",
      "model_name": "VBoxModel",
      "state": {
       "_model_module_version": "~2.1.4",
       "_view_module_version": "~2.1.4",
       "children": [
        "IPY_MODEL_ed579c6b18dd4fcdb402d251c0dfc508",
        "IPY_MODEL_58dadfb8cf0140e1a5d18309fda10e40",
        "IPY_MODEL_597464cae6654fd1a34daeeeade53ce0",
        "IPY_MODEL_227194316c604f0fa27c90cb3f98c03d",
        "IPY_MODEL_4f2bc368a15b4681830d365161d931e1"
       ],
       "layout": "IPY_MODEL_df6dd29389bd4209aa52e08a55d2ca9f"
      }
     },
     "7a5c65a3eb5f4d6b9d1d483fcceeab3c": {
      "model_module": "jupyter-js-widgets",
      "model_module_version": "~2.1.4",
      "model_name": "LayoutModel",
      "state": {
       "_model_module_version": "~2.1.4",
       "_view_module_version": "~2.1.4",
       "margin": "5px 2px 0",
       "width": "300px"
      }
     },
     "7b0851ba2305420f9695cb85b6f9d69b": {
      "model_module": "jupyter-js-widgets",
      "model_module_version": "~2.1.4",
      "model_name": "LayoutModel",
      "state": {
       "_model_module_version": "~2.1.4",
       "_view_module_version": "~2.1.4"
      }
     },
     "7b326dd8234e4726b4295d1b27211ae2": {
      "model_module": "jupyter-js-widgets",
      "model_module_version": "~2.1.4",
      "model_name": "OutputModel",
      "state": {
       "_dom_classes": [],
       "_model_module": "jupyter-js-widgets",
       "_model_module_version": "~2.1.4",
       "_view_module": "jupyter-js-widgets",
       "_view_module_version": "~2.1.4",
       "layout": "IPY_MODEL_2eedd38b140a4d5d84f049564be742d7",
       "msg_throttle": 1
      }
     },
     "7b3d20528e054b46a0b345b7c332487d": {
      "model_module": "jupyter-js-widgets",
      "model_module_version": "~2.1.4",
      "model_name": "LayoutModel",
      "state": {
       "_model_module_version": "~2.1.4",
       "_view_module_version": "~2.1.4",
       "width": "100%"
      }
     },
     "7b42f71bf4654b15bad807e0492027d8": {
      "model_module": "jupyter-js-widgets",
      "model_module_version": "~2.1.4",
      "model_name": "LayoutModel",
      "state": {
       "_model_module_version": "~2.1.4",
       "_view_module_version": "~2.1.4"
      }
     },
     "7b46d536d1c24fb5b95baa6612b85471": {
      "model_module": "jupyter-js-widgets",
      "model_module_version": "~2.1.4",
      "model_name": "CheckboxModel",
      "state": {
       "_model_module_version": "~2.1.4",
       "_view_module_version": "~2.1.4",
       "description": "Cycle 16",
       "disabled": false,
       "layout": "IPY_MODEL_43b361a8eb8d4cddb9e6f3af39bbf8c2",
       "value": true
      }
     },
     "7c239920f4d04d51883fb16f31e49dbb": {
      "model_module": "jupyter-js-widgets",
      "model_module_version": "~2.1.4",
      "model_name": "LabelModel",
      "state": {
       "_model_module_version": "~2.1.4",
       "_view_module_version": "~2.1.4",
       "layout": "IPY_MODEL_4aec5960d4b7402384878be23078f0b5",
       "value": "Mínimos (18)"
      }
     },
     "7c3f33d8f8094d9ca27280db3100415f": {
      "model_module": "jupyter-js-widgets",
      "model_module_version": "~2.1.4",
      "model_name": "SliderStyleModel",
      "state": {
       "_model_module_version": "~2.1.4",
       "_view_module_version": "~2.1.4"
      }
     },
     "7c67218f55e242e6a16dd7cc4aec9e2c": {
      "model_module": "jupyter-js-widgets",
      "model_module_version": "~2.1.4",
      "model_name": "LayoutModel",
      "state": {
       "_model_module_version": "~2.1.4",
       "_view_module_version": "~2.1.4"
      }
     },
     "7c6b6fa2c5f44dfea0bd87b10b0fbc3e": {
      "model_module": "jupyter-js-widgets",
      "model_module_version": "~2.1.4",
      "model_name": "LayoutModel",
      "state": {
       "_model_module_version": "~2.1.4",
       "_view_module_version": "~2.1.4"
      }
     },
     "7c6dac0f5cef4548a403171402571a4e": {
      "model_module": "jupyter-js-widgets",
      "model_module_version": "~2.1.4",
      "model_name": "LayoutModel",
      "state": {
       "_model_module_version": "~2.1.4",
       "_view_module_version": "~2.1.4",
       "width": "100%"
      }
     },
     "7ca4292de7594744987e277b097f44d7": {
      "model_module": "jupyter-js-widgets",
      "model_module_version": "~2.1.4",
      "model_name": "LayoutModel",
      "state": {
       "_model_module_version": "~2.1.4",
       "_view_module_version": "~2.1.4",
       "margin": "5px 2px 0",
       "width": "300px"
      }
     },
     "7cc54d8796e14e9b9dde046869e9190d": {
      "model_module": "jupyter-js-widgets",
      "model_module_version": "~2.1.4",
      "model_name": "LayoutModel",
      "state": {
       "_model_module_version": "~2.1.4",
       "_view_module_version": "~2.1.4",
       "margin": "5px 2px 0",
       "width": "300px"
      }
     },
     "7ce1a9cde39946b9a0704c3215a23518": {
      "model_module": "jupyter-js-widgets",
      "model_module_version": "~2.1.4",
      "model_name": "LayoutModel",
      "state": {
       "_model_module_version": "~2.1.4",
       "_view_module_version": "~2.1.4"
      }
     },
     "7d19fa1ec70a4182874ad508e9680461": {
      "model_module": "jupyter-js-widgets",
      "model_module_version": "~2.1.4",
      "model_name": "LayoutModel",
      "state": {
       "_model_module_version": "~2.1.4",
       "_view_module_version": "~2.1.4",
       "margin": "5px 2px 0",
       "width": "300px"
      }
     },
     "7d73d7da0b3c41218a61d0cc37b0750f": {
      "model_module": "jupyter-js-widgets",
      "model_module_version": "~2.1.4",
      "model_name": "LayoutModel",
      "state": {
       "_model_module_version": "~2.1.4",
       "_view_module_version": "~2.1.4"
      }
     },
     "7d7df729b20f4dbeab3b93e560489c3e": {
      "model_module": "jupyter-js-widgets",
      "model_module_version": "~2.1.4",
      "model_name": "LayoutModel",
      "state": {
       "_model_module_version": "~2.1.4",
       "_view_module_version": "~2.1.4",
       "margin": "5px 2px 0",
       "width": "300px"
      }
     },
     "7dbb73520b284898871c2c81fd639a88": {
      "model_module": "jupyter-js-widgets",
      "model_module_version": "~2.1.4",
      "model_name": "LayoutModel",
      "state": {
       "_model_module_version": "~2.1.4",
       "_view_module_version": "~2.1.4"
      }
     },
     "7dd4786da51449018442b7883980345e": {
      "model_module": "jupyter-js-widgets",
      "model_module_version": "~2.1.4",
      "model_name": "ButtonModel",
      "state": {
       "_model_module_version": "~2.1.4",
       "_view_module_version": "~2.1.4",
       "description": "Limpiar seleción de ciclos",
       "layout": "IPY_MODEL_04cf3c3ac92f4f539e4bff2f1ec8c932",
       "style": "IPY_MODEL_9a429dddfb584731bb9198410eb1986a"
      }
     },
     "7df3a7af306646448c3cd9400a196554": {
      "model_module": "jupyter-js-widgets",
      "model_module_version": "~2.1.4",
      "model_name": "ButtonModel",
      "state": {
       "_model_module_version": "~2.1.4",
       "_view_module_version": "~2.1.4",
       "description": "Eliminar ciclos selecionados",
       "layout": "IPY_MODEL_a53afc0fb4ee4be29de78d7104b4e721",
       "style": "IPY_MODEL_f546e769d2c54dcaad52241cdb673990"
      }
     },
     "7e047e93b59a4d2d893febd302262858": {
      "model_module": "jupyter-js-widgets",
      "model_module_version": "~2.1.4",
      "model_name": "LayoutModel",
      "state": {
       "_model_module_version": "~2.1.4",
       "_view_module_version": "~2.1.4",
       "width": "100%"
      }
     },
     "7f1002680f994868b00c647d9f6fffb8": {
      "model_module": "jupyter-js-widgets",
      "model_module_version": "~2.1.4",
      "model_name": "LayoutModel",
      "state": {
       "_model_module_version": "~2.1.4",
       "_view_module_version": "~2.1.4",
       "margin": "5px 2px 0",
       "width": "300px"
      }
     },
     "7f42f2defd2c42eba5b5a61345bd2d42": {
      "model_module": "jupyter-js-widgets",
      "model_module_version": "~2.1.4",
      "model_name": "LayoutModel",
      "state": {
       "_model_module_version": "~2.1.4",
       "_view_module_version": "~2.1.4",
       "width": "100%"
      }
     },
     "7f518e3800174635a62b8b1b87690cde": {
      "model_module": "jupyter-js-widgets",
      "model_module_version": "~2.1.4",
      "model_name": "LayoutModel",
      "state": {
       "_model_module_version": "~2.1.4",
       "_view_module_version": "~2.1.4"
      }
     },
     "7f6354a3fe814f18853a1186aa4a9a6d": {
      "model_module": "jupyter-js-widgets",
      "model_module_version": "~2.1.4",
      "model_name": "LabelModel",
      "state": {
       "_model_module_version": "~2.1.4",
       "_view_module_version": "~2.1.4",
       "layout": "IPY_MODEL_92f17ae0b7384a7d89bff682326bb1d8",
       "value": "Ciclos solares"
      }
     },
     "7f6ab45c8870424ea005ca1cf99451e0": {
      "model_module": "jupyter-js-widgets",
      "model_module_version": "~2.1.4",
      "model_name": "OutputModel",
      "state": {
       "_dom_classes": [],
       "_model_module": "jupyter-js-widgets",
       "_model_module_version": "~2.1.4",
       "_view_module": "jupyter-js-widgets",
       "_view_module_version": "~2.1.4",
       "layout": "IPY_MODEL_121508d70c5f4e43be465868fbdf8812",
       "msg_throttle": 1
      }
     },
     "7fc50dfbd8db44be99c086468d9e98da": {
      "model_module": "jupyter-js-widgets",
      "model_module_version": "~2.1.4",
      "model_name": "LabelModel",
      "state": {
       "_model_module_version": "~2.1.4",
       "_view_module_version": "~2.1.4",
       "layout": "IPY_MODEL_6cbe4c56a30c45b7988bdc881393adb0",
       "value": "Ciclos solares"
      }
     },
     "7fd94915b88d417db3f1fcc4d849bad5": {
      "model_module": "jupyter-js-widgets",
      "model_module_version": "~2.1.4",
      "model_name": "SelectMultipleModel",
      "state": {
       "_model_module_version": "~2.1.4",
       "_options_labels": [
        "Cycle  6",
        "Cycle  7",
        "Cycle  8",
        "Cycle  9",
        "Cycle 10",
        "Cycle 11",
        "Cycle 12",
        "Cycle 13",
        "Cycle 14",
        "Cycle 15",
        "Cycle 16",
        "Cycle 17",
        "Cycle 18",
        "Cycle 19",
        "Cycle 20",
        "Cycle 21",
        "Cycle 22",
        "Cycle 23",
        "Cycle 24"
       ],
       "_view_module_version": "~2.1.4",
       "layout": "IPY_MODEL_e15cf91158824907b5f0bf04804ca0e3",
       "value": [
        "Cycle  6",
        "Cycle  7",
        "Cycle  8",
        "Cycle 24"
       ]
      }
     },
     "7fe1946d80774e5db56c38244a9e26d4": {
      "model_module": "jupyter-js-widgets",
      "model_module_version": "~2.1.4",
      "model_name": "LabelModel",
      "state": {
       "_model_module_version": "~2.1.4",
       "_view_module_version": "~2.1.4",
       "layout": "IPY_MODEL_02048ac03e834811a7921356e0937922",
       "value": "Ciclos solares"
      }
     },
     "7ff12935f9f54c1a9f8757dc522ff252": {
      "model_module": "jupyter-js-widgets",
      "model_module_version": "~2.1.4",
      "model_name": "VBoxModel",
      "state": {
       "_model_module_version": "~2.1.4",
       "_view_module_version": "~2.1.4",
       "children": [
        "IPY_MODEL_e712e020e1a744188aa59ed3bcfefa7c",
        "IPY_MODEL_202e761d332e4f22828fd3f1bfaa5f60",
        "IPY_MODEL_d23c135abb3b4b0690ccf993fecc6d80",
        "IPY_MODEL_bbdfca5c6fed49028f6087250b8bc34d"
       ],
       "layout": "IPY_MODEL_3efb8596b7c24c22bc66ca860a0fa330"
      }
     },
     "8004f7a9af7241d49da357bc246014ae": {
      "model_module": "jupyter-js-widgets",
      "model_module_version": "~2.1.4",
      "model_name": "LayoutModel",
      "state": {
       "_model_module_version": "~2.1.4",
       "_view_module_version": "~2.1.4"
      }
     },
     "8012fed81d594ffa9a789f0eb1bb7551": {
      "model_module": "jupyter-js-widgets",
      "model_module_version": "~2.1.4",
      "model_name": "LayoutModel",
      "state": {
       "_model_module_version": "~2.1.4",
       "_view_module_version": "~2.1.4"
      }
     },
     "8033fd931e304488aae94c1627c1c1ce": {
      "model_module": "jupyter-js-widgets",
      "model_module_version": "~2.1.4",
      "model_name": "LayoutModel",
      "state": {
       "_model_module_version": "~2.1.4",
       "_view_module_version": "~2.1.4",
       "margin": "5px 2px 0",
       "width": "146px"
      }
     },
     "8034e1016fa1460f9f2ba7dcf0033b05": {
      "model_module": "jupyter-js-widgets",
      "model_module_version": "~2.1.4",
      "model_name": "ButtonModel",
      "state": {
       "_model_module_version": "~2.1.4",
       "_view_module_version": "~2.1.4",
       "description": "Eliminar ciclos selecionados",
       "layout": "IPY_MODEL_5493010ed70a4ac791ca7c214207c734",
       "style": "IPY_MODEL_5256d24542a646a7a2c1b3f96254e48b"
      }
     },
     "809bf767467646ae94c6bf3eb17792b9": {
      "model_module": "jupyter-js-widgets",
      "model_module_version": "~2.1.4",
      "model_name": "LayoutModel",
      "state": {
       "_model_module_version": "~2.1.4",
       "_view_module_version": "~2.1.4"
      }
     },
     "810d874957084d1fbaca5ea49476c8c4": {
      "model_module": "jupyter-js-widgets",
      "model_module_version": "~2.1.4",
      "model_name": "LayoutModel",
      "state": {
       "_model_module_version": "~2.1.4",
       "_view_module_version": "~2.1.4",
       "width": "100%"
      }
     },
     "81357ae9a94245dba2d2e6090fabc17a": {
      "model_module": "jupyter-js-widgets",
      "model_module_version": "~2.1.4",
      "model_name": "LayoutModel",
      "state": {
       "_model_module_version": "~2.1.4",
       "_view_module_version": "~2.1.4"
      }
     },
     "8184878bb5e549518ce9ace13b8a6149": {
      "model_module": "jupyter-js-widgets",
      "model_module_version": "~2.1.4",
      "model_name": "LayoutModel",
      "state": {
       "_model_module_version": "~2.1.4",
       "_view_module_version": "~2.1.4",
       "margin": "5px 2px 0",
       "width": "300px"
      }
     },
     "819981e29cdd43aead1b9c73ff10f0c5": {
      "model_module": "jupyter-js-widgets",
      "model_module_version": "~2.1.4",
      "model_name": "ButtonStyleModel",
      "state": {
       "_model_module_version": "~2.1.4",
       "_view_module_version": "~2.1.4"
      }
     },
     "81d13b05adcc4ef5b05be5a93938139e": {
      "model_module": "jupyter-js-widgets",
      "model_module_version": "~2.1.4",
      "model_name": "LabelModel",
      "state": {
       "_model_module_version": "~2.1.4",
       "_view_module_version": "~2.1.4",
       "layout": "IPY_MODEL_7b3d20528e054b46a0b345b7c332487d",
       "value": "Ciclos solares"
      }
     },
     "82095068d171405ea6a605726d3bd808": {
      "model_module": "jupyter-js-widgets",
      "model_module_version": "~2.1.4",
      "model_name": "VBoxModel",
      "state": {
       "_model_module_version": "~2.1.4",
       "_view_module_version": "~2.1.4",
       "children": [
        "IPY_MODEL_77c40ac2e4374d2e9e0bc6f289b4ff78",
        "IPY_MODEL_0a82220e80f3489ca57dbab04b071322",
        "IPY_MODEL_a93dcbe77e6e4687b5c5b996f7cb2d13",
        "IPY_MODEL_a55b53981df24eb5a7d36717f5e56db8",
        "IPY_MODEL_d368956e19be42748085e19ce0abb276"
       ],
       "layout": "IPY_MODEL_3e367024965148bcac7e5f18f1b21980"
      }
     },
     "821e22c3eba24001baa9c4c2381a4cc2": {
      "model_module": "jupyter-js-widgets",
      "model_module_version": "~2.1.4",
      "model_name": "VBoxModel",
      "state": {
       "_model_module_version": "~2.1.4",
       "_view_module_version": "~2.1.4",
       "children": [
        "IPY_MODEL_d04fb4d1bb46490094d3d8d2e1a9b4e5",
        "IPY_MODEL_9ea7b14cca284bd9b7cd6ccca7f9afb5",
        "IPY_MODEL_3218264599034c03aebffba76b906298",
        "IPY_MODEL_b6ea1e182b034e2596338e6c8976dc3f",
        "IPY_MODEL_01c911b4c85a43c09ad29b945ab518a7"
       ],
       "layout": "IPY_MODEL_eb667302e8b441dfafdfe69381c343ce"
      }
     },
     "8239bbc6039d49189bdd1c60e6c16de9": {
      "model_module": "jupyter-js-widgets",
      "model_module_version": "~2.1.4",
      "model_name": "LayoutModel",
      "state": {
       "_model_module_version": "~2.1.4",
       "_view_module_version": "~2.1.4"
      }
     },
     "826b830ba7994d3dbd460cc11e4f8b81": {
      "model_module": "jupyter-js-widgets",
      "model_module_version": "~2.1.4",
      "model_name": "LayoutModel",
      "state": {
       "_model_module_version": "~2.1.4",
       "_view_module_version": "~2.1.4"
      }
     },
     "82777f7b81954ae4b60f6d990829385c": {
      "model_module": "jupyter-js-widgets",
      "model_module_version": "~2.1.4",
      "model_name": "ButtonStyleModel",
      "state": {
       "_model_module_version": "~2.1.4",
       "_view_module_version": "~2.1.4"
      }
     },
     "829add32ceca4b1fb0b5fcd043e96f12": {
      "model_module": "jupyter-js-widgets",
      "model_module_version": "~2.1.4",
      "model_name": "ButtonModel",
      "state": {
       "_model_module_version": "~2.1.4",
       "_view_module_version": "~2.1.4",
       "description": "Limpiar seleción de ciclos",
       "layout": "IPY_MODEL_bdccece93739471885fd3ab8aff6e07e",
       "style": "IPY_MODEL_f71297c0913847778ba1b8b984c9a337"
      }
     },
     "82a63147f58d465ab01f53966d7b0ce1": {
      "model_module": "jupyter-js-widgets",
      "model_module_version": "~2.1.4",
      "model_name": "VBoxModel",
      "state": {
       "_model_module_version": "~2.1.4",
       "_view_module_version": "~2.1.4",
       "children": [
        "IPY_MODEL_2322870cba51471ba5a7223d3761a3dd",
        "IPY_MODEL_1579f956ff344d9a8793b3f448755599",
        "IPY_MODEL_865a5759ddba46a4b7b7ad8c3f1ff016",
        "IPY_MODEL_3ad9969db7634114bd72bd0d74d445ce",
        "IPY_MODEL_6c5bddd4cb9a4d3ebff5e3cc167cb011"
       ],
       "layout": "IPY_MODEL_875552a346e84e74891984c07712d7ff"
      }
     },
     "830272596f654354b72fa71060a916ad": {
      "model_module": "jupyter-js-widgets",
      "model_module_version": "~2.1.4",
      "model_name": "LayoutModel",
      "state": {
       "_model_module_version": "~2.1.4",
       "_view_module_version": "~2.1.4",
       "margin": "5px 2px 0",
       "width": "300px"
      }
     },
     "83066e2f8b0a44eeba57174d069b0faa": {
      "model_module": "jupyter-js-widgets",
      "model_module_version": "~2.1.4",
      "model_name": "ButtonStyleModel",
      "state": {
       "_model_module_version": "~2.1.4",
       "_view_module_version": "~2.1.4"
      }
     },
     "830c0783fb7640d8ba2342e3c7ed7345": {
      "model_module": "jupyter-js-widgets",
      "model_module_version": "~2.1.4",
      "model_name": "OutputModel",
      "state": {
       "_dom_classes": [],
       "_model_module": "jupyter-js-widgets",
       "_model_module_version": "~2.1.4",
       "_view_module": "jupyter-js-widgets",
       "_view_module_version": "~2.1.4",
       "layout": "IPY_MODEL_2716657447fd4ab09421fca58822db89",
       "msg_throttle": 1
      }
     },
     "831c51ff6f48468a8cdb6ae5a8089d55": {
      "model_module": "jupyter-js-widgets",
      "model_module_version": "~2.1.4",
      "model_name": "SelectMultipleModel",
      "state": {
       "_model_module_version": "~2.1.4",
       "_view_module_version": "~2.1.4",
       "layout": "IPY_MODEL_24503b5cd3aa47c0b17995ca84e84a2d",
       "value": []
      }
     },
     "835edfacd2b842f899c905c09947ec35": {
      "model_module": "jupyter-js-widgets",
      "model_module_version": "~2.1.4",
      "model_name": "ButtonStyleModel",
      "state": {
       "_model_module_version": "~2.1.4",
       "_view_module_version": "~2.1.4"
      }
     },
     "844aebc823ec4c5fa858597d2bde0461": {
      "model_module": "jupyter-js-widgets",
      "model_module_version": "~2.1.4",
      "model_name": "LayoutModel",
      "state": {
       "_model_module_version": "~2.1.4",
       "_view_module_version": "~2.1.4"
      }
     },
     "84aadb59889e43b3be0ef8a51c958b17": {
      "model_module": "jupyter-js-widgets",
      "model_module_version": "~2.1.4",
      "model_name": "VBoxModel",
      "state": {
       "_model_module_version": "~2.1.4",
       "_view_module_version": "~2.1.4",
       "children": [
        "IPY_MODEL_b5e2dbff23234995bc36d8f6eaeef50e",
        "IPY_MODEL_4eeeaa4006064f27919d37d1333343fc",
        "IPY_MODEL_0b76df552454480f9555224304807ede",
        "IPY_MODEL_5d340472341345898770ea7b20b419db"
       ],
       "layout": "IPY_MODEL_e83b01a1ae104480ba4a03d188225277"
      }
     },
     "84bb1b920a8841a88d739ff4b7b7f679": {
      "model_module": "jupyter-js-widgets",
      "model_module_version": "~2.1.4",
      "model_name": "ButtonModel",
      "state": {
       "_model_module_version": "~2.1.4",
       "_view_module_version": "~2.1.4",
       "description": "Eliminar ciclos selecionados",
       "layout": "IPY_MODEL_f5d8c11c38da478aa83baa36601859ba",
       "style": "IPY_MODEL_0fec40bde3774adf9e500be00d8805bc"
      }
     },
     "85206fecf2904baa90d05836f4518059": {
      "model_module": "jupyter-js-widgets",
      "model_module_version": "~2.1.4",
      "model_name": "LayoutModel",
      "state": {
       "_model_module_version": "~2.1.4",
       "_view_module_version": "~2.1.4"
      }
     },
     "85ea9bc2db5d4b2493d806f472b63aef": {
      "model_module": "jupyter-js-widgets",
      "model_module_version": "~2.1.4",
      "model_name": "LayoutModel",
      "state": {
       "_model_module_version": "~2.1.4",
       "_view_module_version": "~2.1.4"
      }
     },
     "86180b5071174760ac147cd52d649d38": {
      "model_module": "jupyter-js-widgets",
      "model_module_version": "~2.1.4",
      "model_name": "LayoutModel",
      "state": {
       "_model_module_version": "~2.1.4",
       "_view_module_version": "~2.1.4",
       "margin": "5px 2px 0",
       "width": "300px"
      }
     },
     "863c2c187d984392bc80fd763f4e1078": {
      "model_module": "jupyter-js-widgets",
      "model_module_version": "~2.1.4",
      "model_name": "ButtonStyleModel",
      "state": {
       "_model_module_version": "~2.1.4",
       "_view_module_version": "~2.1.4"
      }
     },
     "865a5759ddba46a4b7b7ad8c3f1ff016": {
      "model_module": "jupyter-js-widgets",
      "model_module_version": "~2.1.4",
      "model_name": "ButtonModel",
      "state": {
       "_model_module_version": "~2.1.4",
       "_view_module_version": "~2.1.4",
       "description": "Limpiar seleción de ciclos",
       "layout": "IPY_MODEL_99c8668278d64ebcbe8f2a796d493821",
       "style": "IPY_MODEL_8a1a95d983e54057a2fc4bc3a9a160d4"
      }
     },
     "866b2097aeae45ebb3e4cd0121afd338": {
      "model_module": "jupyter-js-widgets",
      "model_module_version": "~2.1.4",
      "model_name": "LayoutModel",
      "state": {
       "_model_module_version": "~2.1.4",
       "_view_module_version": "~2.1.4"
      }
     },
     "866bea700001412d828c6bc1a97bdf9f": {
      "model_module": "jupyter-js-widgets",
      "model_module_version": "~2.1.4",
      "model_name": "LayoutModel",
      "state": {
       "_model_module_version": "~2.1.4",
       "_view_module_version": "~2.1.4",
       "width": "100%"
      }
     },
     "86951fce4b844ab1896366502de86d05": {
      "model_module": "jupyter-js-widgets",
      "model_module_version": "~2.1.4",
      "model_name": "ButtonModel",
      "state": {
       "_model_module_version": "~2.1.4",
       "_view_module_version": "~2.1.4",
       "description": "Limpiar seleción de ciclos",
       "layout": "IPY_MODEL_da56ab79d3814a33a33b9bbb2704f56f",
       "style": "IPY_MODEL_c0ff19a729d44859a1fa92c9dee9d731"
      }
     },
     "86c3a648b3ea4e83b628dcbe1315fcf0": {
      "model_module": "jupyter-js-widgets",
      "model_module_version": "~2.1.4",
      "model_name": "SelectMultipleModel",
      "state": {
       "_model_module_version": "~2.1.4",
       "_options_labels": [
        "Cycle  6",
        "Cycle  7",
        "Cycle  8",
        "Cycle  9",
        "Cycle 10",
        "Cycle 11",
        "Cycle 12",
        "Cycle 13",
        "Cycle 14",
        "Cycle 15",
        "Cycle 16",
        "Cycle 17",
        "Cycle 18",
        "Cycle 19",
        "Cycle 20",
        "Cycle 21",
        "Cycle 22",
        "Cycle 23",
        "Cycle 24"
       ],
       "_view_module_version": "~2.1.4",
       "layout": "IPY_MODEL_08480b0ac36347c48111b52595493c74",
       "value": [
        "Cycle  6",
        "Cycle  7",
        "Cycle  8",
        "Cycle 24"
       ]
      }
     },
     "86d9237413cd4bd3ae3846f666539284": {
      "model_module": "jupyter-js-widgets",
      "model_module_version": "~2.1.4",
      "model_name": "LayoutModel",
      "state": {
       "_model_module_version": "~2.1.4",
       "_view_module_version": "~2.1.4",
       "flex_flow": ""
      }
     },
     "86f949a6d028457080410ee550171637": {
      "model_module": "jupyter-js-widgets",
      "model_module_version": "~2.1.4",
      "model_name": "LayoutModel",
      "state": {
       "_model_module_version": "~2.1.4",
       "_view_module_version": "~2.1.4"
      }
     },
     "86ff29bbcf67475c877820185ebeeefe": {
      "model_module": "jupyter-js-widgets",
      "model_module_version": "~2.1.4",
      "model_name": "ButtonModel",
      "state": {
       "_model_module_version": "~2.1.4",
       "_view_module_version": "~2.1.4",
       "description": "Eliminar ciclos selecionados",
       "layout": "IPY_MODEL_2316377fcd684af3b2d4bc64006647b8",
       "style": "IPY_MODEL_82777f7b81954ae4b60f6d990829385c"
      }
     },
     "870dab5e39d147a09c61faea3f5a0477": {
      "model_module": "jupyter-js-widgets",
      "model_module_version": "~2.1.4",
      "model_name": "LayoutModel",
      "state": {
       "_model_module_version": "~2.1.4",
       "_view_module_version": "~2.1.4"
      }
     },
     "8746030c91114001a48bc705f043e9b4": {
      "model_module": "jupyter-js-widgets",
      "model_module_version": "~2.1.4",
      "model_name": "VBoxModel",
      "state": {
       "_model_module_version": "~2.1.4",
       "_view_module_version": "~2.1.4",
       "children": [
        "IPY_MODEL_e0c51ab239334c92b64aed8588ccc2e2",
        "IPY_MODEL_397412f004334230a79075c04ef1b41f",
        "IPY_MODEL_53f0ea150e0a4cc1ac2eb006068941fc",
        "IPY_MODEL_ade514a7251346b883e3489e8f518abc",
        "IPY_MODEL_1c21e43d1ae8419298437a8d1a514f88"
       ],
       "layout": "IPY_MODEL_d6e483b61313420aa58085463068b1b0"
      }
     },
     "875552a346e84e74891984c07712d7ff": {
      "model_module": "jupyter-js-widgets",
      "model_module_version": "~2.1.4",
      "model_name": "LayoutModel",
      "state": {
       "_model_module_version": "~2.1.4",
       "_view_module_version": "~2.1.4"
      }
     },
     "87620d0eaead4b86939e17113cdf5257": {
      "model_module": "jupyter-js-widgets",
      "model_module_version": "~2.1.4",
      "model_name": "SelectMultipleModel",
      "state": {
       "_model_module_version": "~2.1.4",
       "_options_labels": [
        "Cycle  6",
        "Cycle  7",
        "Cycle  8",
        "Cycle  9",
        "Cycle 10",
        "Cycle 11",
        "Cycle 12",
        "Cycle 13",
        "Cycle 14",
        "Cycle 15",
        "Cycle 16",
        "Cycle 17",
        "Cycle 18",
        "Cycle 19",
        "Cycle 20",
        "Cycle 21",
        "Cycle 22",
        "Cycle 23",
        "Cycle 24"
       ],
       "_view_module_version": "~2.1.4",
       "layout": "IPY_MODEL_659e31a3004b4ea186a25d3bd3a09fa2",
       "value": [
        "Cycle  8"
       ]
      }
     },
     "87708b2d02f545d6ac63aa88ac5c512a": {
      "model_module": "jupyter-js-widgets",
      "model_module_version": "~2.1.4",
      "model_name": "OutputModel",
      "state": {
       "_dom_classes": [],
       "_model_module": "jupyter-js-widgets",
       "_model_module_version": "~2.1.4",
       "_view_module": "jupyter-js-widgets",
       "_view_module_version": "~2.1.4",
       "layout": "IPY_MODEL_e4a4385694df437cbde132809bff7aa1",
       "msg_throttle": 1
      }
     },
     "8789ec6891534fde89cb30ae88f1eaf5": {
      "model_module": "jupyter-js-widgets",
      "model_module_version": "~2.1.4",
      "model_name": "LayoutModel",
      "state": {
       "_model_module_version": "~2.1.4",
       "_view_module_version": "~2.1.4",
       "width": "100%"
      }
     },
     "87e59f56a74348cc91d3e93ccb59b7d1": {
      "model_module": "jupyter-js-widgets",
      "model_module_version": "~2.1.4",
      "model_name": "ButtonStyleModel",
      "state": {
       "_model_module_version": "~2.1.4",
       "_view_module_version": "~2.1.4"
      }
     },
     "87f3fe4b06ad485e871ebe9bbe241669": {
      "model_module": "jupyter-js-widgets",
      "model_module_version": "~2.1.4",
      "model_name": "ButtonStyleModel",
      "state": {
       "_model_module_version": "~2.1.4",
       "_view_module_version": "~2.1.4"
      }
     },
     "87f850899308442f9fb3241996bf5775": {
      "model_module": "jupyter-js-widgets",
      "model_module_version": "~2.1.4",
      "model_name": "LayoutModel",
      "state": {
       "_model_module_version": "~2.1.4",
       "_view_module_version": "~2.1.4",
       "width": "100%"
      }
     },
     "87f8d0a0889b4604848df0327c62a25a": {
      "model_module": "jupyter-js-widgets",
      "model_module_version": "~2.1.4",
      "model_name": "LayoutModel",
      "state": {
       "_model_module_version": "~2.1.4",
       "_view_module_version": "~2.1.4",
       "margin": "5px 2px 0",
       "width": "300px"
      }
     },
     "880793499be646a19cb39be0d5098799": {
      "model_module": "jupyter-js-widgets",
      "model_module_version": "~2.1.4",
      "model_name": "LayoutModel",
      "state": {
       "_model_module_version": "~2.1.4",
       "_view_module_version": "~2.1.4",
       "margin": "5px 2px 0",
       "width": "300px"
      }
     },
     "8814c632ed244f8cab70d3ed596ed1b0": {
      "model_module": "jupyter-js-widgets",
      "model_module_version": "~2.1.4",
      "model_name": "LayoutModel",
      "state": {
       "_model_module_version": "~2.1.4",
       "_view_module_version": "~2.1.4"
      }
     },
     "88285073e8db4734b6cf41c308b848ae": {
      "model_module": "jupyter-js-widgets",
      "model_module_version": "~2.1.4",
      "model_name": "LabelModel",
      "state": {
       "_model_module_version": "~2.1.4",
       "_view_module_version": "~2.1.4",
       "layout": "IPY_MODEL_d818fc7c2c354ef9b5e64638aa04d9ee",
       "value": "Ciclos solares"
      }
     },
     "892397780d374efa91e288f7557dc86d": {
      "model_module": "jupyter-js-widgets",
      "model_module_version": "~2.1.4",
      "model_name": "ButtonModel",
      "state": {
       "_model_module_version": "~2.1.4",
       "_view_module_version": "~2.1.4",
       "description": "Eliminar ciclos selecionados",
       "layout": "IPY_MODEL_41f460532b1844d88bef359d57a1a72a",
       "style": "IPY_MODEL_05318e63e08b42cd8bd67654d93caea6"
      }
     },
     "8939fbb396274a4cb9e9d20cddaf1933": {
      "model_module": "jupyter-js-widgets",
      "model_module_version": "~2.1.4",
      "model_name": "SelectMultipleModel",
      "state": {
       "_model_module_version": "~2.1.4",
       "_options_labels": [
        "Cycle  6",
        "Cycle  7",
        "Cycle  8",
        "Cycle  9",
        "Cycle 10",
        "Cycle 11",
        "Cycle 12",
        "Cycle 13",
        "Cycle 14",
        "Cycle 15",
        "Cycle 16",
        "Cycle 17",
        "Cycle 18",
        "Cycle 19",
        "Cycle 20",
        "Cycle 21",
        "Cycle 22",
        "Cycle 23",
        "Cycle 24"
       ],
       "_view_module_version": "~2.1.4",
       "layout": "IPY_MODEL_5593d2c35c2b42fca88baf388bfe97ec",
       "value": [
        "Cycle 24"
       ]
      }
     },
     "89444c82c70947f1b69732e4841aaaed": {
      "model_module": "jupyter-js-widgets",
      "model_module_version": "~2.1.4",
      "model_name": "VBoxModel",
      "state": {
       "_model_module_version": "~2.1.4",
       "_view_module_version": "~2.1.4",
       "children": [
        "IPY_MODEL_6115ad3e6467435e88c403581689f91e",
        "IPY_MODEL_0323dc11664940a1a631070ede40aa42",
        "IPY_MODEL_d704f75985a54992aac7135c9ebc96ba",
        "IPY_MODEL_f6ec2a9b13d04735879281c189d1e521",
        "IPY_MODEL_a5071e7174154948880d9d0b017035c2"
       ],
       "layout": "IPY_MODEL_9ad12864324246a4a5571558b417ff08"
      }
     },
     "896eb901cbe34e8592aa3931f2afbb5b": {
      "model_module": "jupyter-js-widgets",
      "model_module_version": "~2.1.4",
      "model_name": "VBoxModel",
      "state": {
       "_model_module_version": "~2.1.4",
       "_view_module_version": "~2.1.4",
       "children": [
        "IPY_MODEL_b2aca3d2eaea4be0bea8aecb0bb7f2f6",
        "IPY_MODEL_16cfbea45d6a477288c2296db31f4ac7",
        "IPY_MODEL_0d022ed77c3446bba436a0966bd0d5d3",
        "IPY_MODEL_f726c72219b141dbae7d33a8401f9714",
        "IPY_MODEL_ae2d3a181d504ac7bfb3a23ba1bfbbb8"
       ],
       "layout": "IPY_MODEL_2fcb9104079d43ebadf29d523aca1d8f"
      }
     },
     "897a941541154652a6ab52c43b003f0b": {
      "model_module": "jupyter-js-widgets",
      "model_module_version": "~2.1.4",
      "model_name": "LayoutModel",
      "state": {
       "_model_module_version": "~2.1.4",
       "_view_module_version": "~2.1.4"
      }
     },
     "89932753f1b24b4b9ab536e5846a2893": {
      "model_module": "jupyter-js-widgets",
      "model_module_version": "~2.1.4",
      "model_name": "ButtonModel",
      "state": {
       "_model_module_version": "~2.1.4",
       "_view_module_version": "~2.1.4",
       "description": "Limpiar seleción de ciclos",
       "layout": "IPY_MODEL_0d796f8cc41448868989e086e4f70b23",
       "style": "IPY_MODEL_5a3be8e2547b4b44bd2604c38fc115d6"
      }
     },
     "899fe7d331e64ed09f94266d706ccf65": {
      "model_module": "jupyter-js-widgets",
      "model_module_version": "~2.1.4",
      "model_name": "LabelModel",
      "state": {
       "_model_module_version": "~2.1.4",
       "_view_module_version": "~2.1.4",
       "layout": "IPY_MODEL_9d274399b8884c459e1383010356772d",
       "value": "Mínimos (18)"
      }
     },
     "89a3d131c9af4d218ef5ba95e96492ee": {
      "model_module": "jupyter-js-widgets",
      "model_module_version": "~2.1.4",
      "model_name": "LayoutModel",
      "state": {
       "_model_module_version": "~2.1.4",
       "_view_module_version": "~2.1.4"
      }
     },
     "89ba4be1cfd049f5865e6d7b4d7ffc6f": {
      "model_module": "jupyter-js-widgets",
      "model_module_version": "~2.1.4",
      "model_name": "LabelModel",
      "state": {
       "_model_module_version": "~2.1.4",
       "_view_module_version": "~2.1.4",
       "layout": "IPY_MODEL_d24ab47387d8432a9c683a302895b641",
       "value": "Ciclos solares"
      }
     },
     "89c10a45b85d45c9917d51e001067ae4": {
      "model_module": "jupyter-js-widgets",
      "model_module_version": "~2.1.4",
      "model_name": "OutputModel",
      "state": {
       "_dom_classes": [],
       "_model_module": "jupyter-js-widgets",
       "_model_module_version": "~2.1.4",
       "_view_module": "jupyter-js-widgets",
       "_view_module_version": "~2.1.4",
       "layout": "IPY_MODEL_6908a69dda7448a2add04a96ee8979c3",
       "msg_throttle": 1
      }
     },
     "89e69a044841488aab4778ec81b12bcd": {
      "model_module": "jupyter-js-widgets",
      "model_module_version": "~2.1.4",
      "model_name": "ButtonStyleModel",
      "state": {
       "_model_module_version": "~2.1.4",
       "_view_module_version": "~2.1.4"
      }
     },
     "8a1a95d983e54057a2fc4bc3a9a160d4": {
      "model_module": "jupyter-js-widgets",
      "model_module_version": "~2.1.4",
      "model_name": "ButtonStyleModel",
      "state": {
       "_model_module_version": "~2.1.4",
       "_view_module_version": "~2.1.4"
      }
     },
     "8a2e103995524aaaa23548a750ce312c": {
      "model_module": "jupyter-js-widgets",
      "model_module_version": "~2.1.4",
      "model_name": "LabelModel",
      "state": {
       "_model_module_version": "~2.1.4",
       "_view_module_version": "~2.1.4",
       "layout": "IPY_MODEL_97bb9ca796e34ef1bbfea88433b5fe4f",
       "value": "Ciclos solares"
      }
     },
     "8a57d8eaeec34c9894e9af254956cbb7": {
      "model_module": "jupyter-js-widgets",
      "model_module_version": "~2.1.4",
      "model_name": "ButtonStyleModel",
      "state": {
       "_model_module_version": "~2.1.4",
       "_view_module_version": "~2.1.4"
      }
     },
     "8aae8bf457694f7682e00298c5b97fb4": {
      "model_module": "jupyter-js-widgets",
      "model_module_version": "~2.1.4",
      "model_name": "LayoutModel",
      "state": {
       "_model_module_version": "~2.1.4",
       "_view_module_version": "~2.1.4",
       "width": "100%"
      }
     },
     "8b1a02b0c73747639adcbdf33efa8840": {
      "model_module": "jupyter-js-widgets",
      "model_module_version": "~2.1.4",
      "model_name": "ButtonStyleModel",
      "state": {
       "_model_module_version": "~2.1.4",
       "_view_module_version": "~2.1.4"
      }
     },
     "8b776ac35a004ed6ad221759f3b32245": {
      "model_module": "jupyter-js-widgets",
      "model_module_version": "~2.1.4",
      "model_name": "LayoutModel",
      "state": {
       "_model_module_version": "~2.1.4",
       "_view_module_version": "~2.1.4",
       "margin": "5px 2px 0",
       "width": "300px"
      }
     },
     "8bc88985fe5045be957ebd9f829106ed": {
      "model_module": "jupyter-js-widgets",
      "model_module_version": "~2.1.4",
      "model_name": "LayoutModel",
      "state": {
       "_model_module_version": "~2.1.4",
       "_view_module_version": "~2.1.4"
      }
     },
     "8becaa6f1b904087a443f630a9d23161": {
      "model_module": "jupyter-js-widgets",
      "model_module_version": "~2.1.4",
      "model_name": "LayoutModel",
      "state": {
       "_model_module_version": "~2.1.4",
       "_view_module_version": "~2.1.4"
      }
     },
     "8c6e21815393427383704bcb15e03d90": {
      "model_module": "jupyter-js-widgets",
      "model_module_version": "~2.1.4",
      "model_name": "OutputModel",
      "state": {
       "_dom_classes": [],
       "_model_module": "jupyter-js-widgets",
       "_model_module_version": "~2.1.4",
       "_view_module": "jupyter-js-widgets",
       "_view_module_version": "~2.1.4",
       "layout": "IPY_MODEL_12d67d638afa4c388da4cd3539c22b35",
       "msg_throttle": 1
      }
     },
     "8c6fb207a6c4426a8da4b0c21d30f5c5": {
      "model_module": "jupyter-js-widgets",
      "model_module_version": "~2.1.4",
      "model_name": "LayoutModel",
      "state": {
       "_model_module_version": "~2.1.4",
       "_view_module_version": "~2.1.4"
      }
     },
     "8c77cbcb426d459ea865acf82e90c5f3": {
      "model_module": "jupyter-js-widgets",
      "model_module_version": "~2.1.4",
      "model_name": "LayoutModel",
      "state": {
       "_model_module_version": "~2.1.4",
       "_view_module_version": "~2.1.4",
       "width": "100%"
      }
     },
     "8cb6838bc64947379a1d7fa0777271d8": {
      "model_module": "jupyter-js-widgets",
      "model_module_version": "~2.1.4",
      "model_name": "LayoutModel",
      "state": {
       "_model_module_version": "~2.1.4",
       "_view_module_version": "~2.1.4",
       "margin": "5px 2px 0",
       "width": "300px"
      }
     },
     "8cc3167e50a14491872e777473ed14b3": {
      "model_module": "jupyter-js-widgets",
      "model_module_version": "~2.1.4",
      "model_name": "ButtonStyleModel",
      "state": {
       "_model_module_version": "~2.1.4",
       "_view_module_version": "~2.1.4"
      }
     },
     "8d2030e418814b89a9bc08a7a471f6d8": {
      "model_module": "jupyter-js-widgets",
      "model_module_version": "~2.1.4",
      "model_name": "LayoutModel",
      "state": {
       "_model_module_version": "~2.1.4",
       "_view_module_version": "~2.1.4"
      }
     },
     "8d3e2e7752674ea3bf856abd34052b63": {
      "model_module": "jupyter-js-widgets",
      "model_module_version": "~2.1.4",
      "model_name": "ButtonModel",
      "state": {
       "_model_module_version": "~2.1.4",
       "_view_module_version": "~2.1.4",
       "description": "Limpiar seleción de ciclos",
       "layout": "IPY_MODEL_b64c2d9f4026444aa80f81dba458deaa",
       "style": "IPY_MODEL_ad632743b2de426490ab5f8cc95a3d50"
      }
     },
     "8d617638c7ec4b9da073a1acb598fa9c": {
      "model_module": "jupyter-js-widgets",
      "model_module_version": "~2.1.4",
      "model_name": "LayoutModel",
      "state": {
       "_model_module_version": "~2.1.4",
       "_view_module_version": "~2.1.4"
      }
     },
     "8d74f3ddc8e14c3e9cb00373769772fa": {
      "model_module": "jupyter-js-widgets",
      "model_module_version": "~2.1.4",
      "model_name": "ButtonStyleModel",
      "state": {
       "_model_module_version": "~2.1.4",
       "_view_module_version": "~2.1.4"
      }
     },
     "8dc626d314724781a68494c5fddd7c19": {
      "model_module": "jupyter-js-widgets",
      "model_module_version": "~2.1.4",
      "model_name": "LayoutModel",
      "state": {
       "_model_module_version": "~2.1.4",
       "_view_module_version": "~2.1.4",
       "margin": "5px 2px 0",
       "width": "300px"
      }
     },
     "8dc69f32a731408d8d30f30a4c171cad": {
      "model_module": "jupyter-js-widgets",
      "model_module_version": "~2.1.4",
      "model_name": "SelectMultipleModel",
      "state": {
       "_model_module_version": "~2.1.4",
       "_options_labels": [
        "01: 1823-05 (0.143)",
        "02: 1833-11 (12.182)",
        "03: 1843-07 (17.615)",
        "04: 1855-12 (5.997)",
        "05: 1867-03 (9.872)",
        "06: 1878-12 (3.750)",
        "07: 1890-03 (8.279)",
        "08: 1902-01 (4.474)",
        "09: 1913-07 (2.442)",
        "10: 1923-08 (9.362)",
        "11: 1933-09 (5.789)",
        "12: 1944-02 (12.883)",
        "13: 1954-04 (5.096)",
        "14: 1964-10 (14.237)",
        "15: 1976-03 (17.792)",
        "16: 1986-09 (13.520)",
        "17: 1996-05 (11.171)",
        "18: 2008-12 (2.248)"
       ],
       "_view_module_version": "~2.1.4",
       "layout": "IPY_MODEL_387deaf765f94e6bb3932d47306766e1",
       "value": []
      }
     },
     "8e25fb3b953e45a089c7ae60e3ff3047": {
      "model_module": "jupyter-js-widgets",
      "model_module_version": "~2.1.4",
      "model_name": "LabelModel",
      "state": {
       "_model_module_version": "~2.1.4",
       "_view_module_version": "~2.1.4",
       "layout": "IPY_MODEL_8f41bb181bd84279896605ca1c3c7417",
       "value": "Ciclos solares"
      }
     },
     "8e42943b911b4d7fb14c0b796c333408": {
      "model_module": "jupyter-js-widgets",
      "model_module_version": "~2.1.4",
      "model_name": "LayoutModel",
      "state": {
       "_model_module_version": "~2.1.4",
       "_view_module_version": "~2.1.4",
       "margin": "5px 2px 0",
       "width": "300px"
      }
     },
     "8e4c60f115ba42baad46ef5269566e65": {
      "model_module": "jupyter-js-widgets",
      "model_module_version": "~2.1.4",
      "model_name": "ButtonStyleModel",
      "state": {
       "_model_module_version": "~2.1.4",
       "_view_module_version": "~2.1.4"
      }
     },
     "8e513d95e6474188b593bf838b5608a0": {
      "model_module": "jupyter-js-widgets",
      "model_module_version": "~2.1.4",
      "model_name": "LabelModel",
      "state": {
       "_model_module_version": "~2.1.4",
       "_view_module_version": "~2.1.4",
       "layout": "IPY_MODEL_949091a86e4e4581b10d39ba3957a586",
       "value": "Ciclos solares"
      }
     },
     "8e58e346c5b04a8a85f54cae4fef5aeb": {
      "model_module": "jupyter-js-widgets",
      "model_module_version": "~2.1.4",
      "model_name": "LabelModel",
      "state": {
       "_model_module_version": "~2.1.4",
       "_view_module_version": "~2.1.4",
       "layout": "IPY_MODEL_fd94ce999a84419aad048ac6718a7c6f",
       "value": "Ciclos solares"
      }
     },
     "8ea452736d8148c493605aaf254c987c": {
      "model_module": "jupyter-js-widgets",
      "model_module_version": "~2.1.4",
      "model_name": "LayoutModel",
      "state": {
       "_model_module_version": "~2.1.4",
       "_view_module_version": "~2.1.4"
      }
     },
     "8ea9a91d0e1e41ad857e9587c8a646b2": {
      "model_module": "jupyter-js-widgets",
      "model_module_version": "~2.1.4",
      "model_name": "ButtonStyleModel",
      "state": {
       "_model_module_version": "~2.1.4",
       "_view_module_version": "~2.1.4"
      }
     },
     "8ef76b4bf99e48eca9a46c3b06c6b67c": {
      "model_module": "jupyter-js-widgets",
      "model_module_version": "~2.1.4",
      "model_name": "ButtonStyleModel",
      "state": {
       "_model_module_version": "~2.1.4",
       "_view_module_version": "~2.1.4"
      }
     },
     "8f41bb181bd84279896605ca1c3c7417": {
      "model_module": "jupyter-js-widgets",
      "model_module_version": "~2.1.4",
      "model_name": "LayoutModel",
      "state": {
       "_model_module_version": "~2.1.4",
       "_view_module_version": "~2.1.4",
       "width": "100%"
      }
     },
     "904ba5b23cdd4867a2f21f90f3c2ad86": {
      "model_module": "jupyter-js-widgets",
      "model_module_version": "~2.1.4",
      "model_name": "LabelModel",
      "state": {
       "_model_module_version": "~2.1.4",
       "_view_module_version": "~2.1.4",
       "layout": "IPY_MODEL_514eb5ba5d274374bc67ae67f7cdda28",
       "value": "Ciclos solares"
      }
     },
     "90871a84460743c0938249af7a8ca589": {
      "model_module": "jupyter-js-widgets",
      "model_module_version": "~2.1.4",
      "model_name": "LayoutModel",
      "state": {
       "_model_module_version": "~2.1.4",
       "_view_module_version": "~2.1.4"
      }
     },
     "908feb14a8af406f8b5cb1f29f1d9c34": {
      "model_module": "jupyter-js-widgets",
      "model_module_version": "~2.1.4",
      "model_name": "IntSliderModel",
      "state": {
       "_model_module_version": "~2.1.4",
       "_view_module_version": "~2.1.4",
       "layout": "IPY_MODEL_4c6e335ff6a04f74b9eeea58a2b5c266",
       "min": 1,
       "style": "IPY_MODEL_403caee548bb43c6baf43d85482a36d1",
       "value": 1
      }
     },
     "90a61582c90347daa6d31b5ab9dd55a6": {
      "model_module": "jupyter-js-widgets",
      "model_module_version": "~2.1.4",
      "model_name": "LayoutModel",
      "state": {
       "_model_module_version": "~2.1.4",
       "_view_module_version": "~2.1.4"
      }
     },
     "90c29e4936114586a0f52486e1b4ad5b": {
      "model_module": "jupyter-js-widgets",
      "model_module_version": "~2.1.4",
      "model_name": "VBoxModel",
      "state": {
       "_model_module_version": "~2.1.4",
       "_view_module_version": "~2.1.4",
       "children": [
        "IPY_MODEL_6c9f6f8595c641a0b255b81475ee5ec5",
        "IPY_MODEL_d80a799006a0460fa2953d77633666df",
        "IPY_MODEL_5489d3b023ab4328b7aacb00081482b5"
       ],
       "layout": "IPY_MODEL_7176288030c34ffe8e484038499f05e8"
      }
     },
     "90eb5075a407462aaccacec8c4c8d0f9": {
      "model_module": "jupyter-js-widgets",
      "model_module_version": "~2.1.4",
      "model_name": "ButtonStyleModel",
      "state": {
       "_model_module_version": "~2.1.4",
       "_view_module_version": "~2.1.4"
      }
     },
     "91c7786f23cb4dd5974a66d256379ba7": {
      "model_module": "jupyter-js-widgets",
      "model_module_version": "~2.1.4",
      "model_name": "LabelModel",
      "state": {
       "_model_module_version": "~2.1.4",
       "_view_module_version": "~2.1.4",
       "layout": "IPY_MODEL_e808f20b679c46319e51814eb7e6eaf0",
       "value": "Ciclos solares"
      }
     },
     "91fcbda5d45e41889b835f7ec42b5341": {
      "model_module": "jupyter-js-widgets",
      "model_module_version": "~2.1.4",
      "model_name": "LayoutModel",
      "state": {
       "_model_module_version": "~2.1.4",
       "_view_module_version": "~2.1.4"
      }
     },
     "924128a80bcd4787bcfe0d992ab6ddf6": {
      "model_module": "jupyter-js-widgets",
      "model_module_version": "~2.1.4",
      "model_name": "VBoxModel",
      "state": {
       "_model_module_version": "~2.1.4",
       "_view_module_version": "~2.1.4",
       "children": [
        "IPY_MODEL_50394ba39da34236b6d2ef9ab7a24268",
        "IPY_MODEL_483f90ffeaf74682a4345997f0640358",
        "IPY_MODEL_2cef4170dce84c6a9d23856a4f65d0ac",
        "IPY_MODEL_3381320d1eb74fb2b888fdeb0b12316d",
        "IPY_MODEL_89c10a45b85d45c9917d51e001067ae4"
       ],
       "layout": "IPY_MODEL_ba870341221e4d81bb6f73647827e188"
      }
     },
     "92517efe4d364e94a8649d06e7b7f610": {
      "model_module": "jupyter-js-widgets",
      "model_module_version": "~2.1.4",
      "model_name": "ButtonStyleModel",
      "state": {
       "_model_module_version": "~2.1.4",
       "_view_module_version": "~2.1.4"
      }
     },
     "92628d426cbd4cd49d2fc78bee2ff50c": {
      "model_module": "jupyter-js-widgets",
      "model_module_version": "~2.1.4",
      "model_name": "SelectMultipleModel",
      "state": {
       "_model_module_version": "~2.1.4",
       "_options_labels": [
        "Cycle  6",
        "Cycle  7",
        "Cycle  8",
        "Cycle  9",
        "Cycle 10",
        "Cycle 11",
        "Cycle 12",
        "Cycle 13",
        "Cycle 14",
        "Cycle 15",
        "Cycle 16",
        "Cycle 17",
        "Cycle 18",
        "Cycle 19",
        "Cycle 20",
        "Cycle 21",
        "Cycle 22",
        "Cycle 23",
        "Cycle 24"
       ],
       "_view_module_version": "~2.1.4",
       "layout": "IPY_MODEL_5fa8b191a37c4b34a5492274395b86f8",
       "value": [
        "Cycle  6",
        "Cycle  7",
        "Cycle  8",
        "Cycle 24"
       ]
      }
     },
     "92b4dadb10254458956944ad6f0b9459": {
      "model_module": "jupyter-js-widgets",
      "model_module_version": "~2.1.4",
      "model_name": "ButtonModel",
      "state": {
       "_model_module_version": "~2.1.4",
       "_view_module_version": "~2.1.4",
       "description": "Limpiar seleción de mínimos",
       "layout": "IPY_MODEL_c10b8e2630984ea293c0add6d784851f",
       "style": "IPY_MODEL_8ef76b4bf99e48eca9a46c3b06c6b67c"
      }
     },
     "92f17ae0b7384a7d89bff682326bb1d8": {
      "model_module": "jupyter-js-widgets",
      "model_module_version": "~2.1.4",
      "model_name": "LayoutModel",
      "state": {
       "_model_module_version": "~2.1.4",
       "_view_module_version": "~2.1.4",
       "width": "100%"
      }
     },
     "92fc863e845846e382751491f849adb7": {
      "model_module": "jupyter-js-widgets",
      "model_module_version": "~2.1.4",
      "model_name": "LayoutModel",
      "state": {
       "_model_module_version": "~2.1.4",
       "_view_module_version": "~2.1.4"
      }
     },
     "9386a4585f954ae0ad864131dbe2d750": {
      "model_module": "jupyter-js-widgets",
      "model_module_version": "~2.1.4",
      "model_name": "LayoutModel",
      "state": {
       "_model_module_version": "~2.1.4",
       "_view_module_version": "~2.1.4"
      }
     },
     "938eddad548349feadcd0c0aaa241fdd": {
      "model_module": "jupyter-js-widgets",
      "model_module_version": "~2.1.4",
      "model_name": "ButtonStyleModel",
      "state": {
       "_model_module_version": "~2.1.4",
       "_view_module_version": "~2.1.4"
      }
     },
     "940c822b38044d649adf052974a75e46": {
      "model_module": "jupyter-js-widgets",
      "model_module_version": "~2.1.4",
      "model_name": "LayoutModel",
      "state": {
       "_model_module_version": "~2.1.4",
       "_view_module_version": "~2.1.4"
      }
     },
     "944ce66dbed74c1ab0b868d8a478845c": {
      "model_module": "jupyter-js-widgets",
      "model_module_version": "~2.1.4",
      "model_name": "LabelModel",
      "state": {
       "_model_module_version": "~2.1.4",
       "_view_module_version": "~2.1.4",
       "layout": "IPY_MODEL_09e4e15500034b07a5a02cb247741baa",
       "value": "Ciclos solares"
      }
     },
     "94525d3caf86468fb9afb04e80698236": {
      "model_module": "jupyter-js-widgets",
      "model_module_version": "~2.1.4",
      "model_name": "LayoutModel",
      "state": {
       "_model_module_version": "~2.1.4",
       "_view_module_version": "~2.1.4",
       "margin": "5px 2px 0",
       "width": "300px"
      }
     },
     "945e7213ac6d44bd8055d1bb37123ad7": {
      "model_module": "jupyter-js-widgets",
      "model_module_version": "~2.1.4",
      "model_name": "LayoutModel",
      "state": {
       "_model_module_version": "~2.1.4",
       "_view_module_version": "~2.1.4",
       "margin": "5px 2px 0",
       "width": "300px"
      }
     },
     "945f924ef5bc4131a7fda675c03f8680": {
      "model_module": "jupyter-js-widgets",
      "model_module_version": "~2.1.4",
      "model_name": "ButtonStyleModel",
      "state": {
       "_model_module_version": "~2.1.4",
       "_view_module_version": "~2.1.4"
      }
     },
     "9460ec827832406db05cf848d241b38b": {
      "model_module": "jupyter-js-widgets",
      "model_module_version": "~2.1.4",
      "model_name": "LayoutModel",
      "state": {
       "_model_module_version": "~2.1.4",
       "_view_module_version": "~2.1.4",
       "width": "100%"
      }
     },
     "9462c1ab10ee403f8142551df54237ad": {
      "model_module": "jupyter-js-widgets",
      "model_module_version": "~2.1.4",
      "model_name": "LayoutModel",
      "state": {
       "_model_module_version": "~2.1.4",
       "_view_module_version": "~2.1.4"
      }
     },
     "949091a86e4e4581b10d39ba3957a586": {
      "model_module": "jupyter-js-widgets",
      "model_module_version": "~2.1.4",
      "model_name": "LayoutModel",
      "state": {
       "_model_module_version": "~2.1.4",
       "_view_module_version": "~2.1.4",
       "width": "100%"
      }
     },
     "94e8273b1fbf41e68a8e28d6c6c60aeb": {
      "model_module": "jupyter-js-widgets",
      "model_module_version": "~2.1.4",
      "model_name": "LayoutModel",
      "state": {
       "_model_module_version": "~2.1.4",
       "_view_module_version": "~2.1.4"
      }
     },
     "94ecc65c687543d6b0e136466962027b": {
      "model_module": "jupyter-js-widgets",
      "model_module_version": "~2.1.4",
      "model_name": "ButtonStyleModel",
      "state": {
       "_model_module_version": "~2.1.4",
       "_view_module_version": "~2.1.4"
      }
     },
     "9500d96e600943d786ff4acdcb24f8e0": {
      "model_module": "jupyter-js-widgets",
      "model_module_version": "~2.1.4",
      "model_name": "ButtonModel",
      "state": {
       "_model_module_version": "~2.1.4",
       "_view_module_version": "~2.1.4",
       "description": "Limpiar seleción de mínimos",
       "layout": "IPY_MODEL_7861e720d67647bfb6d0585c90793288",
       "style": "IPY_MODEL_d8527bff215d46a6ba2e31f508412e1f"
      }
     },
     "95138287d19741329cea305cebb3572b": {
      "model_module": "jupyter-js-widgets",
      "model_module_version": "~2.1.4",
      "model_name": "LayoutModel",
      "state": {
       "_model_module_version": "~2.1.4",
       "_view_module_version": "~2.1.4",
       "width": "100%"
      }
     },
     "9527c3fa9fb44ba9956f6a55375bd0a5": {
      "model_module": "jupyter-js-widgets",
      "model_module_version": "~2.1.4",
      "model_name": "LayoutModel",
      "state": {
       "_model_module_version": "~2.1.4",
       "_view_module_version": "~2.1.4"
      }
     },
     "953dfd3106e04004a42444495a555d92": {
      "model_module": "jupyter-js-widgets",
      "model_module_version": "~2.1.4",
      "model_name": "HBoxModel",
      "state": {
       "_model_module_version": "~2.1.4",
       "_view_module_version": "~2.1.4",
       "children": [
        "IPY_MODEL_e8f0f7e2f54d4efd925eb9d71025a550",
        "IPY_MODEL_53d969250081438dacab1ef99fe26206"
       ],
       "layout": "IPY_MODEL_624d62415bc0459fa53e2826b8bce153"
      }
     },
     "954b96c22a9e4d32b4115be7b5b4bfb2": {
      "model_module": "jupyter-js-widgets",
      "model_module_version": "~2.1.4",
      "model_name": "LayoutModel",
      "state": {
       "_model_module_version": "~2.1.4",
       "_view_module_version": "~2.1.4"
      }
     },
     "955e8097ab374fe796b30163515a2699": {
      "model_module": "jupyter-js-widgets",
      "model_module_version": "~2.1.4",
      "model_name": "LayoutModel",
      "state": {
       "_model_module_version": "~2.1.4",
       "_view_module_version": "~2.1.4"
      }
     },
     "95609229678946dcbca081d72bc77211": {
      "model_module": "jupyter-js-widgets",
      "model_module_version": "~2.1.4",
      "model_name": "VBoxModel",
      "state": {
       "_model_module_version": "~2.1.4",
       "_view_module_version": "~2.1.4",
       "children": [
        "IPY_MODEL_904ba5b23cdd4867a2f21f90f3c2ad86",
        "IPY_MODEL_d6a61ea4cf934d06a04402e71dff8ecc",
        "IPY_MODEL_c4ce14a678ab4fa9b71897662c81c2c7",
        "IPY_MODEL_d4c5edf03e7e482b99704681ad11a9d3",
        "IPY_MODEL_caafe160776e4995946258e67bd699d3"
       ],
       "layout": "IPY_MODEL_a893ed5c433442f6ab60fd7c3a7899ff"
      }
     },
     "95eee753baca420f94496cf0ed735f83": {
      "model_module": "jupyter-js-widgets",
      "model_module_version": "~2.1.4",
      "model_name": "LayoutModel",
      "state": {
       "_model_module_version": "~2.1.4",
       "_view_module_version": "~2.1.4"
      }
     },
     "961aa544092f4aecb81820da21e4d649": {
      "model_module": "jupyter-js-widgets",
      "model_module_version": "~2.1.4",
      "model_name": "LayoutModel",
      "state": {
       "_model_module_version": "~2.1.4",
       "_view_module_version": "~2.1.4",
       "margin": "5px 2px 0",
       "width": "300px"
      }
     },
     "96222d4ae0064888a0b07ba88cd50dc6": {
      "model_module": "jupyter-js-widgets",
      "model_module_version": "~2.1.4",
      "model_name": "LayoutModel",
      "state": {
       "_model_module_version": "~2.1.4",
       "_view_module_version": "~2.1.4",
       "margin": "5px 2px 0",
       "width": "300px"
      }
     },
     "964324028cb04ee79cd368c7d6b1c4f6": {
      "model_module": "jupyter-js-widgets",
      "model_module_version": "~2.1.4",
      "model_name": "VBoxModel",
      "state": {
       "_model_module_version": "~2.1.4",
       "_view_module_version": "~2.1.4",
       "children": [
        "IPY_MODEL_a6e65716642e4607a5d9013c69666a77",
        "IPY_MODEL_413f43f2789a4f6bae7920cabefcdf26",
        "IPY_MODEL_ab868cd06f26481cac5f5b57e773c1a0",
        "IPY_MODEL_98c7457312824d0f8802cd5635c83ec8",
        "IPY_MODEL_830c0783fb7640d8ba2342e3c7ed7345"
       ],
       "layout": "IPY_MODEL_383a6439dda6434cbb4d37e07187a5f0"
      }
     },
     "964c920d4f2e49ebb0d6a86eb512436e": {
      "model_module": "jupyter-js-widgets",
      "model_module_version": "~2.1.4",
      "model_name": "ButtonStyleModel",
      "state": {
       "_model_module_version": "~2.1.4",
       "_view_module_version": "~2.1.4"
      }
     },
     "965e5117730d466796b16fecd29794e9": {
      "model_module": "jupyter-js-widgets",
      "model_module_version": "~2.1.4",
      "model_name": "LabelModel",
      "state": {
       "_model_module_version": "~2.1.4",
       "_view_module_version": "~2.1.4",
       "layout": "IPY_MODEL_46f7cf42c54e41e683c3d2ea0c23e86b",
       "value": "Máximos"
      }
     },
     "977535dad2a04524b71d3a86dd6ab640": {
      "model_module": "jupyter-js-widgets",
      "model_module_version": "~2.1.4",
      "model_name": "OutputModel",
      "state": {
       "_dom_classes": [],
       "_model_module": "jupyter-js-widgets",
       "_model_module_version": "~2.1.4",
       "_view_module": "jupyter-js-widgets",
       "_view_module_version": "~2.1.4",
       "layout": "IPY_MODEL_1932b6d6d86747238a7da63962fad697",
       "msg_throttle": 1
      }
     },
     "97bb9ca796e34ef1bbfea88433b5fe4f": {
      "model_module": "jupyter-js-widgets",
      "model_module_version": "~2.1.4",
      "model_name": "LayoutModel",
      "state": {
       "_model_module_version": "~2.1.4",
       "_view_module_version": "~2.1.4",
       "width": "100%"
      }
     },
     "97c1ef879a004ac89e3ccaa64f528152": {
      "model_module": "jupyter-js-widgets",
      "model_module_version": "~2.1.4",
      "model_name": "LayoutModel",
      "state": {
       "_model_module_version": "~2.1.4",
       "_view_module_version": "~2.1.4"
      }
     },
     "9836211ac5cc402d968c0df4c0f9b667": {
      "model_module": "jupyter-js-widgets",
      "model_module_version": "~2.1.4",
      "model_name": "LabelModel",
      "state": {
       "_model_module_version": "~2.1.4",
       "_view_module_version": "~2.1.4",
       "layout": "IPY_MODEL_b37997b553e74302851fe9820cc92b32",
       "value": "Ciclos solares"
      }
     },
     "984a0bfe09d6487e8efbf7996d6eee62": {
      "model_module": "jupyter-js-widgets",
      "model_module_version": "~2.1.4",
      "model_name": "LayoutModel",
      "state": {
       "_model_module_version": "~2.1.4",
       "_view_module_version": "~2.1.4",
       "margin": "5px 2px 0",
       "width": "300px"
      }
     },
     "98566d8f04a74b9684351759fc07d4ef": {
      "model_module": "jupyter-js-widgets",
      "model_module_version": "~2.1.4",
      "model_name": "LayoutModel",
      "state": {
       "_model_module_version": "~2.1.4",
       "_view_module_version": "~2.1.4",
       "margin": "5px 2px 0",
       "width": "300px"
      }
     },
     "986d1c93a77648bd948fba6634b3e049": {
      "model_module": "jupyter-js-widgets",
      "model_module_version": "~2.1.4",
      "model_name": "LayoutModel",
      "state": {
       "_model_module_version": "~2.1.4",
       "_view_module_version": "~2.1.4"
      }
     },
     "98c7457312824d0f8802cd5635c83ec8": {
      "model_module": "jupyter-js-widgets",
      "model_module_version": "~2.1.4",
      "model_name": "ButtonModel",
      "state": {
       "_model_module_version": "~2.1.4",
       "_view_module_version": "~2.1.4",
       "description": "Eliminar ciclos selecionados",
       "layout": "IPY_MODEL_c555eeca56e14f07a5b2fbdb08faa4a7",
       "style": "IPY_MODEL_f30188caa480420e9e8af620b23f00b8"
      }
     },
     "98d7dd7a2b4b405caa4add874f24e173": {
      "model_module": "jupyter-js-widgets",
      "model_module_version": "~2.1.4",
      "model_name": "LayoutModel",
      "state": {
       "_model_module_version": "~2.1.4",
       "_view_module_version": "~2.1.4"
      }
     },
     "9900fae9970e41e3a30997a587fcf3e1": {
      "model_module": "jupyter-js-widgets",
      "model_module_version": "~2.1.4",
      "model_name": "LabelModel",
      "state": {
       "_model_module_version": "~2.1.4",
       "_view_module_version": "~2.1.4",
       "layout": "IPY_MODEL_1057280b8bf3492f872b4b4f70046b97",
       "value": "Ciclos solares"
      }
     },
     "99023061e6444444aa78a2ff955915f1": {
      "model_module": "jupyter-js-widgets",
      "model_module_version": "~2.1.4",
      "model_name": "VBoxModel",
      "state": {
       "_model_module_version": "~2.1.4",
       "_view_module_version": "~2.1.4",
       "children": [
        "IPY_MODEL_46172e7ad1fa400ea20f6fdfdb56277b",
        "IPY_MODEL_31124d1581cb458885f16859a8a3d130"
       ],
       "layout": "IPY_MODEL_954b96c22a9e4d32b4115be7b5b4bfb2"
      }
     },
     "9942903062fe46b38bee6e73200f8e35": {
      "model_module": "jupyter-js-widgets",
      "model_module_version": "~2.1.4",
      "model_name": "LayoutModel",
      "state": {
       "_model_module_version": "~2.1.4",
       "_view_module_version": "~2.1.4",
       "margin": "5px 2px 0",
       "width": "300px"
      }
     },
     "9974b25106c4485982dbc70af96e6334": {
      "model_module": "jupyter-js-widgets",
      "model_module_version": "~2.1.4",
      "model_name": "VBoxModel",
      "state": {
       "_model_module_version": "~2.1.4",
       "_view_module_version": "~2.1.4",
       "children": [
        "IPY_MODEL_81d13b05adcc4ef5b05be5a93938139e",
        "IPY_MODEL_ab7aa3d4c55a4c32b16d0b22a654111d",
        "IPY_MODEL_f2b23422d8c8460eb6d765aaadefa98b",
        "IPY_MODEL_86ff29bbcf67475c877820185ebeeefe",
        "IPY_MODEL_df5f564ab869445f83d541f5c5fb2c80"
       ],
       "layout": "IPY_MODEL_3020141c36d04b079edd7036f5f28dc6"
      }
     },
     "99c8668278d64ebcbe8f2a796d493821": {
      "model_module": "jupyter-js-widgets",
      "model_module_version": "~2.1.4",
      "model_name": "LayoutModel",
      "state": {
       "_model_module_version": "~2.1.4",
       "_view_module_version": "~2.1.4",
       "margin": "5px 2px 0",
       "width": "300px"
      }
     },
     "99ceaf17d48144edb744b0faae289e90": {
      "model_module": "jupyter-js-widgets",
      "model_module_version": "~2.1.4",
      "model_name": "LayoutModel",
      "state": {
       "_model_module_version": "~2.1.4",
       "_view_module_version": "~2.1.4"
      }
     },
     "99d61444465d4d36ad9125867f76796c": {
      "model_module": "jupyter-js-widgets",
      "model_module_version": "~2.1.4",
      "model_name": "LayoutModel",
      "state": {
       "_model_module_version": "~2.1.4",
       "_view_module_version": "~2.1.4"
      }
     },
     "9a429dddfb584731bb9198410eb1986a": {
      "model_module": "jupyter-js-widgets",
      "model_module_version": "~2.1.4",
      "model_name": "ButtonStyleModel",
      "state": {
       "_model_module_version": "~2.1.4",
       "_view_module_version": "~2.1.4"
      }
     },
     "9a4c2f5ee18e43cfa809e7030d6ef116": {
      "model_module": "jupyter-js-widgets",
      "model_module_version": "~2.1.4",
      "model_name": "LayoutModel",
      "state": {
       "_model_module_version": "~2.1.4",
       "_view_module_version": "~2.1.4"
      }
     },
     "9a87b85613004147bbfb63c49a34eada": {
      "model_module": "jupyter-js-widgets",
      "model_module_version": "~2.1.4",
      "model_name": "VBoxModel",
      "state": {
       "_model_module_version": "~2.1.4",
       "_view_module_version": "~2.1.4",
       "children": [
        "IPY_MODEL_9900fae9970e41e3a30997a587fcf3e1",
        "IPY_MODEL_1e4ec0ebfbc64c06aa63e5f8f152b556",
        "IPY_MODEL_fe853f85e46f4feba0f53066fa4783d2",
        "IPY_MODEL_514570cbf6bf4529970262cc477ad3b5",
        "IPY_MODEL_2a600d27a45e448a871a220f7851a231"
       ],
       "layout": "IPY_MODEL_7ce1a9cde39946b9a0704c3215a23518"
      }
     },
     "9ad12864324246a4a5571558b417ff08": {
      "model_module": "jupyter-js-widgets",
      "model_module_version": "~2.1.4",
      "model_name": "LayoutModel",
      "state": {
       "_model_module_version": "~2.1.4",
       "_view_module_version": "~2.1.4"
      }
     },
     "9b7c79e4d90641758729253e8f90589d": {
      "model_module": "jupyter-js-widgets",
      "model_module_version": "~2.1.4",
      "model_name": "HBoxModel",
      "state": {
       "_model_module_version": "~2.1.4",
       "_view_module_version": "~2.1.4",
       "children": [
        "IPY_MODEL_449304095a8a4a809480650345288388",
        "IPY_MODEL_b619e0868e5a435583364bf0bce0e615"
       ],
       "layout": "IPY_MODEL_0dbaf0d2909447aba3898e68369abf70"
      }
     },
     "9b81388e18e54c7c8623ade99e1e4051": {
      "model_module": "jupyter-js-widgets",
      "model_module_version": "~2.1.4",
      "model_name": "LayoutModel",
      "state": {
       "_model_module_version": "~2.1.4",
       "_view_module_version": "~2.1.4",
       "margin": "5px 2px 0",
       "width": "300px"
      }
     },
     "9b8dbabf48094bf48a19af04ac79285d": {
      "model_module": "jupyter-js-widgets",
      "model_module_version": "~2.1.4",
      "model_name": "ButtonStyleModel",
      "state": {
       "_model_module_version": "~2.1.4",
       "_view_module_version": "~2.1.4"
      }
     },
     "9bd06b89aef74a0586500ac1c3228e6b": {
      "model_module": "jupyter-js-widgets",
      "model_module_version": "~2.1.4",
      "model_name": "ButtonModel",
      "state": {
       "_model_module_version": "~2.1.4",
       "_view_module_version": "~2.1.4",
       "description": "Limpiar seleción de ciclos",
       "layout": "IPY_MODEL_945e7213ac6d44bd8055d1bb37123ad7",
       "style": "IPY_MODEL_938eddad548349feadcd0c0aaa241fdd"
      }
     },
     "9bf8b5208b814b28bccc285749b08ff4": {
      "model_module": "jupyter-js-widgets",
      "model_module_version": "~2.1.4",
      "model_name": "VBoxModel",
      "state": {
       "_model_module_version": "~2.1.4",
       "_view_module_version": "~2.1.4",
       "children": [
        "IPY_MODEL_da300e1ab1704a40baee5019eee1fc0f",
        "IPY_MODEL_a164b88e0d0b471ca4b273ad61142d35",
        "IPY_MODEL_2adb01dd562f433ab7207bb2249f9287",
        "IPY_MODEL_6dcfdadbbeee40278792d42c54b94b4b",
        "IPY_MODEL_313924da4c6f4b4ca617ea06833c5406"
       ],
       "layout": "IPY_MODEL_c6cc86b12af54dbfad21583440546a40"
      }
     },
     "9c28d049ca84452bbaf378329b9ac0f1": {
      "model_module": "jupyter-js-widgets",
      "model_module_version": "~2.1.4",
      "model_name": "LayoutModel",
      "state": {
       "_model_module_version": "~2.1.4",
       "_view_module_version": "~2.1.4"
      }
     },
     "9c737b2f6d10429f84bd6e847712bdd5": {
      "model_module": "jupyter-js-widgets",
      "model_module_version": "~2.1.4",
      "model_name": "ButtonModel",
      "state": {
       "_model_module_version": "~2.1.4",
       "_view_module_version": "~2.1.4",
       "description": "Limpiar seleción de ciclos",
       "layout": "IPY_MODEL_2c4e4d1ef6de4e2a86515799cbc34e11",
       "style": "IPY_MODEL_50ecbc7b4f5742cfa4a21cae56ee02b3"
      }
     },
     "9c7b85f9b63641789c709505d70a79e5": {
      "model_module": "jupyter-js-widgets",
      "model_module_version": "~2.1.4",
      "model_name": "LabelModel",
      "state": {
       "_model_module_version": "~2.1.4",
       "_view_module_version": "~2.1.4",
       "layout": "IPY_MODEL_f868b9f813054fdb996f190c63cb025f",
       "value": "Ciclos solares"
      }
     },
     "9cd9e8aff2b3418d96de03633ff1dffd": {
      "model_module": "jupyter-js-widgets",
      "model_module_version": "~2.1.4",
      "model_name": "ButtonStyleModel",
      "state": {
       "_model_module_version": "~2.1.4",
       "_view_module_version": "~2.1.4"
      }
     },
     "9d24dd770a2a4d58a4d1ded585cd21aa": {
      "model_module": "jupyter-js-widgets",
      "model_module_version": "~2.1.4",
      "model_name": "SelectMultipleModel",
      "state": {
       "_model_module_version": "~2.1.4",
       "_options_labels": [
        "Cycle  6",
        "Cycle  7",
        "Cycle  8",
        "Cycle  9",
        "Cycle 10",
        "Cycle 11",
        "Cycle 12",
        "Cycle 13",
        "Cycle 14",
        "Cycle 15",
        "Cycle 16",
        "Cycle 17",
        "Cycle 18",
        "Cycle 19",
        "Cycle 20",
        "Cycle 21",
        "Cycle 22",
        "Cycle 23",
        "Cycle 24"
       ],
       "_view_module_version": "~2.1.4",
       "layout": "IPY_MODEL_dde88e2293194cc4b6babdbd1980aa39",
       "value": [
        "Cycle  6",
        "Cycle  7",
        "Cycle  8",
        "Cycle  9",
        "Cycle 10",
        "Cycle 11",
        "Cycle 12",
        "Cycle 24"
       ]
      }
     },
     "9d274399b8884c459e1383010356772d": {
      "model_module": "jupyter-js-widgets",
      "model_module_version": "~2.1.4",
      "model_name": "LayoutModel",
      "state": {
       "_model_module_version": "~2.1.4",
       "_view_module_version": "~2.1.4",
       "width": "100%"
      }
     },
     "9d42ae3405a24cc0be40830daed8eaa2": {
      "model_module": "jupyter-js-widgets",
      "model_module_version": "~2.1.4",
      "model_name": "FloatSliderModel",
      "state": {
       "_model_module_version": "~2.1.4",
       "_view_module_version": "~2.1.4",
       "description": "slope",
       "layout": "IPY_MODEL_0811351d4b22420fb8c31d6f14d8aa00",
       "max": 1,
       "step": 0.01,
       "value": 0.5
      }
     },
     "9dab76a55ac843259be82b8c894f87ca": {
      "model_module": "jupyter-js-widgets",
      "model_module_version": "~2.1.4",
      "model_name": "SelectMultipleModel",
      "state": {
       "_model_module_version": "~2.1.4",
       "_options_labels": [
        "Cycle  6",
        "Cycle  7",
        "Cycle  8",
        "Cycle  9",
        "Cycle 10",
        "Cycle 11",
        "Cycle 12",
        "Cycle 13",
        "Cycle 14",
        "Cycle 15",
        "Cycle 16",
        "Cycle 17",
        "Cycle 18",
        "Cycle 19",
        "Cycle 20",
        "Cycle 21",
        "Cycle 22",
        "Cycle 23",
        "Cycle 24"
       ],
       "_view_module_version": "~2.1.4",
       "layout": "IPY_MODEL_2a0c61a1afa5490cb972bc12e7f9cf1a",
       "value": [
        "Cycle  9"
       ]
      }
     },
     "9dd59889da2248ecafa1d5f84fa8ffed": {
      "model_module": "jupyter-js-widgets",
      "model_module_version": "~2.1.4",
      "model_name": "VBoxModel",
      "state": {
       "_model_module_version": "~2.1.4",
       "_view_module_version": "~2.1.4",
       "children": [
        "IPY_MODEL_75cc29baa0e74ff9bbd3d1994cec11e4",
        "IPY_MODEL_92628d426cbd4cd49d2fc78bee2ff50c",
        "IPY_MODEL_d3e18d1f15e74de8b40ddf69f9d6814b",
        "IPY_MODEL_c8db2e84314146bea4817e591b39eab5",
        "IPY_MODEL_604afa65135448a4ac14414633490c74"
       ],
       "layout": "IPY_MODEL_9527c3fa9fb44ba9956f6a55375bd0a5"
      }
     },
     "9e7000cc44c4496ca17dda52b03bcda7": {
      "model_module": "jupyter-js-widgets",
      "model_module_version": "~2.1.4",
      "model_name": "LayoutModel",
      "state": {
       "_model_module_version": "~2.1.4",
       "_view_module_version": "~2.1.4"
      }
     },
     "9e9d940b9e2c4132805899ed855a3d69": {
      "model_module": "jupyter-js-widgets",
      "model_module_version": "~2.1.4",
      "model_name": "LabelModel",
      "state": {
       "_model_module_version": "~2.1.4",
       "_view_module_version": "~2.1.4",
       "layout": "IPY_MODEL_580076c7b4db4736a55d196c4a7449f4",
       "value": "Ciclos solares"
      }
     },
     "9ea7404cd6f34d6db7d6c292ba9fc596": {
      "model_module": "jupyter-js-widgets",
      "model_module_version": "~2.1.4",
      "model_name": "LayoutModel",
      "state": {
       "_model_module_version": "~2.1.4",
       "_view_module_version": "~2.1.4",
       "width": "100%"
      }
     },
     "9ea7b14cca284bd9b7cd6ccca7f9afb5": {
      "model_module": "jupyter-js-widgets",
      "model_module_version": "~2.1.4",
      "model_name": "SelectMultipleModel",
      "state": {
       "_model_module_version": "~2.1.4",
       "_options_labels": [
        "Cycle  6",
        "Cycle  7",
        "Cycle  8",
        "Cycle  9",
        "Cycle 10",
        "Cycle 11",
        "Cycle 12",
        "Cycle 13",
        "Cycle 14",
        "Cycle 15",
        "Cycle 16",
        "Cycle 17",
        "Cycle 18",
        "Cycle 19",
        "Cycle 20",
        "Cycle 21",
        "Cycle 22",
        "Cycle 23",
        "Cycle 24"
       ],
       "_view_module_version": "~2.1.4",
       "layout": "IPY_MODEL_35a1dedd8a1e4591a32aff1c4b63d95a",
       "value": [
        "Cycle  6",
        "Cycle  7",
        "Cycle  8",
        "Cycle 24"
       ]
      }
     },
     "9f0ebb2b5b7f4a0aa503ef5091306ad4": {
      "model_module": "jupyter-js-widgets",
      "model_module_version": "~2.1.4",
      "model_name": "LayoutModel",
      "state": {
       "_model_module_version": "~2.1.4",
       "_view_module_version": "~2.1.4"
      }
     },
     "9f13267f99914ab0b0c9605540bc96e2": {
      "model_module": "jupyter-js-widgets",
      "model_module_version": "~2.1.4",
      "model_name": "LayoutModel",
      "state": {
       "_model_module_version": "~2.1.4",
       "_view_module_version": "~2.1.4"
      }
     },
     "9f36f27ee1fd40daba2eaa39bed89fca": {
      "model_module": "jupyter-js-widgets",
      "model_module_version": "~2.1.4",
      "model_name": "VBoxModel",
      "state": {
       "_model_module_version": "~2.1.4",
       "_view_module_version": "~2.1.4",
       "children": [
        "IPY_MODEL_6c9c96ce5aa141be9d15893a330f589d",
        "IPY_MODEL_d1111e9849a34a9cb50180b090f5a596",
        "IPY_MODEL_6d49d6b2586740e2ad5800e13e9133eb",
        "IPY_MODEL_be4cdf6075fa48cfad5edf069d595e1d",
        "IPY_MODEL_c6c55ddf6ccb438c830bad080bbd72a2"
       ],
       "layout": "IPY_MODEL_d429ed161a054c8cb8988c87e5694972"
      }
     },
     "9f44ccdd802a4bf488ec0e099702b999": {
      "model_module": "jupyter-js-widgets",
      "model_module_version": "~2.1.4",
      "model_name": "LayoutModel",
      "state": {
       "_model_module_version": "~2.1.4",
       "_view_module_version": "~2.1.4",
       "width": "100%"
      }
     },
     "9f610d6898764343b1877131839b16d3": {
      "model_module": "jupyter-js-widgets",
      "model_module_version": "~2.1.4",
      "model_name": "ButtonStyleModel",
      "state": {
       "_model_module_version": "~2.1.4",
       "_view_module_version": "~2.1.4"
      }
     },
     "9f654a97320a481b8ebc814439686f8b": {
      "model_module": "jupyter-js-widgets",
      "model_module_version": "~2.1.4",
      "model_name": "SliderStyleModel",
      "state": {
       "_model_module_version": "~2.1.4",
       "_view_module_version": "~2.1.4"
      }
     },
     "9f69e32ed34849ed8b98bc29e0f09bf2": {
      "model_module": "jupyter-js-widgets",
      "model_module_version": "~2.1.4",
      "model_name": "LabelModel",
      "state": {
       "_model_module_version": "~2.1.4",
       "_view_module_version": "~2.1.4",
       "layout": "IPY_MODEL_4a1cb81480074670bbe44dc38e5732c1",
       "value": "Máximos"
      }
     },
     "9f8562498cd041418d6726dacf839dbb": {
      "model_module": "jupyter-js-widgets",
      "model_module_version": "~2.1.4",
      "model_name": "LayoutModel",
      "state": {
       "_model_module_version": "~2.1.4",
       "_view_module_version": "~2.1.4",
       "width": "100%"
      }
     },
     "9f99c9ec17fa4fc9a91624b537326bb9": {
      "model_module": "jupyter-js-widgets",
      "model_module_version": "~2.1.4",
      "model_name": "VBoxModel",
      "state": {
       "_model_module_version": "~2.1.4",
       "_view_module_version": "~2.1.4",
       "children": [
        "IPY_MODEL_737c7d31bf8c40eb85a90dd71fe8564a",
        "IPY_MODEL_fa4f904667124fb0ae15e4028f07ad0b",
        "IPY_MODEL_0191aab326164589b62c97d9a5b761a7",
        "IPY_MODEL_1216f060c2b9407482049d0f5d3e6bed",
        "IPY_MODEL_d2fc3c23a1b848e3a95c2fd7061c8b11"
       ],
       "layout": "IPY_MODEL_7c6b6fa2c5f44dfea0bd87b10b0fbc3e"
      }
     },
     "9ff7eaba6e424ac59dd75c5a2715bb8c": {
      "model_module": "jupyter-js-widgets",
      "model_module_version": "~2.1.4",
      "model_name": "ButtonModel",
      "state": {
       "_model_module_version": "~2.1.4",
       "_view_module_version": "~2.1.4",
       "description": "Eliminar ciclos selecionados",
       "layout": "IPY_MODEL_3fd3fc26e9754d0682663c4302a11566",
       "style": "IPY_MODEL_57c2b3960d4b467694d27015f375c059"
      }
     },
     "a0409ce8e8334875993502c3a2ec59c7": {
      "model_module": "jupyter-js-widgets",
      "model_module_version": "~2.1.4",
      "model_name": "SelectMultipleModel",
      "state": {
       "_model_module_version": "~2.1.4",
       "_options_labels": [
        "01: 1829-11 (119.247)",
        "02: 1837-03 (244.868)",
        "03: 1848-02 (219.938)",
        "04: 1860-02 (186.154)",
        "05: 1870-08 (234.021)",
        "06: 1883-12 (124.408)",
        "07: 1894-01 (146.535)",
        "08: 1906-02 (107.068)",
        "09: 1917-08 (175.675)",
        "10: 1928-04 (130.228)",
        "11: 1937-04 (198.636)",
        "12: 1947-05 (218.737)",
        "13: 1958-03 (284.998)",
        "14: 1968-11 (156.632)",
        "15: 1979-12 (232.912)",
        "16: 1989-11 (212.480)",
        "17: 2001-11 (180.273)",
        "18: 2014-04 (116.407)"
       ],
       "_view_module_version": "~2.1.4",
       "layout": "IPY_MODEL_d005f44582a543a1983333e92413cff5",
       "value": []
      }
     },
     "a04f6945853842a3b85b747e7de398ea": {
      "model_module": "jupyter-js-widgets",
      "model_module_version": "~2.1.4",
      "model_name": "ButtonStyleModel",
      "state": {
       "_model_module_version": "~2.1.4",
       "_view_module_version": "~2.1.4"
      }
     },
     "a05f405238744d9bae5155c930aef928": {
      "model_module": "jupyter-js-widgets",
      "model_module_version": "~2.1.4",
      "model_name": "ButtonModel",
      "state": {
       "_model_module_version": "~2.1.4",
       "_view_module_version": "~2.1.4",
       "description": "Limpiar seleción de máximos",
       "layout": "IPY_MODEL_051aefdd9415425084e579dd0dd7dcc6",
       "style": "IPY_MODEL_dd6dc1d4cad54b3db7c6b6b1d5ee694e"
      }
     },
     "a074e641a8234206b226a3eabd9c8832": {
      "model_module": "jupyter-js-widgets",
      "model_module_version": "~2.1.4",
      "model_name": "ButtonStyleModel",
      "state": {
       "_model_module_version": "~2.1.4",
       "_view_module_version": "~2.1.4"
      }
     },
     "a09f97e23eba4f21b0561a6b79c6d31c": {
      "model_module": "jupyter-js-widgets",
      "model_module_version": "~2.1.4",
      "model_name": "ButtonStyleModel",
      "state": {
       "_model_module_version": "~2.1.4",
       "_view_module_version": "~2.1.4"
      }
     },
     "a0daa49223ac4b2c8abe2a70e1eb6559": {
      "model_module": "jupyter-js-widgets",
      "model_module_version": "~2.1.4",
      "model_name": "ButtonStyleModel",
      "state": {
       "_model_module_version": "~2.1.4",
       "_view_module_version": "~2.1.4"
      }
     },
     "a0fc3acdfb17426b832378013cddee86": {
      "model_module": "jupyter-js-widgets",
      "model_module_version": "~2.1.4",
      "model_name": "SelectMultipleModel",
      "state": {
       "_model_module_version": "~2.1.4",
       "_options_labels": [
        "Cycle  6",
        "Cycle  7",
        "Cycle  8",
        "Cycle  9",
        "Cycle 10",
        "Cycle 11",
        "Cycle 12",
        "Cycle 13",
        "Cycle 14",
        "Cycle 15",
        "Cycle 16",
        "Cycle 17",
        "Cycle 18",
        "Cycle 19",
        "Cycle 20",
        "Cycle 21",
        "Cycle 22",
        "Cycle 23",
        "Cycle 24"
       ],
       "_view_module_version": "~2.1.4",
       "layout": "IPY_MODEL_dce6ec1c0f8e44638aa010ad1ab3f717",
       "value": [
        "Cycle  6",
        "Cycle  7",
        "Cycle  8",
        "Cycle 24"
       ]
      }
     },
     "a154aae3ad874c39ad5acd57d651f408": {
      "model_module": "jupyter-js-widgets",
      "model_module_version": "~2.1.4",
      "model_name": "OutputModel",
      "state": {
       "_dom_classes": [],
       "_model_module": "jupyter-js-widgets",
       "_model_module_version": "~2.1.4",
       "_view_module": "jupyter-js-widgets",
       "_view_module_version": "~2.1.4",
       "layout": "IPY_MODEL_5922507e0fcf4aceac3ad5168565a20f",
       "msg_throttle": 1
      }
     },
     "a161f8922e8b4fb7add5abf3f98585c6": {
      "model_module": "jupyter-js-widgets",
      "model_module_version": "~2.1.4",
      "model_name": "VBoxModel",
      "state": {
       "_model_module_version": "~2.1.4",
       "_view_module_version": "~2.1.4",
       "children": [
        "IPY_MODEL_664693558a3443dab7d56d2b36ef806d",
        "IPY_MODEL_ac94d33519c749188720a5064335b0dd",
        "IPY_MODEL_3ac46b1759b44f6e9dc2545e25846bb7"
       ],
       "layout": "IPY_MODEL_30907b7aa7104788b97962dcac1795b1"
      }
     },
     "a164b88e0d0b471ca4b273ad61142d35": {
      "model_module": "jupyter-js-widgets",
      "model_module_version": "~2.1.4",
      "model_name": "SelectMultipleModel",
      "state": {
       "_model_module_version": "~2.1.4",
       "_options_labels": [
        "Cycle  6",
        "Cycle  7",
        "Cycle  8",
        "Cycle  9",
        "Cycle 10",
        "Cycle 11",
        "Cycle 12",
        "Cycle 13",
        "Cycle 14",
        "Cycle 15",
        "Cycle 16",
        "Cycle 17",
        "Cycle 18",
        "Cycle 19",
        "Cycle 20",
        "Cycle 21",
        "Cycle 22",
        "Cycle 23",
        "Cycle 24"
       ],
       "_view_module_version": "~2.1.4",
       "layout": "IPY_MODEL_2705450ca7914a3e973c7fa5f2b77ffb",
       "value": [
        "Cycle  6",
        "Cycle  7",
        "Cycle  8",
        "Cycle 24"
       ]
      }
     },
     "a18c4cc918fd43068ccd09e97eedb3ec": {
      "model_module": "jupyter-js-widgets",
      "model_module_version": "~2.1.4",
      "model_name": "ButtonModel",
      "state": {
       "_model_module_version": "~2.1.4",
       "_view_module_version": "~2.1.4",
       "button_style": "success",
       "description": "Eliminar ciclos selecionados",
       "layout": "IPY_MODEL_e82d16094c6c4ec5b995ec20cdcd89c6",
       "style": "IPY_MODEL_7844f10b463e46549ef7ec32a267ffae"
      }
     },
     "a1ce0496013e42ee9c58ea331708bdfa": {
      "model_module": "jupyter-js-widgets",
      "model_module_version": "~2.1.4",
      "model_name": "LayoutModel",
      "state": {
       "_model_module_version": "~2.1.4",
       "_view_module_version": "~2.1.4",
       "width": "100%"
      }
     },
     "a1e155a13a694db5814384e0a17e88cb": {
      "model_module": "jupyter-js-widgets",
      "model_module_version": "~2.1.4",
      "model_name": "ButtonStyleModel",
      "state": {
       "_model_module_version": "~2.1.4",
       "_view_module_version": "~2.1.4"
      }
     },
     "a24edf15256b47cab847928f3ac6602a": {
      "model_module": "jupyter-js-widgets",
      "model_module_version": "~2.1.4",
      "model_name": "LayoutModel",
      "state": {
       "_model_module_version": "~2.1.4",
       "_view_module_version": "~2.1.4"
      }
     },
     "a2a91a56a36c4f48ad8d1d3a5b2a3bce": {
      "model_module": "jupyter-js-widgets",
      "model_module_version": "~2.1.4",
      "model_name": "LayoutModel",
      "state": {
       "_model_module_version": "~2.1.4",
       "_view_module_version": "~2.1.4",
       "margin": "5px 2px 0",
       "width": "300px"
      }
     },
     "a2f2a7f6a6cf4054a676c37fe49d4814": {
      "model_module": "jupyter-js-widgets",
      "model_module_version": "~2.1.4",
      "model_name": "ButtonStyleModel",
      "state": {
       "_model_module_version": "~2.1.4",
       "_view_module_version": "~2.1.4"
      }
     },
     "a3a7f096de244433a69945b0daff17e3": {
      "model_module": "jupyter-js-widgets",
      "model_module_version": "~2.1.4",
      "model_name": "LayoutModel",
      "state": {
       "_model_module_version": "~2.1.4",
       "_view_module_version": "~2.1.4",
       "margin": "5px 2px 0",
       "width": "300px"
      }
     },
     "a3ac5b3c9ef7481591cf78ee779eb1db": {
      "model_module": "jupyter-js-widgets",
      "model_module_version": "~2.1.4",
      "model_name": "SelectMultipleModel",
      "state": {
       "_model_module_version": "~2.1.4",
       "_options_labels": [
        "01: 1829-11 (119.247)",
        "02: 1837-03 (244.868)",
        "03: 1848-02 (219.938)",
        "04: 1860-02 (186.154)",
        "05: 1870-08 (234.021)",
        "06: 1883-12 (124.408)",
        "07: 1894-01 (146.535)",
        "08: 1906-02 (107.068)",
        "09: 1917-08 (175.675)",
        "10: 1928-04 (130.228)",
        "11: 1937-04 (198.636)",
        "12: 1947-05 (218.737)",
        "13: 1958-03 (284.998)",
        "14: 1968-11 (156.632)",
        "15: 1979-12 (232.912)",
        "16: 1989-11 (212.480)",
        "17: 2001-11 (180.273)",
        "18: 2014-04 (116.407)"
       ],
       "_view_module_version": "~2.1.4",
       "layout": "IPY_MODEL_fef4cc21d4314cd8915001b4f76009b2",
       "value": []
      }
     },
     "a3f89a75c56445b28ee99d044b538e33": {
      "model_module": "jupyter-js-widgets",
      "model_module_version": "~2.1.4",
      "model_name": "LayoutModel",
      "state": {
       "_model_module_version": "~2.1.4",
       "_view_module_version": "~2.1.4",
       "width": "100%"
      }
     },
     "a3f9086189de41fbb9b63cc80bcd72b6": {
      "model_module": "jupyter-js-widgets",
      "model_module_version": "~2.1.4",
      "model_name": "ButtonModel",
      "state": {
       "_model_module_version": "~2.1.4",
       "_view_module_version": "~2.1.4",
       "description": "Eliminar ciclos selecionados",
       "layout": "IPY_MODEL_4eda1afa8b734b93979f79173b12bc72",
       "style": "IPY_MODEL_d5ec102c251c4593aa49709a51047187"
      }
     },
     "a4293d1ae56e4a5bb2ae6ef51b5c4ce7": {
      "model_module": "jupyter-js-widgets",
      "model_module_version": "~2.1.4",
      "model_name": "OutputModel",
      "state": {
       "_dom_classes": [],
       "_model_module": "jupyter-js-widgets",
       "_model_module_version": "~2.1.4",
       "_view_module": "jupyter-js-widgets",
       "_view_module_version": "~2.1.4",
       "layout": "IPY_MODEL_b53a9129307d46fc9e3e406712241e94",
       "msg_throttle": 1
      }
     },
     "a44ce4a388f54cd98ade2f9374847c2b": {
      "model_module": "jupyter-js-widgets",
      "model_module_version": "~2.1.4",
      "model_name": "CheckboxModel",
      "state": {
       "_model_module_version": "~2.1.4",
       "_view_module_version": "~2.1.4",
       "description": "Cycle  9",
       "disabled": false,
       "layout": "IPY_MODEL_e62002e3073d4ed1a82f95fdf16f8832",
       "value": true
      }
     },
     "a4b99c475046473ab4dd15755a502cc1": {
      "model_module": "jupyter-js-widgets",
      "model_module_version": "~2.1.4",
      "model_name": "ButtonModel",
      "state": {
       "_model_module_version": "~2.1.4",
       "_view_module_version": "~2.1.4",
       "description": "Limpiar seleción de ciclos",
       "layout": "IPY_MODEL_8e42943b911b4d7fb14c0b796c333408",
       "style": "IPY_MODEL_38eb8e5adf9f4db8a86266fc616c6347"
      }
     },
     "a4e1d40aea82441dbb28f3e64598ee73": {
      "model_module": "jupyter-js-widgets",
      "model_module_version": "~2.1.4",
      "model_name": "LayoutModel",
      "state": {
       "_model_module_version": "~2.1.4",
       "_view_module_version": "~2.1.4"
      }
     },
     "a4e26cb922d846569d3003622c941566": {
      "model_module": "jupyter-js-widgets",
      "model_module_version": "~2.1.4",
      "model_name": "ButtonStyleModel",
      "state": {
       "_model_module_version": "~2.1.4",
       "_view_module_version": "~2.1.4"
      }
     },
     "a4f869c3096f4e51ada555145598b90d": {
      "model_module": "jupyter-js-widgets",
      "model_module_version": "~2.1.4",
      "model_name": "LayoutModel",
      "state": {
       "_model_module_version": "~2.1.4",
       "_view_module_version": "~2.1.4"
      }
     },
     "a5071e7174154948880d9d0b017035c2": {
      "model_module": "jupyter-js-widgets",
      "model_module_version": "~2.1.4",
      "model_name": "OutputModel",
      "state": {
       "_dom_classes": [],
       "_model_module": "jupyter-js-widgets",
       "_model_module_version": "~2.1.4",
       "_view_module": "jupyter-js-widgets",
       "_view_module_version": "~2.1.4",
       "layout": "IPY_MODEL_6ea88293a586438592556330fefeee78",
       "msg_throttle": 1
      }
     },
     "a53afc0fb4ee4be29de78d7104b4e721": {
      "model_module": "jupyter-js-widgets",
      "model_module_version": "~2.1.4",
      "model_name": "LayoutModel",
      "state": {
       "_model_module_version": "~2.1.4",
       "_view_module_version": "~2.1.4",
       "margin": "5px 2px 0",
       "width": "300px"
      }
     },
     "a55a718b99e14f39b031d7d4ff8b6d44": {
      "model_module": "jupyter-js-widgets",
      "model_module_version": "~2.1.4",
      "model_name": "LayoutModel",
      "state": {
       "_model_module_version": "~2.1.4",
       "_view_module_version": "~2.1.4"
      }
     },
     "a55b53981df24eb5a7d36717f5e56db8": {
      "model_module": "jupyter-js-widgets",
      "model_module_version": "~2.1.4",
      "model_name": "ButtonModel",
      "state": {
       "_model_module_version": "~2.1.4",
       "_view_module_version": "~2.1.4",
       "description": "Eliminar ciclos selecionados",
       "layout": "IPY_MODEL_d21cb2a22fa9403b9c934c551e6ec373",
       "style": "IPY_MODEL_23158ed33df844839f2f4213a6711d00"
      }
     },
     "a569c41abf5341718a32192729e49abd": {
      "model_module": "jupyter-js-widgets",
      "model_module_version": "~2.1.4",
      "model_name": "LayoutModel",
      "state": {
       "_model_module_version": "~2.1.4",
       "_view_module_version": "~2.1.4",
       "margin": "5px 2px 0",
       "width": "300px"
      }
     },
     "a6182a42e64341938ff6a364ee245a5c": {
      "model_module": "jupyter-js-widgets",
      "model_module_version": "~2.1.4",
      "model_name": "VBoxModel",
      "state": {
       "_model_module_version": "~2.1.4",
       "_view_module_version": "~2.1.4",
       "children": [
        "IPY_MODEL_e6331eadfe6c49f595d3ddd7b86b2efa",
        "IPY_MODEL_bb93bec7cd394f609be8e357049f76eb",
        "IPY_MODEL_628fe74b3a0a466da6dc74e9ef5cd27e",
        "IPY_MODEL_2082c384a3c242b3afc5a8d459ebf2e0",
        "IPY_MODEL_63b2acab3e7747bd8da2d6160e872ae1"
       ],
       "layout": "IPY_MODEL_f99fd62275fd4a80bb6b30ee8c3abc60"
      }
     },
     "a66e9598f51a47cd8c7065aa28053edf": {
      "model_module": "jupyter-js-widgets",
      "model_module_version": "~2.1.4",
      "model_name": "ButtonModel",
      "state": {
       "_model_module_version": "~2.1.4",
       "_view_module_version": "~2.1.4",
       "description": "Limpiar seleción de ciclos",
       "layout": "IPY_MODEL_b20326cb06cb456bb77dcf8b0efe6c4f",
       "style": "IPY_MODEL_a2f2a7f6a6cf4054a676c37fe49d4814"
      }
     },
     "a6e65716642e4607a5d9013c69666a77": {
      "model_module": "jupyter-js-widgets",
      "model_module_version": "~2.1.4",
      "model_name": "LabelModel",
      "state": {
       "_model_module_version": "~2.1.4",
       "_view_module_version": "~2.1.4",
       "layout": "IPY_MODEL_9ea7404cd6f34d6db7d6c292ba9fc596",
       "value": "Ciclos solares"
      }
     },
     "a6eef1859a7741caa90cec47279694b5": {
      "model_module": "jupyter-js-widgets",
      "model_module_version": "~2.1.4",
      "model_name": "LayoutModel",
      "state": {
       "_model_module_version": "~2.1.4",
       "_view_module_version": "~2.1.4",
       "margin": "5px 2px 0",
       "width": "300px"
      }
     },
     "a70d932a12a14ecfae5886e19e7c17c4": {
      "model_module": "jupyter-js-widgets",
      "model_module_version": "~2.1.4",
      "model_name": "LayoutModel",
      "state": {
       "_model_module_version": "~2.1.4",
       "_view_module_version": "~2.1.4"
      }
     },
     "a7543c075ed4478384eff8f9c37facd8": {
      "model_module": "jupyter-js-widgets",
      "model_module_version": "~2.1.4",
      "model_name": "LayoutModel",
      "state": {
       "_model_module_version": "~2.1.4",
       "_view_module_version": "~2.1.4",
       "width": "100%"
      }
     },
     "a8191be3718a44f785f611664ee74480": {
      "model_module": "jupyter-js-widgets",
      "model_module_version": "~2.1.4",
      "model_name": "ButtonStyleModel",
      "state": {
       "_model_module_version": "~2.1.4",
       "_view_module_version": "~2.1.4"
      }
     },
     "a84a9959c228497aa854959c1cb57dee": {
      "model_module": "jupyter-js-widgets",
      "model_module_version": "~2.1.4",
      "model_name": "LayoutModel",
      "state": {
       "_model_module_version": "~2.1.4",
       "_view_module_version": "~2.1.4"
      }
     },
     "a87476188d224a959ea7eeaa6543748b": {
      "model_module": "jupyter-js-widgets",
      "model_module_version": "~2.1.4",
      "model_name": "SelectMultipleModel",
      "state": {
       "_model_module_version": "~2.1.4",
       "_view_module_version": "~2.1.4",
       "layout": "IPY_MODEL_f5202101b0bd493e9bd41ea1611efed1",
       "value": []
      }
     },
     "a87ddfc6f5ad45969953704068c8943c": {
      "model_module": "jupyter-js-widgets",
      "model_module_version": "~2.1.4",
      "model_name": "LayoutModel",
      "state": {
       "_model_module_version": "~2.1.4",
       "_view_module_version": "~2.1.4",
       "margin": "5px 2px 0",
       "width": "300px"
      }
     },
     "a884710514124f4fb4289939cf13ed0b": {
      "model_module": "jupyter-js-widgets",
      "model_module_version": "~2.1.4",
      "model_name": "ButtonModel",
      "state": {
       "_model_module_version": "~2.1.4",
       "_view_module_version": "~2.1.4",
       "button_style": "warning",
       "description": "Eliminar ciclos selecionados",
       "layout": "IPY_MODEL_f472259f9a724efca3343643365a04ca",
       "style": "IPY_MODEL_6170123747a645dea46867cf1ca70b22"
      }
     },
     "a893ed5c433442f6ab60fd7c3a7899ff": {
      "model_module": "jupyter-js-widgets",
      "model_module_version": "~2.1.4",
      "model_name": "LayoutModel",
      "state": {
       "_model_module_version": "~2.1.4",
       "_view_module_version": "~2.1.4"
      }
     },
     "a8aab52a87b048288cdbb1f6d663654e": {
      "model_module": "jupyter-js-widgets",
      "model_module_version": "~2.1.4",
      "model_name": "LayoutModel",
      "state": {
       "_model_module_version": "~2.1.4",
       "_view_module_version": "~2.1.4"
      }
     },
     "a93dcbe77e6e4687b5c5b996f7cb2d13": {
      "model_module": "jupyter-js-widgets",
      "model_module_version": "~2.1.4",
      "model_name": "ButtonModel",
      "state": {
       "_model_module_version": "~2.1.4",
       "_view_module_version": "~2.1.4",
       "description": "Limpiar seleción de ciclos",
       "layout": "IPY_MODEL_4bc63b945bef43aab80dff4d7fd0db08",
       "style": "IPY_MODEL_863c2c187d984392bc80fd763f4e1078"
      }
     },
     "a99d2e046b3642839ab607feca6694ef": {
      "model_module": "jupyter-js-widgets",
      "model_module_version": "~2.1.4",
      "model_name": "LabelModel",
      "state": {
       "_model_module_version": "~2.1.4",
       "_view_module_version": "~2.1.4",
       "layout": "IPY_MODEL_1d714e8c37294a9fb7ac1d55d2004eb6",
       "value": "Ciclos solares"
      }
     },
     "a9e39e96dcbc40f08e50be5ccda5e94d": {
      "model_module": "jupyter-js-widgets",
      "model_module_version": "~2.1.4",
      "model_name": "OutputModel",
      "state": {
       "_dom_classes": [],
       "_model_module": "jupyter-js-widgets",
       "_model_module_version": "~2.1.4",
       "_view_module": "jupyter-js-widgets",
       "_view_module_version": "~2.1.4",
       "layout": "IPY_MODEL_6a28b4c2b1c945f4a1314f5afabecf3f",
       "msg_throttle": 1
      }
     },
     "aa022e257d174ae49f25b77784c0127c": {
      "model_module": "jupyter-js-widgets",
      "model_module_version": "~2.1.4",
      "model_name": "LayoutModel",
      "state": {
       "_model_module_version": "~2.1.4",
       "_view_module_version": "~2.1.4"
      }
     },
     "aa7342c684e048fab5950de1a4b1b333": {
      "model_module": "jupyter-js-widgets",
      "model_module_version": "~2.1.4",
      "model_name": "ButtonStyleModel",
      "state": {
       "_model_module_version": "~2.1.4",
       "_view_module_version": "~2.1.4"
      }
     },
     "aa97c607eec0471eb8206c6ab995565e": {
      "model_module": "jupyter-js-widgets",
      "model_module_version": "~2.1.4",
      "model_name": "LayoutModel",
      "state": {
       "_model_module_version": "~2.1.4",
       "_view_module_version": "~2.1.4"
      }
     },
     "aa9b66fa1d934552b2d90f0e1ff0021e": {
      "model_module": "jupyter-js-widgets",
      "model_module_version": "~2.1.4",
      "model_name": "CheckboxModel",
      "state": {
       "_model_module_version": "~2.1.4",
       "_view_module_version": "~2.1.4",
       "description": "Cycle  7",
       "disabled": false,
       "layout": "IPY_MODEL_63677e1899844a8daa16c6feeb5ee77c",
       "value": true
      }
     },
     "aaa0096cc43e4309ad9bd043e8493b1f": {
      "model_module": "jupyter-js-widgets",
      "model_module_version": "~2.1.4",
      "model_name": "ButtonModel",
      "state": {
       "_model_module_version": "~2.1.4",
       "_view_module_version": "~2.1.4",
       "description": "Limpiar seleción de ciclos",
       "layout": "IPY_MODEL_15287d237c4d48658d50e69845c8eb4e",
       "style": "IPY_MODEL_1ea4f19a05344f9c84d564689a2459ed"
      }
     },
     "aab3b987eba74dd0a747080801c5c49b": {
      "model_module": "jupyter-js-widgets",
      "model_module_version": "~2.1.4",
      "model_name": "LayoutModel",
      "state": {
       "_model_module_version": "~2.1.4",
       "_view_module_version": "~2.1.4"
      }
     },
     "aaea9554e71d4cbfad1abbadd3c135cb": {
      "model_module": "jupyter-js-widgets",
      "model_module_version": "~2.1.4",
      "model_name": "LabelModel",
      "state": {
       "_model_module_version": "~2.1.4",
       "_view_module_version": "~2.1.4",
       "layout": "IPY_MODEL_753a705d7ab54d92ad614bd333b56108",
       "value": "Máximos (18)"
      }
     },
     "aaef41f8586848029261ff10e2306408": {
      "model_module": "jupyter-js-widgets",
      "model_module_version": "~2.1.4",
      "model_name": "ButtonModel",
      "state": {
       "_model_module_version": "~2.1.4",
       "_view_module_version": "~2.1.4",
       "description": "Limpiar seleción de mínimos",
       "layout": "IPY_MODEL_cddcfcf6791a45f3ab18d71385fd6f11",
       "style": "IPY_MODEL_b09399c41cf84db5a5c0245aea1f185b"
      }
     },
     "ab54c09e49c1495981f992fccc2e0489": {
      "model_module": "jupyter-js-widgets",
      "model_module_version": "~2.1.4",
      "model_name": "LayoutModel",
      "state": {
       "_model_module_version": "~2.1.4",
       "_view_module_version": "~2.1.4"
      }
     },
     "ab5885e55ba14ba8a1458f1cc9c079d2": {
      "model_module": "jupyter-js-widgets",
      "model_module_version": "~2.1.4",
      "model_name": "SelectMultipleModel",
      "state": {
       "_model_module_version": "~2.1.4",
       "_options_labels": [
        "Cycle  6",
        "Cycle  7",
        "Cycle  8",
        "Cycle  9",
        "Cycle 10",
        "Cycle 11",
        "Cycle 12",
        "Cycle 13",
        "Cycle 14",
        "Cycle 15",
        "Cycle 16",
        "Cycle 17",
        "Cycle 18",
        "Cycle 19",
        "Cycle 20",
        "Cycle 21",
        "Cycle 22",
        "Cycle 23",
        "Cycle 24"
       ],
       "_view_module_version": "~2.1.4",
       "layout": "IPY_MODEL_6f6b317b2f9a48b8869d5a1d0b219593",
       "value": []
      }
     },
     "ab7aa3d4c55a4c32b16d0b22a654111d": {
      "model_module": "jupyter-js-widgets",
      "model_module_version": "~2.1.4",
      "model_name": "SelectMultipleModel",
      "state": {
       "_model_module_version": "~2.1.4",
       "_options_labels": [
        "Cycle  6",
        "Cycle  7",
        "Cycle  8",
        "Cycle  9",
        "Cycle 10",
        "Cycle 11",
        "Cycle 12",
        "Cycle 13",
        "Cycle 14",
        "Cycle 15",
        "Cycle 16",
        "Cycle 17",
        "Cycle 18",
        "Cycle 19",
        "Cycle 20",
        "Cycle 21",
        "Cycle 22",
        "Cycle 23",
        "Cycle 24"
       ],
       "_view_module_version": "~2.1.4",
       "layout": "IPY_MODEL_fba5972014424d1a8574c38a0bfb4145",
       "value": []
      }
     },
     "ab868cd06f26481cac5f5b57e773c1a0": {
      "model_module": "jupyter-js-widgets",
      "model_module_version": "~2.1.4",
      "model_name": "ButtonModel",
      "state": {
       "_model_module_version": "~2.1.4",
       "_view_module_version": "~2.1.4",
       "description": "Limpiar seleción de ciclos",
       "layout": "IPY_MODEL_46f67a1404e64f58ba1767e0cd5eda66",
       "style": "IPY_MODEL_3d805468dbfa46e59f63b4a5ca9a91b5"
      }
     },
     "abf607a5a7e4413abf1863c2247a66ce": {
      "model_module": "jupyter-js-widgets",
      "model_module_version": "~2.1.4",
      "model_name": "OutputModel",
      "state": {
       "_dom_classes": [],
       "_model_module": "jupyter-js-widgets",
       "_model_module_version": "~2.1.4",
       "_view_module": "jupyter-js-widgets",
       "_view_module_version": "~2.1.4",
       "layout": "IPY_MODEL_fa87833eb51141fcb362f5f0573472e3",
       "msg_throttle": 1
      }
     },
     "ac1689c084ed4eaf84d8edb647920e82": {
      "model_module": "jupyter-js-widgets",
      "model_module_version": "~2.1.4",
      "model_name": "OutputModel",
      "state": {
       "_dom_classes": [],
       "_model_module": "jupyter-js-widgets",
       "_model_module_version": "~2.1.4",
       "_view_module": "jupyter-js-widgets",
       "_view_module_version": "~2.1.4",
       "layout": "IPY_MODEL_c9dd2f4c80234e78986811c2c8f47153",
       "msg_throttle": 1
      }
     },
     "ac3612b7b2a744c29f8711403833b08e": {
      "model_module": "jupyter-js-widgets",
      "model_module_version": "~2.1.4",
      "model_name": "ButtonModel",
      "state": {
       "_model_module_version": "~2.1.4",
       "_view_module_version": "~2.1.4",
       "description": "Limpiar seleción de mínimos",
       "layout": "IPY_MODEL_c8e72ce7e66a4ecc909f1db38e46714a",
       "style": "IPY_MODEL_0ee17c1f08c64a5d841cecd9db0fb91a"
      }
     },
     "ac47b9919542484295d27ca82aa934f9": {
      "model_module": "jupyter-js-widgets",
      "model_module_version": "~2.1.4",
      "model_name": "IntSliderModel",
      "state": {
       "_model_module_version": "~2.1.4",
       "_view_module_version": "~2.1.4",
       "layout": "IPY_MODEL_e6bec4469c9f4c14a12c5b2a3682dd4b",
       "min": 1,
       "style": "IPY_MODEL_0a404f4c5f4549b0a06cc4ae93df10f0",
       "value": 20
      }
     },
     "ac6b5912a7e7441685e6ba39f6a758d7": {
      "model_module": "jupyter-js-widgets",
      "model_module_version": "~2.1.4",
      "model_name": "LayoutModel",
      "state": {
       "_model_module_version": "~2.1.4",
       "_view_module_version": "~2.1.4"
      }
     },
     "ac73c0afa8684a7492f661fe75f8f0d3": {
      "model_module": "jupyter-js-widgets",
      "model_module_version": "~2.1.4",
      "model_name": "ButtonStyleModel",
      "state": {
       "_model_module_version": "~2.1.4",
       "_view_module_version": "~2.1.4"
      }
     },
     "ac80e3280ff74a4ea0f4b1fe9843b6cf": {
      "model_module": "jupyter-js-widgets",
      "model_module_version": "~2.1.4",
      "model_name": "LayoutModel",
      "state": {
       "_model_module_version": "~2.1.4",
       "_view_module_version": "~2.1.4",
       "margin": "5px 2px 0",
       "width": "300px"
      }
     },
     "ac94d33519c749188720a5064335b0dd": {
      "model_module": "jupyter-js-widgets",
      "model_module_version": "~2.1.4",
      "model_name": "SelectMultipleModel",
      "state": {
       "_model_module_version": "~2.1.4",
       "_view_module_version": "~2.1.4",
       "layout": "IPY_MODEL_7d73d7da0b3c41218a61d0cc37b0750f",
       "value": []
      }
     },
     "ad12be3353454d489b998ec31b693cf2": {
      "model_module": "jupyter-js-widgets",
      "model_module_version": "~2.1.4",
      "model_name": "LayoutModel",
      "state": {
       "_model_module_version": "~2.1.4",
       "_view_module_version": "~2.1.4"
      }
     },
     "ad26f725c36f4e10935456a7c5306c91": {
      "model_module": "jupyter-js-widgets",
      "model_module_version": "~2.1.4",
      "model_name": "LayoutModel",
      "state": {
       "_model_module_version": "~2.1.4",
       "_view_module_version": "~2.1.4",
       "margin": "5px 2px 0",
       "width": "146px"
      }
     },
     "ad4f8453814c4097adcc1d9ad261bb14": {
      "model_module": "jupyter-js-widgets",
      "model_module_version": "~2.1.4",
      "model_name": "LabelModel",
      "state": {
       "_model_module_version": "~2.1.4",
       "_view_module_version": "~2.1.4",
       "layout": "IPY_MODEL_2c9e7c0814f14329acb150b968cf2e15",
       "value": "Lookahead"
      }
     },
     "ad632743b2de426490ab5f8cc95a3d50": {
      "model_module": "jupyter-js-widgets",
      "model_module_version": "~2.1.4",
      "model_name": "ButtonStyleModel",
      "state": {
       "_model_module_version": "~2.1.4",
       "_view_module_version": "~2.1.4"
      }
     },
     "ad8606c3578d49f6b813b44d14c14481": {
      "model_module": "jupyter-js-widgets",
      "model_module_version": "~2.1.4",
      "model_name": "LayoutModel",
      "state": {
       "_model_module_version": "~2.1.4",
       "_view_module_version": "~2.1.4"
      }
     },
     "ade514a7251346b883e3489e8f518abc": {
      "model_module": "jupyter-js-widgets",
      "model_module_version": "~2.1.4",
      "model_name": "ButtonModel",
      "state": {
       "_model_module_version": "~2.1.4",
       "_view_module_version": "~2.1.4",
       "description": "Eliminar ciclos selecionados",
       "layout": "IPY_MODEL_5f40ff6de589474aa0cb36bd78891ea6",
       "style": "IPY_MODEL_9cd9e8aff2b3418d96de03633ff1dffd"
      }
     },
     "ae0a10a4bdcd431bb26efe26efda8043": {
      "model_module": "jupyter-js-widgets",
      "model_module_version": "~2.1.4",
      "model_name": "LabelModel",
      "state": {
       "_model_module_version": "~2.1.4",
       "_view_module_version": "~2.1.4",
       "layout": "IPY_MODEL_8aae8bf457694f7682e00298c5b97fb4",
       "value": "Ciclos solares"
      }
     },
     "ae2d3a181d504ac7bfb3a23ba1bfbbb8": {
      "model_module": "jupyter-js-widgets",
      "model_module_version": "~2.1.4",
      "model_name": "OutputModel",
      "state": {
       "_dom_classes": [],
       "_model_module": "jupyter-js-widgets",
       "_model_module_version": "~2.1.4",
       "_view_module": "jupyter-js-widgets",
       "_view_module_version": "~2.1.4",
       "layout": "IPY_MODEL_2eeb7f75fcc24194a73522eaef4e3d20",
       "msg_throttle": 1
      }
     },
     "aec6727ec0784fe99b425cd0e812cd47": {
      "model_module": "jupyter-js-widgets",
      "model_module_version": "~2.1.4",
      "model_name": "LayoutModel",
      "state": {
       "_model_module_version": "~2.1.4",
       "_view_module_version": "~2.1.4",
       "margin": "5px 2px 0",
       "width": "300px"
      }
     },
     "aef1a192c9ce4325bc262b0a8c3e64d0": {
      "model_module": "jupyter-js-widgets",
      "model_module_version": "~2.1.4",
      "model_name": "ButtonStyleModel",
      "state": {
       "_model_module_version": "~2.1.4",
       "_view_module_version": "~2.1.4"
      }
     },
     "af28eb8d29114eaead77cf0d8250871c": {
      "model_module": "jupyter-js-widgets",
      "model_module_version": "~2.1.4",
      "model_name": "ButtonModel",
      "state": {
       "_model_module_version": "~2.1.4",
       "_view_module_version": "~2.1.4",
       "description": "Limpiar seleción de ciclos",
       "layout": "IPY_MODEL_59da41c905ea4ab688ae8287193aaa10",
       "style": "IPY_MODEL_2ac4047ea9694796b0249cd00f9f740a"
      }
     },
     "af50a07173be49fa9882f9e1a4baaf76": {
      "model_module": "jupyter-js-widgets",
      "model_module_version": "~2.1.4",
      "model_name": "LayoutModel",
      "state": {
       "_model_module_version": "~2.1.4",
       "_view_module_version": "~2.1.4",
       "width": "100%"
      }
     },
     "af60f67fc5634263bec9bab929194ff9": {
      "model_module": "jupyter-js-widgets",
      "model_module_version": "~2.1.4",
      "model_name": "SelectMultipleModel",
      "state": {
       "_model_module_version": "~2.1.4",
       "_options_labels": [
        "Cycle  6",
        "Cycle  7",
        "Cycle  8",
        "Cycle  9",
        "Cycle 10",
        "Cycle 11",
        "Cycle 12",
        "Cycle 13",
        "Cycle 14",
        "Cycle 15",
        "Cycle 16",
        "Cycle 17",
        "Cycle 18",
        "Cycle 19",
        "Cycle 20",
        "Cycle 21",
        "Cycle 22",
        "Cycle 23",
        "Cycle 24"
       ],
       "_view_module_version": "~2.1.4",
       "layout": "IPY_MODEL_682c3b1235514892a4ea2cc73a1f667b",
       "value": [
        "Cycle  6",
        "Cycle  7",
        "Cycle  8",
        "Cycle 24"
       ]
      }
     },
     "af624b52ef984b2cb6169f135f3f6fa5": {
      "model_module": "jupyter-js-widgets",
      "model_module_version": "~2.1.4",
      "model_name": "SelectMultipleModel",
      "state": {
       "_model_module_version": "~2.1.4",
       "_options_labels": [
        "01: 1829-11 (119.247)",
        "02: 1837-03 (244.868)",
        "03: 1848-02 (219.938)",
        "04: 1860-02 (186.154)",
        "05: 1870-08 (234.021)",
        "06: 1883-12 (124.408)",
        "07: 1894-01 (146.535)",
        "08: 1906-02 (107.068)",
        "09: 1917-08 (175.675)",
        "10: 1928-04 (130.228)",
        "11: 1937-04 (198.636)",
        "12: 1947-05 (218.737)",
        "13: 1958-03 (284.998)",
        "14: 1968-11 (156.632)",
        "15: 1979-12 (232.912)",
        "16: 1989-11 (212.480)",
        "17: 2001-11 (180.273)",
        "18: 2014-04 (116.407)"
       ],
       "_view_module_version": "~2.1.4",
       "layout": "IPY_MODEL_9e7000cc44c4496ca17dda52b03bcda7",
       "value": []
      }
     },
     "af64f24b671c4dff9e31e0d5ca92797a": {
      "model_module": "jupyter-js-widgets",
      "model_module_version": "~2.1.4",
      "model_name": "SelectMultipleModel",
      "state": {
       "_model_module_version": "~2.1.4",
       "_options_labels": [
        "01: 1823-05 (0.143)",
        "02: 1833-11 (12.182)",
        "03: 1843-07 (17.615)",
        "04: 1855-12 (5.997)",
        "05: 1867-03 (9.872)",
        "06: 1878-12 (3.750)",
        "07: 1890-03 (8.279)",
        "08: 1902-01 (4.474)",
        "09: 1913-07 (2.442)",
        "10: 1923-08 (9.362)",
        "11: 1933-09 (5.789)",
        "12: 1944-02 (12.883)",
        "13: 1954-04 (5.096)",
        "14: 1964-10 (14.237)",
        "15: 1976-03 (17.792)",
        "16: 1986-09 (13.520)",
        "17: 1996-05 (11.171)",
        "18: 2008-12 (2.248)"
       ],
       "_view_module_version": "~2.1.4",
       "layout": "IPY_MODEL_d744be4440704f5d85b3bdb4f7b4985b",
       "value": []
      }
     },
     "af8bae412c2d45139d6f5b34cf2fed63": {
      "model_module": "jupyter-js-widgets",
      "model_module_version": "~2.1.4",
      "model_name": "ButtonStyleModel",
      "state": {
       "_model_module_version": "~2.1.4",
       "_view_module_version": "~2.1.4"
      }
     },
     "afe518b18e024354b58a8008bc882d82": {
      "model_module": "jupyter-js-widgets",
      "model_module_version": "~2.1.4",
      "model_name": "SliderStyleModel",
      "state": {
       "_model_module_version": "~2.1.4",
       "_view_module_version": "~2.1.4"
      }
     },
     "b07d505b5f374ca19b80a2d238eace8c": {
      "model_module": "jupyter-js-widgets",
      "model_module_version": "~2.1.4",
      "model_name": "OutputModel",
      "state": {
       "_dom_classes": [],
       "_model_module": "jupyter-js-widgets",
       "_model_module_version": "~2.1.4",
       "_view_module": "jupyter-js-widgets",
       "_view_module_version": "~2.1.4",
       "layout": "IPY_MODEL_f4e2f6e497934a6dbfcd8da440bb1619",
       "msg_throttle": 1
      }
     },
     "b08f866c004c4ddbb8fac499f67dee4a": {
      "model_module": "jupyter-js-widgets",
      "model_module_version": "~2.1.4",
      "model_name": "ButtonModel",
      "state": {
       "_model_module_version": "~2.1.4",
       "_view_module_version": "~2.1.4",
       "description": "Eliminar ciclos selecionados",
       "layout": "IPY_MODEL_984a0bfe09d6487e8efbf7996d6eee62",
       "style": "IPY_MODEL_8d74f3ddc8e14c3e9cb00373769772fa"
      }
     },
     "b09399c41cf84db5a5c0245aea1f185b": {
      "model_module": "jupyter-js-widgets",
      "model_module_version": "~2.1.4",
      "model_name": "ButtonStyleModel",
      "state": {
       "_model_module_version": "~2.1.4",
       "_view_module_version": "~2.1.4"
      }
     },
     "b0c58fc6d4cf40aca6e8591b2018a6cb": {
      "model_module": "jupyter-js-widgets",
      "model_module_version": "~2.1.4",
      "model_name": "OutputModel",
      "state": {
       "_dom_classes": [],
       "_model_module": "jupyter-js-widgets",
       "_model_module_version": "~2.1.4",
       "_view_module": "jupyter-js-widgets",
       "_view_module_version": "~2.1.4",
       "layout": "IPY_MODEL_90871a84460743c0938249af7a8ca589",
       "msg_throttle": 1
      }
     },
     "b0c9af276cc34ec29efa1051a45f0f65": {
      "model_module": "jupyter-js-widgets",
      "model_module_version": "~2.1.4",
      "model_name": "ButtonStyleModel",
      "state": {
       "_model_module_version": "~2.1.4",
       "_view_module_version": "~2.1.4"
      }
     },
     "b0da6bf0ccb04d56b5ff04b69f54451e": {
      "model_module": "jupyter-js-widgets",
      "model_module_version": "~2.1.4",
      "model_name": "VBoxModel",
      "state": {
       "_model_module_version": "~2.1.4",
       "_view_module_version": "~2.1.4",
       "children": [
        "IPY_MODEL_242f34d070914da19c3e265eefa18cea",
        "IPY_MODEL_09809bc5e1be46cab975d27c187321a9",
        "IPY_MODEL_9bd06b89aef74a0586500ac1c3228e6b",
        "IPY_MODEL_84bb1b920a8841a88d739ff4b7b7f679",
        "IPY_MODEL_bcbe5c56435c43b1aed4fc6dd9e3d219"
       ],
       "layout": "IPY_MODEL_3b1e45c0dc0b4a7184d8304824623851"
      }
     },
     "b15964aba16c4fb79ad07db1ce357851": {
      "model_module": "jupyter-js-widgets",
      "model_module_version": "~2.1.4",
      "model_name": "LayoutModel",
      "state": {
       "_model_module_version": "~2.1.4",
       "_view_module_version": "~2.1.4"
      }
     },
     "b1907fa231404526b959d9ab093d0848": {
      "model_module": "jupyter-js-widgets",
      "model_module_version": "~2.1.4",
      "model_name": "ButtonStyleModel",
      "state": {
       "_model_module_version": "~2.1.4",
       "_view_module_version": "~2.1.4"
      }
     },
     "b1ae410d44c54a4386470fb19968da3b": {
      "model_module": "jupyter-js-widgets",
      "model_module_version": "~2.1.4",
      "model_name": "LayoutModel",
      "state": {
       "_model_module_version": "~2.1.4",
       "_view_module_version": "~2.1.4"
      }
     },
     "b1d67651b1f04cecbe00ec61f53d865c": {
      "model_module": "jupyter-js-widgets",
      "model_module_version": "~2.1.4",
      "model_name": "LabelModel",
      "state": {
       "_model_module_version": "~2.1.4",
       "_view_module_version": "~2.1.4",
       "layout": "IPY_MODEL_9f44ccdd802a4bf488ec0e099702b999",
       "value": "Mínimos (18)"
      }
     },
     "b1f74d2048c64238a618be566b9ae6f9": {
      "model_module": "jupyter-js-widgets",
      "model_module_version": "~2.1.4",
      "model_name": "LabelModel",
      "state": {
       "_model_module_version": "~2.1.4",
       "_view_module_version": "~2.1.4",
       "layout": "IPY_MODEL_09c5a21e3a184c47923a86c5c0f7a680",
       "value": "Ciclos solares"
      }
     },
     "b20326cb06cb456bb77dcf8b0efe6c4f": {
      "model_module": "jupyter-js-widgets",
      "model_module_version": "~2.1.4",
      "model_name": "LayoutModel",
      "state": {
       "_model_module_version": "~2.1.4",
       "_view_module_version": "~2.1.4",
       "margin": "5px 2px 0",
       "width": "300px"
      }
     },
     "b21f759a46b0422d8a20674f7a58332b": {
      "model_module": "jupyter-js-widgets",
      "model_module_version": "~2.1.4",
      "model_name": "LayoutModel",
      "state": {
       "_model_module_version": "~2.1.4",
       "_view_module_version": "~2.1.4"
      }
     },
     "b23ccb36c13944f7b1767326f8917c6c": {
      "model_module": "jupyter-js-widgets",
      "model_module_version": "~2.1.4",
      "model_name": "ButtonStyleModel",
      "state": {
       "_model_module_version": "~2.1.4",
       "_view_module_version": "~2.1.4"
      }
     },
     "b243d4bda6a84a2a8e06c6adb02f2afb": {
      "model_module": "jupyter-js-widgets",
      "model_module_version": "~2.1.4",
      "model_name": "LabelModel",
      "state": {
       "_model_module_version": "~2.1.4",
       "_view_module_version": "~2.1.4",
       "layout": "IPY_MODEL_5ab54543e6124f149ec4527cbda6ed3b",
       "value": "Ciclos solares"
      }
     },
     "b286a600fd604cb5a94fb9e372dabf0e": {
      "model_module": "jupyter-js-widgets",
      "model_module_version": "~2.1.4",
      "model_name": "LayoutModel",
      "state": {
       "_model_module_version": "~2.1.4",
       "_view_module_version": "~2.1.4",
       "width": "100%"
      }
     },
     "b28868b95e0a43bea63171a6eda41fe7": {
      "model_module": "jupyter-js-widgets",
      "model_module_version": "~2.1.4",
      "model_name": "LayoutModel",
      "state": {
       "_model_module_version": "~2.1.4",
       "_view_module_version": "~2.1.4"
      }
     },
     "b2aca3d2eaea4be0bea8aecb0bb7f2f6": {
      "model_module": "jupyter-js-widgets",
      "model_module_version": "~2.1.4",
      "model_name": "LabelModel",
      "state": {
       "_model_module_version": "~2.1.4",
       "_view_module_version": "~2.1.4",
       "layout": "IPY_MODEL_c6b020ec2fc047cb8b073b06242e8579",
       "value": "Ciclos solares"
      }
     },
     "b2b50824f29c4fd08f4a36b96bea3094": {
      "model_module": "jupyter-js-widgets",
      "model_module_version": "~2.1.4",
      "model_name": "SelectMultipleModel",
      "state": {
       "_model_module_version": "~2.1.4",
       "_options_labels": [
        "01: 1829-11 (119.247)",
        "02: 1837-03 (244.868)",
        "03: 1848-02 (219.938)",
        "04: 1860-02 (186.154)",
        "05: 1870-08 (234.021)",
        "06: 1883-12 (124.408)",
        "07: 1894-01 (146.535)",
        "08: 1906-02 (107.068)",
        "09: 1917-08 (175.675)",
        "10: 1928-04 (130.228)",
        "11: 1937-04 (198.636)",
        "12: 1947-05 (218.737)",
        "13: 1958-03 (284.998)",
        "14: 1968-11 (156.632)",
        "15: 1979-12 (232.912)",
        "16: 1989-11 (212.480)",
        "17: 2001-11 (180.273)",
        "18: 2014-04 (116.407)"
       ],
       "_view_module_version": "~2.1.4",
       "layout": "IPY_MODEL_4073e47bf4784c1fb2091c95b7cab04f",
       "value": []
      }
     },
     "b2e10ed7145447e285b9471811c56fea": {
      "model_module": "jupyter-js-widgets",
      "model_module_version": "~2.1.4",
      "model_name": "LayoutModel",
      "state": {
       "_model_module_version": "~2.1.4",
       "_view_module_version": "~2.1.4"
      }
     },
     "b37997b553e74302851fe9820cc92b32": {
      "model_module": "jupyter-js-widgets",
      "model_module_version": "~2.1.4",
      "model_name": "LayoutModel",
      "state": {
       "_model_module_version": "~2.1.4",
       "_view_module_version": "~2.1.4",
       "width": "100%"
      }
     },
     "b3800296e5aa40999f5bf0250fab8ded": {
      "model_module": "jupyter-js-widgets",
      "model_module_version": "~2.1.4",
      "model_name": "LabelModel",
      "state": {
       "_model_module_version": "~2.1.4",
       "_view_module_version": "~2.1.4",
       "layout": "IPY_MODEL_cd0f4d038875496ea37ad75fc77d30b3",
       "value": "Máximos (18)"
      }
     },
     "b39088c7b2dc4b6580129cfe636aea47": {
      "model_module": "jupyter-js-widgets",
      "model_module_version": "~2.1.4",
      "model_name": "LayoutModel",
      "state": {
       "_model_module_version": "~2.1.4",
       "_view_module_version": "~2.1.4",
       "margin": "5px 2px 0",
       "width": "300px"
      }
     },
     "b3a6fb9bdaa54c6d8991ebe299bcb9fe": {
      "model_module": "jupyter-js-widgets",
      "model_module_version": "~2.1.4",
      "model_name": "LayoutModel",
      "state": {
       "_model_module_version": "~2.1.4",
       "_view_module_version": "~2.1.4",
       "width": "100%"
      }
     },
     "b3d263952b75495890648f08eccac4b4": {
      "model_module": "jupyter-js-widgets",
      "model_module_version": "~2.1.4",
      "model_name": "ButtonModel",
      "state": {
       "_model_module_version": "~2.1.4",
       "_view_module_version": "~2.1.4",
       "description": "Limpiar seleción de ciclos",
       "layout": "IPY_MODEL_fd003f106dbb4bd8bd66eedf94a16463",
       "style": "IPY_MODEL_2000b1a3c32c4530949f82fbf86ce9b8"
      }
     },
     "b3ddb901953d463e8c24214a0280556e": {
      "model_module": "jupyter-js-widgets",
      "model_module_version": "~2.1.4",
      "model_name": "LayoutModel",
      "state": {
       "_model_module_version": "~2.1.4",
       "_view_module_version": "~2.1.4",
       "margin": "5px 2px 0",
       "width": "300px"
      }
     },
     "b3e058e913f1458cab867c8f32b44c68": {
      "model_module": "jupyter-js-widgets",
      "model_module_version": "~2.1.4",
      "model_name": "ButtonModel",
      "state": {
       "_model_module_version": "~2.1.4",
       "_view_module_version": "~2.1.4",
       "description": "Limpiar seleción de ciclos",
       "layout": "IPY_MODEL_9942903062fe46b38bee6e73200f8e35",
       "style": "IPY_MODEL_8b1a02b0c73747639adcbdf33efa8840"
      }
     },
     "b48246339d614b55aa92fde792da6bfd": {
      "model_module": "jupyter-js-widgets",
      "model_module_version": "~2.1.4",
      "model_name": "OutputModel",
      "state": {
       "_dom_classes": [],
       "_model_module": "jupyter-js-widgets",
       "_model_module_version": "~2.1.4",
       "_view_module": "jupyter-js-widgets",
       "_view_module_version": "~2.1.4",
       "layout": "IPY_MODEL_f79a8922598740a6b5677b499a65814b",
       "msg_throttle": 1
      }
     },
     "b4ee2fe8dc8948dbaa6778e01c107567": {
      "model_module": "jupyter-js-widgets",
      "model_module_version": "~2.1.4",
      "model_name": "LayoutModel",
      "state": {
       "_model_module_version": "~2.1.4",
       "_view_module_version": "~2.1.4",
       "margin": "5px 2px 0",
       "width": "300px"
      }
     },
     "b4feeeaeab294d55ac5d419013365dcb": {
      "model_module": "jupyter-js-widgets",
      "model_module_version": "~2.1.4",
      "model_name": "LayoutModel",
      "state": {
       "_model_module_version": "~2.1.4",
       "_view_module_version": "~2.1.4"
      }
     },
     "b50f7c49bd764c549a693f5534bcdf5c": {
      "model_module": "jupyter-js-widgets",
      "model_module_version": "~2.1.4",
      "model_name": "ButtonModel",
      "state": {
       "_model_module_version": "~2.1.4",
       "_view_module_version": "~2.1.4",
       "description": "Limpiar seleción de cyclos",
       "layout": "IPY_MODEL_038e9a39dd43453c990e8714dafa53aa",
       "style": "IPY_MODEL_ba4df158bf5e4816bd714e42265d18f2"
      }
     },
     "b51a75fb973c4d0dae700fea90712445": {
      "model_module": "jupyter-js-widgets",
      "model_module_version": "~2.1.4",
      "model_name": "ButtonModel",
      "state": {
       "_model_module_version": "~2.1.4",
       "_view_module_version": "~2.1.4",
       "description": "Limpiar seleción de máximos",
       "layout": "IPY_MODEL_c62f27ac3bd64fbcb3bbbe40b64ef7e3",
       "style": "IPY_MODEL_0f0e720e60a64c8a9020d0c5968467e2"
      }
     },
     "b53a9129307d46fc9e3e406712241e94": {
      "model_module": "jupyter-js-widgets",
      "model_module_version": "~2.1.4",
      "model_name": "LayoutModel",
      "state": {
       "_model_module_version": "~2.1.4",
       "_view_module_version": "~2.1.4"
      }
     },
     "b5734fdaff31421d9685c46b8fa03ded": {
      "model_module": "jupyter-js-widgets",
      "model_module_version": "~2.1.4",
      "model_name": "LayoutModel",
      "state": {
       "_model_module_version": "~2.1.4",
       "_view_module_version": "~2.1.4"
      }
     },
     "b5758b4e6a704fd791d6e1ffdb860fe0": {
      "model_module": "jupyter-js-widgets",
      "model_module_version": "~2.1.4",
      "model_name": "LayoutModel",
      "state": {
       "_model_module_version": "~2.1.4",
       "_view_module_version": "~2.1.4"
      }
     },
     "b5ae188f2dcc4262b745f65ecf8a674f": {
      "model_module": "jupyter-js-widgets",
      "model_module_version": "~2.1.4",
      "model_name": "LayoutModel",
      "state": {
       "_model_module_version": "~2.1.4",
       "_view_module_version": "~2.1.4"
      }
     },
     "b5d6768ce6be48b5998b8ee9efcac882": {
      "model_module": "jupyter-js-widgets",
      "model_module_version": "~2.1.4",
      "model_name": "SelectMultipleModel",
      "state": {
       "_model_module_version": "~2.1.4",
       "_options_labels": [
        "Cycle  6",
        "Cycle  7",
        "Cycle  8",
        "Cycle  9",
        "Cycle 10",
        "Cycle 11",
        "Cycle 12",
        "Cycle 13",
        "Cycle 14",
        "Cycle 15",
        "Cycle 16",
        "Cycle 17",
        "Cycle 18",
        "Cycle 19",
        "Cycle 20",
        "Cycle 21",
        "Cycle 22",
        "Cycle 23",
        "Cycle 24"
       ],
       "_view_module_version": "~2.1.4",
       "layout": "IPY_MODEL_24ef323877394974b12db9f98ec63892",
       "value": [
        "Cycle  6"
       ]
      }
     },
     "b5e2dbff23234995bc36d8f6eaeef50e": {
      "model_module": "jupyter-js-widgets",
      "model_module_version": "~2.1.4",
      "model_name": "LabelModel",
      "state": {
       "_model_module_version": "~2.1.4",
       "_view_module_version": "~2.1.4",
       "layout": "IPY_MODEL_6252eaaa37dd4aeb9a3f2286ffba98bb",
       "value": "Máximos"
      }
     },
     "b619e0868e5a435583364bf0bce0e615": {
      "model_module": "jupyter-js-widgets",
      "model_module_version": "~2.1.4",
      "model_name": "VBoxModel",
      "state": {
       "_model_module_version": "~2.1.4",
       "_view_module_version": "~2.1.4",
       "children": [
        "IPY_MODEL_04b46add1f7140cd8781b06a6a98dea7",
        "IPY_MODEL_da9f2b22e3ee49928954c02c3be7ffbb"
       ],
       "layout": "IPY_MODEL_844aebc823ec4c5fa858597d2bde0461"
      }
     },
     "b63639fccfe446c2a8bcfcdc648d4d5a": {
      "model_module": "jupyter-js-widgets",
      "model_module_version": "~2.1.4",
      "model_name": "LayoutModel",
      "state": {
       "_model_module_version": "~2.1.4",
       "_view_module_version": "~2.1.4",
       "margin": "5px 2px 0",
       "width": "300px"
      }
     },
     "b64c2d9f4026444aa80f81dba458deaa": {
      "model_module": "jupyter-js-widgets",
      "model_module_version": "~2.1.4",
      "model_name": "LayoutModel",
      "state": {
       "_model_module_version": "~2.1.4",
       "_view_module_version": "~2.1.4",
       "margin": "5px 2px 0",
       "width": "300px"
      }
     },
     "b692920ad16647319d30d88798bd1619": {
      "model_module": "jupyter-js-widgets",
      "model_module_version": "~2.1.4",
      "model_name": "LayoutModel",
      "state": {
       "_model_module_version": "~2.1.4",
       "_view_module_version": "~2.1.4"
      }
     },
     "b6d1fa8db28a463b865df69c4d9797b0": {
      "model_module": "jupyter-js-widgets",
      "model_module_version": "~2.1.4",
      "model_name": "LayoutModel",
      "state": {
       "_model_module_version": "~2.1.4",
       "_view_module_version": "~2.1.4"
      }
     },
     "b6ea1e182b034e2596338e6c8976dc3f": {
      "model_module": "jupyter-js-widgets",
      "model_module_version": "~2.1.4",
      "model_name": "ButtonModel",
      "state": {
       "_model_module_version": "~2.1.4",
       "_view_module_version": "~2.1.4",
       "description": "Eliminar ciclos selecionados",
       "layout": "IPY_MODEL_4177f16d99174d1e8fc2e1bac23a223b",
       "style": "IPY_MODEL_2ac22028a21642bc802dcc6365bd3396"
      }
     },
     "b6f90e6c0f0e4f58ac8b68366c7ca294": {
      "model_module": "jupyter-js-widgets",
      "model_module_version": "~2.1.4",
      "model_name": "LayoutModel",
      "state": {
       "_model_module_version": "~2.1.4",
       "_view_module_version": "~2.1.4"
      }
     },
     "b701b20b88f742b6a3e941959f1659ba": {
      "model_module": "jupyter-js-widgets",
      "model_module_version": "~2.1.4",
      "model_name": "LayoutModel",
      "state": {
       "_model_module_version": "~2.1.4",
       "_view_module_version": "~2.1.4"
      }
     },
     "b7154e2a1a1b47b89b5919aaffb2cd19": {
      "model_module": "jupyter-js-widgets",
      "model_module_version": "~2.1.4",
      "model_name": "ButtonModel",
      "state": {
       "_model_module_version": "~2.1.4",
       "_view_module_version": "~2.1.4",
       "description": "Limpiar seleción de ciclos",
       "layout": "IPY_MODEL_bb03ab0a3d584d3aa1d89759f8c325a1",
       "style": "IPY_MODEL_226c539d0676462ca0fef7298b92e355"
      }
     },
     "b71c0f1e5b584145a9f0f9d628c3c72b": {
      "model_module": "jupyter-js-widgets",
      "model_module_version": "~2.1.4",
      "model_name": "LabelModel",
      "state": {
       "_model_module_version": "~2.1.4",
       "_view_module_version": "~2.1.4",
       "layout": "IPY_MODEL_fe4b708563f44b6dbe339059ad800271",
       "value": "Ciclos solares"
      }
     },
     "b72d7f7c861b405687c6663cfb70f9e9": {
      "model_module": "jupyter-js-widgets",
      "model_module_version": "~2.1.4",
      "model_name": "ButtonStyleModel",
      "state": {
       "_model_module_version": "~2.1.4",
       "_view_module_version": "~2.1.4"
      }
     },
     "b7453762c2844496a7d39b8595ddf7f6": {
      "model_module": "jupyter-js-widgets",
      "model_module_version": "~2.1.4",
      "model_name": "LayoutModel",
      "state": {
       "_model_module_version": "~2.1.4",
       "_view_module_version": "~2.1.4",
       "width": "100%"
      }
     },
     "b7495ee647594582a24735f4ee6387c1": {
      "model_module": "jupyter-js-widgets",
      "model_module_version": "~2.1.4",
      "model_name": "FloatSliderModel",
      "state": {
       "_model_module_version": "~2.1.4",
       "_view_module_version": "~2.1.4",
       "description": "curvature",
       "layout": "IPY_MODEL_600ceb4481134ff3a623825d74b297e0",
       "max": 1,
       "step": 0.01,
       "value": 0.5
      }
     },
     "b74eddd423cc46b1a32e5e393ef86a8d": {
      "model_module": "jupyter-js-widgets",
      "model_module_version": "~2.1.4",
      "model_name": "ButtonModel",
      "state": {
       "_model_module_version": "~2.1.4",
       "_view_module_version": "~2.1.4",
       "description": "Eliminar ciclos selecionados",
       "layout": "IPY_MODEL_793fe96d7606424bbb66c4e70a46c2e8",
       "style": "IPY_MODEL_edc8a5f81d23457eaaeec32d853832d2"
      }
     },
     "b84b5ad78d0a47f2bdca3b98920b2824": {
      "model_module": "jupyter-js-widgets",
      "model_module_version": "~2.1.4",
      "model_name": "SelectMultipleModel",
      "state": {
       "_model_module_version": "~2.1.4",
       "_options_labels": [
        "Cycle  6",
        "Cycle  7",
        "Cycle  8",
        "Cycle  9",
        "Cycle 10",
        "Cycle 11",
        "Cycle 12",
        "Cycle 13",
        "Cycle 14",
        "Cycle 15",
        "Cycle 16",
        "Cycle 17",
        "Cycle 18",
        "Cycle 19",
        "Cycle 20",
        "Cycle 21",
        "Cycle 22",
        "Cycle 23",
        "Cycle 24"
       ],
       "_view_module_version": "~2.1.4",
       "layout": "IPY_MODEL_c8baf6d3520a4baabd25831229a440be",
       "value": [
        "Cycle  7"
       ]
      }
     },
     "b8652082997d4cdc9d39de2b2e40644d": {
      "model_module": "jupyter-js-widgets",
      "model_module_version": "~2.1.4",
      "model_name": "OutputModel",
      "state": {
       "_dom_classes": [],
       "_model_module": "jupyter-js-widgets",
       "_model_module_version": "~2.1.4",
       "_view_module": "jupyter-js-widgets",
       "_view_module_version": "~2.1.4",
       "layout": "IPY_MODEL_dc5355e1747e4547a935243c20e71407",
       "msg_throttle": 1
      }
     },
     "b94ddb76141e4bb2b8fbdca02b825ab7": {
      "model_module": "jupyter-js-widgets",
      "model_module_version": "~2.1.4",
      "model_name": "LayoutModel",
      "state": {
       "_model_module_version": "~2.1.4",
       "_view_module_version": "~2.1.4"
      }
     },
     "b9689f75970c408b9044bcfb12a9250b": {
      "model_module": "jupyter-js-widgets",
      "model_module_version": "~2.1.4",
      "model_name": "LayoutModel",
      "state": {
       "_model_module_version": "~2.1.4",
       "_view_module_version": "~2.1.4",
       "margin": "5px 2px 0",
       "width": "300px"
      }
     },
     "ba3475be7e894abea61ddd62f864440a": {
      "model_module": "jupyter-js-widgets",
      "model_module_version": "~2.1.4",
      "model_name": "LayoutModel",
      "state": {
       "_model_module_version": "~2.1.4",
       "_view_module_version": "~2.1.4"
      }
     },
     "ba4df158bf5e4816bd714e42265d18f2": {
      "model_module": "jupyter-js-widgets",
      "model_module_version": "~2.1.4",
      "model_name": "ButtonStyleModel",
      "state": {
       "_model_module_version": "~2.1.4",
       "_view_module_version": "~2.1.4"
      }
     },
     "ba6a3f29104e47c393c3e0deaa91c513": {
      "model_module": "jupyter-js-widgets",
      "model_module_version": "~2.1.4",
      "model_name": "SelectMultipleModel",
      "state": {
       "_model_module_version": "~2.1.4",
       "_options_labels": [
        "Cycle  6",
        "Cycle  7",
        "Cycle  8",
        "Cycle  9",
        "Cycle 10",
        "Cycle 11",
        "Cycle 12",
        "Cycle 13",
        "Cycle 14",
        "Cycle 15",
        "Cycle 16",
        "Cycle 17",
        "Cycle 18",
        "Cycle 19",
        "Cycle 20",
        "Cycle 21",
        "Cycle 22",
        "Cycle 23",
        "Cycle 24"
       ],
       "_view_module_version": "~2.1.4",
       "layout": "IPY_MODEL_d946e3a0557f486e8ae0aee155462a90",
       "value": [
        "Cycle  6",
        "Cycle  7",
        "Cycle  8",
        "Cycle 24"
       ]
      }
     },
     "ba870341221e4d81bb6f73647827e188": {
      "model_module": "jupyter-js-widgets",
      "model_module_version": "~2.1.4",
      "model_name": "LayoutModel",
      "state": {
       "_model_module_version": "~2.1.4",
       "_view_module_version": "~2.1.4"
      }
     },
     "ba94cc9d8f8d4e9cb4c3f43287dcbcd3": {
      "model_module": "jupyter-js-widgets",
      "model_module_version": "~2.1.4",
      "model_name": "LayoutModel",
      "state": {
       "_model_module_version": "~2.1.4",
       "_view_module_version": "~2.1.4"
      }
     },
     "babfca46c378485c9a54a4fbce32ed07": {
      "model_module": "jupyter-js-widgets",
      "model_module_version": "~2.1.4",
      "model_name": "LayoutModel",
      "state": {
       "_model_module_version": "~2.1.4",
       "_view_module_version": "~2.1.4"
      }
     },
     "bae8bc7045374554a2de38abcfd91505": {
      "model_module": "jupyter-js-widgets",
      "model_module_version": "~2.1.4",
      "model_name": "LayoutModel",
      "state": {
       "_model_module_version": "~2.1.4",
       "_view_module_version": "~2.1.4",
       "width": "100%"
      }
     },
     "bb03ab0a3d584d3aa1d89759f8c325a1": {
      "model_module": "jupyter-js-widgets",
      "model_module_version": "~2.1.4",
      "model_name": "LayoutModel",
      "state": {
       "_model_module_version": "~2.1.4",
       "_view_module_version": "~2.1.4",
       "margin": "5px 2px 0",
       "width": "300px"
      }
     },
     "bb111ed45ed44e43b661abc9906667c6": {
      "model_module": "jupyter-js-widgets",
      "model_module_version": "~2.1.4",
      "model_name": "ButtonStyleModel",
      "state": {
       "_model_module_version": "~2.1.4",
       "_view_module_version": "~2.1.4"
      }
     },
     "bb17127b19174e958f4281710a847e5c": {
      "model_module": "jupyter-js-widgets",
      "model_module_version": "~2.1.4",
      "model_name": "ButtonModel",
      "state": {
       "_model_module_version": "~2.1.4",
       "_view_module_version": "~2.1.4",
       "description": "Eliminar ciclos selecionados",
       "layout": "IPY_MODEL_2ded3642be494a77b0f209857abccb2b",
       "style": "IPY_MODEL_c9557c3eebeb42f1a63ab01d2c7968b9"
      }
     },
     "bb83e09563fe468a95055e48b6d0cc70": {
      "model_module": "jupyter-js-widgets",
      "model_module_version": "~2.1.4",
      "model_name": "LayoutModel",
      "state": {
       "_model_module_version": "~2.1.4",
       "_view_module_version": "~2.1.4",
       "width": "100%"
      }
     },
     "bb93bec7cd394f609be8e357049f76eb": {
      "model_module": "jupyter-js-widgets",
      "model_module_version": "~2.1.4",
      "model_name": "SelectMultipleModel",
      "state": {
       "_model_module_version": "~2.1.4",
       "_options_labels": [
        "Cycle  6",
        "Cycle  7",
        "Cycle  8",
        "Cycle  9",
        "Cycle 10",
        "Cycle 11",
        "Cycle 12",
        "Cycle 13",
        "Cycle 14",
        "Cycle 15",
        "Cycle 16",
        "Cycle 17",
        "Cycle 18",
        "Cycle 19",
        "Cycle 20",
        "Cycle 21",
        "Cycle 22",
        "Cycle 23",
        "Cycle 24"
       ],
       "_view_module_version": "~2.1.4",
       "layout": "IPY_MODEL_ea70bc2b3f304d83afec40e648a85b54",
       "value": []
      }
     },
     "bbdfca5c6fed49028f6087250b8bc34d": {
      "model_module": "jupyter-js-widgets",
      "model_module_version": "~2.1.4",
      "model_name": "OutputModel",
      "state": {
       "_dom_classes": [],
       "_model_module": "jupyter-js-widgets",
       "_model_module_version": "~2.1.4",
       "_view_module": "jupyter-js-widgets",
       "_view_module_version": "~2.1.4",
       "layout": "IPY_MODEL_eb8f284c38564778b4c13a7944b37cb5",
       "msg_throttle": 1
      }
     },
     "bbecaa3da6de4228b58a0c2e7149bf92": {
      "model_module": "jupyter-js-widgets",
      "model_module_version": "~2.1.4",
      "model_name": "ButtonStyleModel",
      "state": {
       "_model_module_version": "~2.1.4",
       "_view_module_version": "~2.1.4"
      }
     },
     "bc7e6d9fad5d49bca88908cbafe15319": {
      "model_module": "jupyter-js-widgets",
      "model_module_version": "~2.1.4",
      "model_name": "LayoutModel",
      "state": {
       "_model_module_version": "~2.1.4",
       "_view_module_version": "~2.1.4",
       "width": "100%"
      }
     },
     "bca96533a89a4d4580bdbb3159040a20": {
      "model_module": "jupyter-js-widgets",
      "model_module_version": "~2.1.4",
      "model_name": "LayoutModel",
      "state": {
       "_model_module_version": "~2.1.4",
       "_view_module_version": "~2.1.4"
      }
     },
     "bcbe5c56435c43b1aed4fc6dd9e3d219": {
      "model_module": "jupyter-js-widgets",
      "model_module_version": "~2.1.4",
      "model_name": "OutputModel",
      "state": {
       "_dom_classes": [],
       "_model_module": "jupyter-js-widgets",
       "_model_module_version": "~2.1.4",
       "_view_module": "jupyter-js-widgets",
       "_view_module_version": "~2.1.4",
       "layout": "IPY_MODEL_318d468306c047bfac5e4e0c8e118c76",
       "msg_throttle": 1
      }
     },
     "bcd67de791c94863ab423f80aaf84ad7": {
      "model_module": "jupyter-js-widgets",
      "model_module_version": "~2.1.4",
      "model_name": "LayoutModel",
      "state": {
       "_model_module_version": "~2.1.4",
       "_view_module_version": "~2.1.4"
      }
     },
     "bda0579d55b64496a8af5edabe41a9fb": {
      "model_module": "jupyter-js-widgets",
      "model_module_version": "~2.1.4",
      "model_name": "VBoxModel",
      "state": {
       "_model_module_version": "~2.1.4",
       "_view_module_version": "~2.1.4",
       "children": [
        "IPY_MODEL_c79a099e2dbe49aea9942e95ad813f74",
        "IPY_MODEL_87620d0eaead4b86939e17113cdf5257",
        "IPY_MODEL_0c1d0e0a40924d2a87bd853bf6474957",
        "IPY_MODEL_cedf6100dd1e452aa5dc3b200c3f1862",
        "IPY_MODEL_c5f6fd218899443d993b7eff55356ccb"
       ],
       "layout": "IPY_MODEL_dd5b7a54ef5c4e5c94ae7c1be7ae16ef"
      }
     },
     "bdccece93739471885fd3ab8aff6e07e": {
      "model_module": "jupyter-js-widgets",
      "model_module_version": "~2.1.4",
      "model_name": "LayoutModel",
      "state": {
       "_model_module_version": "~2.1.4",
       "_view_module_version": "~2.1.4",
       "margin": "5px 2px 0",
       "width": "300px"
      }
     },
     "be4cdf6075fa48cfad5edf069d595e1d": {
      "model_module": "jupyter-js-widgets",
      "model_module_version": "~2.1.4",
      "model_name": "ButtonModel",
      "state": {
       "_model_module_version": "~2.1.4",
       "_view_module_version": "~2.1.4",
       "description": "Eliminar ciclos selecionados",
       "layout": "IPY_MODEL_961aa544092f4aecb81820da21e4d649",
       "style": "IPY_MODEL_fdebaf66cb354e15a2b6cc24bd9bfb8a"
      }
     },
     "bec0f62d786b47e3aae85dc827f68c5d": {
      "model_module": "jupyter-js-widgets",
      "model_module_version": "~2.1.4",
      "model_name": "ButtonModel",
      "state": {
       "_model_module_version": "~2.1.4",
       "_view_module_version": "~2.1.4",
       "description": "Eliminar ciclos selecionados",
       "layout": "IPY_MODEL_c320ac3a41544f949acd41020a4711da",
       "style": "IPY_MODEL_70e75de8ec184c68b34da5551150b4c2"
      }
     },
     "bf4e9b8a95c14314a41516df7c084299": {
      "model_module": "jupyter-js-widgets",
      "model_module_version": "~2.1.4",
      "model_name": "VBoxModel",
      "state": {
       "_model_module_version": "~2.1.4",
       "_view_module_version": "~2.1.4",
       "children": [
        "IPY_MODEL_692164b6bf9e4bd29430507c23fddae7",
        "IPY_MODEL_24bb794301f74a188f7f4d71c52527c0",
        "IPY_MODEL_2e193c6d1c894f5d800713498cfdadd5",
        "IPY_MODEL_768af1a0bf1e4c7495b5fb3e058af75d",
        "IPY_MODEL_d62d846394c041b89f21a1577298a903"
       ],
       "layout": "IPY_MODEL_dc7629ca817343b185338d149d6ef435"
      }
     },
     "bf7a5e298cc24f9ba83fb3fb7c87a99d": {
      "model_module": "jupyter-js-widgets",
      "model_module_version": "~2.1.4",
      "model_name": "LabelModel",
      "state": {
       "_model_module_version": "~2.1.4",
       "_view_module_version": "~2.1.4",
       "layout": "IPY_MODEL_babfca46c378485c9a54a4fbce32ed07",
       "value": "Lookahead"
      }
     },
     "bf8ff7843ba34ddb8bd7149c029d0f14": {
      "model_module": "jupyter-js-widgets",
      "model_module_version": "~2.1.4",
      "model_name": "ButtonStyleModel",
      "state": {
       "_model_module_version": "~2.1.4",
       "_view_module_version": "~2.1.4"
      }
     },
     "c01f0f79d316453f99d348667db69389": {
      "model_module": "jupyter-js-widgets",
      "model_module_version": "~2.1.4",
      "model_name": "OutputModel",
      "state": {
       "_dom_classes": [],
       "_model_module": "jupyter-js-widgets",
       "_model_module_version": "~2.1.4",
       "_view_module": "jupyter-js-widgets",
       "_view_module_version": "~2.1.4",
       "layout": "IPY_MODEL_2523f262dfbe4166a0ca5a8377cd567d",
       "msg_throttle": 1
      }
     },
     "c04bf0736d97480a8503c18d53bb74fc": {
      "model_module": "jupyter-js-widgets",
      "model_module_version": "~2.1.4",
      "model_name": "ButtonModel",
      "state": {
       "_model_module_version": "~2.1.4",
       "_view_module_version": "~2.1.4",
       "description": "Eliminar ciclos selecionados",
       "layout": "IPY_MODEL_98566d8f04a74b9684351759fc07d4ef",
       "style": "IPY_MODEL_92517efe4d364e94a8649d06e7b7f610"
      }
     },
     "c0ff19a729d44859a1fa92c9dee9d731": {
      "model_module": "jupyter-js-widgets",
      "model_module_version": "~2.1.4",
      "model_name": "ButtonStyleModel",
      "state": {
       "_model_module_version": "~2.1.4",
       "_view_module_version": "~2.1.4"
      }
     },
     "c10b8e2630984ea293c0add6d784851f": {
      "model_module": "jupyter-js-widgets",
      "model_module_version": "~2.1.4",
      "model_name": "LayoutModel",
      "state": {
       "_model_module_version": "~2.1.4",
       "_view_module_version": "~2.1.4",
       "margin": "5px 2px 0",
       "width": "300px"
      }
     },
     "c1121a822bb94855b93d0fe8747294ff": {
      "model_module": "jupyter-js-widgets",
      "model_module_version": "~2.1.4",
      "model_name": "LayoutModel",
      "state": {
       "_model_module_version": "~2.1.4",
       "_view_module_version": "~2.1.4"
      }
     },
     "c19951b5d3fe4812be5a763401cba568": {
      "model_module": "jupyter-js-widgets",
      "model_module_version": "~2.1.4",
      "model_name": "ButtonStyleModel",
      "state": {
       "_model_module_version": "~2.1.4",
       "_view_module_version": "~2.1.4"
      }
     },
     "c1cd38e6b75b461dbde97882e4f6702f": {
      "model_module": "jupyter-js-widgets",
      "model_module_version": "~2.1.4",
      "model_name": "LayoutModel",
      "state": {
       "_model_module_version": "~2.1.4",
       "_view_module_version": "~2.1.4",
       "margin": "5px 2px 0",
       "width": "300px"
      }
     },
     "c223218cc87a4a918afc09f743d0a11e": {
      "model_module": "jupyter-js-widgets",
      "model_module_version": "~2.1.4",
      "model_name": "LayoutModel",
      "state": {
       "_model_module_version": "~2.1.4",
       "_view_module_version": "~2.1.4",
       "width": "100%"
      }
     },
     "c2279021642d4b66b51294d0e90fc654": {
      "model_module": "jupyter-js-widgets",
      "model_module_version": "~2.1.4",
      "model_name": "CheckboxModel",
      "state": {
       "_model_module_version": "~2.1.4",
       "_view_module_version": "~2.1.4",
       "description": "Cycle 23",
       "disabled": false,
       "layout": "IPY_MODEL_aa022e257d174ae49f25b77784c0127c",
       "value": true
      }
     },
     "c25c39a597fa4391a9bae2e62eae42c2": {
      "model_module": "jupyter-js-widgets",
      "model_module_version": "~2.1.4",
      "model_name": "LayoutModel",
      "state": {
       "_model_module_version": "~2.1.4",
       "_view_module_version": "~2.1.4",
       "margin": "5px 2px 0",
       "width": "300px"
      }
     },
     "c2738bd300e34990bea7f9ca6ecdd451": {
      "model_module": "jupyter-js-widgets",
      "model_module_version": "~2.1.4",
      "model_name": "LayoutModel",
      "state": {
       "_model_module_version": "~2.1.4",
       "_view_module_version": "~2.1.4"
      }
     },
     "c2ae8cced4a84268b4cf3c3283a3ffba": {
      "model_module": "jupyter-js-widgets",
      "model_module_version": "~2.1.4",
      "model_name": "LabelModel",
      "state": {
       "_model_module_version": "~2.1.4",
       "_view_module_version": "~2.1.4",
       "layout": "IPY_MODEL_b3a6fb9bdaa54c6d8991ebe299bcb9fe",
       "value": "Ciclos solares"
      }
     },
     "c320ac3a41544f949acd41020a4711da": {
      "model_module": "jupyter-js-widgets",
      "model_module_version": "~2.1.4",
      "model_name": "LayoutModel",
      "state": {
       "_model_module_version": "~2.1.4",
       "_view_module_version": "~2.1.4",
       "margin": "5px 2px 0",
       "width": "300px"
      }
     },
     "c3624e223404483d80a883e234af85d2": {
      "model_module": "jupyter-js-widgets",
      "model_module_version": "~2.1.4",
      "model_name": "ButtonStyleModel",
      "state": {
       "_model_module_version": "~2.1.4",
       "_view_module_version": "~2.1.4"
      }
     },
     "c36e7b10b6e4432e888142c07ee25626": {
      "model_module": "jupyter-js-widgets",
      "model_module_version": "~2.1.4",
      "model_name": "OutputModel",
      "state": {
       "_dom_classes": [],
       "_model_module": "jupyter-js-widgets",
       "_model_module_version": "~2.1.4",
       "_view_module": "jupyter-js-widgets",
       "_view_module_version": "~2.1.4",
       "layout": "IPY_MODEL_81357ae9a94245dba2d2e6090fabc17a",
       "msg_throttle": 1
      }
     },
     "c3d9460289e443428ba1530cde51fb25": {
      "model_module": "jupyter-js-widgets",
      "model_module_version": "~2.1.4",
      "model_name": "LayoutModel",
      "state": {
       "_model_module_version": "~2.1.4",
       "_view_module_version": "~2.1.4",
       "margin": "5px 2px 0",
       "width": "300px"
      }
     },
     "c403ffc678454980883ee51ce030b4d6": {
      "model_module": "jupyter-js-widgets",
      "model_module_version": "~2.1.4",
      "model_name": "SelectMultipleModel",
      "state": {
       "_model_module_version": "~2.1.4",
       "_options_labels": [
        "Cycle  6",
        "Cycle  7",
        "Cycle  8",
        "Cycle  9",
        "Cycle 10",
        "Cycle 11",
        "Cycle 12",
        "Cycle 13",
        "Cycle 14",
        "Cycle 15",
        "Cycle 16",
        "Cycle 17",
        "Cycle 18",
        "Cycle 19",
        "Cycle 20",
        "Cycle 21",
        "Cycle 22",
        "Cycle 23",
        "Cycle 24"
       ],
       "_view_module_version": "~2.1.4",
       "layout": "IPY_MODEL_f7d4ec7beaba4b81af6eca77fd35d80b",
       "value": [
        "Cycle  6",
        "Cycle  7",
        "Cycle  8",
        "Cycle 24"
       ]
      }
     },
     "c40406fcd3e344b4bfd2402eb13bfe46": {
      "model_module": "jupyter-js-widgets",
      "model_module_version": "~2.1.4",
      "model_name": "LayoutModel",
      "state": {
       "_model_module_version": "~2.1.4",
       "_view_module_version": "~2.1.4"
      }
     },
     "c407ed8153dd4417b414c51fb491c2e8": {
      "model_module": "jupyter-js-widgets",
      "model_module_version": "~2.1.4",
      "model_name": "VBoxModel",
      "state": {
       "_model_module_version": "~2.1.4",
       "_view_module_version": "~2.1.4",
       "children": [
        "IPY_MODEL_6afbe1781fde4e08894b24098ff87c08",
        "IPY_MODEL_aa9b66fa1d934552b2d90f0e1ff0021e",
        "IPY_MODEL_5fbd3d7773be436e884091a6d473a163",
        "IPY_MODEL_a44ce4a388f54cd98ade2f9374847c2b",
        "IPY_MODEL_19406580481047ad97e216f75003e9d2",
        "IPY_MODEL_dda44b8cf71a41c5af8c88b26ab9e988",
        "IPY_MODEL_6939fe891093446c83e2fd11c2f69ced",
        "IPY_MODEL_575fd29c324443ecb6dc5a3948314b46",
        "IPY_MODEL_70d313873a83422c8724e2c601d0ab73",
        "IPY_MODEL_0d7690f50d5540f7a41bb546c56893b2",
        "IPY_MODEL_7b46d536d1c24fb5b95baa6612b85471",
        "IPY_MODEL_3e51f6500ccc4caaa966c837fb8cf492",
        "IPY_MODEL_0e1dd57358b5478cb132163a409c62af",
        "IPY_MODEL_64097ab1d18a497abbf5c2d3178b2b4f",
        "IPY_MODEL_54acd9c875b0489db5961f5d25021039",
        "IPY_MODEL_ed9a97b7ef5642f8be70bb4500745922",
        "IPY_MODEL_772f06a8f57d4c3ab0112ad4f058bf5c",
        "IPY_MODEL_c2279021642d4b66b51294d0e90fc654",
        "IPY_MODEL_c79bfbce675d4e97830e8623956a99e0"
       ],
       "layout": "IPY_MODEL_86d9237413cd4bd3ae3846f666539284"
      }
     },
     "c42893e332fa41299f3d94774216c0c8": {
      "model_module": "jupyter-js-widgets",
      "model_module_version": "~2.1.4",
      "model_name": "LayoutModel",
      "state": {
       "_model_module_version": "~2.1.4",
       "_view_module_version": "~2.1.4"
      }
     },
     "c43934d4699f44a6b51b7a69f0e855e6": {
      "model_module": "jupyter-js-widgets",
      "model_module_version": "~2.1.4",
      "model_name": "LayoutModel",
      "state": {
       "_model_module_version": "~2.1.4",
       "_view_module_version": "~2.1.4"
      }
     },
     "c49cab03b0054867a2f953d2f6c69358": {
      "model_module": "jupyter-js-widgets",
      "model_module_version": "~2.1.4",
      "model_name": "OutputModel",
      "state": {
       "_dom_classes": [],
       "_model_module": "jupyter-js-widgets",
       "_model_module_version": "~2.1.4",
       "_view_module": "jupyter-js-widgets",
       "_view_module_version": "~2.1.4",
       "layout": "IPY_MODEL_33c8a813bdce4efeac9cc4abe130e271",
       "msg_throttle": 1
      }
     },
     "c4ce14a678ab4fa9b71897662c81c2c7": {
      "model_module": "jupyter-js-widgets",
      "model_module_version": "~2.1.4",
      "model_name": "ButtonModel",
      "state": {
       "_model_module_version": "~2.1.4",
       "_view_module_version": "~2.1.4",
       "description": "Limpiar seleción de ciclos",
       "layout": "IPY_MODEL_71297ed271c84c0abe6f08cd0d9fe2d3",
       "style": "IPY_MODEL_f39e564203c8491f98a7ed64c12c5e7a"
      }
     },
     "c5502bf9673942b1b2cc55ef15056b1b": {
      "model_module": "jupyter-js-widgets",
      "model_module_version": "~2.1.4",
      "model_name": "ButtonModel",
      "state": {
       "_model_module_version": "~2.1.4",
       "_view_module_version": "~2.1.4",
       "description": "Eliminar ciclos selecionados",
       "layout": "IPY_MODEL_29919d85d1134c0082bcf3c816929f4a",
       "style": "IPY_MODEL_90eb5075a407462aaccacec8c4c8d0f9"
      }
     },
     "c555eeca56e14f07a5b2fbdb08faa4a7": {
      "model_module": "jupyter-js-widgets",
      "model_module_version": "~2.1.4",
      "model_name": "LayoutModel",
      "state": {
       "_model_module_version": "~2.1.4",
       "_view_module_version": "~2.1.4",
       "margin": "5px 2px 0",
       "width": "300px"
      }
     },
     "c56ab021680f4ec1802b5135f37a6732": {
      "model_module": "jupyter-js-widgets",
      "model_module_version": "~2.1.4",
      "model_name": "LayoutModel",
      "state": {
       "_model_module_version": "~2.1.4",
       "_view_module_version": "~2.1.4"
      }
     },
     "c57fb59d517a4233a6cdc55950fe02b7": {
      "model_module": "jupyter-js-widgets",
      "model_module_version": "~2.1.4",
      "model_name": "LayoutModel",
      "state": {
       "_model_module_version": "~2.1.4",
       "_view_module_version": "~2.1.4",
       "margin": "5px 2px 0",
       "width": "300px"
      }
     },
     "c5f6fd218899443d993b7eff55356ccb": {
      "model_module": "jupyter-js-widgets",
      "model_module_version": "~2.1.4",
      "model_name": "OutputModel",
      "state": {
       "_dom_classes": [],
       "_model_module": "jupyter-js-widgets",
       "_model_module_version": "~2.1.4",
       "_view_module": "jupyter-js-widgets",
       "_view_module_version": "~2.1.4",
       "layout": "IPY_MODEL_010c85ff88c84e5d8806ddf1b5adf21f",
       "msg_throttle": 1
      }
     },
     "c62f27ac3bd64fbcb3bbbe40b64ef7e3": {
      "model_module": "jupyter-js-widgets",
      "model_module_version": "~2.1.4",
      "model_name": "LayoutModel",
      "state": {
       "_model_module_version": "~2.1.4",
       "_view_module_version": "~2.1.4",
       "margin": "5px 2px 0",
       "width": "300px"
      }
     },
     "c67a8640e4a547d783cc31be0fc46e04": {
      "model_module": "jupyter-js-widgets",
      "model_module_version": "~2.1.4",
      "model_name": "LayoutModel",
      "state": {
       "_model_module_version": "~2.1.4",
       "_view_module_version": "~2.1.4",
       "margin": "5px 2px 0",
       "width": "300px"
      }
     },
     "c6b020ec2fc047cb8b073b06242e8579": {
      "model_module": "jupyter-js-widgets",
      "model_module_version": "~2.1.4",
      "model_name": "LayoutModel",
      "state": {
       "_model_module_version": "~2.1.4",
       "_view_module_version": "~2.1.4",
       "width": "100%"
      }
     },
     "c6c55ddf6ccb438c830bad080bbd72a2": {
      "model_module": "jupyter-js-widgets",
      "model_module_version": "~2.1.4",
      "model_name": "OutputModel",
      "state": {
       "_dom_classes": [],
       "_model_module": "jupyter-js-widgets",
       "_model_module_version": "~2.1.4",
       "_view_module": "jupyter-js-widgets",
       "_view_module_version": "~2.1.4",
       "layout": "IPY_MODEL_b5734fdaff31421d9685c46b8fa03ded",
       "msg_throttle": 1
      }
     },
     "c6cc86b12af54dbfad21583440546a40": {
      "model_module": "jupyter-js-widgets",
      "model_module_version": "~2.1.4",
      "model_name": "LayoutModel",
      "state": {
       "_model_module_version": "~2.1.4",
       "_view_module_version": "~2.1.4"
      }
     },
     "c6f55c4c279e4cb58463bf21a0126ab7": {
      "model_module": "jupyter-js-widgets",
      "model_module_version": "~2.1.4",
      "model_name": "ButtonModel",
      "state": {
       "_model_module_version": "~2.1.4",
       "_view_module_version": "~2.1.4",
       "description": "Limpiar seleción de máximos",
       "layout": "IPY_MODEL_4ae19f9823d9408dbe68d90f33217f3f",
       "style": "IPY_MODEL_0cc71fe297db4f66b8138a15b9beb418"
      }
     },
     "c734648cd2ec4fc19a083bd3eba5d92e": {
      "model_module": "jupyter-js-widgets",
      "model_module_version": "~2.1.4",
      "model_name": "LayoutModel",
      "state": {
       "_model_module_version": "~2.1.4",
       "_view_module_version": "~2.1.4"
      }
     },
     "c77b4edc2e0d44ef89852a6ecb42f24c": {
      "model_module": "jupyter-js-widgets",
      "model_module_version": "~2.1.4",
      "model_name": "LabelModel",
      "state": {
       "_model_module_version": "~2.1.4",
       "_view_module_version": "~2.1.4",
       "layout": "IPY_MODEL_529d97534c7e469d802323a8e7a4ed8a",
       "value": "Ciclos solares"
      }
     },
     "c785d190d00e486588e5b5911461ecfe": {
      "model_module": "jupyter-js-widgets",
      "model_module_version": "~2.1.4",
      "model_name": "ButtonStyleModel",
      "state": {
       "_model_module_version": "~2.1.4",
       "_view_module_version": "~2.1.4"
      }
     },
     "c79a099e2dbe49aea9942e95ad813f74": {
      "model_module": "jupyter-js-widgets",
      "model_module_version": "~2.1.4",
      "model_name": "LabelModel",
      "state": {
       "_model_module_version": "~2.1.4",
       "_view_module_version": "~2.1.4",
       "layout": "IPY_MODEL_fff955ec9bff472e9c57dd8b8591953d",
       "value": "Ciclos solares"
      }
     },
     "c79bfbce675d4e97830e8623956a99e0": {
      "model_module": "jupyter-js-widgets",
      "model_module_version": "~2.1.4",
      "model_name": "CheckboxModel",
      "state": {
       "_model_module_version": "~2.1.4",
       "_view_module_version": "~2.1.4",
       "description": "Cycle 24",
       "disabled": false,
       "layout": "IPY_MODEL_198a1971af934cd9ae8a22cf006a4160",
       "value": true
      }
     },
     "c7e5398a4acb464fa36da8fcb7ea0d7d": {
      "model_module": "jupyter-js-widgets",
      "model_module_version": "~2.1.4",
      "model_name": "LayoutModel",
      "state": {
       "_model_module_version": "~2.1.4",
       "_view_module_version": "~2.1.4"
      }
     },
     "c815cfd1bf4046c48c90a8c6285e4639": {
      "model_module": "jupyter-js-widgets",
      "model_module_version": "~2.1.4",
      "model_name": "SelectMultipleModel",
      "state": {
       "_model_module_version": "~2.1.4",
       "_options_labels": [
        "Cycle  6",
        "Cycle  7",
        "Cycle  8",
        "Cycle  9",
        "Cycle 10",
        "Cycle 11",
        "Cycle 12",
        "Cycle 13",
        "Cycle 14",
        "Cycle 15",
        "Cycle 16",
        "Cycle 17",
        "Cycle 18",
        "Cycle 19",
        "Cycle 20",
        "Cycle 21",
        "Cycle 22",
        "Cycle 23",
        "Cycle 24"
       ],
       "_view_module_version": "~2.1.4",
       "layout": "IPY_MODEL_97c1ef879a004ac89e3ccaa64f528152",
       "value": [
        "Cycle  8"
       ]
      }
     },
     "c834602c6f0a4a93af95832ca7191f3b": {
      "model_module": "jupyter-js-widgets",
      "model_module_version": "~2.1.4",
      "model_name": "VBoxModel",
      "state": {
       "_model_module_version": "~2.1.4",
       "_view_module_version": "~2.1.4",
       "children": [
        "IPY_MODEL_9b7c79e4d90641758729253e8f90589d",
        "IPY_MODEL_43adbafe37fe43618123d66664f4ddba",
        "IPY_MODEL_18e4fd01fcba473299b88f1196249d35"
       ],
       "layout": "IPY_MODEL_17144527a3bc42f285c5ae6aa82601e6"
      }
     },
     "c84cd995af84462192d7ad73e4db7139": {
      "model_module": "jupyter-js-widgets",
      "model_module_version": "~2.1.4",
      "model_name": "VBoxModel",
      "state": {
       "_model_module_version": "~2.1.4",
       "_view_module_version": "~2.1.4",
       "children": [
        "IPY_MODEL_5f8a1c36460c444baf3e64030984f5dd",
        "IPY_MODEL_03735ad8c7404b9194ae343c4e79b922"
       ],
       "layout": "IPY_MODEL_eb165458316e4b15a479a74b007aeb26"
      }
     },
     "c87b652b0b214d0eb172cee8c46abd62": {
      "model_module": "jupyter-js-widgets",
      "model_module_version": "~2.1.4",
      "model_name": "LayoutModel",
      "state": {
       "_model_module_version": "~2.1.4",
       "_view_module_version": "~2.1.4",
       "width": "100%"
      }
     },
     "c8baf6d3520a4baabd25831229a440be": {
      "model_module": "jupyter-js-widgets",
      "model_module_version": "~2.1.4",
      "model_name": "LayoutModel",
      "state": {
       "_model_module_version": "~2.1.4",
       "_view_module_version": "~2.1.4"
      }
     },
     "c8db2e84314146bea4817e591b39eab5": {
      "model_module": "jupyter-js-widgets",
      "model_module_version": "~2.1.4",
      "model_name": "ButtonModel",
      "state": {
       "_model_module_version": "~2.1.4",
       "_view_module_version": "~2.1.4",
       "description": "Eliminar ciclos selecionados",
       "layout": "IPY_MODEL_f8a8e51ef2c34809a14f061fcc3987aa",
       "style": "IPY_MODEL_177fb99f4047406983bbc28e9960ab24"
      }
     },
     "c8e72ce7e66a4ecc909f1db38e46714a": {
      "model_module": "jupyter-js-widgets",
      "model_module_version": "~2.1.4",
      "model_name": "LayoutModel",
      "state": {
       "_model_module_version": "~2.1.4",
       "_view_module_version": "~2.1.4",
       "margin": "5px 2px 0",
       "width": "300px"
      }
     },
     "c9557c3eebeb42f1a63ab01d2c7968b9": {
      "model_module": "jupyter-js-widgets",
      "model_module_version": "~2.1.4",
      "model_name": "ButtonStyleModel",
      "state": {
       "_model_module_version": "~2.1.4",
       "_view_module_version": "~2.1.4"
      }
     },
     "c95c3800651b4a628f3113d3a0085041": {
      "model_module": "jupyter-js-widgets",
      "model_module_version": "~2.1.4",
      "model_name": "LayoutModel",
      "state": {
       "_model_module_version": "~2.1.4",
       "_view_module_version": "~2.1.4",
       "margin": "5px 2px 0",
       "width": "300px"
      }
     },
     "c97209fa657f4f2186fe3d705f1b0b1f": {
      "model_module": "jupyter-js-widgets",
      "model_module_version": "~2.1.4",
      "model_name": "LayoutModel",
      "state": {
       "_model_module_version": "~2.1.4",
       "_view_module_version": "~2.1.4",
       "width": "100%"
      }
     },
     "c98a835ad17a4b03b516bb49a57b86e1": {
      "model_module": "jupyter-js-widgets",
      "model_module_version": "~2.1.4",
      "model_name": "LayoutModel",
      "state": {
       "_model_module_version": "~2.1.4",
       "_view_module_version": "~2.1.4",
       "margin": "5px 2px 0",
       "width": "300px"
      }
     },
     "c9bd157d8db2410dabd279ac758300ea": {
      "model_module": "jupyter-js-widgets",
      "model_module_version": "~2.1.4",
      "model_name": "LayoutModel",
      "state": {
       "_model_module_version": "~2.1.4",
       "_view_module_version": "~2.1.4",
       "width": "100%"
      }
     },
     "c9dd2f4c80234e78986811c2c8f47153": {
      "model_module": "jupyter-js-widgets",
      "model_module_version": "~2.1.4",
      "model_name": "LayoutModel",
      "state": {
       "_model_module_version": "~2.1.4",
       "_view_module_version": "~2.1.4"
      }
     },
     "ca59e64d11ae4788ab6fe19ebc717ff2": {
      "model_module": "jupyter-js-widgets",
      "model_module_version": "~2.1.4",
      "model_name": "LabelModel",
      "state": {
       "_model_module_version": "~2.1.4",
       "_view_module_version": "~2.1.4",
       "layout": "IPY_MODEL_70fb76dce249414d990b8eb9eb0d46fd",
       "value": "Ciclos solares"
      }
     },
     "caafe160776e4995946258e67bd699d3": {
      "model_module": "jupyter-js-widgets",
      "model_module_version": "~2.1.4",
      "model_name": "OutputModel",
      "state": {
       "_dom_classes": [],
       "_model_module": "jupyter-js-widgets",
       "_model_module_version": "~2.1.4",
       "_view_module": "jupyter-js-widgets",
       "_view_module_version": "~2.1.4",
       "layout": "IPY_MODEL_edbba18dc0ec4f22b9f45a3af9100647",
       "msg_throttle": 1
      }
     },
     "cac75e9d9c9d418bb38cb8fb64a92fc9": {
      "model_module": "jupyter-js-widgets",
      "model_module_version": "~2.1.4",
      "model_name": "VBoxModel",
      "state": {
       "_model_module_version": "~2.1.4",
       "_view_module_version": "~2.1.4",
       "children": [
        "IPY_MODEL_c2ae8cced4a84268b4cf3c3283a3ffba",
        "IPY_MODEL_e6642101a6b64fd1a71060dfc0b87e9a",
        "IPY_MODEL_9c737b2f6d10429f84bd6e847712bdd5",
        "IPY_MODEL_63f88f78795c45c08e06f080adef3180",
        "IPY_MODEL_f7f45ad9eb4649e5b30a2af0bbe5c7e1"
       ],
       "layout": "IPY_MODEL_09841a72c1384a16b1d2c54c10446271"
      }
     },
     "cb2c973dbf3548ccbaef96538da66e28": {
      "model_module": "jupyter-js-widgets",
      "model_module_version": "~2.1.4",
      "model_name": "ButtonModel",
      "state": {
       "_model_module_version": "~2.1.4",
       "_view_module_version": "~2.1.4",
       "button_style": "success",
       "description": "Eliminar ciclos selecionados",
       "layout": "IPY_MODEL_b3ddb901953d463e8c24214a0280556e",
       "style": "IPY_MODEL_87f3fe4b06ad485e871ebe9bbe241669"
      }
     },
     "cbf3a789aec3407282aa400fecc71cd1": {
      "model_module": "jupyter-js-widgets",
      "model_module_version": "~2.1.4",
      "model_name": "ButtonModel",
      "state": {
       "_model_module_version": "~2.1.4",
       "_view_module_version": "~2.1.4",
       "description": "Limpiar seleción de ciclos",
       "layout": "IPY_MODEL_86180b5071174760ac147cd52d649d38",
       "style": "IPY_MODEL_327be704f9ed4abb8eec2a6071ae3b95"
      }
     },
     "cc3a1ba26ade418092cdb4dd1a4fd2f4": {
      "model_module": "jupyter-js-widgets",
      "model_module_version": "~2.1.4",
      "model_name": "IntSliderModel",
      "state": {
       "_model_module_version": "~2.1.4",
       "_view_module_version": "~2.1.4",
       "layout": "IPY_MODEL_2b81e05214074e28b93f76b6562f15d8",
       "min": 1,
       "style": "IPY_MODEL_f49a149d8c82420989d84ee86b6b17b2",
       "value": 1
      }
     },
     "cc6c4c0428fe4f3f9acbc5651d207e1e": {
      "model_module": "jupyter-js-widgets",
      "model_module_version": "~2.1.4",
      "model_name": "LayoutModel",
      "state": {
       "_model_module_version": "~2.1.4",
       "_view_module_version": "~2.1.4"
      }
     },
     "ccd67c05a305412da774b3d8a5fb2ba0": {
      "model_module": "jupyter-js-widgets",
      "model_module_version": "~2.1.4",
      "model_name": "SliderStyleModel",
      "state": {
       "_model_module_version": "~2.1.4",
       "_view_module_version": "~2.1.4"
      }
     },
     "ccf99ab8f4e749bb8dd9acd3e37d0381": {
      "model_module": "jupyter-js-widgets",
      "model_module_version": "~2.1.4",
      "model_name": "VBoxModel",
      "state": {
       "_model_module_version": "~2.1.4",
       "_view_module_version": "~2.1.4",
       "children": [
        "IPY_MODEL_1a18f27f18ab468a93088ee30c165beb",
        "IPY_MODEL_af60f67fc5634263bec9bab929194ff9",
        "IPY_MODEL_dac5e8afda6b40eea8f29b9d9fc68522",
        "IPY_MODEL_51470d309f5c4003a09b98494c466209",
        "IPY_MODEL_5f09287a446a41c385dea5ee748578aa"
       ],
       "layout": "IPY_MODEL_00265e4202c647b9857c8e341823cf11"
      }
     },
     "cd0f4d038875496ea37ad75fc77d30b3": {
      "model_module": "jupyter-js-widgets",
      "model_module_version": "~2.1.4",
      "model_name": "LayoutModel",
      "state": {
       "_model_module_version": "~2.1.4",
       "_view_module_version": "~2.1.4",
       "width": "100%"
      }
     },
     "cd0fb6ea711c4e55a8ea58b70f5f2301": {
      "model_module": "jupyter-js-widgets",
      "model_module_version": "~2.1.4",
      "model_name": "LayoutModel",
      "state": {
       "_model_module_version": "~2.1.4",
       "_view_module_version": "~2.1.4"
      }
     },
     "cd3cdc01b9d94c62a77b07d52a2ce992": {
      "model_module": "jupyter-js-widgets",
      "model_module_version": "~2.1.4",
      "model_name": "ButtonModel",
      "state": {
       "_model_module_version": "~2.1.4",
       "_view_module_version": "~2.1.4",
       "description": "Limpiar seleción de ciclos",
       "layout": "IPY_MODEL_f11f96c2ca8e4174ad57bdee20361a82",
       "style": "IPY_MODEL_17efebb527dc42008a92f63181475bb7"
      }
     },
     "cd44a923c522442ea1be789df1633e73": {
      "model_module": "jupyter-js-widgets",
      "model_module_version": "~2.1.4",
      "model_name": "LayoutModel",
      "state": {
       "_model_module_version": "~2.1.4",
       "_view_module_version": "~2.1.4",
       "width": "100%"
      }
     },
     "cd47a296f9864b4dab4b1811b0e328dc": {
      "model_module": "jupyter-js-widgets",
      "model_module_version": "~2.1.4",
      "model_name": "LayoutModel",
      "state": {
       "_model_module_version": "~2.1.4",
       "_view_module_version": "~2.1.4",
       "margin": "5px 2px 0",
       "width": "300px"
      }
     },
     "cd615a551f864df8a510cf2ef9dc9dbc": {
      "model_module": "jupyter-js-widgets",
      "model_module_version": "~2.1.4",
      "model_name": "LabelModel",
      "state": {
       "_model_module_version": "~2.1.4",
       "_view_module_version": "~2.1.4",
       "layout": "IPY_MODEL_d4c90416c7f243dd86493d496c3e9708",
       "value": "Ciclos solares"
      }
     },
     "cdc23fcf2f544f2ca29cd8648843391e": {
      "model_module": "jupyter-js-widgets",
      "model_module_version": "~2.1.4",
      "model_name": "LayoutModel",
      "state": {
       "_model_module_version": "~2.1.4",
       "_view_module_version": "~2.1.4"
      }
     },
     "cddcfcf6791a45f3ab18d71385fd6f11": {
      "model_module": "jupyter-js-widgets",
      "model_module_version": "~2.1.4",
      "model_name": "LayoutModel",
      "state": {
       "_model_module_version": "~2.1.4",
       "_view_module_version": "~2.1.4",
       "margin": "5px 2px 0",
       "width": "300px"
      }
     },
     "cde6f89e941f44cd808b6259fb5ec6f7": {
      "model_module": "jupyter-js-widgets",
      "model_module_version": "~2.1.4",
      "model_name": "ButtonStyleModel",
      "state": {
       "_model_module_version": "~2.1.4",
       "_view_module_version": "~2.1.4"
      }
     },
     "cdedb83237a7458dbe983ff921c4485f": {
      "model_module": "jupyter-js-widgets",
      "model_module_version": "~2.1.4",
      "model_name": "HBoxModel",
      "state": {
       "_model_module_version": "~2.1.4",
       "_view_module_version": "~2.1.4",
       "children": [
        "IPY_MODEL_7879812721c148f5aaecdc2a6baecc17",
        "IPY_MODEL_667949c3522f4b9bbcacf051a2d424d1"
       ],
       "layout": "IPY_MODEL_8bc88985fe5045be957ebd9f829106ed"
      }
     },
     "ce4e48c7aeb841c88796d996e1371a4e": {
      "model_module": "jupyter-js-widgets",
      "model_module_version": "~2.1.4",
      "model_name": "LayoutModel",
      "state": {
       "_model_module_version": "~2.1.4",
       "_view_module_version": "~2.1.4",
       "width": "100%"
      }
     },
     "ce72e0c731a34188a1a8cdbe641577e2": {
      "model_module": "jupyter-js-widgets",
      "model_module_version": "~2.1.4",
      "model_name": "LayoutModel",
      "state": {
       "_model_module_version": "~2.1.4",
       "_view_module_version": "~2.1.4"
      }
     },
     "cec4ba38d9d5471093fb1e0b47a70ee7": {
      "model_module": "jupyter-js-widgets",
      "model_module_version": "~2.1.4",
      "model_name": "LayoutModel",
      "state": {
       "_model_module_version": "~2.1.4",
       "_view_module_version": "~2.1.4"
      }
     },
     "ced9d87421974a448e6fda02de513f7f": {
      "model_module": "jupyter-js-widgets",
      "model_module_version": "~2.1.4",
      "model_name": "SliderStyleModel",
      "state": {
       "_model_module_version": "~2.1.4",
       "_view_module_version": "~2.1.4"
      }
     },
     "cedf6100dd1e452aa5dc3b200c3f1862": {
      "model_module": "jupyter-js-widgets",
      "model_module_version": "~2.1.4",
      "model_name": "ButtonModel",
      "state": {
       "_model_module_version": "~2.1.4",
       "_view_module_version": "~2.1.4",
       "description": "Eliminar ciclos selecionados",
       "layout": "IPY_MODEL_3dde6b14f1904d7f8bea463deecb2d47",
       "style": "IPY_MODEL_f2828daed592441eaab0174a33156de0"
      }
     },
     "ceef3bffb17b44558f08c440d90bca00": {
      "model_module": "jupyter-js-widgets",
      "model_module_version": "~2.1.4",
      "model_name": "LayoutModel",
      "state": {
       "_model_module_version": "~2.1.4",
       "_view_module_version": "~2.1.4"
      }
     },
     "cf405625441b4e9a8b893bc50d960345": {
      "model_module": "jupyter-js-widgets",
      "model_module_version": "~2.1.4",
      "model_name": "LayoutModel",
      "state": {
       "_model_module_version": "~2.1.4",
       "_view_module_version": "~2.1.4"
      }
     },
     "cf666af6d05440bc94a4b1df43b540d5": {
      "model_module": "jupyter-js-widgets",
      "model_module_version": "~2.1.4",
      "model_name": "LayoutModel",
      "state": {
       "_model_module_version": "~2.1.4",
       "_view_module_version": "~2.1.4",
       "margin": "5px 2px 0",
       "width": "300px"
      }
     },
     "cf6edc3d19a9449dbdf73afecc23a64d": {
      "model_module": "jupyter-js-widgets",
      "model_module_version": "~2.1.4",
      "model_name": "LayoutModel",
      "state": {
       "_model_module_version": "~2.1.4",
       "_view_module_version": "~2.1.4",
       "margin": "5px 2px 0",
       "width": "300px"
      }
     },
     "d005f44582a543a1983333e92413cff5": {
      "model_module": "jupyter-js-widgets",
      "model_module_version": "~2.1.4",
      "model_name": "LayoutModel",
      "state": {
       "_model_module_version": "~2.1.4",
       "_view_module_version": "~2.1.4"
      }
     },
     "d039d94dbab64e588e8055feb1df56d3": {
      "model_module": "jupyter-js-widgets",
      "model_module_version": "~2.1.4",
      "model_name": "SelectMultipleModel",
      "state": {
       "_model_module_version": "~2.1.4",
       "_options_labels": [
        "Cycle  6",
        "Cycle  7",
        "Cycle  8",
        "Cycle  9",
        "Cycle 10",
        "Cycle 11",
        "Cycle 12",
        "Cycle 13",
        "Cycle 14",
        "Cycle 15",
        "Cycle 16",
        "Cycle 17",
        "Cycle 18",
        "Cycle 19",
        "Cycle 20",
        "Cycle 21",
        "Cycle 22",
        "Cycle 23",
        "Cycle 24"
       ],
       "_view_module_version": "~2.1.4",
       "layout": "IPY_MODEL_b701b20b88f742b6a3e941959f1659ba",
       "value": [
        "Cycle  6",
        "Cycle  7",
        "Cycle  8",
        "Cycle 24"
       ]
      }
     },
     "d04fb4d1bb46490094d3d8d2e1a9b4e5": {
      "model_module": "jupyter-js-widgets",
      "model_module_version": "~2.1.4",
      "model_name": "LabelModel",
      "state": {
       "_model_module_version": "~2.1.4",
       "_view_module_version": "~2.1.4",
       "layout": "IPY_MODEL_c223218cc87a4a918afc09f743d0a11e",
       "value": "Ciclos solares"
      }
     },
     "d07403ddcde24af5b6523776bd6d32f8": {
      "model_module": "jupyter-js-widgets",
      "model_module_version": "~2.1.4",
      "model_name": "SelectMultipleModel",
      "state": {
       "_model_module_version": "~2.1.4",
       "_options_labels": [
        "Cycle  6",
        "Cycle  7",
        "Cycle  8",
        "Cycle  9",
        "Cycle 10",
        "Cycle 11",
        "Cycle 12",
        "Cycle 13",
        "Cycle 14",
        "Cycle 15",
        "Cycle 16",
        "Cycle 17",
        "Cycle 18",
        "Cycle 19",
        "Cycle 20",
        "Cycle 21",
        "Cycle 22",
        "Cycle 23",
        "Cycle 24"
       ],
       "_view_module_version": "~2.1.4",
       "layout": "IPY_MODEL_b2e10ed7145447e285b9471811c56fea",
       "value": []
      }
     },
     "d0d687bbd670460cb6e8f0e6074bbfd6": {
      "model_module": "jupyter-js-widgets",
      "model_module_version": "~2.1.4",
      "model_name": "LayoutModel",
      "state": {
       "_model_module_version": "~2.1.4",
       "_view_module_version": "~2.1.4"
      }
     },
     "d1111e9849a34a9cb50180b090f5a596": {
      "model_module": "jupyter-js-widgets",
      "model_module_version": "~2.1.4",
      "model_name": "SelectMultipleModel",
      "state": {
       "_model_module_version": "~2.1.4",
       "_options_labels": [
        "Cycle  6",
        "Cycle  7",
        "Cycle  8",
        "Cycle  9",
        "Cycle 10",
        "Cycle 11",
        "Cycle 12",
        "Cycle 13",
        "Cycle 14",
        "Cycle 15",
        "Cycle 16",
        "Cycle 17",
        "Cycle 18",
        "Cycle 19",
        "Cycle 20",
        "Cycle 21",
        "Cycle 22",
        "Cycle 23",
        "Cycle 24"
       ],
       "_view_module_version": "~2.1.4",
       "layout": "IPY_MODEL_759d5b12ebaf497daa6569f71d8927e2",
       "value": []
      }
     },
     "d1473706fa0c45fba26359270f49f99f": {
      "model_module": "jupyter-js-widgets",
      "model_module_version": "~2.1.4",
      "model_name": "LayoutModel",
      "state": {
       "_model_module_version": "~2.1.4",
       "_view_module_version": "~2.1.4",
       "margin": "5px 2px 0",
       "width": "300px"
      }
     },
     "d1878debe5944209ae211bc93e8b160d": {
      "model_module": "jupyter-js-widgets",
      "model_module_version": "~2.1.4",
      "model_name": "LabelModel",
      "state": {
       "_model_module_version": "~2.1.4",
       "_view_module_version": "~2.1.4",
       "layout": "IPY_MODEL_b7453762c2844496a7d39b8595ddf7f6",
       "value": "Ciclos solares"
      }
     },
     "d1912f7538454caba81ac48266499a09": {
      "model_module": "jupyter-js-widgets",
      "model_module_version": "~2.1.4",
      "model_name": "LayoutModel",
      "state": {
       "_model_module_version": "~2.1.4",
       "_view_module_version": "~2.1.4",
       "margin": "5px 2px 0",
       "width": "300px"
      }
     },
     "d1fb7ffc5afb439d9ca300e56de60257": {
      "model_module": "jupyter-js-widgets",
      "model_module_version": "~2.1.4",
      "model_name": "OutputModel",
      "state": {
       "_dom_classes": [],
       "_model_module": "jupyter-js-widgets",
       "_model_module_version": "~2.1.4",
       "_view_module": "jupyter-js-widgets",
       "_view_module_version": "~2.1.4",
       "layout": "IPY_MODEL_a55a718b99e14f39b031d7d4ff8b6d44",
       "msg_throttle": 1
      }
     },
     "d2196e6f103d4eafb9b74690e936751f": {
      "model_module": "jupyter-js-widgets",
      "model_module_version": "~2.1.4",
      "model_name": "LayoutModel",
      "state": {
       "_model_module_version": "~2.1.4",
       "_view_module_version": "~2.1.4",
       "margin": "5px 2px 0",
       "width": "300px"
      }
     },
     "d21cb2a22fa9403b9c934c551e6ec373": {
      "model_module": "jupyter-js-widgets",
      "model_module_version": "~2.1.4",
      "model_name": "LayoutModel",
      "state": {
       "_model_module_version": "~2.1.4",
       "_view_module_version": "~2.1.4",
       "margin": "5px 2px 0",
       "width": "300px"
      }
     },
     "d23c135abb3b4b0690ccf993fecc6d80": {
      "model_module": "jupyter-js-widgets",
      "model_module_version": "~2.1.4",
      "model_name": "ButtonModel",
      "state": {
       "_model_module_version": "~2.1.4",
       "_view_module_version": "~2.1.4",
       "description": "Limpiar seleción de mínimos",
       "layout": "IPY_MODEL_c67a8640e4a547d783cc31be0fc46e04",
       "style": "IPY_MODEL_68fa569626b94dac9b0fd6d7e3d51309"
      }
     },
     "d23ce3b7d3ef4543a4fbd37df251b3fa": {
      "model_module": "jupyter-js-widgets",
      "model_module_version": "~2.1.4",
      "model_name": "LayoutModel",
      "state": {
       "_model_module_version": "~2.1.4",
       "_view_module_version": "~2.1.4"
      }
     },
     "d24ab47387d8432a9c683a302895b641": {
      "model_module": "jupyter-js-widgets",
      "model_module_version": "~2.1.4",
      "model_name": "LayoutModel",
      "state": {
       "_model_module_version": "~2.1.4",
       "_view_module_version": "~2.1.4",
       "width": "100%"
      }
     },
     "d2612fd1d1454e14819ec3a29139084b": {
      "model_module": "jupyter-js-widgets",
      "model_module_version": "~2.1.4",
      "model_name": "VBoxModel",
      "state": {
       "_model_module_version": "~2.1.4",
       "_view_module_version": "~2.1.4",
       "children": [
        "IPY_MODEL_28f0c212f0bd489db6549456e2ed5103",
        "IPY_MODEL_74060214277843bca571ebfece4a9dd5",
        "IPY_MODEL_86951fce4b844ab1896366502de86d05",
        "IPY_MODEL_e0df65bb24054c289128436c8dc5d82e",
        "IPY_MODEL_e0f101e095f447deb9ac4d6c54ec0baf"
       ],
       "layout": "IPY_MODEL_7f518e3800174635a62b8b1b87690cde"
      }
     },
     "d263f667b31a42d29c3ef375274721df": {
      "model_module": "jupyter-js-widgets",
      "model_module_version": "~2.1.4",
      "model_name": "LayoutModel",
      "state": {
       "_model_module_version": "~2.1.4",
       "_view_module_version": "~2.1.4",
       "margin": "5px 2px 0",
       "width": "300px"
      }
     },
     "d29ba6e85adc4a83b9cc1d7731bb126e": {
      "model_module": "jupyter-js-widgets",
      "model_module_version": "~2.1.4",
      "model_name": "LabelModel",
      "state": {
       "_model_module_version": "~2.1.4",
       "_view_module_version": "~2.1.4",
       "layout": "IPY_MODEL_50209cbab8fc47bbb662ac44eff64759",
       "value": "Ciclos solares"
      }
     },
     "d2d1fe4180aa4d789ecbdedba5db9227": {
      "model_module": "jupyter-js-widgets",
      "model_module_version": "~2.1.4",
      "model_name": "LayoutModel",
      "state": {
       "_model_module_version": "~2.1.4",
       "_view_module_version": "~2.1.4"
      }
     },
     "d2ee422ec7d34dde8614ae281cf7b584": {
      "model_module": "jupyter-js-widgets",
      "model_module_version": "~2.1.4",
      "model_name": "VBoxModel",
      "state": {
       "_model_module_version": "~2.1.4",
       "_view_module_version": "~2.1.4",
       "children": [
        "IPY_MODEL_1632797d89484d9d9e90e13c347b29f5",
        "IPY_MODEL_9dab76a55ac843259be82b8c894f87ca",
        "IPY_MODEL_718dbe2411f04ead96df1f6fda2a3f05",
        "IPY_MODEL_4fed0a0c9a864db0aed520793880aee2",
        "IPY_MODEL_1b1abc9930044f2185bb4255563ab888"
       ],
       "layout": "IPY_MODEL_85206fecf2904baa90d05836f4518059"
      }
     },
     "d2fc3c23a1b848e3a95c2fd7061c8b11": {
      "model_module": "jupyter-js-widgets",
      "model_module_version": "~2.1.4",
      "model_name": "OutputModel",
      "state": {
       "_dom_classes": [],
       "_model_module": "jupyter-js-widgets",
       "_model_module_version": "~2.1.4",
       "_view_module": "jupyter-js-widgets",
       "_view_module_version": "~2.1.4",
       "layout": "IPY_MODEL_0acc96caf0da440c9afb22a6645684e7",
       "msg_throttle": 1
      }
     },
     "d33c843e12814a6b9098642ab87a9658": {
      "model_module": "jupyter-js-widgets",
      "model_module_version": "~2.1.4",
      "model_name": "VBoxModel",
      "state": {
       "_model_module_version": "~2.1.4",
       "_view_module_version": "~2.1.4",
       "children": [
        "IPY_MODEL_d1878debe5944209ae211bc93e8b160d",
        "IPY_MODEL_25f25f6c7a9c49e8b0035fa8e9bf840a",
        "IPY_MODEL_45d72d7a1a924cf5b2764397f81f75dc",
        "IPY_MODEL_e6e964628b7048b0b5a746b767bc9976",
        "IPY_MODEL_504839c325f647e582d9b704e7de4399"
       ],
       "layout": "IPY_MODEL_1e545a6c4615457da8288b314e5934ab"
      }
     },
     "d368956e19be42748085e19ce0abb276": {
      "model_module": "jupyter-js-widgets",
      "model_module_version": "~2.1.4",
      "model_name": "OutputModel",
      "state": {
       "_dom_classes": [],
       "_model_module": "jupyter-js-widgets",
       "_model_module_version": "~2.1.4",
       "_view_module": "jupyter-js-widgets",
       "_view_module_version": "~2.1.4",
       "layout": "IPY_MODEL_5b25fafa61c540938d885eb3af6c0f47",
       "msg_throttle": 1
      }
     },
     "d3a6621f4c86474e8e6e72ece0801463": {
      "model_module": "jupyter-js-widgets",
      "model_module_version": "~2.1.4",
      "model_name": "LayoutModel",
      "state": {
       "_model_module_version": "~2.1.4",
       "_view_module_version": "~2.1.4"
      }
     },
     "d3e18d1f15e74de8b40ddf69f9d6814b": {
      "model_module": "jupyter-js-widgets",
      "model_module_version": "~2.1.4",
      "model_name": "ButtonModel",
      "state": {
       "_model_module_version": "~2.1.4",
       "_view_module_version": "~2.1.4",
       "description": "Limpiar seleción de ciclos",
       "layout": "IPY_MODEL_c57fb59d517a4233a6cdc55950fe02b7",
       "style": "IPY_MODEL_a04f6945853842a3b85b747e7de398ea"
      }
     },
     "d403f86aea3c4b03bf5ef0aa22359b59": {
      "model_module": "jupyter-js-widgets",
      "model_module_version": "~2.1.4",
      "model_name": "LayoutModel",
      "state": {
       "_model_module_version": "~2.1.4",
       "_view_module_version": "~2.1.4"
      }
     },
     "d41b8abf837a43bfa74ec12d989b21f7": {
      "model_module": "jupyter-js-widgets",
      "model_module_version": "~2.1.4",
      "model_name": "LayoutModel",
      "state": {
       "_model_module_version": "~2.1.4",
       "_view_module_version": "~2.1.4"
      }
     },
     "d429ed161a054c8cb8988c87e5694972": {
      "model_module": "jupyter-js-widgets",
      "model_module_version": "~2.1.4",
      "model_name": "LayoutModel",
      "state": {
       "_model_module_version": "~2.1.4",
       "_view_module_version": "~2.1.4"
      }
     },
     "d452f71e1e454c8e8acf3e26c4d34a68": {
      "model_module": "jupyter-js-widgets",
      "model_module_version": "~2.1.4",
      "model_name": "LayoutModel",
      "state": {
       "_model_module_version": "~2.1.4",
       "_view_module_version": "~2.1.4"
      }
     },
     "d4c5edf03e7e482b99704681ad11a9d3": {
      "model_module": "jupyter-js-widgets",
      "model_module_version": "~2.1.4",
      "model_name": "ButtonModel",
      "state": {
       "_model_module_version": "~2.1.4",
       "_view_module_version": "~2.1.4",
       "description": "Eliminar ciclos selecionados",
       "layout": "IPY_MODEL_280e887433d84791a141a82adfa633a3",
       "style": "IPY_MODEL_6f42cbf323d64aed80b8e636ee04388c"
      }
     },
     "d4c90416c7f243dd86493d496c3e9708": {
      "model_module": "jupyter-js-widgets",
      "model_module_version": "~2.1.4",
      "model_name": "LayoutModel",
      "state": {
       "_model_module_version": "~2.1.4",
       "_view_module_version": "~2.1.4",
       "width": "100%"
      }
     },
     "d53ae6442be647459da70851e02b3aff": {
      "model_module": "jupyter-js-widgets",
      "model_module_version": "~2.1.4",
      "model_name": "LabelModel",
      "state": {
       "_model_module_version": "~2.1.4",
       "_view_module_version": "~2.1.4",
       "layout": "IPY_MODEL_b15964aba16c4fb79ad07db1ce357851",
       "value": "Lookahead"
      }
     },
     "d58259a7f3f148e695add4762eaf83cd": {
      "model_module": "jupyter-js-widgets",
      "model_module_version": "~2.1.4",
      "model_name": "ButtonModel",
      "state": {
       "_model_module_version": "~2.1.4",
       "_view_module_version": "~2.1.4",
       "description": "Eliminar ciclos selecionados",
       "layout": "IPY_MODEL_53d2c4b1bcbd4433b3bb5d78ae497e23",
       "style": "IPY_MODEL_cde6f89e941f44cd808b6259fb5ec6f7"
      }
     },
     "d5a9eff1a684490e8d680e48785562c0": {
      "model_module": "jupyter-js-widgets",
      "model_module_version": "~2.1.4",
      "model_name": "ButtonModel",
      "state": {
       "_model_module_version": "~2.1.4",
       "_view_module_version": "~2.1.4",
       "description": "Eliminar ciclos selecionados",
       "layout": "IPY_MODEL_e39b07382ccb47faa4105d7be827b874",
       "style": "IPY_MODEL_8a57d8eaeec34c9894e9af254956cbb7"
      }
     },
     "d5ad4212881c4cc6aa0a085ad2864e24": {
      "model_module": "jupyter-js-widgets",
      "model_module_version": "~2.1.4",
      "model_name": "LabelModel",
      "state": {
       "_model_module_version": "~2.1.4",
       "_view_module_version": "~2.1.4",
       "layout": "IPY_MODEL_11babec50a8d4c388067514e2b4c8424",
       "value": "Ciclos solares"
      }
     },
     "d5ec102c251c4593aa49709a51047187": {
      "model_module": "jupyter-js-widgets",
      "model_module_version": "~2.1.4",
      "model_name": "ButtonStyleModel",
      "state": {
       "_model_module_version": "~2.1.4",
       "_view_module_version": "~2.1.4"
      }
     },
     "d62d846394c041b89f21a1577298a903": {
      "model_module": "jupyter-js-widgets",
      "model_module_version": "~2.1.4",
      "model_name": "OutputModel",
      "state": {
       "_dom_classes": [],
       "_model_module": "jupyter-js-widgets",
       "_model_module_version": "~2.1.4",
       "_view_module": "jupyter-js-widgets",
       "_view_module_version": "~2.1.4",
       "layout": "IPY_MODEL_95eee753baca420f94496cf0ed735f83",
       "msg_throttle": 1
      }
     },
     "d64575a2d55e45aca8e05958cc4237ab": {
      "model_module": "jupyter-js-widgets",
      "model_module_version": "~2.1.4",
      "model_name": "LayoutModel",
      "state": {
       "_model_module_version": "~2.1.4",
       "_view_module_version": "~2.1.4"
      }
     },
     "d6a61ea4cf934d06a04402e71dff8ecc": {
      "model_module": "jupyter-js-widgets",
      "model_module_version": "~2.1.4",
      "model_name": "SelectMultipleModel",
      "state": {
       "_model_module_version": "~2.1.4",
       "_options_labels": [
        "Cycle  6",
        "Cycle  7",
        "Cycle  8",
        "Cycle  9",
        "Cycle 10",
        "Cycle 11",
        "Cycle 12",
        "Cycle 13",
        "Cycle 14",
        "Cycle 15",
        "Cycle 16",
        "Cycle 17",
        "Cycle 18",
        "Cycle 19",
        "Cycle 20",
        "Cycle 21",
        "Cycle 22",
        "Cycle 23",
        "Cycle 24"
       ],
       "_view_module_version": "~2.1.4",
       "layout": "IPY_MODEL_4fa14c5d4a6f465d96a07cf09d0d69b4",
       "value": []
      }
     },
     "d6e483b61313420aa58085463068b1b0": {
      "model_module": "jupyter-js-widgets",
      "model_module_version": "~2.1.4",
      "model_name": "LayoutModel",
      "state": {
       "_model_module_version": "~2.1.4",
       "_view_module_version": "~2.1.4"
      }
     },
     "d6e91dcd0cca447c9b8b2844bc60f059": {
      "model_module": "jupyter-js-widgets",
      "model_module_version": "~2.1.4",
      "model_name": "LayoutModel",
      "state": {
       "_model_module_version": "~2.1.4",
       "_view_module_version": "~2.1.4"
      }
     },
     "d704f75985a54992aac7135c9ebc96ba": {
      "model_module": "jupyter-js-widgets",
      "model_module_version": "~2.1.4",
      "model_name": "ButtonModel",
      "state": {
       "_model_module_version": "~2.1.4",
       "_view_module_version": "~2.1.4",
       "description": "Limpiar seleción de ciclos",
       "layout": "IPY_MODEL_e86e5f21d9f04fe5a7bde20afda34dea",
       "style": "IPY_MODEL_dfc8fb71f9944567bee6a23f6525f48d"
      }
     },
     "d744be4440704f5d85b3bdb4f7b4985b": {
      "model_module": "jupyter-js-widgets",
      "model_module_version": "~2.1.4",
      "model_name": "LayoutModel",
      "state": {
       "_model_module_version": "~2.1.4",
       "_view_module_version": "~2.1.4"
      }
     },
     "d79b2512f0a94586bbb65e7cce5178df": {
      "model_module": "jupyter-js-widgets",
      "model_module_version": "~2.1.4",
      "model_name": "LayoutModel",
      "state": {
       "_model_module_version": "~2.1.4",
       "_view_module_version": "~2.1.4",
       "margin": "5px 2px 0",
       "width": "300px"
      }
     },
     "d7acb8dd7d4144578df447d278f1cd7f": {
      "model_module": "jupyter-js-widgets",
      "model_module_version": "~2.1.4",
      "model_name": "HBoxModel",
      "state": {
       "_model_module_version": "~2.1.4",
       "_view_module_version": "~2.1.4",
       "children": [
        "IPY_MODEL_3b29e26c922d4ffa9f92de1111fbdd4f",
        "IPY_MODEL_284ad9c10a0a422abc95acaa933bd704"
       ],
       "layout": "IPY_MODEL_7027ee4c35e7422cb5780c1b265877ed"
      }
     },
     "d7cca1baadd841558c9d6302787becf3": {
      "model_module": "jupyter-js-widgets",
      "model_module_version": "~2.1.4",
      "model_name": "OutputModel",
      "state": {
       "_dom_classes": [],
       "_model_module": "jupyter-js-widgets",
       "_model_module_version": "~2.1.4",
       "_view_module": "jupyter-js-widgets",
       "_view_module_version": "~2.1.4",
       "layout": "IPY_MODEL_2cc9b107081b468aa3b341c57ac5e21e",
       "msg_throttle": 1
      }
     },
     "d7ecc7975fe6480ab9ace83372848550": {
      "model_module": "jupyter-js-widgets",
      "model_module_version": "~2.1.4",
      "model_name": "VBoxModel",
      "state": {
       "_model_module_version": "~2.1.4",
       "_view_module_version": "~2.1.4",
       "children": [
        "IPY_MODEL_20801164f46a4cc6b104f7d005887db9",
        "IPY_MODEL_77bb2566ec64484ab3f17a270412b674",
        "IPY_MODEL_5a8c7860684940d297cfd5b0ca2f7568",
        "IPY_MODEL_14ce20191e54486ab3c61371872fa15f",
        "IPY_MODEL_2bb4f825160d41b19d4490b0d7de06a2"
       ],
       "layout": "IPY_MODEL_ac6b5912a7e7441685e6ba39f6a758d7"
      }
     },
     "d80a799006a0460fa2953d77633666df": {
      "model_module": "jupyter-js-widgets",
      "model_module_version": "~2.1.4",
      "model_name": "HBoxModel",
      "state": {
       "_model_module_version": "~2.1.4",
       "_view_module_version": "~2.1.4",
       "children": [
        "IPY_MODEL_000cd2fdb0f14a3ab6413cf4fe3cefad",
        "IPY_MODEL_01f700b176a744ebb72143736fb81a1d"
       ],
       "layout": "IPY_MODEL_16cafb64c9e04c3bad28f5ef74d78f0a"
      }
     },
     "d818fc7c2c354ef9b5e64638aa04d9ee": {
      "model_module": "jupyter-js-widgets",
      "model_module_version": "~2.1.4",
      "model_name": "LayoutModel",
      "state": {
       "_model_module_version": "~2.1.4",
       "_view_module_version": "~2.1.4",
       "width": "100%"
      }
     },
     "d819dfc77ad0472abaca7458562c90ae": {
      "model_module": "jupyter-js-widgets",
      "model_module_version": "~2.1.4",
      "model_name": "VBoxModel",
      "state": {
       "_model_module_version": "~2.1.4",
       "_view_module_version": "~2.1.4",
       "children": [
        "IPY_MODEL_49892c8b497c4fc19d73d3a2a40b9537",
        "IPY_MODEL_8dc69f32a731408d8d30f30a4c171cad",
        "IPY_MODEL_11dd92286f8f4772bef631709a713d6f"
       ],
       "layout": "IPY_MODEL_56343292c6c34397ba08f515fdb59510"
      }
     },
     "d825d38846654ac1ab3670676d0a91eb": {
      "model_module": "jupyter-js-widgets",
      "model_module_version": "~2.1.4",
      "model_name": "LabelModel",
      "state": {
       "_model_module_version": "~2.1.4",
       "_view_module_version": "~2.1.4",
       "layout": "IPY_MODEL_fa3bd8c409a5467e8cb16b3f0bb6c47d",
       "value": "Ciclos solares"
      }
     },
     "d8527bff215d46a6ba2e31f508412e1f": {
      "model_module": "jupyter-js-widgets",
      "model_module_version": "~2.1.4",
      "model_name": "ButtonStyleModel",
      "state": {
       "_model_module_version": "~2.1.4",
       "_view_module_version": "~2.1.4"
      }
     },
     "d8804e6a8c9741d6adf4ad4b9fe4ee52": {
      "model_module": "jupyter-js-widgets",
      "model_module_version": "~2.1.4",
      "model_name": "LayoutModel",
      "state": {
       "_model_module_version": "~2.1.4",
       "_view_module_version": "~2.1.4",
       "margin": "5px 2px 0",
       "width": "300px"
      }
     },
     "d88d7750567a44b98ccf884109e897c9": {
      "model_module": "jupyter-js-widgets",
      "model_module_version": "~2.1.4",
      "model_name": "LayoutModel",
      "state": {
       "_model_module_version": "~2.1.4",
       "_view_module_version": "~2.1.4"
      }
     },
     "d8d84e515192469d8c5de0363085f610": {
      "model_module": "jupyter-js-widgets",
      "model_module_version": "~2.1.4",
      "model_name": "SelectMultipleModel",
      "state": {
       "_model_module_version": "~2.1.4",
       "_options_labels": [
        "Cycle  6",
        "Cycle  7",
        "Cycle  8",
        "Cycle  9",
        "Cycle 10",
        "Cycle 11",
        "Cycle 12",
        "Cycle 13",
        "Cycle 14",
        "Cycle 15",
        "Cycle 16",
        "Cycle 17",
        "Cycle 18",
        "Cycle 19",
        "Cycle 20",
        "Cycle 21",
        "Cycle 22",
        "Cycle 23",
        "Cycle 24"
       ],
       "_view_module_version": "~2.1.4",
       "layout": "IPY_MODEL_ceef3bffb17b44558f08c440d90bca00",
       "value": [
        "Cycle 24",
        "Cycle 24",
        "Cycle 24",
        "Cycle 24",
        "Cycle 24",
        "Cycle 24",
        "Cycle 24",
        "Cycle 24",
        "Cycle 24",
        "Cycle 24",
        "Cycle 24",
        "Cycle 24",
        "Cycle 24",
        "Cycle 24",
        "Cycle 24",
        "Cycle 24",
        "Cycle 24",
        "Cycle 24",
        "Cycle 24",
        "Cycle 24",
        "Cycle 24",
        "Cycle 24",
        "Cycle 24",
        "Cycle 24",
        "Cycle 24",
        "Cycle 24",
        "Cycle 24",
        "Cycle 24",
        "Cycle 24",
        "Cycle 24",
        "Cycle 24",
        "Cycle 24",
        "Cycle 24",
        "Cycle 24",
        "Cycle 24",
        "Cycle 24",
        "Cycle 24",
        "Cycle 24",
        "Cycle 24",
        "Cycle 24",
        "Cycle 24",
        "Cycle 24",
        "Cycle 24",
        "Cycle 24",
        "Cycle 24",
        "Cycle 24",
        "Cycle 24",
        "Cycle 24",
        "Cycle 24",
        "Cycle 24",
        "Cycle 24",
        "Cycle 24",
        "Cycle 24",
        "Cycle 24",
        "Cycle 24",
        "Cycle 24",
        "Cycle 24",
        "Cycle 24",
        "Cycle 24",
        "Cycle 24",
        "Cycle 24",
        "Cycle 24",
        "Cycle 24",
        "Cycle 24",
        "Cycle 24",
        "Cycle 24",
        "Cycle 24",
        "Cycle 24",
        "Cycle 24",
        "Cycle 24",
        "Cycle 24",
        "Cycle 24",
        "Cycle 24",
        "Cycle 24",
        "Cycle 24",
        "Cycle 24",
        "Cycle 24",
        "Cycle 24",
        "Cycle 24",
        "Cycle 24",
        "Cycle 24",
        "Cycle 24",
        "Cycle 24",
        "Cycle 24",
        "Cycle 24",
        "Cycle 24",
        "Cycle 24",
        "Cycle 24",
        "Cycle 24",
        "Cycle 24",
        "Cycle 24",
        "Cycle 24",
        "Cycle 24",
        "Cycle 24",
        "Cycle 24",
        "Cycle 24",
        "Cycle 24",
        "Cycle 24",
        "Cycle 24",
        "Cycle 24",
        "Cycle 24",
        "Cycle 24",
        "Cycle 24",
        "Cycle 24",
        "Cycle 24",
        "Cycle 24",
        "Cycle 24",
        "Cycle 24",
        "Cycle 24",
        "Cycle 24",
        "Cycle 24",
        "Cycle 24",
        "Cycle 24",
        "Cycle 24",
        "Cycle 24",
        "Cycle 24",
        "Cycle 24",
        "Cycle 24",
        "Cycle 24",
        "Cycle 24",
        "Cycle 24",
        "Cycle 24",
        "Cycle 24",
        "Cycle 24",
        "Cycle 24",
        "Cycle 24",
        "Cycle 24",
        "Cycle 24",
        "Cycle 24",
        "Cycle 24",
        "Cycle 24",
        "Cycle 24",
        "Cycle 24",
        "Cycle 24",
        "Cycle 24",
        "Cycle 24",
        "Cycle 24",
        "Cycle 24",
        "Cycle 24",
        "Cycle 24",
        "Cycle 24",
        "Cycle 24",
        "Cycle 24",
        "Cycle 24",
        "Cycle 24",
        "Cycle 24",
        "Cycle 24",
        "Cycle 24",
        "Cycle 24",
        "Cycle 24",
        "Cycle 24",
        "Cycle 24",
        "Cycle 24",
        "Cycle 24",
        "Cycle 24",
        "Cycle 24",
        "Cycle 24",
        "Cycle 24",
        "Cycle 24",
        "Cycle 24",
        "Cycle 24",
        "Cycle 24",
        "Cycle 24",
        "Cycle 24",
        "Cycle 24",
        "Cycle 24",
        "Cycle 24",
        "Cycle 24",
        "Cycle 24",
        "Cycle 24",
        "Cycle 24",
        "Cycle 24",
        "Cycle 24",
        "Cycle 24",
        "Cycle 24",
        "Cycle 24",
        "Cycle 24",
        "Cycle 24",
        "Cycle 24",
        "Cycle 24",
        "Cycle 24",
        "Cycle 24",
        "Cycle 24",
        "Cycle 24",
        "Cycle 24",
        "Cycle 24",
        "Cycle 24",
        "Cycle 24",
        "Cycle 24",
        "Cycle 24",
        "Cycle 24",
        "Cycle 24",
        "Cycle 24",
        "Cycle 24",
        "Cycle 24",
        "Cycle 24",
        "Cycle 24",
        "Cycle 24",
        "Cycle 24",
        "Cycle 24",
        "Cycle 24",
        "Cycle 24",
        "Cycle 24",
        "Cycle 24",
        "Cycle 24",
        "Cycle 24",
        "Cycle 24",
        "Cycle 24",
        "Cycle 24",
        "Cycle 24",
        "Cycle 24",
        "Cycle 24",
        "Cycle 24",
        "Cycle 24",
        "Cycle 24",
        "Cycle 24",
        "Cycle 24",
        "Cycle 24",
        "Cycle 24",
        "Cycle 24",
        "Cycle 24",
        "Cycle 24",
        "Cycle 24",
        "Cycle 24",
        "Cycle 24",
        "Cycle 24",
        "Cycle 24",
        "Cycle 24",
        "Cycle 24",
        "Cycle 24",
        "Cycle 24",
        "Cycle 24",
        "Cycle 24",
        "Cycle 24",
        "Cycle 24",
        "Cycle 24",
        "Cycle 24",
        "Cycle 24",
        "Cycle 24",
        "Cycle 24",
        "Cycle 24",
        "Cycle 24"
       ]
      }
     },
     "d924ff696b0143b6a304f3c3373af276": {
      "model_module": "jupyter-js-widgets",
      "model_module_version": "~2.1.4",
      "model_name": "LayoutModel",
      "state": {
       "_model_module_version": "~2.1.4",
       "_view_module_version": "~2.1.4",
       "margin": "5px 2px 0",
       "width": "300px"
      }
     },
     "d946e3a0557f486e8ae0aee155462a90": {
      "model_module": "jupyter-js-widgets",
      "model_module_version": "~2.1.4",
      "model_name": "LayoutModel",
      "state": {
       "_model_module_version": "~2.1.4",
       "_view_module_version": "~2.1.4"
      }
     },
     "d96eb96ade7e4e559f374eeabe025ee4": {
      "model_module": "jupyter-js-widgets",
      "model_module_version": "~2.1.4",
      "model_name": "ButtonModel",
      "state": {
       "_model_module_version": "~2.1.4",
       "_view_module_version": "~2.1.4",
       "description": "Limpiar seleción de ciclos",
       "layout": "IPY_MODEL_6e7c660d743a47e6878d8b210a42b396",
       "style": "IPY_MODEL_5fedfeaddac74a1b9a156f9dfd20e78b"
      }
     },
     "d9f37e017e4c4c43867523cac43da689": {
      "model_module": "jupyter-js-widgets",
      "model_module_version": "~2.1.4",
      "model_name": "ButtonModel",
      "state": {
       "_model_module_version": "~2.1.4",
       "_view_module_version": "~2.1.4",
       "description": "Limpiar seleción de ciclos",
       "layout": "IPY_MODEL_d8804e6a8c9741d6adf4ad4b9fe4ee52",
       "style": "IPY_MODEL_835edfacd2b842f899c905c09947ec35"
      }
     },
     "da076a421daa48ad9ffca7d11f015631": {
      "model_module": "jupyter-js-widgets",
      "model_module_version": "~2.1.4",
      "model_name": "ButtonModel",
      "state": {
       "_model_module_version": "~2.1.4",
       "_view_module_version": "~2.1.4",
       "description": "Limpiar seleción de ciclos",
       "layout": "IPY_MODEL_20e346540afc40c5ad990aa4ceac642d",
       "style": "IPY_MODEL_0672b9f60aac48fb8f094dd0b193f7ca"
      }
     },
     "da300e1ab1704a40baee5019eee1fc0f": {
      "model_module": "jupyter-js-widgets",
      "model_module_version": "~2.1.4",
      "model_name": "LabelModel",
      "state": {
       "_model_module_version": "~2.1.4",
       "_view_module_version": "~2.1.4",
       "layout": "IPY_MODEL_25da27ff35244373b9d6bcaee52ed540",
       "value": "Ciclos solares"
      }
     },
     "da56ab79d3814a33a33b9bbb2704f56f": {
      "model_module": "jupyter-js-widgets",
      "model_module_version": "~2.1.4",
      "model_name": "LayoutModel",
      "state": {
       "_model_module_version": "~2.1.4",
       "_view_module_version": "~2.1.4",
       "margin": "5px 2px 0",
       "width": "300px"
      }
     },
     "da57061c67154973a19ce31f312271a8": {
      "model_module": "jupyter-js-widgets",
      "model_module_version": "~2.1.4",
      "model_name": "LayoutModel",
      "state": {
       "_model_module_version": "~2.1.4",
       "_view_module_version": "~2.1.4"
      }
     },
     "da6137a69af84d9bbcfd316a7238f3f6": {
      "model_module": "jupyter-js-widgets",
      "model_module_version": "~2.1.4",
      "model_name": "LayoutModel",
      "state": {
       "_model_module_version": "~2.1.4",
       "_view_module_version": "~2.1.4"
      }
     },
     "da6e1cfc053c4a74a29ae8d4358840bf": {
      "model_module": "jupyter-js-widgets",
      "model_module_version": "~2.1.4",
      "model_name": "ButtonStyleModel",
      "state": {
       "_model_module_version": "~2.1.4",
       "_view_module_version": "~2.1.4"
      }
     },
     "da9f2b22e3ee49928954c02c3be7ffbb": {
      "model_module": "jupyter-js-widgets",
      "model_module_version": "~2.1.4",
      "model_name": "IntSliderModel",
      "state": {
       "_model_module_version": "~2.1.4",
       "_view_module_version": "~2.1.4",
       "layout": "IPY_MODEL_cd0fb6ea711c4e55a8ea58b70f5f2301",
       "min": 1,
       "style": "IPY_MODEL_7c3f33d8f8094d9ca27280db3100415f",
       "value": 1
      }
     },
     "dac5e8afda6b40eea8f29b9d9fc68522": {
      "model_module": "jupyter-js-widgets",
      "model_module_version": "~2.1.4",
      "model_name": "ButtonModel",
      "state": {
       "_model_module_version": "~2.1.4",
       "_view_module_version": "~2.1.4",
       "description": "Limpiar seleción de ciclos",
       "layout": "IPY_MODEL_2979fe40e4e34b00af6f30ca31bc6c9c",
       "style": "IPY_MODEL_1c8f4b19d3a746ed821cb97f7e9bf3a7"
      }
     },
     "dad47051a6eb4d129aa922db43d3906b": {
      "model_module": "jupyter-js-widgets",
      "model_module_version": "~2.1.4",
      "model_name": "LabelModel",
      "state": {
       "_model_module_version": "~2.1.4",
       "_view_module_version": "~2.1.4",
       "layout": "IPY_MODEL_205e386952bb49d6aba9b971bc3b0a19",
       "value": "Máximos"
      }
     },
     "db021a86df5d473ea61a744e492f6d33": {
      "model_module": "jupyter-js-widgets",
      "model_module_version": "~2.1.4",
      "model_name": "LayoutModel",
      "state": {
       "_model_module_version": "~2.1.4",
       "_view_module_version": "~2.1.4"
      }
     },
     "db110dfa5eb64de497149b689c3ef141": {
      "model_module": "jupyter-js-widgets",
      "model_module_version": "~2.1.4",
      "model_name": "LayoutModel",
      "state": {
       "_model_module_version": "~2.1.4",
       "_view_module_version": "~2.1.4"
      }
     },
     "db3f7b9877bd4cda97108e0588a5fdaf": {
      "model_module": "jupyter-js-widgets",
      "model_module_version": "~2.1.4",
      "model_name": "LayoutModel",
      "state": {
       "_model_module_version": "~2.1.4",
       "_view_module_version": "~2.1.4"
      }
     },
     "db64a43b87244400b405df9e7bcb6996": {
      "model_module": "jupyter-js-widgets",
      "model_module_version": "~2.1.4",
      "model_name": "LabelModel",
      "state": {
       "_model_module_version": "~2.1.4",
       "_view_module_version": "~2.1.4",
       "layout": "IPY_MODEL_1b6425eee4cf448d8e222255fb498c08",
       "value": "Máximos (18)"
      }
     },
     "db90bb7cced041e0a881d961fd80cfd3": {
      "model_module": "jupyter-js-widgets",
      "model_module_version": "~2.1.4",
      "model_name": "LayoutModel",
      "state": {
       "_model_module_version": "~2.1.4",
       "_view_module_version": "~2.1.4"
      }
     },
     "dc0bc5ae650a4abb99c36dcc37a69b8e": {
      "model_module": "jupyter-js-widgets",
      "model_module_version": "~2.1.4",
      "model_name": "ButtonModel",
      "state": {
       "_model_module_version": "~2.1.4",
       "_view_module_version": "~2.1.4",
       "description": "Limpiar seleción de ciclos",
       "layout": "IPY_MODEL_752d36eb89cc4b899ffd3b6a03d6af02",
       "style": "IPY_MODEL_af8bae412c2d45139d6f5b34cf2fed63"
      }
     },
     "dc5355e1747e4547a935243c20e71407": {
      "model_module": "jupyter-js-widgets",
      "model_module_version": "~2.1.4",
      "model_name": "LayoutModel",
      "state": {
       "_model_module_version": "~2.1.4",
       "_view_module_version": "~2.1.4"
      }
     },
     "dc7344a353944b39b99a63e8c41bd73e": {
      "model_module": "jupyter-js-widgets",
      "model_module_version": "~2.1.4",
      "model_name": "LayoutModel",
      "state": {
       "_model_module_version": "~2.1.4",
       "_view_module_version": "~2.1.4"
      }
     },
     "dc7629ca817343b185338d149d6ef435": {
      "model_module": "jupyter-js-widgets",
      "model_module_version": "~2.1.4",
      "model_name": "LayoutModel",
      "state": {
       "_model_module_version": "~2.1.4",
       "_view_module_version": "~2.1.4"
      }
     },
     "dcbdd91c5a9a4edb87e7fbeafb426b52": {
      "model_module": "jupyter-js-widgets",
      "model_module_version": "~2.1.4",
      "model_name": "LayoutModel",
      "state": {
       "_model_module_version": "~2.1.4",
       "_view_module_version": "~2.1.4"
      }
     },
     "dce6ec1c0f8e44638aa010ad1ab3f717": {
      "model_module": "jupyter-js-widgets",
      "model_module_version": "~2.1.4",
      "model_name": "LayoutModel",
      "state": {
       "_model_module_version": "~2.1.4",
       "_view_module_version": "~2.1.4"
      }
     },
     "dd24f922064a4c19bb639454b08eb5f6": {
      "model_module": "jupyter-js-widgets",
      "model_module_version": "~2.1.4",
      "model_name": "LabelModel",
      "state": {
       "_model_module_version": "~2.1.4",
       "_view_module_version": "~2.1.4",
       "layout": "IPY_MODEL_f2cd6b1a93024375a6c8c1fdc5038378",
       "value": "Lookahead"
      }
     },
     "dd56e92a45f34d338da438327b669221": {
      "model_module": "jupyter-js-widgets",
      "model_module_version": "~2.1.4",
      "model_name": "LayoutModel",
      "state": {
       "_model_module_version": "~2.1.4",
       "_view_module_version": "~2.1.4"
      }
     },
     "dd5b7a54ef5c4e5c94ae7c1be7ae16ef": {
      "model_module": "jupyter-js-widgets",
      "model_module_version": "~2.1.4",
      "model_name": "LayoutModel",
      "state": {
       "_model_module_version": "~2.1.4",
       "_view_module_version": "~2.1.4"
      }
     },
     "dd5d815c8733496798e9e59c8dff0748": {
      "model_module": "jupyter-js-widgets",
      "model_module_version": "~2.1.4",
      "model_name": "ButtonModel",
      "state": {
       "_model_module_version": "~2.1.4",
       "_view_module_version": "~2.1.4",
       "description": "Limpiar seleción de ciclos",
       "layout": "IPY_MODEL_7d19fa1ec70a4182874ad508e9680461",
       "style": "IPY_MODEL_09dc9b77c8434ba69587a47d8fedbe07"
      }
     },
     "dd6dc1d4cad54b3db7c6b6b1d5ee694e": {
      "model_module": "jupyter-js-widgets",
      "model_module_version": "~2.1.4",
      "model_name": "ButtonStyleModel",
      "state": {
       "_model_module_version": "~2.1.4",
       "_view_module_version": "~2.1.4"
      }
     },
     "dd8d59900eee490e9c15c1d72040f59d": {
      "model_module": "jupyter-js-widgets",
      "model_module_version": "~2.1.4",
      "model_name": "VBoxModel",
      "state": {
       "_model_module_version": "~2.1.4",
       "_view_module_version": "~2.1.4",
       "children": [
        "IPY_MODEL_b243d4bda6a84a2a8e06c6adb02f2afb",
        "IPY_MODEL_5b303e0bd55d46d6b927854eaa1d10d4",
        "IPY_MODEL_22bbb8184c304f3fb5594720a5470908",
        "IPY_MODEL_1d0ba2a9d75a49ce83788d7d1f1f6bf7",
        "IPY_MODEL_8c6e21815393427383704bcb15e03d90"
       ],
       "layout": "IPY_MODEL_dfa1b4e6fd4941f995e52ac6e6dfafa1"
      }
     },
     "dda44b8cf71a41c5af8c88b26ab9e988": {
      "model_module": "jupyter-js-widgets",
      "model_module_version": "~2.1.4",
      "model_name": "CheckboxModel",
      "state": {
       "_model_module_version": "~2.1.4",
       "_view_module_version": "~2.1.4",
       "description": "Cycle 11",
       "disabled": false,
       "layout": "IPY_MODEL_c2738bd300e34990bea7f9ca6ecdd451",
       "value": true
      }
     },
     "dda4669fcbaf4557855e54a7d629f980": {
      "model_module": "jupyter-js-widgets",
      "model_module_version": "~2.1.4",
      "model_name": "ButtonStyleModel",
      "state": {
       "_model_module_version": "~2.1.4",
       "_view_module_version": "~2.1.4"
      }
     },
     "dde88e2293194cc4b6babdbd1980aa39": {
      "model_module": "jupyter-js-widgets",
      "model_module_version": "~2.1.4",
      "model_name": "LayoutModel",
      "state": {
       "_model_module_version": "~2.1.4",
       "_view_module_version": "~2.1.4"
      }
     },
     "de1a91d4663e42209d398b29e8c22817": {
      "model_module": "jupyter-js-widgets",
      "model_module_version": "~2.1.4",
      "model_name": "ButtonStyleModel",
      "state": {
       "_model_module_version": "~2.1.4",
       "_view_module_version": "~2.1.4"
      }
     },
     "de5029261ed048b795b072fae35d5ca7": {
      "model_module": "jupyter-js-widgets",
      "model_module_version": "~2.1.4",
      "model_name": "ButtonStyleModel",
      "state": {
       "_model_module_version": "~2.1.4",
       "_view_module_version": "~2.1.4"
      }
     },
     "de5287162372478cb43cdedd83e3cab4": {
      "model_module": "jupyter-js-widgets",
      "model_module_version": "~2.1.4",
      "model_name": "SelectMultipleModel",
      "state": {
       "_model_module_version": "~2.1.4",
       "_options_labels": [
        "Cycle  6",
        "Cycle  7",
        "Cycle  8",
        "Cycle  9",
        "Cycle 10",
        "Cycle 11",
        "Cycle 12",
        "Cycle 13",
        "Cycle 14",
        "Cycle 15",
        "Cycle 16",
        "Cycle 17",
        "Cycle 18",
        "Cycle 19",
        "Cycle 20",
        "Cycle 21",
        "Cycle 22",
        "Cycle 23",
        "Cycle 24"
       ],
       "_view_module_version": "~2.1.4",
       "layout": "IPY_MODEL_58d115b9449243c4b6b58094ec154d88",
       "value": [
        "Cycle 24",
        "Cycle 24",
        "Cycle 24",
        "Cycle 24",
        "Cycle 24",
        "Cycle 24",
        "Cycle 24",
        "Cycle 24",
        "Cycle 24",
        "Cycle 24",
        "Cycle 24",
        "Cycle 24",
        "Cycle 24",
        "Cycle 24",
        "Cycle 24",
        "Cycle 24",
        "Cycle 24",
        "Cycle 24",
        "Cycle 24",
        "Cycle 24",
        "Cycle 24",
        "Cycle 24",
        "Cycle 24",
        "Cycle 24",
        "Cycle 24",
        "Cycle 24",
        "Cycle 24",
        "Cycle 24",
        "Cycle 24",
        "Cycle 24",
        "Cycle 24",
        "Cycle 24",
        "Cycle 24",
        "Cycle 24",
        "Cycle 24",
        "Cycle 24",
        "Cycle 24",
        "Cycle 24",
        "Cycle 24",
        "Cycle 24",
        "Cycle 24",
        "Cycle 24",
        "Cycle 24",
        "Cycle 24",
        "Cycle 24",
        "Cycle 24",
        "Cycle 24",
        "Cycle 24",
        "Cycle 24",
        "Cycle 24",
        "Cycle 24",
        "Cycle 24",
        "Cycle 24",
        "Cycle 24",
        "Cycle 24",
        "Cycle 24",
        "Cycle 24",
        "Cycle 24",
        "Cycle 24",
        "Cycle 24",
        "Cycle 24",
        "Cycle 24",
        "Cycle 24",
        "Cycle 24",
        "Cycle 24",
        "Cycle 24",
        "Cycle 24",
        "Cycle 24",
        "Cycle 24",
        "Cycle 24",
        "Cycle 24",
        "Cycle 24",
        "Cycle 24",
        "Cycle 24",
        "Cycle 24",
        "Cycle 24",
        "Cycle 24",
        "Cycle 24",
        "Cycle 24",
        "Cycle 24",
        "Cycle 24",
        "Cycle 24",
        "Cycle 24",
        "Cycle 24",
        "Cycle 24",
        "Cycle 24",
        "Cycle 24",
        "Cycle 24",
        "Cycle 24",
        "Cycle 24",
        "Cycle 24",
        "Cycle 24",
        "Cycle 24",
        "Cycle 24",
        "Cycle 24",
        "Cycle 24",
        "Cycle 24",
        "Cycle 24",
        "Cycle 24",
        "Cycle 24",
        "Cycle 24",
        "Cycle 24",
        "Cycle 24",
        "Cycle 24",
        "Cycle 24",
        "Cycle 24",
        "Cycle 24",
        "Cycle 24",
        "Cycle 24",
        "Cycle 24",
        "Cycle 24",
        "Cycle 24",
        "Cycle 24",
        "Cycle 24",
        "Cycle 24",
        "Cycle 24",
        "Cycle 24",
        "Cycle 24",
        "Cycle 24",
        "Cycle 24",
        "Cycle 24",
        "Cycle 24",
        "Cycle 24",
        "Cycle 24",
        "Cycle 24",
        "Cycle 24",
        "Cycle 24",
        "Cycle 24",
        "Cycle 24",
        "Cycle 24",
        "Cycle 24",
        "Cycle 24",
        "Cycle 24",
        "Cycle 24",
        "Cycle 24",
        "Cycle 24",
        "Cycle 24",
        "Cycle 24",
        "Cycle 24",
        "Cycle 24",
        "Cycle 24",
        "Cycle 24",
        "Cycle 24",
        "Cycle 24",
        "Cycle 24",
        "Cycle 24",
        "Cycle 24",
        "Cycle 24",
        "Cycle 24",
        "Cycle 24",
        "Cycle 24",
        "Cycle 24",
        "Cycle 24",
        "Cycle 24",
        "Cycle 24",
        "Cycle 24",
        "Cycle 24",
        "Cycle 24",
        "Cycle 24",
        "Cycle 24",
        "Cycle 24",
        "Cycle 24",
        "Cycle 24",
        "Cycle 24",
        "Cycle 24",
        "Cycle 24",
        "Cycle 24",
        "Cycle 24",
        "Cycle 24",
        "Cycle 24",
        "Cycle 24",
        "Cycle 24",
        "Cycle 24",
        "Cycle 24",
        "Cycle 24",
        "Cycle 24",
        "Cycle 24",
        "Cycle 24",
        "Cycle 24",
        "Cycle 24",
        "Cycle 24",
        "Cycle 24",
        "Cycle 24",
        "Cycle 24",
        "Cycle 24",
        "Cycle 24",
        "Cycle 24",
        "Cycle 24",
        "Cycle 24",
        "Cycle 24",
        "Cycle 24",
        "Cycle 24",
        "Cycle 24",
        "Cycle 24",
        "Cycle 24",
        "Cycle 24",
        "Cycle 24",
        "Cycle 24",
        "Cycle 24",
        "Cycle 24",
        "Cycle 24",
        "Cycle 24",
        "Cycle 24",
        "Cycle 24",
        "Cycle 24",
        "Cycle 24",
        "Cycle 24",
        "Cycle 24",
        "Cycle 24",
        "Cycle 24",
        "Cycle 24",
        "Cycle 24",
        "Cycle 24",
        "Cycle 24",
        "Cycle 24",
        "Cycle 24",
        "Cycle 24",
        "Cycle 24",
        "Cycle 24",
        "Cycle 24",
        "Cycle 24",
        "Cycle 24",
        "Cycle 24",
        "Cycle 24",
        "Cycle 24",
        "Cycle 24",
        "Cycle 24",
        "Cycle 24",
        "Cycle 24",
        "Cycle 24",
        "Cycle 24",
        "Cycle 24",
        "Cycle 24",
        "Cycle 24",
        "Cycle 24",
        "Cycle 24",
        "Cycle 24",
        "Cycle 24",
        "Cycle 24",
        "Cycle 24",
        "Cycle 24",
        "Cycle 24"
       ]
      }
     },
     "de8a8f89b23143698ee3148588552e33": {
      "model_module": "jupyter-js-widgets",
      "model_module_version": "~2.1.4",
      "model_name": "SelectMultipleModel",
      "state": {
       "_model_module_version": "~2.1.4",
       "_options_labels": [
        "01: 1823-05 (0.143)",
        "02: 1833-11 (12.182)",
        "03: 1843-07 (17.615)",
        "04: 1855-12 (5.997)",
        "05: 1867-03 (9.872)",
        "06: 1878-12 (3.750)",
        "07: 1890-03 (8.279)",
        "08: 1902-01 (4.474)",
        "09: 1913-07 (2.442)",
        "10: 1923-08 (9.362)",
        "11: 1933-09 (5.789)",
        "12: 1944-02 (12.883)",
        "13: 1954-04 (5.096)",
        "14: 1964-10 (14.237)",
        "15: 1976-03 (17.792)",
        "16: 1986-09 (13.520)",
        "17: 1996-05 (11.171)",
        "18: 2008-12 (2.248)"
       ],
       "_view_module_version": "~2.1.4",
       "layout": "IPY_MODEL_fb7c433e60794898a9c80b41356de75c",
       "value": []
      }
     },
     "dea1069186a6416e9874dc2512f8ba57": {
      "model_module": "jupyter-js-widgets",
      "model_module_version": "~2.1.4",
      "model_name": "ButtonModel",
      "state": {
       "_model_module_version": "~2.1.4",
       "_view_module_version": "~2.1.4",
       "description": "Limpiar seleción de ciclos",
       "layout": "IPY_MODEL_0082726daa25407faf98785ad679eff1",
       "style": "IPY_MODEL_25179cf4c4a74304ac027552bbe82757"
      }
     },
     "deb2e62a93a54c709096559cecf813cf": {
      "model_module": "jupyter-js-widgets",
      "model_module_version": "~2.1.4",
      "model_name": "ButtonModel",
      "state": {
       "_model_module_version": "~2.1.4",
       "_view_module_version": "~2.1.4",
       "description": "Eliminar ciclos selecionados",
       "layout": "IPY_MODEL_a569c41abf5341718a32192729e49abd",
       "style": "IPY_MODEL_092a4c0dedab470c92dae91ef4182539"
      }
     },
     "debf9c4ec040455693d31605a1bb771c": {
      "model_module": "jupyter-js-widgets",
      "model_module_version": "~2.1.4",
      "model_name": "VBoxModel",
      "state": {
       "_model_module_version": "~2.1.4",
       "_view_module_version": "~2.1.4",
       "children": [
        "IPY_MODEL_7554badb8bb24c59a7248dc37de13bd8",
        "IPY_MODEL_5957804c352748f1940d110d7d77d33e",
        "IPY_MODEL_1b3f50c25b934816b71979149ae5823a",
        "IPY_MODEL_295118af114b467ba0b1f2760e30b606",
        "IPY_MODEL_fa3663c817754f2489e5c132fd9530cc"
       ],
       "layout": "IPY_MODEL_d6e91dcd0cca447c9b8b2844bc60f059"
      }
     },
     "df33742abb12464da9c46d1f45bdbd1d": {
      "model_module": "jupyter-js-widgets",
      "model_module_version": "~2.1.4",
      "model_name": "ButtonModel",
      "state": {
       "_model_module_version": "~2.1.4",
       "_view_module_version": "~2.1.4",
       "description": "Limpiar seleción de cyclos",
       "layout": "IPY_MODEL_731469eb99744e6d89cc08061e0c2f9b",
       "style": "IPY_MODEL_f501fecc036a4007a8beec10c6262222"
      }
     },
     "df36daa0afbd46e0b1a2b4e74965cb0f": {
      "model_module": "jupyter-js-widgets",
      "model_module_version": "~2.1.4",
      "model_name": "LayoutModel",
      "state": {
       "_model_module_version": "~2.1.4",
       "_view_module_version": "~2.1.4"
      }
     },
     "df46e3bbdd8a431682add0a0aafa6320": {
      "model_module": "jupyter-js-widgets",
      "model_module_version": "~2.1.4",
      "model_name": "OutputModel",
      "state": {
       "_dom_classes": [],
       "_model_module": "jupyter-js-widgets",
       "_model_module_version": "~2.1.4",
       "_view_module": "jupyter-js-widgets",
       "_view_module_version": "~2.1.4",
       "layout": "IPY_MODEL_986d1c93a77648bd948fba6634b3e049",
       "msg_throttle": 1
      }
     },
     "df5ae145633e4494ab2269a2265990d2": {
      "model_module": "jupyter-js-widgets",
      "model_module_version": "~2.1.4",
      "model_name": "OutputModel",
      "state": {
       "_dom_classes": [],
       "_model_module": "jupyter-js-widgets",
       "_model_module_version": "~2.1.4",
       "_view_module": "jupyter-js-widgets",
       "_view_module_version": "~2.1.4",
       "layout": "IPY_MODEL_24cea1040eea47c492f4cdfde20acdc8",
       "msg_throttle": 1
      }
     },
     "df5f564ab869445f83d541f5c5fb2c80": {
      "model_module": "jupyter-js-widgets",
      "model_module_version": "~2.1.4",
      "model_name": "OutputModel",
      "state": {
       "_dom_classes": [],
       "_model_module": "jupyter-js-widgets",
       "_model_module_version": "~2.1.4",
       "_view_module": "jupyter-js-widgets",
       "_view_module_version": "~2.1.4",
       "layout": "IPY_MODEL_8004f7a9af7241d49da357bc246014ae",
       "msg_throttle": 1
      }
     },
     "df6dd29389bd4209aa52e08a55d2ca9f": {
      "model_module": "jupyter-js-widgets",
      "model_module_version": "~2.1.4",
      "model_name": "LayoutModel",
      "state": {
       "_model_module_version": "~2.1.4",
       "_view_module_version": "~2.1.4"
      }
     },
     "dfa1b4e6fd4941f995e52ac6e6dfafa1": {
      "model_module": "jupyter-js-widgets",
      "model_module_version": "~2.1.4",
      "model_name": "LayoutModel",
      "state": {
       "_model_module_version": "~2.1.4",
       "_view_module_version": "~2.1.4"
      }
     },
     "dfb438c12c034d168fa50214db4e6095": {
      "model_module": "jupyter-js-widgets",
      "model_module_version": "~2.1.4",
      "model_name": "OutputModel",
      "state": {
       "_dom_classes": [],
       "_model_module": "jupyter-js-widgets",
       "_model_module_version": "~2.1.4",
       "_view_module": "jupyter-js-widgets",
       "_view_module_version": "~2.1.4",
       "layout": "IPY_MODEL_e951a7f3792f4f33ba56e8ff45cf1b52",
       "msg_throttle": 1
      }
     },
     "dfc8fb71f9944567bee6a23f6525f48d": {
      "model_module": "jupyter-js-widgets",
      "model_module_version": "~2.1.4",
      "model_name": "ButtonStyleModel",
      "state": {
       "_model_module_version": "~2.1.4",
       "_view_module_version": "~2.1.4"
      }
     },
     "dff92875ad7e436198848152f9a40ea6": {
      "model_module": "jupyter-js-widgets",
      "model_module_version": "~2.1.4",
      "model_name": "LayoutModel",
      "state": {
       "_model_module_version": "~2.1.4",
       "_view_module_version": "~2.1.4"
      }
     },
     "dffe0c54b08343a3ab7129c8fc9b6876": {
      "model_module": "jupyter-js-widgets",
      "model_module_version": "~2.1.4",
      "model_name": "VBoxModel",
      "state": {
       "_model_module_version": "~2.1.4",
       "_view_module_version": "~2.1.4",
       "children": [
        "IPY_MODEL_a99d2e046b3642839ab607feca6694ef",
        "IPY_MODEL_3df20eb4df6c4edd9ac471aa584a6c53",
        "IPY_MODEL_1ed877834c2c4d6ca920dc4e46b387af",
        "IPY_MODEL_17083099651c4d4b8d7c786a8caa07b7",
        "IPY_MODEL_26bcce0ffd71456ba2980b3271b744e5"
       ],
       "layout": "IPY_MODEL_d2d1fe4180aa4d789ecbdedba5db9227"
      }
     },
     "e0092e454ef24f04b5570ff5b343d4ee": {
      "model_module": "jupyter-js-widgets",
      "model_module_version": "~2.1.4",
      "model_name": "LayoutModel",
      "state": {
       "_model_module_version": "~2.1.4",
       "_view_module_version": "~2.1.4"
      }
     },
     "e021bcbe27c64086a7ffa3af7d4b8285": {
      "model_module": "jupyter-js-widgets",
      "model_module_version": "~2.1.4",
      "model_name": "LayoutModel",
      "state": {
       "_model_module_version": "~2.1.4",
       "_view_module_version": "~2.1.4"
      }
     },
     "e053c2d8b3d24de5b23b331c245afb3f": {
      "model_module": "jupyter-js-widgets",
      "model_module_version": "~2.1.4",
      "model_name": "VBoxModel",
      "state": {
       "_model_module_version": "~2.1.4",
       "_view_module_version": "~2.1.4",
       "children": [
        "IPY_MODEL_44adeba707414f3781decfe4025059ec",
        "IPY_MODEL_a3ac5b3c9ef7481591cf78ee779eb1db",
        "IPY_MODEL_f1493cf789924297a01bb1e413efa88c"
       ],
       "layout": "IPY_MODEL_52bf794ce3db494498114d3abe2d8c84"
      }
     },
     "e07cda4af9fc4a4080ec6df7635d60e5": {
      "model_module": "jupyter-js-widgets",
      "model_module_version": "~2.1.4",
      "model_name": "LayoutModel",
      "state": {
       "_model_module_version": "~2.1.4",
       "_view_module_version": "~2.1.4"
      }
     },
     "e0b665459df34094b1f612399730a54a": {
      "model_module": "jupyter-js-widgets",
      "model_module_version": "~2.1.4",
      "model_name": "VBoxModel",
      "state": {
       "_model_module_version": "~2.1.4",
       "_view_module_version": "~2.1.4",
       "children": [
        "IPY_MODEL_ae0a10a4bdcd431bb26efe26efda8043",
        "IPY_MODEL_50cc7065a03047b5a31039018bc839b0",
        "IPY_MODEL_a66e9598f51a47cd8c7065aa28053edf",
        "IPY_MODEL_3ff576cd6f894f1790eda69863d53ca1",
        "IPY_MODEL_7b326dd8234e4726b4295d1b27211ae2"
       ],
       "layout": "IPY_MODEL_48bf5a74f1ec4fd28f19ba1b0efd6e6d"
      }
     },
     "e0c51ab239334c92b64aed8588ccc2e2": {
      "model_module": "jupyter-js-widgets",
      "model_module_version": "~2.1.4",
      "model_name": "LabelModel",
      "state": {
       "_model_module_version": "~2.1.4",
       "_view_module_version": "~2.1.4",
       "layout": "IPY_MODEL_6898f8980689481e88d1c05e0cca5231",
       "value": "Ciclos solares"
      }
     },
     "e0df65bb24054c289128436c8dc5d82e": {
      "model_module": "jupyter-js-widgets",
      "model_module_version": "~2.1.4",
      "model_name": "ButtonModel",
      "state": {
       "_model_module_version": "~2.1.4",
       "_view_module_version": "~2.1.4",
       "description": "Eliminar ciclos selecionados",
       "layout": "IPY_MODEL_7f1002680f994868b00c647d9f6fffb8",
       "style": "IPY_MODEL_30ff6ca151ba4b269c26c9040245d7e1"
      }
     },
     "e0f101e095f447deb9ac4d6c54ec0baf": {
      "model_module": "jupyter-js-widgets",
      "model_module_version": "~2.1.4",
      "model_name": "OutputModel",
      "state": {
       "_dom_classes": [],
       "_model_module": "jupyter-js-widgets",
       "_model_module_version": "~2.1.4",
       "_view_module": "jupyter-js-widgets",
       "_view_module_version": "~2.1.4",
       "layout": "IPY_MODEL_186aec4202b9464e90d98e2917ede8c5",
       "msg_throttle": 1
      }
     },
     "e15cf91158824907b5f0bf04804ca0e3": {
      "model_module": "jupyter-js-widgets",
      "model_module_version": "~2.1.4",
      "model_name": "LayoutModel",
      "state": {
       "_model_module_version": "~2.1.4",
       "_view_module_version": "~2.1.4"
      }
     },
     "e1d6770fa7aa40919b46951db49bee4a": {
      "model_module": "jupyter-js-widgets",
      "model_module_version": "~2.1.4",
      "model_name": "LayoutModel",
      "state": {
       "_model_module_version": "~2.1.4",
       "_view_module_version": "~2.1.4"
      }
     },
     "e266298d1ba44e58bdd76fe72dea5caa": {
      "model_module": "jupyter-js-widgets",
      "model_module_version": "~2.1.4",
      "model_name": "LayoutModel",
      "state": {
       "_model_module_version": "~2.1.4",
       "_view_module_version": "~2.1.4",
       "width": "100%"
      }
     },
     "e2c7922d4d1e47c28d746d602dc583d4": {
      "model_module": "jupyter-js-widgets",
      "model_module_version": "~2.1.4",
      "model_name": "VBoxModel",
      "state": {
       "_model_module_version": "~2.1.4",
       "_view_module_version": "~2.1.4",
       "children": [
        "IPY_MODEL_5dfe6a6c5eb64a8f98d24ef3d491a24b",
        "IPY_MODEL_b5d6768ce6be48b5998b8ee9efcac882",
        "IPY_MODEL_8d3e2e7752674ea3bf856abd34052b63",
        "IPY_MODEL_a3f9086189de41fbb9b63cc80bcd72b6",
        "IPY_MODEL_df46e3bbdd8a431682add0a0aafa6320"
       ],
       "layout": "IPY_MODEL_c1121a822bb94855b93d0fe8747294ff"
      }
     },
     "e3160451d50946c8ba2bb9e2883ee4c3": {
      "model_module": "jupyter-js-widgets",
      "model_module_version": "~2.1.4",
      "model_name": "ButtonStyleModel",
      "state": {
       "_model_module_version": "~2.1.4",
       "_view_module_version": "~2.1.4"
      }
     },
     "e32c1eb644774bddad9174ddb1b91f58": {
      "model_module": "jupyter-js-widgets",
      "model_module_version": "~2.1.4",
      "model_name": "ButtonStyleModel",
      "state": {
       "_model_module_version": "~2.1.4",
       "_view_module_version": "~2.1.4"
      }
     },
     "e394f60db3e44f8087efe2c1adac4377": {
      "model_module": "jupyter-js-widgets",
      "model_module_version": "~2.1.4",
      "model_name": "LayoutModel",
      "state": {
       "_model_module_version": "~2.1.4",
       "_view_module_version": "~2.1.4"
      }
     },
     "e39b07382ccb47faa4105d7be827b874": {
      "model_module": "jupyter-js-widgets",
      "model_module_version": "~2.1.4",
      "model_name": "LayoutModel",
      "state": {
       "_model_module_version": "~2.1.4",
       "_view_module_version": "~2.1.4",
       "margin": "5px 2px 0",
       "width": "300px"
      }
     },
     "e3cc68383642412c8ec8c745cfec950a": {
      "model_module": "jupyter-js-widgets",
      "model_module_version": "~2.1.4",
      "model_name": "LayoutModel",
      "state": {
       "_model_module_version": "~2.1.4",
       "_view_module_version": "~2.1.4"
      }
     },
     "e3cf0fcfebc844948dc11eedbad15ad7": {
      "model_module": "jupyter-js-widgets",
      "model_module_version": "~2.1.4",
      "model_name": "ButtonModel",
      "state": {
       "_model_module_version": "~2.1.4",
       "_view_module_version": "~2.1.4",
       "description": "Limpiar seleción de ciclos",
       "layout": "IPY_MODEL_fc3b9932bf7240cfa8027082417be547",
       "style": "IPY_MODEL_bb111ed45ed44e43b661abc9906667c6"
      }
     },
     "e3e69e8f0e3248bd97f9a999300c3a71": {
      "model_module": "jupyter-js-widgets",
      "model_module_version": "~2.1.4",
      "model_name": "ButtonModel",
      "state": {
       "_model_module_version": "~2.1.4",
       "_view_module_version": "~2.1.4",
       "description": "Limpiar seleción de cyclos",
       "layout": "IPY_MODEL_653e81d93529494db516a442faef1344",
       "style": "IPY_MODEL_83066e2f8b0a44eeba57174d069b0faa"
      }
     },
     "e466893a64ea40ce86966590ecb9e06d": {
      "model_module": "jupyter-js-widgets",
      "model_module_version": "~2.1.4",
      "model_name": "ButtonStyleModel",
      "state": {
       "_model_module_version": "~2.1.4",
       "_view_module_version": "~2.1.4"
      }
     },
     "e479eed82d2a4bea86aed20bc86f8bd6": {
      "model_module": "jupyter-js-widgets",
      "model_module_version": "~2.1.4",
      "model_name": "VBoxModel",
      "state": {
       "_model_module_version": "~2.1.4",
       "_view_module_version": "~2.1.4",
       "children": [
        "IPY_MODEL_fc09db903ffc4248a0fe1bf9c00de077",
        "IPY_MODEL_5da3d98bab2342648120a6384045eec9",
        "IPY_MODEL_a4b99c475046473ab4dd15755a502cc1",
        "IPY_MODEL_2ed85107640a4cf784930a6407484b43",
        "IPY_MODEL_3f5c11b080884c4e98662a9f42a68a88"
       ],
       "layout": "IPY_MODEL_54c25b1a0b884fd19e720b6797a3d6b3"
      }
     },
     "e492619fec10430e864249b163eb7bb6": {
      "model_module": "jupyter-js-widgets",
      "model_module_version": "~2.1.4",
      "model_name": "ButtonStyleModel",
      "state": {
       "_model_module_version": "~2.1.4",
       "_view_module_version": "~2.1.4"
      }
     },
     "e4a4385694df437cbde132809bff7aa1": {
      "model_module": "jupyter-js-widgets",
      "model_module_version": "~2.1.4",
      "model_name": "LayoutModel",
      "state": {
       "_model_module_version": "~2.1.4",
       "_view_module_version": "~2.1.4"
      }
     },
     "e5e684c0f403477081135e2c4d9987d7": {
      "model_module": "jupyter-js-widgets",
      "model_module_version": "~2.1.4",
      "model_name": "ButtonStyleModel",
      "state": {
       "_model_module_version": "~2.1.4",
       "_view_module_version": "~2.1.4"
      }
     },
     "e5f641cf8b854bf4a5d68e509ac7fc80": {
      "model_module": "jupyter-js-widgets",
      "model_module_version": "~2.1.4",
      "model_name": "LayoutModel",
      "state": {
       "_model_module_version": "~2.1.4",
       "_view_module_version": "~2.1.4"
      }
     },
     "e62002e3073d4ed1a82f95fdf16f8832": {
      "model_module": "jupyter-js-widgets",
      "model_module_version": "~2.1.4",
      "model_name": "LayoutModel",
      "state": {
       "_model_module_version": "~2.1.4",
       "_view_module_version": "~2.1.4"
      }
     },
     "e6331eadfe6c49f595d3ddd7b86b2efa": {
      "model_module": "jupyter-js-widgets",
      "model_module_version": "~2.1.4",
      "model_name": "LabelModel",
      "state": {
       "_model_module_version": "~2.1.4",
       "_view_module_version": "~2.1.4",
       "layout": "IPY_MODEL_1ce00b3b16c84553a69ff3990503a605",
       "value": "Máximos"
      }
     },
     "e6642101a6b64fd1a71060dfc0b87e9a": {
      "model_module": "jupyter-js-widgets",
      "model_module_version": "~2.1.4",
      "model_name": "SelectMultipleModel",
      "state": {
       "_model_module_version": "~2.1.4",
       "_options_labels": [
        "Cycle  6",
        "Cycle  7",
        "Cycle  8",
        "Cycle  9",
        "Cycle 10",
        "Cycle 11",
        "Cycle 12",
        "Cycle 13",
        "Cycle 14",
        "Cycle 15",
        "Cycle 16",
        "Cycle 17",
        "Cycle 18",
        "Cycle 19",
        "Cycle 20",
        "Cycle 21",
        "Cycle 22",
        "Cycle 23",
        "Cycle 24"
       ],
       "_view_module_version": "~2.1.4",
       "layout": "IPY_MODEL_f3ab0b6565a345f38e9428de0c2621ff",
       "value": [
        "Cycle  6",
        "Cycle  7",
        "Cycle  8",
        "Cycle 24"
       ]
      }
     },
     "e69a1829ce7643eda1649bfa839a2673": {
      "model_module": "jupyter-js-widgets",
      "model_module_version": "~2.1.4",
      "model_name": "LayoutModel",
      "state": {
       "_model_module_version": "~2.1.4",
       "_view_module_version": "~2.1.4"
      }
     },
     "e6bec4469c9f4c14a12c5b2a3682dd4b": {
      "model_module": "jupyter-js-widgets",
      "model_module_version": "~2.1.4",
      "model_name": "LayoutModel",
      "state": {
       "_model_module_version": "~2.1.4",
       "_view_module_version": "~2.1.4"
      }
     },
     "e6e36346b41c47cab8f7a4a523bb6010": {
      "model_module": "jupyter-js-widgets",
      "model_module_version": "~2.1.4",
      "model_name": "LayoutModel",
      "state": {
       "_model_module_version": "~2.1.4",
       "_view_module_version": "~2.1.4",
       "margin": "5px 2px 0",
       "width": "300px"
      }
     },
     "e6e964628b7048b0b5a746b767bc9976": {
      "model_module": "jupyter-js-widgets",
      "model_module_version": "~2.1.4",
      "model_name": "ButtonModel",
      "state": {
       "_model_module_version": "~2.1.4",
       "_view_module_version": "~2.1.4",
       "description": "Eliminar ciclos selecionados",
       "layout": "IPY_MODEL_33e490361d434f328a8d4525bb054968",
       "style": "IPY_MODEL_46de445bec7744ed87463408de328520"
      }
     },
     "e712e020e1a744188aa59ed3bcfefa7c": {
      "model_module": "jupyter-js-widgets",
      "model_module_version": "~2.1.4",
      "model_name": "LabelModel",
      "state": {
       "_model_module_version": "~2.1.4",
       "_view_module_version": "~2.1.4",
       "layout": "IPY_MODEL_3439260eda934e45a0af9f0651cff178",
       "value": "Máximos"
      }
     },
     "e71d1fa2e72f4d3baab6236f48f28e7d": {
      "model_module": "jupyter-js-widgets",
      "model_module_version": "~2.1.4",
      "model_name": "OutputModel",
      "state": {
       "_dom_classes": [],
       "_model_module": "jupyter-js-widgets",
       "_model_module_version": "~2.1.4",
       "_view_module": "jupyter-js-widgets",
       "_view_module_version": "~2.1.4",
       "layout": "IPY_MODEL_f41fdff748584f6ba7b938d06847ae48",
       "msg_throttle": 1
      }
     },
     "e74b43d13a33481a8269f2df140e7fce": {
      "model_module": "jupyter-js-widgets",
      "model_module_version": "~2.1.4",
      "model_name": "LayoutModel",
      "state": {
       "_model_module_version": "~2.1.4",
       "_view_module_version": "~2.1.4"
      }
     },
     "e75571c0616f4977b579781826e70000": {
      "model_module": "jupyter-js-widgets",
      "model_module_version": "~2.1.4",
      "model_name": "LabelModel",
      "state": {
       "_model_module_version": "~2.1.4",
       "_view_module_version": "~2.1.4",
       "layout": "IPY_MODEL_19a364757f274b21a077d4f738c89b51",
       "value": "Ciclos solares"
      }
     },
     "e800193b2f0043dbb7047dc8649421e2": {
      "model_module": "jupyter-js-widgets",
      "model_module_version": "~2.1.4",
      "model_name": "VBoxModel",
      "state": {
       "_model_module_version": "~2.1.4",
       "_view_module_version": "~2.1.4",
       "children": [
        "IPY_MODEL_e75571c0616f4977b579781826e70000",
        "IPY_MODEL_6a41b3a2296948ad9f54ac7340271e9b",
        "IPY_MODEL_201823b43e164485828076d424d0b050",
        "IPY_MODEL_66a4db94be9b44afad65c648f581ba1e",
        "IPY_MODEL_75d4af1b430543dfa2787b06df425109"
       ],
       "layout": "IPY_MODEL_1f0aee3e0ace4a118039dac50e791342"
      }
     },
     "e808f20b679c46319e51814eb7e6eaf0": {
      "model_module": "jupyter-js-widgets",
      "model_module_version": "~2.1.4",
      "model_name": "LayoutModel",
      "state": {
       "_model_module_version": "~2.1.4",
       "_view_module_version": "~2.1.4",
       "width": "100%"
      }
     },
     "e8138e7dd0cd42aa9181593999ce850d": {
      "model_module": "jupyter-js-widgets",
      "model_module_version": "~2.1.4",
      "model_name": "ButtonModel",
      "state": {
       "_model_module_version": "~2.1.4",
       "_view_module_version": "~2.1.4",
       "description": "Eliminar ciclos selecionados",
       "layout": "IPY_MODEL_72d1eb37f6a541438ac814e54b5da272",
       "style": "IPY_MODEL_b72d7f7c861b405687c6663cfb70f9e9"
      }
     },
     "e82d16094c6c4ec5b995ec20cdcd89c6": {
      "model_module": "jupyter-js-widgets",
      "model_module_version": "~2.1.4",
      "model_name": "LayoutModel",
      "state": {
       "_model_module_version": "~2.1.4",
       "_view_module_version": "~2.1.4",
       "margin": "5px 2px 0",
       "width": "300px"
      }
     },
     "e83b01a1ae104480ba4a03d188225277": {
      "model_module": "jupyter-js-widgets",
      "model_module_version": "~2.1.4",
      "model_name": "LayoutModel",
      "state": {
       "_model_module_version": "~2.1.4",
       "_view_module_version": "~2.1.4"
      }
     },
     "e86e5f21d9f04fe5a7bde20afda34dea": {
      "model_module": "jupyter-js-widgets",
      "model_module_version": "~2.1.4",
      "model_name": "LayoutModel",
      "state": {
       "_model_module_version": "~2.1.4",
       "_view_module_version": "~2.1.4",
       "margin": "5px 2px 0",
       "width": "300px"
      }
     },
     "e8ea3fdd5af24768b323214a9c9c6aba": {
      "model_module": "jupyter-js-widgets",
      "model_module_version": "~2.1.4",
      "model_name": "LayoutModel",
      "state": {
       "_model_module_version": "~2.1.4",
       "_view_module_version": "~2.1.4",
       "width": "100%"
      }
     },
     "e8f0f7e2f54d4efd925eb9d71025a550": {
      "model_module": "jupyter-js-widgets",
      "model_module_version": "~2.1.4",
      "model_name": "VBoxModel",
      "state": {
       "_model_module_version": "~2.1.4",
       "_view_module_version": "~2.1.4",
       "children": [
        "IPY_MODEL_2668b87ff3fb462cb6738992b59b8f1e",
        "IPY_MODEL_09dbc872d0f74c01a99a1c47c03f10c6"
       ],
       "layout": "IPY_MODEL_866b2097aeae45ebb3e4cd0121afd338"
      }
     },
     "e90f80feead34a1fbd6df8625ec1ffd4": {
      "model_module": "jupyter-js-widgets",
      "model_module_version": "~2.1.4",
      "model_name": "LabelModel",
      "state": {
       "_model_module_version": "~2.1.4",
       "_view_module_version": "~2.1.4",
       "layout": "IPY_MODEL_a7543c075ed4478384eff8f9c37facd8",
       "value": "Ciclos solares"
      }
     },
     "e9493bbe73a9418a86c5e3a025e93f19": {
      "model_module": "jupyter-js-widgets",
      "model_module_version": "~2.1.4",
      "model_name": "ButtonModel",
      "state": {
       "_model_module_version": "~2.1.4",
       "_view_module_version": "~2.1.4",
       "description": "Limpiar seleción de ciclos",
       "layout": "IPY_MODEL_0a9dc8268566434aaf18387b3c1933b4",
       "style": "IPY_MODEL_e99d7b59ee504ca986e01e06d844b512"
      }
     },
     "e951a7f3792f4f33ba56e8ff45cf1b52": {
      "model_module": "jupyter-js-widgets",
      "model_module_version": "~2.1.4",
      "model_name": "LayoutModel",
      "state": {
       "_model_module_version": "~2.1.4",
       "_view_module_version": "~2.1.4"
      }
     },
     "e979ee0c803645fbb9ecb191ea8cbc4d": {
      "model_module": "jupyter-js-widgets",
      "model_module_version": "~2.1.4",
      "model_name": "LayoutModel",
      "state": {
       "_model_module_version": "~2.1.4",
       "_view_module_version": "~2.1.4"
      }
     },
     "e99d7b59ee504ca986e01e06d844b512": {
      "model_module": "jupyter-js-widgets",
      "model_module_version": "~2.1.4",
      "model_name": "ButtonStyleModel",
      "state": {
       "_model_module_version": "~2.1.4",
       "_view_module_version": "~2.1.4"
      }
     },
     "e9a912737aeb4d83ac17916a6c176412": {
      "model_module": "jupyter-js-widgets",
      "model_module_version": "~2.1.4",
      "model_name": "OutputModel",
      "state": {
       "_dom_classes": [],
       "_model_module": "jupyter-js-widgets",
       "_model_module_version": "~2.1.4",
       "_view_module": "jupyter-js-widgets",
       "_view_module_version": "~2.1.4",
       "layout": "IPY_MODEL_f3ae3e698582458485abf82b345be897",
       "msg_throttle": 1
      }
     },
     "e9b587c20778450788252353680dbf2b": {
      "model_module": "jupyter-js-widgets",
      "model_module_version": "~2.1.4",
      "model_name": "IntSliderModel",
      "state": {
       "_model_module_version": "~2.1.4",
       "_view_module_version": "~2.1.4",
       "layout": "IPY_MODEL_cf405625441b4e9a8b893bc50d960345",
       "min": 1,
       "style": "IPY_MODEL_731b0e2f1f484211a4442a1b9e246f76",
       "value": 20
      }
     },
     "e9d5523611fb421d898d6f257c9c93df": {
      "model_module": "jupyter-js-widgets",
      "model_module_version": "~2.1.4",
      "model_name": "LayoutModel",
      "state": {
       "_model_module_version": "~2.1.4",
       "_view_module_version": "~2.1.4"
      }
     },
     "e9e8bb57b2db4c58accf6967ededf7f6": {
      "model_module": "jupyter-js-widgets",
      "model_module_version": "~2.1.4",
      "model_name": "ButtonStyleModel",
      "state": {
       "_model_module_version": "~2.1.4",
       "_view_module_version": "~2.1.4"
      }
     },
     "ea6b478c71534214b0b5eb0674784b79": {
      "model_module": "jupyter-js-widgets",
      "model_module_version": "~2.1.4",
      "model_name": "LayoutModel",
      "state": {
       "_model_module_version": "~2.1.4",
       "_view_module_version": "~2.1.4",
       "margin": "5px 2px 0",
       "width": "300px"
      }
     },
     "ea70bc2b3f304d83afec40e648a85b54": {
      "model_module": "jupyter-js-widgets",
      "model_module_version": "~2.1.4",
      "model_name": "LayoutModel",
      "state": {
       "_model_module_version": "~2.1.4",
       "_view_module_version": "~2.1.4"
      }
     },
     "eb165458316e4b15a479a74b007aeb26": {
      "model_module": "jupyter-js-widgets",
      "model_module_version": "~2.1.4",
      "model_name": "LayoutModel",
      "state": {
       "_model_module_version": "~2.1.4",
       "_view_module_version": "~2.1.4"
      }
     },
     "eb1b82fa479d4343a1f6b9a08d644d40": {
      "model_module": "jupyter-js-widgets",
      "model_module_version": "~2.1.4",
      "model_name": "ButtonStyleModel",
      "state": {
       "_model_module_version": "~2.1.4",
       "_view_module_version": "~2.1.4"
      }
     },
     "eb282a1ada18480fb9a5060e8268520f": {
      "model_module": "jupyter-js-widgets",
      "model_module_version": "~2.1.4",
      "model_name": "ButtonModel",
      "state": {
       "_model_module_version": "~2.1.4",
       "_view_module_version": "~2.1.4",
       "description": "Limpiar seleción de ciclos",
       "layout": "IPY_MODEL_8b776ac35a004ed6ad221759f3b32245",
       "style": "IPY_MODEL_074d50c03fb145e0b2ac122483c5b54f"
      }
     },
     "eb667302e8b441dfafdfe69381c343ce": {
      "model_module": "jupyter-js-widgets",
      "model_module_version": "~2.1.4",
      "model_name": "LayoutModel",
      "state": {
       "_model_module_version": "~2.1.4",
       "_view_module_version": "~2.1.4"
      }
     },
     "eb6ad029e303413ca2ed95aed752cff6": {
      "model_module": "jupyter-js-widgets",
      "model_module_version": "~2.1.4",
      "model_name": "LayoutModel",
      "state": {
       "_model_module_version": "~2.1.4",
       "_view_module_version": "~2.1.4"
      }
     },
     "eb8859d5bec447d79c07cee18eabfbbc": {
      "model_module": "jupyter-js-widgets",
      "model_module_version": "~2.1.4",
      "model_name": "OutputModel",
      "state": {
       "_dom_classes": [],
       "_model_module": "jupyter-js-widgets",
       "_model_module_version": "~2.1.4",
       "_view_module": "jupyter-js-widgets",
       "_view_module_version": "~2.1.4",
       "layout": "IPY_MODEL_da6137a69af84d9bbcfd316a7238f3f6",
       "msg_throttle": 1
      }
     },
     "eb8f284c38564778b4c13a7944b37cb5": {
      "model_module": "jupyter-js-widgets",
      "model_module_version": "~2.1.4",
      "model_name": "LayoutModel",
      "state": {
       "_model_module_version": "~2.1.4",
       "_view_module_version": "~2.1.4"
      }
     },
     "eba0167523024bbebd28f1a39e65dc89": {
      "model_module": "jupyter-js-widgets",
      "model_module_version": "~2.1.4",
      "model_name": "LayoutModel",
      "state": {
       "_model_module_version": "~2.1.4",
       "_view_module_version": "~2.1.4"
      }
     },
     "ebce9a0688824a00b14422465aab7da5": {
      "model_module": "jupyter-js-widgets",
      "model_module_version": "~2.1.4",
      "model_name": "SelectMultipleModel",
      "state": {
       "_model_module_version": "~2.1.4",
       "_options_labels": [
        "Cycle  6",
        "Cycle  7",
        "Cycle  8",
        "Cycle  9",
        "Cycle 10",
        "Cycle 11",
        "Cycle 12",
        "Cycle 13",
        "Cycle 14",
        "Cycle 15",
        "Cycle 16",
        "Cycle 17",
        "Cycle 18",
        "Cycle 19",
        "Cycle 20",
        "Cycle 21",
        "Cycle 22",
        "Cycle 23",
        "Cycle 24"
       ],
       "_view_module_version": "~2.1.4",
       "layout": "IPY_MODEL_560f8bf21eec429eaeb9929ae1c10e56",
       "value": [
        "Cycle  6",
        "Cycle  7",
        "Cycle  8",
        "Cycle 24"
       ]
      }
     },
     "ebdb745919004e0fb943183e611c7376": {
      "model_module": "jupyter-js-widgets",
      "model_module_version": "~2.1.4",
      "model_name": "SelectMultipleModel",
      "state": {
       "_model_module_version": "~2.1.4",
       "_options_labels": [
        "Cycle  6",
        "Cycle  7",
        "Cycle  8",
        "Cycle  9",
        "Cycle 10",
        "Cycle 11",
        "Cycle 12",
        "Cycle 13",
        "Cycle 14",
        "Cycle 15",
        "Cycle 16",
        "Cycle 17",
        "Cycle 18",
        "Cycle 19",
        "Cycle 20",
        "Cycle 21",
        "Cycle 22",
        "Cycle 23",
        "Cycle 24"
       ],
       "_view_module_version": "~2.1.4",
       "layout": "IPY_MODEL_309f87824a054d3e9de0fb8be0697a58",
       "value": [
        "Cycle  6",
        "Cycle  7",
        "Cycle  8",
        "Cycle 24"
       ]
      }
     },
     "ec4d91a31ac543e4a2d3266faa8eac28": {
      "model_module": "jupyter-js-widgets",
      "model_module_version": "~2.1.4",
      "model_name": "ButtonStyleModel",
      "state": {
       "_model_module_version": "~2.1.4",
       "_view_module_version": "~2.1.4"
      }
     },
     "ececc818bdf34d48b108baa4cdf350ac": {
      "model_module": "jupyter-js-widgets",
      "model_module_version": "~2.1.4",
      "model_name": "ButtonStyleModel",
      "state": {
       "_model_module_version": "~2.1.4",
       "_view_module_version": "~2.1.4"
      }
     },
     "ed0042be6c0d4273ba20d02fcaad8c6c": {
      "model_module": "jupyter-js-widgets",
      "model_module_version": "~2.1.4",
      "model_name": "VBoxModel",
      "state": {
       "_model_module_version": "~2.1.4",
       "_view_module_version": "~2.1.4",
       "children": [
        "IPY_MODEL_f0cfcf6876fb4a8eacdac9f8cf336d40",
        "IPY_MODEL_ebdb745919004e0fb943183e611c7376",
        "IPY_MODEL_4c081c4de26f4fe983a36c3fe7362aab",
        "IPY_MODEL_5efacccfc2d94336bac47b06b4ec947b",
        "IPY_MODEL_63bfa1fb59b346a69e38b738090d4136"
       ],
       "layout": "IPY_MODEL_e0092e454ef24f04b5570ff5b343d4ee"
      }
     },
     "ed15f857b57e434f99114d64df9fd16e": {
      "model_module": "jupyter-js-widgets",
      "model_module_version": "~2.1.4",
      "model_name": "LayoutModel",
      "state": {
       "_model_module_version": "~2.1.4",
       "_view_module_version": "~2.1.4",
       "width": "100%"
      }
     },
     "ed3f7e3ebf7d42ecbbf8982e92091225": {
      "model_module": "jupyter-js-widgets",
      "model_module_version": "~2.1.4",
      "model_name": "SelectMultipleModel",
      "state": {
       "_model_module_version": "~2.1.4",
       "_options_labels": [
        "Cycle  6",
        "Cycle  7",
        "Cycle  8",
        "Cycle  9",
        "Cycle 10",
        "Cycle 11",
        "Cycle 12",
        "Cycle 13",
        "Cycle 14",
        "Cycle 15",
        "Cycle 16",
        "Cycle 17",
        "Cycle 18",
        "Cycle 19",
        "Cycle 20",
        "Cycle 21",
        "Cycle 22",
        "Cycle 23",
        "Cycle 24"
       ],
       "_view_module_version": "~2.1.4",
       "layout": "IPY_MODEL_ffb9b66ac27647e29485a142668e3636",
       "value": []
      }
     },
     "ed579c6b18dd4fcdb402d251c0dfc508": {
      "model_module": "jupyter-js-widgets",
      "model_module_version": "~2.1.4",
      "model_name": "LabelModel",
      "state": {
       "_model_module_version": "~2.1.4",
       "_view_module_version": "~2.1.4",
       "layout": "IPY_MODEL_af50a07173be49fa9882f9e1a4baaf76",
       "value": "Ciclos solares"
      }
     },
     "ed6acb909e05415d8a7a78da3aeb7284": {
      "model_module": "jupyter-js-widgets",
      "model_module_version": "~2.1.4",
      "model_name": "LabelModel",
      "state": {
       "_model_module_version": "~2.1.4",
       "_view_module_version": "~2.1.4",
       "layout": "IPY_MODEL_bae8bc7045374554a2de38abcfd91505",
       "value": "Ciclos solares"
      }
     },
     "ed9a97b7ef5642f8be70bb4500745922": {
      "model_module": "jupyter-js-widgets",
      "model_module_version": "~2.1.4",
      "model_name": "CheckboxModel",
      "state": {
       "_model_module_version": "~2.1.4",
       "_view_module_version": "~2.1.4",
       "description": "Cycle 21",
       "disabled": false,
       "layout": "IPY_MODEL_45a1ae9f6b1a415193b5b1bfce09b619",
       "value": true
      }
     },
     "edbba18dc0ec4f22b9f45a3af9100647": {
      "model_module": "jupyter-js-widgets",
      "model_module_version": "~2.1.4",
      "model_name": "LayoutModel",
      "state": {
       "_model_module_version": "~2.1.4",
       "_view_module_version": "~2.1.4"
      }
     },
     "edc8a5f81d23457eaaeec32d853832d2": {
      "model_module": "jupyter-js-widgets",
      "model_module_version": "~2.1.4",
      "model_name": "ButtonStyleModel",
      "state": {
       "_model_module_version": "~2.1.4",
       "_view_module_version": "~2.1.4"
      }
     },
     "edec9fa13bb44ed68e0c8cc377944999": {
      "model_module": "jupyter-js-widgets",
      "model_module_version": "~2.1.4",
      "model_name": "ButtonStyleModel",
      "state": {
       "_model_module_version": "~2.1.4",
       "_view_module_version": "~2.1.4"
      }
     },
     "ee92679a2a7b4c8db833c177638df7ee": {
      "model_module": "jupyter-js-widgets",
      "model_module_version": "~2.1.4",
      "model_name": "OutputModel",
      "state": {
       "_dom_classes": [],
       "_model_module": "jupyter-js-widgets",
       "_model_module_version": "~2.1.4",
       "_view_module": "jupyter-js-widgets",
       "_view_module_version": "~2.1.4",
       "layout": "IPY_MODEL_b4feeeaeab294d55ac5d419013365dcb",
       "msg_throttle": 1
      }
     },
     "ee9fed8ef00d4fb6866e9ee376f78278": {
      "model_module": "jupyter-js-widgets",
      "model_module_version": "~2.1.4",
      "model_name": "LayoutModel",
      "state": {
       "_model_module_version": "~2.1.4",
       "_view_module_version": "~2.1.4",
       "margin": "5px 2px 0",
       "width": "300px"
      }
     },
     "eee1f5a93e9a4a53a9507164a4ab1803": {
      "model_module": "jupyter-js-widgets",
      "model_module_version": "~2.1.4",
      "model_name": "LayoutModel",
      "state": {
       "_model_module_version": "~2.1.4",
       "_view_module_version": "~2.1.4"
      }
     },
     "ef03d7d6421647ada01c565cb519eae8": {
      "model_module": "jupyter-js-widgets",
      "model_module_version": "~2.1.4",
      "model_name": "ButtonStyleModel",
      "state": {
       "_model_module_version": "~2.1.4",
       "_view_module_version": "~2.1.4"
      }
     },
     "ef06fafc72574050bc26ba52713d0512": {
      "model_module": "jupyter-js-widgets",
      "model_module_version": "~2.1.4",
      "model_name": "ButtonModel",
      "state": {
       "_model_module_version": "~2.1.4",
       "_view_module_version": "~2.1.4",
       "description": "Limpiar seleción de ciclos",
       "layout": "IPY_MODEL_f3929fe5d1644441a4021beffeb6af65",
       "style": "IPY_MODEL_ac73c0afa8684a7492f661fe75f8f0d3"
      }
     },
     "ef29e547cb9c482185c643c3979abcd8": {
      "model_module": "jupyter-js-widgets",
      "model_module_version": "~2.1.4",
      "model_name": "LayoutModel",
      "state": {
       "_model_module_version": "~2.1.4",
       "_view_module_version": "~2.1.4"
      }
     },
     "ef2a8e652a9745a9a6a316f0d6f93e73": {
      "model_module": "jupyter-js-widgets",
      "model_module_version": "~2.1.4",
      "model_name": "LayoutModel",
      "state": {
       "_model_module_version": "~2.1.4",
       "_view_module_version": "~2.1.4"
      }
     },
     "efad284521a44c14a4a3dca0ba271277": {
      "model_module": "jupyter-js-widgets",
      "model_module_version": "~2.1.4",
      "model_name": "LayoutModel",
      "state": {
       "_model_module_version": "~2.1.4",
       "_view_module_version": "~2.1.4",
       "width": "100%"
      }
     },
     "efbee8c3edb7423dabaf8ff92589af7f": {
      "model_module": "jupyter-js-widgets",
      "model_module_version": "~2.1.4",
      "model_name": "LayoutModel",
      "state": {
       "_model_module_version": "~2.1.4",
       "_view_module_version": "~2.1.4"
      }
     },
     "efc404bff2ff4c23a7974c1e0fe15ef3": {
      "model_module": "jupyter-js-widgets",
      "model_module_version": "~2.1.4",
      "model_name": "LayoutModel",
      "state": {
       "_model_module_version": "~2.1.4",
       "_view_module_version": "~2.1.4"
      }
     },
     "f0affc2ec49046beaa14aeaab233afc8": {
      "model_module": "jupyter-js-widgets",
      "model_module_version": "~2.1.4",
      "model_name": "LayoutModel",
      "state": {
       "_model_module_version": "~2.1.4",
       "_view_module_version": "~2.1.4"
      }
     },
     "f0cfcf6876fb4a8eacdac9f8cf336d40": {
      "model_module": "jupyter-js-widgets",
      "model_module_version": "~2.1.4",
      "model_name": "LabelModel",
      "state": {
       "_model_module_version": "~2.1.4",
       "_view_module_version": "~2.1.4",
       "layout": "IPY_MODEL_5cb5f43671aa412d81f7f27fc2f8f89f",
       "value": "Ciclos solares"
      }
     },
     "f0dec2562f3d49fa85679455b37a86f2": {
      "model_module": "jupyter-js-widgets",
      "model_module_version": "~2.1.4",
      "model_name": "LayoutModel",
      "state": {
       "_model_module_version": "~2.1.4",
       "_view_module_version": "~2.1.4",
       "margin": "5px 2px 0",
       "width": "300px"
      }
     },
     "f11f96c2ca8e4174ad57bdee20361a82": {
      "model_module": "jupyter-js-widgets",
      "model_module_version": "~2.1.4",
      "model_name": "LayoutModel",
      "state": {
       "_model_module_version": "~2.1.4",
       "_view_module_version": "~2.1.4",
       "margin": "5px 2px 0",
       "width": "300px"
      }
     },
     "f1493cf789924297a01bb1e413efa88c": {
      "model_module": "jupyter-js-widgets",
      "model_module_version": "~2.1.4",
      "model_name": "ButtonModel",
      "state": {
       "_model_module_version": "~2.1.4",
       "_view_module_version": "~2.1.4",
       "description": "Limpiar seleción de máximos",
       "layout": "IPY_MODEL_8dc626d314724781a68494c5fddd7c19",
       "style": "IPY_MODEL_f3aaa19e4c5d47c99eac43421489ba23"
      }
     },
     "f16cb15c8d844aefb708c6d390d5a266": {
      "model_module": "jupyter-js-widgets",
      "model_module_version": "~2.1.4",
      "model_name": "LayoutModel",
      "state": {
       "_model_module_version": "~2.1.4",
       "_view_module_version": "~2.1.4",
       "margin": "5px 2px 0",
       "width": "300px"
      }
     },
     "f19be3a6e9ea48cea1afcbb24214ab58": {
      "model_module": "jupyter-js-widgets",
      "model_module_version": "~2.1.4",
      "model_name": "LayoutModel",
      "state": {
       "_model_module_version": "~2.1.4",
       "_view_module_version": "~2.1.4"
      }
     },
     "f1b8ae323d2a4cd3a447f8988d49b709": {
      "model_module": "jupyter-js-widgets",
      "model_module_version": "~2.1.4",
      "model_name": "SelectMultipleModel",
      "state": {
       "_model_module_version": "~2.1.4",
       "_options_labels": [
        "Cycle  6",
        "Cycle  7",
        "Cycle  8",
        "Cycle  9",
        "Cycle 10",
        "Cycle 11",
        "Cycle 12",
        "Cycle 13",
        "Cycle 14",
        "Cycle 15",
        "Cycle 16",
        "Cycle 17",
        "Cycle 18",
        "Cycle 19",
        "Cycle 20",
        "Cycle 21",
        "Cycle 22",
        "Cycle 23",
        "Cycle 24"
       ],
       "_view_module_version": "~2.1.4",
       "layout": "IPY_MODEL_dc7344a353944b39b99a63e8c41bd73e",
       "value": [
        "Cycle  6",
        "Cycle  7",
        "Cycle  8",
        "Cycle 24"
       ]
      }
     },
     "f2191cb30f9d4cfb91d78529505f033d": {
      "model_module": "jupyter-js-widgets",
      "model_module_version": "~2.1.4",
      "model_name": "LayoutModel",
      "state": {
       "_model_module_version": "~2.1.4",
       "_view_module_version": "~2.1.4"
      }
     },
     "f245094289f949f0892cae5c4c95a2cc": {
      "model_module": "jupyter-js-widgets",
      "model_module_version": "~2.1.4",
      "model_name": "LayoutModel",
      "state": {
       "_model_module_version": "~2.1.4",
       "_view_module_version": "~2.1.4",
       "margin": "5px 2px 0",
       "width": "300px"
      }
     },
     "f2828daed592441eaab0174a33156de0": {
      "model_module": "jupyter-js-widgets",
      "model_module_version": "~2.1.4",
      "model_name": "ButtonStyleModel",
      "state": {
       "_model_module_version": "~2.1.4",
       "_view_module_version": "~2.1.4"
      }
     },
     "f2b23422d8c8460eb6d765aaadefa98b": {
      "model_module": "jupyter-js-widgets",
      "model_module_version": "~2.1.4",
      "model_name": "ButtonModel",
      "state": {
       "_model_module_version": "~2.1.4",
       "_view_module_version": "~2.1.4",
       "description": "Limpiar seleción de ciclos",
       "layout": "IPY_MODEL_d2196e6f103d4eafb9b74690e936751f",
       "style": "IPY_MODEL_2ec262098ea34f1791bec93b213720e0"
      }
     },
     "f2cd6b1a93024375a6c8c1fdc5038378": {
      "model_module": "jupyter-js-widgets",
      "model_module_version": "~2.1.4",
      "model_name": "LayoutModel",
      "state": {
       "_model_module_version": "~2.1.4",
       "_view_module_version": "~2.1.4"
      }
     },
     "f2f4b2818d0c4a488c002bf6c875cd36": {
      "model_module": "jupyter-js-widgets",
      "model_module_version": "~2.1.4",
      "model_name": "ButtonStyleModel",
      "state": {
       "_model_module_version": "~2.1.4",
       "_view_module_version": "~2.1.4"
      }
     },
     "f2f5341788aa4da9b6a9a54090afc137": {
      "model_module": "jupyter-js-widgets",
      "model_module_version": "~2.1.4",
      "model_name": "VBoxModel",
      "state": {
       "_model_module_version": "~2.1.4",
       "_view_module_version": "~2.1.4",
       "children": [
        "IPY_MODEL_37388a236f1b4d18b15b5e1dfde3469f",
        "IPY_MODEL_6eae306e5fae433fbad6909033f0c9b6"
       ],
       "layout": "IPY_MODEL_c42893e332fa41299f3d94774216c0c8"
      }
     },
     "f30188caa480420e9e8af620b23f00b8": {
      "model_module": "jupyter-js-widgets",
      "model_module_version": "~2.1.4",
      "model_name": "ButtonStyleModel",
      "state": {
       "_model_module_version": "~2.1.4",
       "_view_module_version": "~2.1.4"
      }
     },
     "f310f6e5a4b748da8c6d3ee2a1418dc9": {
      "model_module": "jupyter-js-widgets",
      "model_module_version": "~2.1.4",
      "model_name": "VBoxModel",
      "state": {
       "_dom_classes": [
        "widget-interact"
       ],
       "_model_module_version": "~2.1.4",
       "_view_module_version": "~2.1.4",
       "children": [
        "IPY_MODEL_b7495ee647594582a24735f4ee6387c1",
        "IPY_MODEL_977535dad2a04524b71d3a86dd6ab640"
       ],
       "layout": "IPY_MODEL_db90bb7cced041e0a881d961fd80cfd3"
      }
     },
     "f3929fe5d1644441a4021beffeb6af65": {
      "model_module": "jupyter-js-widgets",
      "model_module_version": "~2.1.4",
      "model_name": "LayoutModel",
      "state": {
       "_model_module_version": "~2.1.4",
       "_view_module_version": "~2.1.4",
       "margin": "5px 2px 0",
       "width": "300px"
      }
     },
     "f39e564203c8491f98a7ed64c12c5e7a": {
      "model_module": "jupyter-js-widgets",
      "model_module_version": "~2.1.4",
      "model_name": "ButtonStyleModel",
      "state": {
       "_model_module_version": "~2.1.4",
       "_view_module_version": "~2.1.4"
      }
     },
     "f3aaa19e4c5d47c99eac43421489ba23": {
      "model_module": "jupyter-js-widgets",
      "model_module_version": "~2.1.4",
      "model_name": "ButtonStyleModel",
      "state": {
       "_model_module_version": "~2.1.4",
       "_view_module_version": "~2.1.4"
      }
     },
     "f3ab0b6565a345f38e9428de0c2621ff": {
      "model_module": "jupyter-js-widgets",
      "model_module_version": "~2.1.4",
      "model_name": "LayoutModel",
      "state": {
       "_model_module_version": "~2.1.4",
       "_view_module_version": "~2.1.4"
      }
     },
     "f3ae3e698582458485abf82b345be897": {
      "model_module": "jupyter-js-widgets",
      "model_module_version": "~2.1.4",
      "model_name": "LayoutModel",
      "state": {
       "_model_module_version": "~2.1.4",
       "_view_module_version": "~2.1.4"
      }
     },
     "f3ef55a634ca4d58bd6cfe9ea244a426": {
      "model_module": "jupyter-js-widgets",
      "model_module_version": "~2.1.4",
      "model_name": "ButtonModel",
      "state": {
       "_model_module_version": "~2.1.4",
       "_view_module_version": "~2.1.4",
       "description": "Eliminar ciclos selecionados",
       "layout": "IPY_MODEL_29e51435c70a47f4b159004af41517eb",
       "style": "IPY_MODEL_e492619fec10430e864249b163eb7bb6"
      }
     },
     "f3f4bf5cd2d24feaa6b02d30b5b56a82": {
      "model_module": "jupyter-js-widgets",
      "model_module_version": "~2.1.4",
      "model_name": "LayoutModel",
      "state": {
       "_model_module_version": "~2.1.4",
       "_view_module_version": "~2.1.4"
      }
     },
     "f3ff76ad455949b58a79769a44e65db8": {
      "model_module": "jupyter-js-widgets",
      "model_module_version": "~2.1.4",
      "model_name": "LayoutModel",
      "state": {
       "_model_module_version": "~2.1.4",
       "_view_module_version": "~2.1.4"
      }
     },
     "f41deeea5b464d03874133655654d45d": {
      "model_module": "jupyter-js-widgets",
      "model_module_version": "~2.1.4",
      "model_name": "LayoutModel",
      "state": {
       "_model_module_version": "~2.1.4",
       "_view_module_version": "~2.1.4"
      }
     },
     "f41fdff748584f6ba7b938d06847ae48": {
      "model_module": "jupyter-js-widgets",
      "model_module_version": "~2.1.4",
      "model_name": "LayoutModel",
      "state": {
       "_model_module_version": "~2.1.4",
       "_view_module_version": "~2.1.4"
      }
     },
     "f45c855095ed472baaa486e1f8829455": {
      "model_module": "jupyter-js-widgets",
      "model_module_version": "~2.1.4",
      "model_name": "ButtonModel",
      "state": {
       "_model_module_version": "~2.1.4",
       "_view_module_version": "~2.1.4",
       "description": "Eliminar ciclos selecionados",
       "layout": "IPY_MODEL_8033fd931e304488aae94c1627c1c1ce",
       "style": "IPY_MODEL_a4e26cb922d846569d3003622c941566"
      }
     },
     "f472259f9a724efca3343643365a04ca": {
      "model_module": "jupyter-js-widgets",
      "model_module_version": "~2.1.4",
      "model_name": "LayoutModel",
      "state": {
       "_model_module_version": "~2.1.4",
       "_view_module_version": "~2.1.4",
       "margin": "5px 2px 0",
       "width": "300px"
      }
     },
     "f4802a14b1104d448f6a009410e8c85c": {
      "model_module": "jupyter-js-widgets",
      "model_module_version": "~2.1.4",
      "model_name": "LayoutModel",
      "state": {
       "_model_module_version": "~2.1.4",
       "_view_module_version": "~2.1.4",
       "margin": "5px 2px 0",
       "width": "300px"
      }
     },
     "f49a149d8c82420989d84ee86b6b17b2": {
      "model_module": "jupyter-js-widgets",
      "model_module_version": "~2.1.4",
      "model_name": "SliderStyleModel",
      "state": {
       "_model_module_version": "~2.1.4",
       "_view_module_version": "~2.1.4"
      }
     },
     "f4e2f6e497934a6dbfcd8da440bb1619": {
      "model_module": "jupyter-js-widgets",
      "model_module_version": "~2.1.4",
      "model_name": "LayoutModel",
      "state": {
       "_model_module_version": "~2.1.4",
       "_view_module_version": "~2.1.4"
      }
     },
     "f4fe0d4f3e6b43dbb0ddad352a0e8088": {
      "model_module": "jupyter-js-widgets",
      "model_module_version": "~2.1.4",
      "model_name": "ButtonStyleModel",
      "state": {
       "_model_module_version": "~2.1.4",
       "_view_module_version": "~2.1.4"
      }
     },
     "f501fecc036a4007a8beec10c6262222": {
      "model_module": "jupyter-js-widgets",
      "model_module_version": "~2.1.4",
      "model_name": "ButtonStyleModel",
      "state": {
       "_model_module_version": "~2.1.4",
       "_view_module_version": "~2.1.4"
      }
     },
     "f5202101b0bd493e9bd41ea1611efed1": {
      "model_module": "jupyter-js-widgets",
      "model_module_version": "~2.1.4",
      "model_name": "LayoutModel",
      "state": {
       "_model_module_version": "~2.1.4",
       "_view_module_version": "~2.1.4"
      }
     },
     "f546e769d2c54dcaad52241cdb673990": {
      "model_module": "jupyter-js-widgets",
      "model_module_version": "~2.1.4",
      "model_name": "ButtonStyleModel",
      "state": {
       "_model_module_version": "~2.1.4",
       "_view_module_version": "~2.1.4"
      }
     },
     "f5872003369c40e8943fe5830682d8cd": {
      "model_module": "jupyter-js-widgets",
      "model_module_version": "~2.1.4",
      "model_name": "LayoutModel",
      "state": {
       "_model_module_version": "~2.1.4",
       "_view_module_version": "~2.1.4"
      }
     },
     "f5903f15198f4ca4b0d77c8fc29b7cdf": {
      "model_module": "jupyter-js-widgets",
      "model_module_version": "~2.1.4",
      "model_name": "LabelModel",
      "state": {
       "_model_module_version": "~2.1.4",
       "_view_module_version": "~2.1.4",
       "layout": "IPY_MODEL_87f850899308442f9fb3241996bf5775",
       "value": "Ciclos solares"
      }
     },
     "f5d8c11c38da478aa83baa36601859ba": {
      "model_module": "jupyter-js-widgets",
      "model_module_version": "~2.1.4",
      "model_name": "LayoutModel",
      "state": {
       "_model_module_version": "~2.1.4",
       "_view_module_version": "~2.1.4",
       "margin": "5px 2px 0",
       "width": "300px"
      }
     },
     "f63d91ca82304bcd82891a8059240d80": {
      "model_module": "jupyter-js-widgets",
      "model_module_version": "~2.1.4",
      "model_name": "LayoutModel",
      "state": {
       "_model_module_version": "~2.1.4",
       "_view_module_version": "~2.1.4",
       "margin": "5px 2px 0",
       "width": "300px"
      }
     },
     "f6ec2a9b13d04735879281c189d1e521": {
      "model_module": "jupyter-js-widgets",
      "model_module_version": "~2.1.4",
      "model_name": "ButtonModel",
      "state": {
       "_model_module_version": "~2.1.4",
       "_view_module_version": "~2.1.4",
       "description": "Eliminar ciclos selecionados",
       "layout": "IPY_MODEL_596ae1bb5c52414b872f5ad85032c313",
       "style": "IPY_MODEL_8cc3167e50a14491872e777473ed14b3"
      }
     },
     "f71297c0913847778ba1b8b984c9a337": {
      "model_module": "jupyter-js-widgets",
      "model_module_version": "~2.1.4",
      "model_name": "ButtonStyleModel",
      "state": {
       "_model_module_version": "~2.1.4",
       "_view_module_version": "~2.1.4"
      }
     },
     "f726c72219b141dbae7d33a8401f9714": {
      "model_module": "jupyter-js-widgets",
      "model_module_version": "~2.1.4",
      "model_name": "ButtonModel",
      "state": {
       "_model_module_version": "~2.1.4",
       "_view_module_version": "~2.1.4",
       "description": "Eliminar ciclos selecionados",
       "layout": "IPY_MODEL_3594195e06a848b2a6ae80fab41f6bc5",
       "style": "IPY_MODEL_3de778bb110c4db782e83edccf0919f1"
      }
     },
     "f73ef71d06ea44b39bbb5667b57ac5eb": {
      "model_module": "jupyter-js-widgets",
      "model_module_version": "~2.1.4",
      "model_name": "LayoutModel",
      "state": {
       "_model_module_version": "~2.1.4",
       "_view_module_version": "~2.1.4",
       "width": "100%"
      }
     },
     "f79a8922598740a6b5677b499a65814b": {
      "model_module": "jupyter-js-widgets",
      "model_module_version": "~2.1.4",
      "model_name": "LayoutModel",
      "state": {
       "_model_module_version": "~2.1.4",
       "_view_module_version": "~2.1.4"
      }
     },
     "f7d4ec7beaba4b81af6eca77fd35d80b": {
      "model_module": "jupyter-js-widgets",
      "model_module_version": "~2.1.4",
      "model_name": "LayoutModel",
      "state": {
       "_model_module_version": "~2.1.4",
       "_view_module_version": "~2.1.4"
      }
     },
     "f7f45ad9eb4649e5b30a2af0bbe5c7e1": {
      "model_module": "jupyter-js-widgets",
      "model_module_version": "~2.1.4",
      "model_name": "OutputModel",
      "state": {
       "_dom_classes": [],
       "_model_module": "jupyter-js-widgets",
       "_model_module_version": "~2.1.4",
       "_view_module": "jupyter-js-widgets",
       "_view_module_version": "~2.1.4",
       "layout": "IPY_MODEL_313561d556274831be76c59b1f9c9065",
       "msg_throttle": 1
      }
     },
     "f8136b8dd60b42ef99f6e168cd91984c": {
      "model_module": "jupyter-js-widgets",
      "model_module_version": "~2.1.4",
      "model_name": "LayoutModel",
      "state": {
       "_model_module_version": "~2.1.4",
       "_view_module_version": "~2.1.4",
       "width": "100%"
      }
     },
     "f81c96a795b2422fae6c7c68e49e74ce": {
      "model_module": "jupyter-js-widgets",
      "model_module_version": "~2.1.4",
      "model_name": "LayoutModel",
      "state": {
       "_model_module_version": "~2.1.4",
       "_view_module_version": "~2.1.4"
      }
     },
     "f82662e44368493aabbf10f83f41ab95": {
      "model_module": "jupyter-js-widgets",
      "model_module_version": "~2.1.4",
      "model_name": "HTMLModel",
      "state": {
       "_model_module_version": "~2.1.4",
       "_view_module_version": "~2.1.4",
       "layout": "IPY_MODEL_fee12757b2334cc6b8b6eabae9bf8743",
       "value": "<img src='data:image/png;base64,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'/>"
      }
     },
     "f868b9f813054fdb996f190c63cb025f": {
      "model_module": "jupyter-js-widgets",
      "model_module_version": "~2.1.4",
      "model_name": "LayoutModel",
      "state": {
       "_model_module_version": "~2.1.4",
       "_view_module_version": "~2.1.4",
       "width": "100%"
      }
     },
     "f8a8e51ef2c34809a14f061fcc3987aa": {
      "model_module": "jupyter-js-widgets",
      "model_module_version": "~2.1.4",
      "model_name": "LayoutModel",
      "state": {
       "_model_module_version": "~2.1.4",
       "_view_module_version": "~2.1.4",
       "margin": "5px 2px 0",
       "width": "300px"
      }
     },
     "f8e75e268d334598a9df7a3a11d1fbf4": {
      "model_module": "jupyter-js-widgets",
      "model_module_version": "~2.1.4",
      "model_name": "SelectMultipleModel",
      "state": {
       "_model_module_version": "~2.1.4",
       "_options_labels": [
        "Cycle  6",
        "Cycle  7",
        "Cycle  8",
        "Cycle  9",
        "Cycle 10",
        "Cycle 11",
        "Cycle 12",
        "Cycle 13",
        "Cycle 14",
        "Cycle 15",
        "Cycle 16",
        "Cycle 17",
        "Cycle 18",
        "Cycle 19",
        "Cycle 20",
        "Cycle 21",
        "Cycle 22",
        "Cycle 23",
        "Cycle 24"
       ],
       "_view_module_version": "~2.1.4",
       "layout": "IPY_MODEL_4c05911b10c64ad9853a6dcf9b839103",
       "value": [
        "Cycle  6",
        "Cycle  7",
        "Cycle  8",
        "Cycle 24"
       ]
      }
     },
     "f92558653e7b42f2a32e4e969cd594c0": {
      "model_module": "jupyter-js-widgets",
      "model_module_version": "~2.1.4",
      "model_name": "ButtonModel",
      "state": {
       "_model_module_version": "~2.1.4",
       "_view_module_version": "~2.1.4",
       "description": "Limpiar seleción de ciclos",
       "layout": "IPY_MODEL_52f5436bca12403d9ad2270f5060245c",
       "style": "IPY_MODEL_f2f4b2818d0c4a488c002bf6c875cd36"
      }
     },
     "f970668f62fc4b52a237a60e43e25ba6": {
      "model_module": "jupyter-js-widgets",
      "model_module_version": "~2.1.4",
      "model_name": "LayoutModel",
      "state": {
       "_model_module_version": "~2.1.4",
       "_view_module_version": "~2.1.4"
      }
     },
     "f99fd62275fd4a80bb6b30ee8c3abc60": {
      "model_module": "jupyter-js-widgets",
      "model_module_version": "~2.1.4",
      "model_name": "LayoutModel",
      "state": {
       "_model_module_version": "~2.1.4",
       "_view_module_version": "~2.1.4"
      }
     },
     "f9e81eb114da4765b16bafa0aae5bbbf": {
      "model_module": "jupyter-js-widgets",
      "model_module_version": "~2.1.4",
      "model_name": "LayoutModel",
      "state": {
       "_model_module_version": "~2.1.4",
       "_view_module_version": "~2.1.4"
      }
     },
     "fa3663c817754f2489e5c132fd9530cc": {
      "model_module": "jupyter-js-widgets",
      "model_module_version": "~2.1.4",
      "model_name": "OutputModel",
      "state": {
       "_dom_classes": [],
       "_model_module": "jupyter-js-widgets",
       "_model_module_version": "~2.1.4",
       "_view_module": "jupyter-js-widgets",
       "_view_module_version": "~2.1.4",
       "layout": "IPY_MODEL_f41deeea5b464d03874133655654d45d",
       "msg_throttle": 1
      }
     },
     "fa3bd8c409a5467e8cb16b3f0bb6c47d": {
      "model_module": "jupyter-js-widgets",
      "model_module_version": "~2.1.4",
      "model_name": "LayoutModel",
      "state": {
       "_model_module_version": "~2.1.4",
       "_view_module_version": "~2.1.4",
       "width": "100%"
      }
     },
     "fa4f904667124fb0ae15e4028f07ad0b": {
      "model_module": "jupyter-js-widgets",
      "model_module_version": "~2.1.4",
      "model_name": "SelectMultipleModel",
      "state": {
       "_model_module_version": "~2.1.4",
       "_options_labels": [
        "Cycle  6",
        "Cycle  7",
        "Cycle  8",
        "Cycle  9",
        "Cycle 10",
        "Cycle 11",
        "Cycle 12",
        "Cycle 13",
        "Cycle 14",
        "Cycle 15",
        "Cycle 16",
        "Cycle 17",
        "Cycle 18",
        "Cycle 19",
        "Cycle 20",
        "Cycle 21",
        "Cycle 22",
        "Cycle 23",
        "Cycle 24"
       ],
       "_view_module_version": "~2.1.4",
       "layout": "IPY_MODEL_2c1d3c351669495eb9ea29e138377c36",
       "value": [
        "Cycle  6"
       ]
      }
     },
     "fa54fda185ec4ae38f747672e63228ec": {
      "model_module": "jupyter-js-widgets",
      "model_module_version": "~2.1.4",
      "model_name": "LayoutModel",
      "state": {
       "_model_module_version": "~2.1.4",
       "_view_module_version": "~2.1.4"
      }
     },
     "fa6c497bd3bc4e2f95bd6bc730da9689": {
      "model_module": "jupyter-js-widgets",
      "model_module_version": "~2.1.4",
      "model_name": "LayoutModel",
      "state": {
       "_model_module_version": "~2.1.4",
       "_view_module_version": "~2.1.4"
      }
     },
     "fa7f9f36c87f4f598a077b7f7641b171": {
      "model_module": "jupyter-js-widgets",
      "model_module_version": "~2.1.4",
      "model_name": "LabelModel",
      "state": {
       "_model_module_version": "~2.1.4",
       "_view_module_version": "~2.1.4",
       "layout": "IPY_MODEL_f73ef71d06ea44b39bbb5667b57ac5eb",
       "value": "Máximos"
      }
     },
     "fa87833eb51141fcb362f5f0573472e3": {
      "model_module": "jupyter-js-widgets",
      "model_module_version": "~2.1.4",
      "model_name": "LayoutModel",
      "state": {
       "_model_module_version": "~2.1.4",
       "_view_module_version": "~2.1.4"
      }
     },
     "fad58ce9440c43cebc1b252591926d6f": {
      "model_module": "jupyter-js-widgets",
      "model_module_version": "~2.1.4",
      "model_name": "IntSliderModel",
      "state": {
       "_model_module_version": "~2.1.4",
       "_view_module_version": "~2.1.4",
       "layout": "IPY_MODEL_b21f759a46b0422d8a20674f7a58332b",
       "min": 1,
       "style": "IPY_MODEL_ced9d87421974a448e6fda02de513f7f",
       "value": 1
      }
     },
     "fb335d8daede457491e0301d20c6c02b": {
      "model_module": "jupyter-js-widgets",
      "model_module_version": "~2.1.4",
      "model_name": "VBoxModel",
      "state": {
       "_model_module_version": "~2.1.4",
       "_view_module_version": "~2.1.4",
       "children": [
        "IPY_MODEL_5766950253fe48429c3a69cec35422f9",
        "IPY_MODEL_11f6a76a2b5e4c2cb93578b7618cccdd",
        "IPY_MODEL_74ad457d4e1e407d88b1237fabc001ff",
        "IPY_MODEL_362064b86fae4844ad2ebce879958e11",
        "IPY_MODEL_6fd882fc036548d5959aacd23c70b8fc"
       ],
       "layout": "IPY_MODEL_9f0ebb2b5b7f4a0aa503ef5091306ad4"
      }
     },
     "fb7c433e60794898a9c80b41356de75c": {
      "model_module": "jupyter-js-widgets",
      "model_module_version": "~2.1.4",
      "model_name": "LayoutModel",
      "state": {
       "_model_module_version": "~2.1.4",
       "_view_module_version": "~2.1.4"
      }
     },
     "fb9cec80ce314ebd878e0e7fa3ae3c9d": {
      "model_module": "jupyter-js-widgets",
      "model_module_version": "~2.1.4",
      "model_name": "ButtonStyleModel",
      "state": {
       "_model_module_version": "~2.1.4",
       "_view_module_version": "~2.1.4"
      }
     },
     "fba5972014424d1a8574c38a0bfb4145": {
      "model_module": "jupyter-js-widgets",
      "model_module_version": "~2.1.4",
      "model_name": "LayoutModel",
      "state": {
       "_model_module_version": "~2.1.4",
       "_view_module_version": "~2.1.4"
      }
     },
     "fbc59bbdfd0048a3923c250195a11e00": {
      "model_module": "jupyter-js-widgets",
      "model_module_version": "~2.1.4",
      "model_name": "SelectMultipleModel",
      "state": {
       "_model_module_version": "~2.1.4",
       "_options_labels": [
        "01: 1823-05 (0.143)",
        "02: 1833-11 (12.182)",
        "03: 1843-07 (17.615)",
        "04: 1855-12 (5.997)",
        "05: 1867-03 (9.872)",
        "06: 1878-12 (3.750)",
        "07: 1890-03 (8.279)",
        "08: 1902-01 (4.474)",
        "09: 1913-07 (2.442)",
        "10: 1923-08 (9.362)",
        "11: 1933-09 (5.789)",
        "12: 1944-02 (12.883)",
        "13: 1954-04 (5.096)",
        "14: 1964-10 (14.237)",
        "15: 1976-03 (17.792)",
        "16: 1986-09 (13.520)",
        "17: 1996-05 (11.171)",
        "18: 2008-12 (2.248)"
       ],
       "_view_module_version": "~2.1.4",
       "layout": "IPY_MODEL_8d617638c7ec4b9da073a1acb598fa9c",
       "value": []
      }
     },
     "fbe04deb69764073810f062b83aea99a": {
      "model_module": "jupyter-js-widgets",
      "model_module_version": "~2.1.4",
      "model_name": "VBoxModel",
      "state": {
       "_model_module_version": "~2.1.4",
       "_view_module_version": "~2.1.4",
       "children": [
        "IPY_MODEL_420bdaa85fd04bb1ad36f9af88650767",
        "IPY_MODEL_9d24dd770a2a4d58a4d1ded585cd21aa",
        "IPY_MODEL_dea1069186a6416e9874dc2512f8ba57",
        "IPY_MODEL_cb2c973dbf3548ccbaef96538da66e28",
        "IPY_MODEL_44982341e6b94368bde778ef655f6e0c"
       ],
       "layout": "IPY_MODEL_cec4ba38d9d5471093fb1e0b47a70ee7"
      }
     },
     "fc09db903ffc4248a0fe1bf9c00de077": {
      "model_module": "jupyter-js-widgets",
      "model_module_version": "~2.1.4",
      "model_name": "LabelModel",
      "state": {
       "_model_module_version": "~2.1.4",
       "_view_module_version": "~2.1.4",
       "layout": "IPY_MODEL_a3f89a75c56445b28ee99d044b538e33",
       "value": "Ciclos solares"
      }
     },
     "fc20235a7ea14274a92bea01daaf4403": {
      "model_module": "jupyter-js-widgets",
      "model_module_version": "~2.1.4",
      "model_name": "LabelModel",
      "state": {
       "_model_module_version": "~2.1.4",
       "_view_module_version": "~2.1.4",
       "layout": "IPY_MODEL_e266298d1ba44e58bdd76fe72dea5caa",
       "value": "Máximos (18)"
      }
     },
     "fc3b9932bf7240cfa8027082417be547": {
      "model_module": "jupyter-js-widgets",
      "model_module_version": "~2.1.4",
      "model_name": "LayoutModel",
      "state": {
       "_model_module_version": "~2.1.4",
       "_view_module_version": "~2.1.4",
       "margin": "5px 2px 0",
       "width": "300px"
      }
     },
     "fc7833ba9f644e639974d6f703e16abd": {
      "model_module": "jupyter-js-widgets",
      "model_module_version": "~2.1.4",
      "model_name": "ButtonModel",
      "state": {
       "_model_module_version": "~2.1.4",
       "_view_module_version": "~2.1.4",
       "description": "Limpiar seleción de máximos",
       "layout": "IPY_MODEL_b9689f75970c408b9044bcfb12a9250b",
       "style": "IPY_MODEL_e3160451d50946c8ba2bb9e2883ee4c3"
      }
     },
     "fc7940475e5f42da8be038b4df601e24": {
      "model_module": "jupyter-js-widgets",
      "model_module_version": "~2.1.4",
      "model_name": "VBoxModel",
      "state": {
       "_model_module_version": "~2.1.4",
       "_view_module_version": "~2.1.4",
       "children": [
        "IPY_MODEL_ed6acb909e05415d8a7a78da3aeb7284",
        "IPY_MODEL_f1b8ae323d2a4cd3a447f8988d49b709",
        "IPY_MODEL_b3d263952b75495890648f08eccac4b4",
        "IPY_MODEL_6b20d217a8db4eedb17b3fddbfdb24c7",
        "IPY_MODEL_78e643c7ee7a441cade448cadbc27506"
       ],
       "layout": "IPY_MODEL_897a941541154652a6ab52c43b003f0b"
      }
     },
     "fcb1677925014fbeb738e0a64cf375a2": {
      "model_module": "jupyter-js-widgets",
      "model_module_version": "~2.1.4",
      "model_name": "ButtonModel",
      "state": {
       "_model_module_version": "~2.1.4",
       "_view_module_version": "~2.1.4",
       "description": "Eliminar ciclos selecionados",
       "layout": "IPY_MODEL_f16cb15c8d844aefb708c6d390d5a266",
       "style": "IPY_MODEL_a09f97e23eba4f21b0561a6b79c6d31c"
      }
     },
     "fd003f106dbb4bd8bd66eedf94a16463": {
      "model_module": "jupyter-js-widgets",
      "model_module_version": "~2.1.4",
      "model_name": "LayoutModel",
      "state": {
       "_model_module_version": "~2.1.4",
       "_view_module_version": "~2.1.4",
       "margin": "5px 2px 0",
       "width": "300px"
      }
     },
     "fd0b0e533bd644fb9babc0f36cb33da2": {
      "model_module": "jupyter-js-widgets",
      "model_module_version": "~2.1.4",
      "model_name": "LayoutModel",
      "state": {
       "_model_module_version": "~2.1.4",
       "_view_module_version": "~2.1.4"
      }
     },
     "fd3b5e7c12264e878a40e09c02d7796f": {
      "model_module": "jupyter-js-widgets",
      "model_module_version": "~2.1.4",
      "model_name": "LabelModel",
      "state": {
       "_model_module_version": "~2.1.4",
       "_view_module_version": "~2.1.4",
       "layout": "IPY_MODEL_691e5ea9aa1e445280df5dd9bf0ab58f",
       "value": "Máximos"
      }
     },
     "fd501b05dce942529270b5a3ec45a125": {
      "model_module": "jupyter-js-widgets",
      "model_module_version": "~2.1.4",
      "model_name": "VBoxModel",
      "state": {
       "_model_module_version": "~2.1.4",
       "_view_module_version": "~2.1.4",
       "children": [
        "IPY_MODEL_ad4f8453814c4097adcc1d9ad261bb14",
        "IPY_MODEL_0bab47119050442cb386abb147071549"
       ],
       "layout": "IPY_MODEL_a70d932a12a14ecfae5886e19e7c17c4"
      }
     },
     "fd94ce999a84419aad048ac6718a7c6f": {
      "model_module": "jupyter-js-widgets",
      "model_module_version": "~2.1.4",
      "model_name": "LayoutModel",
      "state": {
       "_model_module_version": "~2.1.4",
       "_view_module_version": "~2.1.4",
       "width": "100%"
      }
     },
     "fdc43b2b5e3744c4abccd039c291a292": {
      "model_module": "jupyter-js-widgets",
      "model_module_version": "~2.1.4",
      "model_name": "LayoutModel",
      "state": {
       "_model_module_version": "~2.1.4",
       "_view_module_version": "~2.1.4"
      }
     },
     "fdebaf66cb354e15a2b6cc24bd9bfb8a": {
      "model_module": "jupyter-js-widgets",
      "model_module_version": "~2.1.4",
      "model_name": "ButtonStyleModel",
      "state": {
       "_model_module_version": "~2.1.4",
       "_view_module_version": "~2.1.4"
      }
     },
     "fe4b708563f44b6dbe339059ad800271": {
      "model_module": "jupyter-js-widgets",
      "model_module_version": "~2.1.4",
      "model_name": "LayoutModel",
      "state": {
       "_model_module_version": "~2.1.4",
       "_view_module_version": "~2.1.4",
       "width": "100%"
      }
     },
     "fe853f85e46f4feba0f53066fa4783d2": {
      "model_module": "jupyter-js-widgets",
      "model_module_version": "~2.1.4",
      "model_name": "ButtonModel",
      "state": {
       "_model_module_version": "~2.1.4",
       "_view_module_version": "~2.1.4",
       "description": "Limpiar seleción de ciclos",
       "layout": "IPY_MODEL_4ab0c897f6a24b8685e35b42cd3e93c4",
       "style": "IPY_MODEL_edec9fa13bb44ed68e0c8cc377944999"
      }
     },
     "fe8e7dd4a5bc48e186d34b9d39817280": {
      "model_module": "jupyter-js-widgets",
      "model_module_version": "~2.1.4",
      "model_name": "SliderStyleModel",
      "state": {
       "_model_module_version": "~2.1.4",
       "_view_module_version": "~2.1.4"
      }
     },
     "febdbb5ca2924afeb55f98347c69ec35": {
      "model_module": "jupyter-js-widgets",
      "model_module_version": "~2.1.4",
      "model_name": "VBoxModel",
      "state": {
       "_model_module_version": "~2.1.4",
       "_view_module_version": "~2.1.4",
       "children": [
        "IPY_MODEL_b1d67651b1f04cecbe00ec61f53d865c",
        "IPY_MODEL_de8a8f89b23143698ee3148588552e33",
        "IPY_MODEL_2aed6484a8bb4d7890a966ac0ef9724a"
       ],
       "layout": "IPY_MODEL_4e20dd75aa184aa5b43ed53c08426975"
      }
     },
     "fee12757b2334cc6b8b6eabae9bf8743": {
      "model_module": "jupyter-js-widgets",
      "model_module_version": "~2.1.4",
      "model_name": "LayoutModel",
      "state": {
       "_model_module_version": "~2.1.4",
       "_view_module_version": "~2.1.4"
      }
     },
     "fef4cc21d4314cd8915001b4f76009b2": {
      "model_module": "jupyter-js-widgets",
      "model_module_version": "~2.1.4",
      "model_name": "LayoutModel",
      "state": {
       "_model_module_version": "~2.1.4",
       "_view_module_version": "~2.1.4"
      }
     },
     "ff4e48ef5e2f425889a4aab719a08cdb": {
      "model_module": "jupyter-js-widgets",
      "model_module_version": "~2.1.4",
      "model_name": "LayoutModel",
      "state": {
       "_model_module_version": "~2.1.4",
       "_view_module_version": "~2.1.4"
      }
     },
     "ff6f28a8e7e849d4936ee1357be2d45e": {
      "model_module": "jupyter-js-widgets",
      "model_module_version": "~2.1.4",
      "model_name": "ButtonStyleModel",
      "state": {
       "_model_module_version": "~2.1.4",
       "_view_module_version": "~2.1.4"
      }
     },
     "ffb9b66ac27647e29485a142668e3636": {
      "model_module": "jupyter-js-widgets",
      "model_module_version": "~2.1.4",
      "model_name": "LayoutModel",
      "state": {
       "_model_module_version": "~2.1.4",
       "_view_module_version": "~2.1.4"
      }
     },
     "fff45f6f73384de699a9fd42e179468c": {
      "model_module": "jupyter-js-widgets",
      "model_module_version": "~2.1.4",
      "model_name": "SelectMultipleModel",
      "state": {
       "_model_module_version": "~2.1.4",
       "_options_labels": [
        "Cycle  6",
        "Cycle  7",
        "Cycle  8",
        "Cycle  9",
        "Cycle 10",
        "Cycle 11",
        "Cycle 12",
        "Cycle 13",
        "Cycle 14",
        "Cycle 15",
        "Cycle 16",
        "Cycle 17",
        "Cycle 18",
        "Cycle 19",
        "Cycle 20",
        "Cycle 21",
        "Cycle 22",
        "Cycle 23",
        "Cycle 24"
       ],
       "_view_module_version": "~2.1.4",
       "layout": "IPY_MODEL_d88d7750567a44b98ccf884109e897c9",
       "value": [
        "Cycle  6",
        "Cycle  7",
        "Cycle  8",
        "Cycle 24"
       ]
      }
     },
     "fff955ec9bff472e9c57dd8b8591953d": {
      "model_module": "jupyter-js-widgets",
      "model_module_version": "~2.1.4",
      "model_name": "LayoutModel",
      "state": {
       "_model_module_version": "~2.1.4",
       "_view_module_version": "~2.1.4",
       "width": "100%"
      }
     }
    },
    "version_major": 1,
    "version_minor": 0
   }
  }
 },
 "nbformat": 4,
 "nbformat_minor": 2
}
